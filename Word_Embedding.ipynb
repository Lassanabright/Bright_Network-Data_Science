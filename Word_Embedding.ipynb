{
 "cells": [
  {
   "cell_type": "code",
   "execution_count": 1,
   "metadata": {},
   "outputs": [
    {
     "name": "stderr",
     "output_type": "stream",
     "text": [
      "C:\\Users\\Lassana Diabira\\Anaconda3\\lib\\site-packages\\gensim\\utils.py:1197: UserWarning: detected Windows; aliasing chunkize to chunkize_serial\n",
      "  warnings.warn(\"detected Windows; aliasing chunkize to chunkize_serial\")\n"
     ]
    }
   ],
   "source": [
    "import pandas as pd\n",
    "import numpy as np\n",
    "import matplotlib.pyplot as plt\n",
    "import re\n",
    "from gensim.models import Word2Vec\n",
    "import datetime\n",
    "from dateutil.relativedelta import relativedelta\n",
    "from collections import Counter\n",
    "from sklearn.decomposition import PCA\n",
    "from sklearn.metrics.pairwise import cosine_similarity, euclidean_distances\n",
    "from sklearn.feature_extraction.text import CountVectorizer"
   ]
  },
  {
   "cell_type": "code",
   "execution_count": 2,
   "metadata": {},
   "outputs": [],
   "source": [
    "train=pd.read_csv(\"Training_set.csv\")"
   ]
  },
  {
   "cell_type": "code",
   "execution_count": 3,
   "metadata": {},
   "outputs": [],
   "source": [
    "train=train.sample(train.shape[0])"
   ]
  },
  {
   "cell_type": "code",
   "execution_count": 4,
   "metadata": {},
   "outputs": [],
   "source": [
    "test=pd.read_csv(\"Test_set.csv\")"
   ]
  },
  {
   "cell_type": "code",
   "execution_count": 5,
   "metadata": {},
   "outputs": [
    {
     "data": {
      "text/plain": [
       "(294, 27)"
      ]
     },
     "execution_count": 5,
     "metadata": {},
     "output_type": "execute_result"
    }
   ],
   "source": [
    "test.shape"
   ]
  },
  {
   "cell_type": "code",
   "execution_count": 6,
   "metadata": {},
   "outputs": [],
   "source": [
    "def get_job_characteristics(df): \n",
    "    job_type=[]\n",
    "    job_title=[]\n",
    "    employer_title=[]\n",
    "    employer_sector_title=[]\n",
    "    job_sector_title=[]\n",
    "    for i in range(df.shape[0]):\n",
    "        data=df.iloc[i]\n",
    "        types=data[\"job_type\"]\n",
    "        title=data[\"job_title\"]\n",
    "        em_title=data[\"employer_title\"]\n",
    "        em_sec_title=data[\"employer_sector_title\"]\n",
    "        job_sec_title=data[\"job_sector_title\"]\n",
    "        job_type.append(types)\n",
    "        job_title.append(title)\n",
    "        employer_title.append(em_title)\n",
    "        employer_sector_title.append(em_sec_title)\n",
    "        job_sector_title.append(job_sec_title)\n",
    "    d={}\n",
    "    #d[\"job_title\"]=job_title\n",
    "    #d[\"employer_title\"]=employer_title\n",
    "    d[\"employer_sector_title\"]=employer_sector_title\n",
    "    d[\"job_sector_title\"]=job_sector_title\n",
    "    a=pd.DataFrame(d)\n",
    "    data=pd.get_dummies(a)\n",
    "    b=pd.get_dummies(job_type)\n",
    "    result = pd.concat([data, b], axis=1, sort=False)\n",
    "    return result"
   ]
  },
  {
   "cell_type": "code",
   "execution_count": 7,
   "metadata": {},
   "outputs": [],
   "source": [
    "def get_data_for_user(user):\n",
    "    jobtitles=list(user[\"job_title\"].values)\n",
    "    emtitles=list(user[\"employer_title\"].values)\n",
    "    jobsectitles=list(user[\"job_sector_title\"].values)\n",
    "    emsectitles=list(user[\"employer_sector_title\"].values)\n",
    "    a=\"\"\n",
    "    for k in range(len(jobtitles)):\n",
    "        a+=jobtitles[k]+\" \"\n",
    "        a+=emtitles[k]+\" \"\n",
    "        a+=jobsectitles[k]+\" \"\n",
    "        #a+=emsectitles[k]+\" \"\n",
    "    return a"
   ]
  },
  {
   "cell_type": "code",
   "execution_count": 8,
   "metadata": {},
   "outputs": [],
   "source": [
    "def get_user_characteristics(df):\n",
    "    corpus=[]\n",
    "    gender=[]\n",
    "    ethnicity=[]\n",
    "    school_type=[]\n",
    "    right_to_work_uk=[]\n",
    "    university_name=[]\n",
    "    university_type=[]\n",
    "    course_includes_industrial_placement=[]\n",
    "    degree_subject_name=[]\n",
    "    user_preference=[]\n",
    "    job_types=list(set(df[\"job_type\"].values))\n",
    "    em_sectors=list(set(df[\"employer_sector_title\"].values))\n",
    "    job_sectors=list(set(df[\"job_sector_title\"].values))\n",
    "    count_job_types=[[] for i in range(len(job_types))]\n",
    "    count_job_sectors=[[] for i in range(len(job_sectors))]\n",
    "    count_em_sectors=[[] for i in range(len(em_sectors))]\n",
    "    nb_em_sector=[]\n",
    "    nb_job_sector=[]\n",
    "    job_type=[]\n",
    "    for i in range(df.shape[0]):\n",
    "        data=df.iloc[i]\n",
    "        user=data[\"user_id\"]\n",
    "        user_data=df[df[\"user_id\"]==user]\n",
    "        user_job_type=dict(Counter(list(user_data[\"job_type\"].values)))\n",
    "        user_job_sectors=dict(Counter(list(user_data[\"job_sector_title\"].values)))\n",
    "        user_em_sectors=dict(Counter(list(user_data[\"employer_sector_title\"].values)))\n",
    "        user_em_sector=len(list(set(list(user_data[\"employer_sector_title\"].values))))\n",
    "        user_job_sector=len(list(set(list(user_data[\"job_sector_title\"].values))))\n",
    "        for i in range(len(count_job_types)):\n",
    "            try:\n",
    "                count_job_types[i].append(user_job_type[i])\n",
    "            except:\n",
    "                count_job_types[i].append(0)\n",
    "        for i in range(len(count_job_sectors)):\n",
    "            try:\n",
    "                count_job_sectors[i].append(user_job_sectors[i])\n",
    "            except:\n",
    "                count_job_sectors[i].append(0)\n",
    "        for i in range(len(count_em_sectors)):\n",
    "            try:\n",
    "                count_em_sectors[i].append(user_em_sectors[i])\n",
    "            except:\n",
    "                count_em_sectors[i].append(0)\n",
    "        sex=data[\"gender\"]\n",
    "        jobtype=data[\"job_type\"]\n",
    "        eth=data[\"ethnicity\"]\n",
    "        school=data[\"school_type\"]\n",
    "        placement=data[\"course_includes_industrial_placement\"]\n",
    "        right=data[\"right_to_work_uk\"]\n",
    "        uni=data[\"university_name\"]\n",
    "        uni_type=data[\"university_type\"]\n",
    "        subname=data[\"degree_subject_name\"]\n",
    "        pref=data[\"user_preference\"]\n",
    "        title=data[\"job_title\"]\n",
    "        em_title=data[\"employer_title\"]\n",
    "        em_sec_title=data[\"employer_sector_title\"]\n",
    "        job_sec_title=data[\"job_sector_title\"]\n",
    "        if sex==\"F\":\n",
    "            sex=\"Female\"\n",
    "        elif sex==\"M\":\n",
    "            sex=\"Male\"\n",
    "        if placement==True:\n",
    "            placement=1\n",
    "        elif placement==False:\n",
    "            placement=-1\n",
    "        else:\n",
    "            placement=0\n",
    "        if right==True:\n",
    "            right=1\n",
    "        elif right==False:\n",
    "            right=-1\n",
    "        else:\n",
    "            right=0\n",
    "        if type(pref) is float:\n",
    "            pref=\"\"\n",
    "        if type(subname) is float:\n",
    "            subname=\"\"\n",
    "        nb_em_sector.append(user_em_sector)\n",
    "        nb_job_sector.append(user_job_sector)\n",
    "        gender.append(sex)\n",
    "        ethnicity.append(eth)\n",
    "        school_type.append(school)\n",
    "        course_includes_industrial_placement.append(placement)\n",
    "        right_to_work_uk.append(right)\n",
    "        university_type.append(uni_type)\n",
    "        #degree_subject_name.append(subname)\n",
    "        #user_preference.append(pref)\n",
    "        job_type.append(jobtype)\n",
    "        corpus.append(pref+subname+\" \"+get_data_for_user(user_data))\n",
    "    d={}\n",
    "    for i in range(len(count_job_sectors)):\n",
    "        d['count_job_sectors_'+str(i)]=count_job_sectors[i]\n",
    "    for i in range(len(count_em_sectors)):\n",
    "        d['count_em_sectors_'+str(i)]=count_em_sectors[i]\n",
    "    for i in range(len(count_job_types)):\n",
    "        d['count_job_types_'+str(i)]=count_job_types[i]\n",
    "    d[\"gender\"]=gender\n",
    "    d[\"job_type\"]=job_type\n",
    "    d[\"nb_em_sector\"]=nb_em_sector\n",
    "    d[\"nb_job_sector\"]=nb_job_sector\n",
    "    d[\"right_to_work_uk\"]=right_to_work_uk\n",
    "    d[\"ethnicity\"]=ethnicity\n",
    "    #d[\"degree_subject_name\"]=degree_subject_name\n",
    "    d[\"school_type\"]=school_type\n",
    "    #d[\"user_preference\"]=user_preference\n",
    "    d[\"course_includes_industrial_placement\"]=course_includes_industrial_placement\n",
    "    a=pd.DataFrame(d)\n",
    "    data=pd.get_dummies(a)\n",
    "    b=pd.get_dummies(university_type)\n",
    "    result = pd.concat([data, b], axis=1, sort=False)\n",
    "    vectorizer = CountVectorizer(max_df=1.0, min_df=3)\n",
    "    X = vectorizer.fit_transform(corpus)\n",
    "    col=vectorizer.get_feature_names()\n",
    "    donnees=X.toarray()\n",
    "    print(X.shape)\n",
    "    donnee=pd.DataFrame(donnees, columns=col)\n",
    "    final=pd.concat([result, donnee], axis=1)\n",
    "    return final"
   ]
  },
  {
   "cell_type": "code",
   "execution_count": 9,
   "metadata": {},
   "outputs": [],
   "source": [
    "#user_characteristics=get_user_characteristics(train)"
   ]
  },
  {
   "cell_type": "code",
   "execution_count": 10,
   "metadata": {},
   "outputs": [],
   "source": [
    "#user_characteristics.shape"
   ]
  },
  {
   "cell_type": "code",
   "execution_count": 11,
   "metadata": {},
   "outputs": [],
   "source": [
    "#job_characteristics=get_job_characteristics(train)"
   ]
  },
  {
   "cell_type": "code",
   "execution_count": 12,
   "metadata": {},
   "outputs": [],
   "source": [
    "#job_characteristics.shape"
   ]
  },
  {
   "cell_type": "code",
   "execution_count": 14,
   "metadata": {},
   "outputs": [],
   "source": [
    "def get_user_info(df):\n",
    "    user_info=[]\n",
    "    d={}\n",
    "    x=train[[\"user_id\",\"job_title\",\"employer_title\",\"job_sector_title\",\"job_description\",\n",
    "             \"employer_sector_title\",\"employer_description\"]]\n",
    "    n=df.shape[0]\n",
    "    for i in range(n):\n",
    "        if i%5000==0:\n",
    "            print(\"progress: \",i/n)\n",
    "        data=df.iloc[i]\n",
    "        user_id=data[\"user_id\"]\n",
    "        try:\n",
    "            a=d[str(user_id)]\n",
    "        except:\n",
    "            y=x[x[\"user_id\"]==user_id]\n",
    "            if y.shape[0]>0:\n",
    "                job_titles=y[\"job_title\"].values\n",
    "                job_sector_title=y[\"job_sector_title\"].values\n",
    "                description=y[\"job_description\"].values\n",
    "                em_titles=y[\"employer_title\"].values\n",
    "                em_sector_title=y[\"employer_sector_title\"].values\n",
    "                em_description=y[\"employer_description\"].values\n",
    "                university_name=data[\"university_name\"]\n",
    "                degree_subject_name=data[\"degree_subject_name\"]\n",
    "                user_preference=data[\"user_preference\"]\n",
    "                ethnicity=data[\"ethnicity\"]\n",
    "                school_type=data[\"school_type\"]\n",
    "                if type(user_preference) is float:\n",
    "                    user_preference=\"\"\n",
    "                if type(university_name) is float:\n",
    "                    university_name=\"\"\n",
    "                if type(degree_subject_name) is float:\n",
    "                    degree_subject_name=\"\"\n",
    "                if type(ethnicity) is float:\n",
    "                    ethnicity=\"\"\n",
    "                if type(school_type) is float:\n",
    "                    school_type=\"\"\n",
    "                try:\n",
    "                    if np.isnan(user_preference):\n",
    "                        user_preference=\"\"\n",
    "                except:\n",
    "                    pass\n",
    "                try:\n",
    "                    if np.isnan(university_name):\n",
    "                        university_name=\"\"\n",
    "                except:\n",
    "                    pass\n",
    "                try:\n",
    "                    if np.isnan(degree_subject_name):\n",
    "                        degree_subject_name=\"\"\n",
    "                except:\n",
    "                    pass\n",
    "                try:\n",
    "                    if np.isnan(ethnicity):\n",
    "                        ethnicity=\"\"\n",
    "                except:\n",
    "                    pass\n",
    "                try:\n",
    "                    if np.isnan(school_type):\n",
    "                        school_type=\"\"\n",
    "                except:\n",
    "                    pass\n",
    "                user_preference=user_preference+\" \"\n",
    "                user_preference=user_preference *3\n",
    "                degree_subject_name=degree_subject_name+\" \"\n",
    "                degree_subject_name=degree_subject_name *3\n",
    "                a=\"\"\n",
    "                a+=university_name+\" \"\n",
    "                a+=degree_subject_name+\" \"\n",
    "                a+=user_preference+\" \"\n",
    "                a+=ethnicity+\" \"\n",
    "                a+=school_type+\" \"\n",
    "                for k in range(len(job_titles)):\n",
    "                    a+=job_titles[k]+\" \"\n",
    "                    a+=job_sector_title[k]+\" \"\n",
    "                    a+=description[k]+\" \"\n",
    "                    a+=em_titles[k]+\" \"\n",
    "                    a+=em_sector_title[k]+\" \"\n",
    "                    a+=em_description[k]+\" \"\n",
    "                a=a.replace(\"Graduate\",\"\").replace(\"Programme\",\"\").replace(\"  \",\" \").replace(\"&\",\"\")\n",
    "            else:\n",
    "                university_name=data[\"university_name\"]\n",
    "                degree_subject_name=data[\"degree_subject_name\"]\n",
    "                user_preference=data[\"user_preference\"]\n",
    "                ethnicity=data[\"ethnicity\"]\n",
    "                school_type=data[\"school_type\"]\n",
    "                if type(user_preference) is float:\n",
    "                    user_preference=\"\"\n",
    "                if type(university_name) is float:\n",
    "                    university_name=\"\"\n",
    "                if type(degree_subject_name) is float:\n",
    "                    degree_subject_name=\"\"\n",
    "                if type(ethnicity) is float:\n",
    "                    ethnicity=\"\"\n",
    "                if type(school_type) is float:\n",
    "                    school_type=\"\"\n",
    "                try:\n",
    "                    if np.isnan(user_preference):\n",
    "                        user_preference=\"\"\n",
    "                except:\n",
    "                    pass\n",
    "                try:\n",
    "                    if np.isnan(university_name):\n",
    "                        university_name=\"\"\n",
    "                except:\n",
    "                    pass\n",
    "                try:\n",
    "                    if np.isnan(degree_subject_name):\n",
    "                        degree_subject_name=\"\"\n",
    "                except:\n",
    "                    pass\n",
    "                try:\n",
    "                    if np.isnan(ethnicity):\n",
    "                        ethnicity=\"\"\n",
    "                except:\n",
    "                    pass\n",
    "                try:\n",
    "                    if np.isnan(school_type):\n",
    "                        school_type=\"\"\n",
    "                except:\n",
    "                    pass\n",
    "                user_preference=user_preference+\" \"\n",
    "                user_preference=user_preference *3\n",
    "                degree_subject_name=degree_subject_name+\" \"\n",
    "                degree_subject_name=degree_subject_name *3\n",
    "                a=\"\"\n",
    "                a+=university_name+\" \"\n",
    "                a+=degree_subject_name+\" \"\n",
    "                a+=user_preference+\" \"\n",
    "                a+=ethnicity+\" \"\n",
    "                a+=school_type+\" \"\n",
    "            d[str(user_id)]=a\n",
    "        user_info.append(a)\n",
    "    return user_info"
   ]
  },
  {
   "cell_type": "code",
   "execution_count": 15,
   "metadata": {},
   "outputs": [
    {
     "name": "stdout",
     "output_type": "stream",
     "text": [
      "progress:  0.0\n"
     ]
    }
   ],
   "source": [
    "test_user_info=get_user_info(test)"
   ]
  },
  {
   "cell_type": "code",
   "execution_count": 16,
   "metadata": {},
   "outputs": [
    {
     "name": "stdout",
     "output_type": "stream",
     "text": [
      "progress:  0.0\n",
      "progress:  0.03995652729829945\n",
      "progress:  0.0799130545965989\n",
      "progress:  0.11986958189489835\n",
      "progress:  0.1598261091931978\n",
      "progress:  0.19978263649149725\n",
      "progress:  0.2397391637897967\n",
      "progress:  0.27969569108809617\n",
      "progress:  0.3196522183863956\n",
      "progress:  0.35960874568469503\n",
      "progress:  0.3995652729829945\n",
      "progress:  0.43952180028129395\n",
      "progress:  0.4794783275795934\n",
      "progress:  0.5194348548778929\n",
      "progress:  0.5593913821761923\n",
      "progress:  0.5993479094744918\n",
      "progress:  0.6393044367727913\n",
      "progress:  0.6792609640710906\n",
      "progress:  0.7192174913693901\n",
      "progress:  0.7591740186676895\n",
      "progress:  0.799130545965989\n",
      "progress:  0.8390870732642884\n",
      "progress:  0.8790436005625879\n",
      "progress:  0.9190001278608874\n",
      "progress:  0.9589566551591868\n",
      "progress:  0.9989131824574863\n"
     ]
    }
   ],
   "source": [
    "train_user_info=get_user_info(train)"
   ]
  },
  {
   "cell_type": "code",
   "execution_count": 17,
   "metadata": {},
   "outputs": [
    {
     "data": {
      "text/plain": [
       "125136"
      ]
     },
     "execution_count": 17,
     "metadata": {},
     "output_type": "execute_result"
    }
   ],
   "source": [
    "len(train_user_info)"
   ]
  },
  {
   "cell_type": "code",
   "execution_count": 18,
   "metadata": {},
   "outputs": [
    {
     "data": {
      "text/plain": [
       "294"
      ]
     },
     "execution_count": 18,
     "metadata": {},
     "output_type": "execute_result"
    }
   ],
   "source": [
    "len(test_user_info)"
   ]
  },
  {
   "cell_type": "code",
   "execution_count": 19,
   "metadata": {},
   "outputs": [],
   "source": [
    "def clean_user(x,df):\n",
    "    n=len(x)\n",
    "    res=[]\n",
    "    d={}\n",
    "    for i,content in enumerate(x):\n",
    "        if i%5000==0:\n",
    "            print(\"progress : \",i/n)\n",
    "        data=df.iloc[i]\n",
    "        user_id=data[\"user_id\"]\n",
    "        try:\n",
    "            y=d[str(user_id)]\n",
    "        except:\n",
    "            content=content.replace(\",\",\"\").replace(\"-\",\" \").replace(\"  \",\" \").replace(\"&eacute;\",\"e\")\n",
    "            content=content.replace(\"(\",\"\").replace(\")\",\"\").replace(\" - \",\" \").replace(\" / \",\" \").replace(\"/\",\" \").replace(\"   \",\"\")\n",
    "            content=content.replace(\"&bull;\",\"\\r\\n \").replace(\"bull;\",\"\\r\\n \").replace(\"\\r\\r\\n\\t\",\" \").replace(\"\\r\\r\\n\",\" \")\n",
    "            content=content.replace(\"\\r\\r\\n\\r\\r\\n\",\" \").replace(\"...\",\" \").replace(\"&#39;s\",\"\").replace(\":\",\"\")\n",
    "            content=content.replace(\"&eacute;\",\"e\").replace(\"&lsquo;\",\"\").replace(\"lsquo;\",\"\").replace(\"&#39;\",\"\").replace(\"#39;s\",\"\")\n",
    "            content=content.replace(\"&nbsp;\",\" \").replace(\"nbsp;\",\" \").replace(\"&#39;\",\"\").replace(\"amp;\",\"\").replace(\"&middot;\",\"\")\n",
    "            content=content.replace(\".\",\" \").replace(\",\",\"\").replace(\"?\",\" \").replace(\"!\",\"\").replace(\"  \",\" \").replace(\"middot;\",\"\")\n",
    "            content=content.replace(\"&rsquo;\",\"\").replace(\"rsquo;\",\" \").replace(\"\\t\",\" \").replace(\"\\r\\n\\r\\n\",\"\").replace(\" \\r\\n \",\"\")\n",
    "            content=content.replace(\"&ndash;\",\" \").replace(\"ndash;\",\" \").replace(\"\\r\\n\\r\\n\",\" \").replace(\" \\r\\n \",\" \").replace(\"\\r\\n\",\" \")\n",
    "            content=content.replace(\"\\r\",\" \").replace(\"  \",\"\").replace(\"   \",\"\").replace(\"  \",\"\").replace(\"   \",\"\")\n",
    "            content=content.replace(\"(\",\"\").replace(\")\",\"\").replace(\" - \",\" \").replace(\" / \",\" \").replace(\"/\",\" \").replace(\"   \",\"\")\n",
    "            content=re.sub('<.*?>',\"\",content , flags=re.DOTALL)\n",
    "            content=content.replace(\"&ldquo;\",\"\").replace(\"ldquo;\",\"\").replace(\"&rdquo;\",\"\").replace(\"rdquo;\",\"\")\n",
    "            try:\n",
    "                content=''.join([i for i in content if not i.isdigit()])\n",
    "            except:\n",
    "                pass\n",
    "            content=content.split(\" \")\n",
    "            y=[]\n",
    "            for i in content:\n",
    "                if len(i)>1:\n",
    "                    y.append(i.lower())\n",
    "            d[str(user_id)]=y\n",
    "        res.append(y)\n",
    "    return res"
   ]
  },
  {
   "cell_type": "code",
   "execution_count": 20,
   "metadata": {},
   "outputs": [
    {
     "name": "stdout",
     "output_type": "stream",
     "text": [
      "progress :  0.0\n"
     ]
    }
   ],
   "source": [
    "clean_test_user_info=clean_user(test_user_info, test)"
   ]
  },
  {
   "cell_type": "code",
   "execution_count": 21,
   "metadata": {},
   "outputs": [
    {
     "name": "stdout",
     "output_type": "stream",
     "text": [
      "progress :  0.0\n",
      "progress :  0.03995652729829945\n",
      "progress :  0.0799130545965989\n",
      "progress :  0.11986958189489835\n",
      "progress :  0.1598261091931978\n",
      "progress :  0.19978263649149725\n",
      "progress :  0.2397391637897967\n",
      "progress :  0.27969569108809617\n",
      "progress :  0.3196522183863956\n",
      "progress :  0.35960874568469503\n",
      "progress :  0.3995652729829945\n",
      "progress :  0.43952180028129395\n",
      "progress :  0.4794783275795934\n",
      "progress :  0.5194348548778929\n",
      "progress :  0.5593913821761923\n",
      "progress :  0.5993479094744918\n",
      "progress :  0.6393044367727913\n",
      "progress :  0.6792609640710906\n",
      "progress :  0.7192174913693901\n",
      "progress :  0.7591740186676895\n",
      "progress :  0.799130545965989\n",
      "progress :  0.8390870732642884\n",
      "progress :  0.8790436005625879\n",
      "progress :  0.9190001278608874\n",
      "progress :  0.9589566551591868\n",
      "progress :  0.9989131824574863\n"
     ]
    }
   ],
   "source": [
    "clean_train_user_info=clean_user(train_user_info, train)"
   ]
  },
  {
   "cell_type": "code",
   "execution_count": 22,
   "metadata": {},
   "outputs": [],
   "source": [
    "def get_job_info(df):\n",
    "    job_info=[]\n",
    "    d={}\n",
    "    for i in range(df.shape[0]):\n",
    "        data=df.iloc[i]\n",
    "        job_id=data[\"job_id\"]\n",
    "        try:\n",
    "            a=d[str(job_id)]\n",
    "        except:\n",
    "            title=data[\"job_title\"]\n",
    "            job_sector_title=data[\"job_sector_title\"]\n",
    "            description=data[\"job_description\"]\n",
    "            em_title=data[\"employer_title\"]\n",
    "            em_sector_title=data[\"employer_sector_title\"]\n",
    "            em_description=data[\"employer_description\"]\n",
    "            a=\"\"\n",
    "            a+=title+\" \"\n",
    "            a+=job_sector_title+\" \"\n",
    "            a+=description+\" \"\n",
    "            a+=em_title+\" \"\n",
    "            a+=em_sector_title+\" \"\n",
    "            a+=em_description\n",
    "            d[str(job_id)]=a\n",
    "        job_info.append(a)\n",
    "    return job_info"
   ]
  },
  {
   "cell_type": "code",
   "execution_count": 23,
   "metadata": {},
   "outputs": [],
   "source": [
    "test_job_info=get_job_info(test)"
   ]
  },
  {
   "cell_type": "code",
   "execution_count": 24,
   "metadata": {},
   "outputs": [],
   "source": [
    "train_job_info=get_job_info(train)"
   ]
  },
  {
   "cell_type": "code",
   "execution_count": 25,
   "metadata": {},
   "outputs": [],
   "source": [
    "def clean(x,df):\n",
    "    res=[]\n",
    "    n=len(x)\n",
    "    d={}\n",
    "    for i,content in enumerate(x):\n",
    "        if i%5000==0:\n",
    "            print(\"progress : \",i/n)\n",
    "        data=df.iloc[i]\n",
    "        job_id=data[\"job_id\"]\n",
    "        try:\n",
    "            y=d[str(job_id)]\n",
    "        except:\n",
    "            content=content.replace(\",\",\"\").replace(\"-\",\" \").replace(\"  \",\" \").replace(\"&eacute;\",\"e\")\n",
    "            content=content.replace(\"(\",\"\").replace(\")\",\"\").replace(\" - \",\" \").replace(\" / \",\" \").replace(\"/\",\" \").replace(\"   \",\"\")\n",
    "            content=content.replace(\"&bull;\",\"\\r\\n \").replace(\"bull;\",\"\\r\\n \").replace(\"\\r\\r\\n\\t\",\" \").replace(\"\\r\\r\\n\",\" \")\n",
    "            content=content.replace(\"\\r\\r\\n\\r\\r\\n\",\" \").replace(\"...\",\" \").replace(\"&#39;s\",\"\").replace(\":\",\"\")\n",
    "            content=content.replace(\"&eacute;\",\"e\").replace(\"&lsquo;\",\"\").replace(\"lsquo;\",\"\").replace(\"&#39;\",\"\").replace(\"#39;s\",\"\")\n",
    "            content=content.replace(\"&nbsp;\",\" \").replace(\"nbsp;\",\" \").replace(\"&#39;\",\"\").replace(\"amp;\",\"\").replace(\"&middot;\",\"\")\n",
    "            content=content.replace(\".\",\" \").replace(\",\",\"\").replace(\"?\",\" \").replace(\"!\",\"\").replace(\"  \",\" \").replace(\"middot;\",\"\")\n",
    "            content=content.replace(\"&rsquo;\",\"\").replace(\"rsquo;\",\" \").replace(\"\\t\",\" \").replace(\"\\r\\n\\r\\n\",\"\").replace(\" \\r\\n \",\"\")\n",
    "            content=content.replace(\"&ndash;\",\" \").replace(\"ndash;\",\" \").replace(\"\\r\\n\\r\\n\",\" \").replace(\" \\r\\n \",\" \").replace(\"\\r\\n\",\" \")\n",
    "            content=content.replace(\"\\r\",\" \").replace(\"  \",\"\").replace(\"   \",\"\").replace(\"  \",\"\").replace(\"   \",\"\")\n",
    "            content=content.replace(\"(\",\"\").replace(\")\",\"\").replace(\" - \",\" \").replace(\" / \",\" \").replace(\"/\",\" \").replace(\"   \",\"\")\n",
    "            content=re.sub('<.*?>',\"\",content , flags=re.DOTALL)\n",
    "            content=content.replace(\"&ldquo;\",\"\").replace(\"ldquo;\",\"\").replace(\"&rdquo;\",\"\").replace(\"rdquo;\",\"\")\n",
    "            try:\n",
    "                content=''.join([i for i in content if not i.isdigit()])\n",
    "            except:\n",
    "                pass\n",
    "            content=content.split(\" \")\n",
    "            y=[]\n",
    "            for i in content:\n",
    "                if len(i)>1:\n",
    "                    y.append(i.lower())\n",
    "            d[str(job_id)]=y\n",
    "        res.append(y)\n",
    "    return res"
   ]
  },
  {
   "cell_type": "code",
   "execution_count": 26,
   "metadata": {},
   "outputs": [
    {
     "name": "stdout",
     "output_type": "stream",
     "text": [
      "progress :  0.0\n"
     ]
    }
   ],
   "source": [
    "cleaned_test_job_info=clean(test_job_info,test)"
   ]
  },
  {
   "cell_type": "code",
   "execution_count": 27,
   "metadata": {},
   "outputs": [
    {
     "name": "stdout",
     "output_type": "stream",
     "text": [
      "progress :  0.0\n",
      "progress :  0.03995652729829945\n",
      "progress :  0.0799130545965989\n",
      "progress :  0.11986958189489835\n",
      "progress :  0.1598261091931978\n",
      "progress :  0.19978263649149725\n",
      "progress :  0.2397391637897967\n",
      "progress :  0.27969569108809617\n",
      "progress :  0.3196522183863956\n",
      "progress :  0.35960874568469503\n",
      "progress :  0.3995652729829945\n",
      "progress :  0.43952180028129395\n",
      "progress :  0.4794783275795934\n",
      "progress :  0.5194348548778929\n",
      "progress :  0.5593913821761923\n",
      "progress :  0.5993479094744918\n",
      "progress :  0.6393044367727913\n",
      "progress :  0.6792609640710906\n",
      "progress :  0.7192174913693901\n",
      "progress :  0.7591740186676895\n",
      "progress :  0.799130545965989\n",
      "progress :  0.8390870732642884\n",
      "progress :  0.8790436005625879\n",
      "progress :  0.9190001278608874\n",
      "progress :  0.9589566551591868\n",
      "progress :  0.9989131824574863\n"
     ]
    }
   ],
   "source": [
    "cleaned_train_job_info=clean(train_job_info,train)"
   ]
  },
  {
   "cell_type": "code",
   "execution_count": 28,
   "metadata": {},
   "outputs": [],
   "source": [
    "def remove_stopwords_job(x, df):\n",
    "    res=[]\n",
    "    n=len(x)\n",
    "    d={}\n",
    "    with open('stopwords.txt') as stopfile:\n",
    "        stopwords = stopfile.read()\n",
    "        stop = stopwords.split()\n",
    "    for i,job in enumerate(x):\n",
    "        if i%5000==0:\n",
    "            print(\"progress : \",i/n)\n",
    "        data=df.iloc[i]\n",
    "        job_id=data[\"job_id\"]\n",
    "        try:\n",
    "            a=d[str(job_id)]\n",
    "        except:\n",
    "            a=[]\n",
    "            for word in job:\n",
    "                if word not in stop:\n",
    "                    a.append(word)\n",
    "            d[str(job_id)]=a\n",
    "        res.append(a)\n",
    "    return res"
   ]
  },
  {
   "cell_type": "code",
   "execution_count": 29,
   "metadata": {},
   "outputs": [],
   "source": [
    "def remove_stopwords_user(x, df):\n",
    "    res=[]\n",
    "    n=len(x)\n",
    "    d={}\n",
    "    with open('stopwords.txt') as stopfile:\n",
    "        stopwords = stopfile.read()\n",
    "        stop = stopwords.split()\n",
    "    for i,user in enumerate(x):\n",
    "        if i%5000==0:\n",
    "            print(\"progress : \",i/n)\n",
    "        data=df.iloc[i]\n",
    "        user_id=data[\"user_id\"]\n",
    "        try:\n",
    "            a=d[str(user_id)]\n",
    "        except:\n",
    "            a=[]\n",
    "            for word in user:\n",
    "                if word not in stop:\n",
    "                    a.append(word)\n",
    "            d[str(user_id)]=a\n",
    "        res.append(a)\n",
    "    return res"
   ]
  },
  {
   "cell_type": "code",
   "execution_count": 30,
   "metadata": {},
   "outputs": [
    {
     "name": "stdout",
     "output_type": "stream",
     "text": [
      "progress :  0.0\n"
     ]
    }
   ],
   "source": [
    "test_clean=remove_stopwords_job(cleaned_test_job_info,test)"
   ]
  },
  {
   "cell_type": "code",
   "execution_count": 31,
   "metadata": {},
   "outputs": [
    {
     "name": "stdout",
     "output_type": "stream",
     "text": [
      "progress :  0.0\n",
      "progress :  0.03995652729829945\n",
      "progress :  0.0799130545965989\n",
      "progress :  0.11986958189489835\n",
      "progress :  0.1598261091931978\n",
      "progress :  0.19978263649149725\n",
      "progress :  0.2397391637897967\n",
      "progress :  0.27969569108809617\n",
      "progress :  0.3196522183863956\n",
      "progress :  0.35960874568469503\n",
      "progress :  0.3995652729829945\n",
      "progress :  0.43952180028129395\n",
      "progress :  0.4794783275795934\n",
      "progress :  0.5194348548778929\n",
      "progress :  0.5593913821761923\n",
      "progress :  0.5993479094744918\n",
      "progress :  0.6393044367727913\n",
      "progress :  0.6792609640710906\n",
      "progress :  0.7192174913693901\n",
      "progress :  0.7591740186676895\n",
      "progress :  0.799130545965989\n",
      "progress :  0.8390870732642884\n",
      "progress :  0.8790436005625879\n",
      "progress :  0.9190001278608874\n",
      "progress :  0.9589566551591868\n",
      "progress :  0.9989131824574863\n"
     ]
    }
   ],
   "source": [
    "train_clean=remove_stopwords_job(cleaned_train_job_info,train)"
   ]
  },
  {
   "cell_type": "code",
   "execution_count": 32,
   "metadata": {},
   "outputs": [
    {
     "name": "stdout",
     "output_type": "stream",
     "text": [
      "progress :  0.0\n"
     ]
    }
   ],
   "source": [
    "test_user_clean=remove_stopwords_user(clean_test_user_info,test)"
   ]
  },
  {
   "cell_type": "code",
   "execution_count": 33,
   "metadata": {},
   "outputs": [
    {
     "name": "stdout",
     "output_type": "stream",
     "text": [
      "progress :  0.0\n",
      "progress :  0.03995652729829945\n",
      "progress :  0.0799130545965989\n",
      "progress :  0.11986958189489835\n",
      "progress :  0.1598261091931978\n",
      "progress :  0.19978263649149725\n",
      "progress :  0.2397391637897967\n",
      "progress :  0.27969569108809617\n",
      "progress :  0.3196522183863956\n",
      "progress :  0.35960874568469503\n",
      "progress :  0.3995652729829945\n",
      "progress :  0.43952180028129395\n",
      "progress :  0.4794783275795934\n",
      "progress :  0.5194348548778929\n",
      "progress :  0.5593913821761923\n",
      "progress :  0.5993479094744918\n",
      "progress :  0.6393044367727913\n",
      "progress :  0.6792609640710906\n",
      "progress :  0.7192174913693901\n",
      "progress :  0.7591740186676895\n",
      "progress :  0.799130545965989\n",
      "progress :  0.8390870732642884\n",
      "progress :  0.8790436005625879\n",
      "progress :  0.9190001278608874\n",
      "progress :  0.9589566551591868\n",
      "progress :  0.9989131824574863\n"
     ]
    }
   ],
   "source": [
    "train_user_clean=remove_stopwords_user(clean_train_user_info,train)"
   ]
  },
  {
   "cell_type": "code",
   "execution_count": 34,
   "metadata": {},
   "outputs": [],
   "source": [
    "def get_occurence_job(x,df):\n",
    "    res=[]\n",
    "    n=len(x)\n",
    "    d={}\n",
    "    for i,job in enumerate(x):\n",
    "        if i%5000==0:\n",
    "            print(\"progress : \",i/n)\n",
    "        data=df.iloc[i]\n",
    "        job_id=data[\"job_id\"]\n",
    "        try:\n",
    "            a=d[str(job_id)]\n",
    "        except:\n",
    "            a=dict(Counter(job))\n",
    "            d[str(job_id)]=a\n",
    "        res.append(a)\n",
    "    return res"
   ]
  },
  {
   "cell_type": "code",
   "execution_count": 35,
   "metadata": {},
   "outputs": [],
   "source": [
    "def get_occurence_user(x,df):\n",
    "    res=[]\n",
    "    n=len(x)\n",
    "    d={}\n",
    "    for i,user in enumerate(x):\n",
    "        if i%5000==0:\n",
    "            print(\"progress : \",i/n)\n",
    "        data=df.iloc[i]\n",
    "        user_id=data[\"user_id\"]\n",
    "        try:\n",
    "            a=d[str(user_id)]\n",
    "        except:\n",
    "            a=dict(Counter(user))\n",
    "            d[str(user_id)]=a\n",
    "        res.append(a)\n",
    "    return res"
   ]
  },
  {
   "cell_type": "code",
   "execution_count": 36,
   "metadata": {},
   "outputs": [
    {
     "name": "stdout",
     "output_type": "stream",
     "text": [
      "progress :  0.0\n"
     ]
    }
   ],
   "source": [
    "test_occurences=get_occurence_job(test_clean,test)"
   ]
  },
  {
   "cell_type": "code",
   "execution_count": 37,
   "metadata": {},
   "outputs": [
    {
     "name": "stdout",
     "output_type": "stream",
     "text": [
      "progress :  0.0\n",
      "progress :  0.03995652729829945\n",
      "progress :  0.0799130545965989\n",
      "progress :  0.11986958189489835\n",
      "progress :  0.1598261091931978\n",
      "progress :  0.19978263649149725\n",
      "progress :  0.2397391637897967\n",
      "progress :  0.27969569108809617\n",
      "progress :  0.3196522183863956\n",
      "progress :  0.35960874568469503\n",
      "progress :  0.3995652729829945\n",
      "progress :  0.43952180028129395\n",
      "progress :  0.4794783275795934\n",
      "progress :  0.5194348548778929\n",
      "progress :  0.5593913821761923\n",
      "progress :  0.5993479094744918\n",
      "progress :  0.6393044367727913\n",
      "progress :  0.6792609640710906\n",
      "progress :  0.7192174913693901\n",
      "progress :  0.7591740186676895\n",
      "progress :  0.799130545965989\n",
      "progress :  0.8390870732642884\n",
      "progress :  0.8790436005625879\n",
      "progress :  0.9190001278608874\n",
      "progress :  0.9589566551591868\n",
      "progress :  0.9989131824574863\n"
     ]
    }
   ],
   "source": [
    "occurences=get_occurence_job(train_clean,train)"
   ]
  },
  {
   "cell_type": "code",
   "execution_count": 38,
   "metadata": {},
   "outputs": [
    {
     "name": "stdout",
     "output_type": "stream",
     "text": [
      "progress :  0.0\n"
     ]
    }
   ],
   "source": [
    "test_user_occurences=get_occurence_user(test_user_clean,test)"
   ]
  },
  {
   "cell_type": "code",
   "execution_count": 39,
   "metadata": {},
   "outputs": [
    {
     "name": "stdout",
     "output_type": "stream",
     "text": [
      "progress :  0.0\n",
      "progress :  0.03995652729829945\n",
      "progress :  0.0799130545965989\n",
      "progress :  0.11986958189489835\n",
      "progress :  0.1598261091931978\n",
      "progress :  0.19978263649149725\n",
      "progress :  0.2397391637897967\n",
      "progress :  0.27969569108809617\n",
      "progress :  0.3196522183863956\n",
      "progress :  0.35960874568469503\n",
      "progress :  0.3995652729829945\n",
      "progress :  0.43952180028129395\n",
      "progress :  0.4794783275795934\n",
      "progress :  0.5194348548778929\n",
      "progress :  0.5593913821761923\n",
      "progress :  0.5993479094744918\n",
      "progress :  0.6393044367727913\n",
      "progress :  0.6792609640710906\n",
      "progress :  0.7192174913693901\n",
      "progress :  0.7591740186676895\n",
      "progress :  0.799130545965989\n",
      "progress :  0.8390870732642884\n",
      "progress :  0.8790436005625879\n",
      "progress :  0.9190001278608874\n",
      "progress :  0.9589566551591868\n",
      "progress :  0.9989131824574863\n"
     ]
    }
   ],
   "source": [
    "train_user_occurences=get_occurence_user(train_user_clean,train)"
   ]
  },
  {
   "cell_type": "code",
   "execution_count": 40,
   "metadata": {},
   "outputs": [],
   "source": [
    "def get_vector_job(occurences, jobs, vector_size,df):\n",
    "    vector=[]\n",
    "    d={}\n",
    "    model = Word2Vec.load('model.bin')\n",
    "    nb=len(jobs)\n",
    "    for i,job in enumerate(jobs):\n",
    "        if i%10000==0:\n",
    "            print(\"progress : \",i/nb )\n",
    "        data=df.iloc[i]\n",
    "        job_id=data[\"job_id\"]\n",
    "        try:\n",
    "            res=d[str(job_id)]\n",
    "        except:\n",
    "            res=np.zeros(vector_size,)\n",
    "            n=sum(list(occurences[i].values()))\n",
    "            job_unique=list(set(job))\n",
    "            for word in job_unique:\n",
    "                try:\n",
    "                    a=model[word]\n",
    "                except:\n",
    "                    #print(word)\n",
    "                    a=None\n",
    "                if a is not None:\n",
    "                    count=occurences[i][word]\n",
    "                    w=count/n\n",
    "                    res+=w*a\n",
    "            d[str(job_id)]=res\n",
    "        vector.append(res)\n",
    "    return vector"
   ]
  },
  {
   "cell_type": "code",
   "execution_count": 41,
   "metadata": {},
   "outputs": [],
   "source": [
    "def get_vector_user(occurences, users, vector_size,df):\n",
    "    vector=[]\n",
    "    d={}\n",
    "    model = Word2Vec.load('model.bin')\n",
    "    nb=len(users)\n",
    "    for i,user in enumerate(users):\n",
    "        if i%10000==0:\n",
    "            print(\"progress : \",i/nb )\n",
    "        data=df.iloc[i]\n",
    "        user_id=data[\"user_id\"]\n",
    "        try:\n",
    "            res=d[str(user_id)]\n",
    "        except:\n",
    "            res=np.zeros(vector_size,)\n",
    "            n=sum(list(occurences[i].values()))\n",
    "            user_unique=list(set(user))\n",
    "            for word in user_unique:\n",
    "                try:\n",
    "                    a=model[word]\n",
    "                except:\n",
    "                    #print(word)\n",
    "                    a=None\n",
    "                if a is not None:\n",
    "                    count=occurences[i][word]\n",
    "                    w=count/n\n",
    "                    res+=w*a\n",
    "            d[str(user_id)]=res\n",
    "        vector.append(res)\n",
    "    return vector"
   ]
  },
  {
   "cell_type": "code",
   "execution_count": 42,
   "metadata": {},
   "outputs": [
    {
     "name": "stdout",
     "output_type": "stream",
     "text": [
      "progress :  0.0\n"
     ]
    },
    {
     "name": "stderr",
     "output_type": "stream",
     "text": [
      "C:\\Users\\Lassana Diabira\\Anaconda3\\lib\\site-packages\\ipykernel_launcher.py:19: DeprecationWarning: Call to deprecated `__getitem__` (Method will be removed in 4.0.0, use self.wv.__getitem__() instead).\n"
     ]
    }
   ],
   "source": [
    "test_X=get_vector_job(test_occurences, test_clean, 350,test)"
   ]
  },
  {
   "cell_type": "code",
   "execution_count": 43,
   "metadata": {},
   "outputs": [
    {
     "name": "stdout",
     "output_type": "stream",
     "text": [
      "progress :  0.0\n"
     ]
    },
    {
     "name": "stderr",
     "output_type": "stream",
     "text": [
      "C:\\Users\\Lassana Diabira\\Anaconda3\\lib\\site-packages\\ipykernel_launcher.py:19: DeprecationWarning: Call to deprecated `__getitem__` (Method will be removed in 4.0.0, use self.wv.__getitem__() instead).\n"
     ]
    },
    {
     "name": "stdout",
     "output_type": "stream",
     "text": [
      "progress :  0.0799130545965989\n",
      "progress :  0.1598261091931978\n",
      "progress :  0.2397391637897967\n",
      "progress :  0.3196522183863956\n",
      "progress :  0.3995652729829945\n",
      "progress :  0.4794783275795934\n",
      "progress :  0.5593913821761923\n",
      "progress :  0.6393044367727913\n",
      "progress :  0.7192174913693901\n",
      "progress :  0.799130545965989\n",
      "progress :  0.8790436005625879\n",
      "progress :  0.9589566551591868\n"
     ]
    }
   ],
   "source": [
    "X=get_vector_job(occurences, train_clean, 350,train)"
   ]
  },
  {
   "cell_type": "code",
   "execution_count": 44,
   "metadata": {},
   "outputs": [
    {
     "name": "stdout",
     "output_type": "stream",
     "text": [
      "progress :  0.0\n"
     ]
    },
    {
     "name": "stderr",
     "output_type": "stream",
     "text": [
      "C:\\Users\\Lassana Diabira\\Anaconda3\\lib\\site-packages\\ipykernel_launcher.py:19: DeprecationWarning: Call to deprecated `__getitem__` (Method will be removed in 4.0.0, use self.wv.__getitem__() instead).\n"
     ]
    }
   ],
   "source": [
    "test_X_user=get_vector_user(test_user_occurences, test_user_clean, 350, test)"
   ]
  },
  {
   "cell_type": "code",
   "execution_count": 45,
   "metadata": {},
   "outputs": [
    {
     "name": "stdout",
     "output_type": "stream",
     "text": [
      "progress :  0.0\n"
     ]
    },
    {
     "name": "stderr",
     "output_type": "stream",
     "text": [
      "C:\\Users\\Lassana Diabira\\Anaconda3\\lib\\site-packages\\ipykernel_launcher.py:19: DeprecationWarning: Call to deprecated `__getitem__` (Method will be removed in 4.0.0, use self.wv.__getitem__() instead).\n"
     ]
    },
    {
     "name": "stdout",
     "output_type": "stream",
     "text": [
      "progress :  0.0799130545965989\n",
      "progress :  0.1598261091931978\n",
      "progress :  0.2397391637897967\n",
      "progress :  0.3196522183863956\n",
      "progress :  0.3995652729829945\n",
      "progress :  0.4794783275795934\n",
      "progress :  0.5593913821761923\n",
      "progress :  0.6393044367727913\n",
      "progress :  0.7192174913693901\n",
      "progress :  0.799130545965989\n",
      "progress :  0.8790436005625879\n",
      "progress :  0.9589566551591868\n"
     ]
    }
   ],
   "source": [
    "X_user=get_vector_user(train_user_occurences, train_user_clean, 350, train)"
   ]
  },
  {
   "cell_type": "code",
   "execution_count": 46,
   "metadata": {},
   "outputs": [],
   "source": [
    "test_X_train=np.array(test_X)"
   ]
  },
  {
   "cell_type": "code",
   "execution_count": 52,
   "metadata": {},
   "outputs": [
    {
     "data": {
      "text/plain": [
       "(294, 350)"
      ]
     },
     "execution_count": 52,
     "metadata": {},
     "output_type": "execute_result"
    }
   ],
   "source": [
    "test_X_train.shape"
   ]
  },
  {
   "cell_type": "code",
   "execution_count": 47,
   "metadata": {},
   "outputs": [],
   "source": [
    "X_train=np.array(X)"
   ]
  },
  {
   "cell_type": "code",
   "execution_count": 48,
   "metadata": {},
   "outputs": [
    {
     "data": {
      "text/plain": [
       "(125136, 350)"
      ]
     },
     "execution_count": 48,
     "metadata": {},
     "output_type": "execute_result"
    }
   ],
   "source": [
    "X_train.shape"
   ]
  },
  {
   "cell_type": "code",
   "execution_count": 49,
   "metadata": {},
   "outputs": [],
   "source": [
    "test_X_train_user=np.array(test_X_user)"
   ]
  },
  {
   "cell_type": "code",
   "execution_count": 50,
   "metadata": {},
   "outputs": [],
   "source": [
    "X_train_user=np.array(X_user)"
   ]
  },
  {
   "cell_type": "code",
   "execution_count": 51,
   "metadata": {},
   "outputs": [
    {
     "data": {
      "text/plain": [
       "(125136, 350)"
      ]
     },
     "execution_count": 51,
     "metadata": {},
     "output_type": "execute_result"
    }
   ],
   "source": [
    "X_train_user.shape"
   ]
  },
  {
   "cell_type": "code",
   "execution_count": 37,
   "metadata": {},
   "outputs": [],
   "source": [
    "#X_train_job_final=np.concatenate((X_train, job_characteristics.values), axis=1)"
   ]
  },
  {
   "cell_type": "code",
   "execution_count": 38,
   "metadata": {},
   "outputs": [],
   "source": [
    "#X_train_job_final.shape"
   ]
  },
  {
   "cell_type": "code",
   "execution_count": 39,
   "metadata": {},
   "outputs": [],
   "source": [
    "#X_train_user_final=np.concatenate((X_train_user, user_characteristics.values), axis=1)"
   ]
  },
  {
   "cell_type": "code",
   "execution_count": 40,
   "metadata": {},
   "outputs": [],
   "source": [
    "#X_train_user_final.shape"
   ]
  },
  {
   "cell_type": "code",
   "execution_count": 41,
   "metadata": {},
   "outputs": [],
   "source": [
    "#pca = PCA(n_components=2)\n",
    "#result_user = pca.fit_transform(X_train_user_final)"
   ]
  },
  {
   "cell_type": "code",
   "execution_count": 42,
   "metadata": {},
   "outputs": [],
   "source": [
    "#print(pca.explained_variance_ratio_)"
   ]
  },
  {
   "cell_type": "code",
   "execution_count": 43,
   "metadata": {},
   "outputs": [],
   "source": [
    "#pca = PCA(n_components=2)\n",
    "#result = pca.fit_transform(X_train_job_final)"
   ]
  },
  {
   "cell_type": "code",
   "execution_count": 44,
   "metadata": {},
   "outputs": [],
   "source": [
    "#print(pca.explained_variance_ratio_)"
   ]
  },
  {
   "cell_type": "code",
   "execution_count": 45,
   "metadata": {},
   "outputs": [],
   "source": [
    "#users=list(train[\"user_id\"].values)\n",
    "#users=[str(i) for i in users]"
   ]
  },
  {
   "cell_type": "code",
   "execution_count": 46,
   "metadata": {},
   "outputs": [],
   "source": [
    "def get_job_info_plot(df):\n",
    "    job_info=[]\n",
    "    for i in range(df.shape[0]):\n",
    "        data=df.iloc[i]\n",
    "        title=data[\"job_title\"]\n",
    "        em_title=data[\"employer_title\"]\n",
    "        a=\"\"\n",
    "        a+=title+\" \"\n",
    "        a+=em_title+\" \"\n",
    "        job_info.append(a)\n",
    "    return job_info"
   ]
  },
  {
   "cell_type": "code",
   "execution_count": 47,
   "metadata": {},
   "outputs": [],
   "source": [
    "#infos=get_job_info_plot(train)"
   ]
  },
  {
   "cell_type": "code",
   "execution_count": 48,
   "metadata": {},
   "outputs": [
    {
     "data": {
      "text/plain": [
       "'k=200\\nplt.figure(figsize=(20,20))\\nplt.scatter(result_user[:k, 0], result_user[:k, 1])\\nfor i, word in enumerate(users[:k]):\\n    plt.annotate(word, xy=(result_user[i, 0], result_user[i, 1]))\\nplt.show()'"
      ]
     },
     "execution_count": 48,
     "metadata": {},
     "output_type": "execute_result"
    }
   ],
   "source": [
    "\"\"\"k=200\n",
    "plt.figure(figsize=(20,20))\n",
    "plt.scatter(result_user[:k, 0], result_user[:k, 1])\n",
    "for i, word in enumerate(users[:k]):\n",
    "    plt.annotate(word, xy=(result_user[i, 0], result_user[i, 1]))\n",
    "plt.show()\"\"\""
   ]
  },
  {
   "cell_type": "code",
   "execution_count": 49,
   "metadata": {},
   "outputs": [
    {
     "data": {
      "text/plain": [
       "job_title                2018 London Summer Internship: Analytics and S...\n",
       "employer_title                                                   Bloomberg\n",
       "employer_sector_title                                   Financial Services\n",
       "job_sector_title                                        Financial Services\n",
       "gender                                                                Male\n",
       "ethnicity                                              White/White British\n",
       "university_name                                        McMaster University\n",
       "degree_subject_name                                   Accounting & Finance\n",
       "user_preference          Investment Banking Investment & Asset Manageme...\n",
       "Name: 77245, dtype: object"
      ]
     },
     "execution_count": 49,
     "metadata": {},
     "output_type": "execute_result"
    }
   ],
   "source": [
    "train.iloc[10][['job_title','employer_title', 'employer_sector_title', 'job_sector_title', 'gender',\n",
    "       'ethnicity', 'university_name', 'degree_subject_name', 'user_preference']]"
   ]
  },
  {
   "cell_type": "code",
   "execution_count": 54,
   "metadata": {},
   "outputs": [],
   "source": [
    "def get_similar_member(df, X_train, doc_id, n):\n",
    "    res=[]\n",
    "    beta=[]\n",
    "    cos=list(cosine_similarity(X_train[doc_id,:].reshape(1, -1) , X_train))[0]\n",
    "    most_similar_doc_id=np.argsort(cos)[::-1]\n",
    "    a=0\n",
    "    while cos[most_similar_doc_id[a]]>=0.9999999:\n",
    "        a+=1\n",
    "    most_similar_doc_id=most_similar_doc_id[a:]\n",
    "    res.append(df.iloc[most_similar_doc_id[0]][\"user_id\"])\n",
    "    beta.append(cos[most_similar_doc_id[0]])\n",
    "    for i in range(1,len(most_similar_doc_id)):\n",
    "        if cos[most_similar_doc_id[i]] not in beta:\n",
    "            user=df.iloc[most_similar_doc_id[i]][\"user_id\"]\n",
    "            if user not in res:\n",
    "                res.append(user)\n",
    "                beta.append(cos[most_similar_doc_id[i]])\n",
    "    print(\" user id : \", df.iloc[doc_id][\"user_id\"])\n",
    "    print(\"most similar doc : \", res[:n])\n",
    "    print(\"most similar values : \", beta[:n])\n",
    "    print(\"not similar doc : \", res[-n:][::-1])\n",
    "    print(\"not similar values : \", beta[-n:][::-1])"
   ]
  },
  {
   "cell_type": "code",
   "execution_count": 55,
   "metadata": {},
   "outputs": [
    {
     "name": "stdout",
     "output_type": "stream",
     "text": [
      " user id :  117634\n",
      "most similar doc :  [182869, 155182, 146277, 52700, 153157]\n",
      "most similar values :  [0.975068524594033, 0.9739203089866663, 0.9697470865692897, 0.9697416553711267, 0.9690428114453487]\n",
      "not similar doc :  [158698, 180714, 173617, 186064, 186752]\n",
      "not similar values :  [-0.07001069043253998, -0.06287017174375545, 0.14585444441232004, 0.15957284873485147, 0.16721659155234422]\n"
     ]
    }
   ],
   "source": [
    "get_similar_member(train, X_train_user, 10, 5)"
   ]
  },
  {
   "cell_type": "markdown",
   "metadata": {},
   "source": [
    "# user"
   ]
  },
  {
   "cell_type": "code",
   "execution_count": 56,
   "metadata": {},
   "outputs": [
    {
     "data": {
      "text/html": [
       "<div>\n",
       "<style scoped>\n",
       "    .dataframe tbody tr th:only-of-type {\n",
       "        vertical-align: middle;\n",
       "    }\n",
       "\n",
       "    .dataframe tbody tr th {\n",
       "        vertical-align: top;\n",
       "    }\n",
       "\n",
       "    .dataframe thead th {\n",
       "        text-align: right;\n",
       "    }\n",
       "</style>\n",
       "<table border=\"1\" class=\"dataframe\">\n",
       "  <thead>\n",
       "    <tr style=\"text-align: right;\">\n",
       "      <th></th>\n",
       "      <th>job_title</th>\n",
       "      <th>employer_title</th>\n",
       "      <th>employer_sector_title</th>\n",
       "      <th>job_sector_title</th>\n",
       "      <th>gender</th>\n",
       "      <th>ethnicity</th>\n",
       "      <th>university_name</th>\n",
       "      <th>degree_subject_name</th>\n",
       "      <th>user_preference</th>\n",
       "    </tr>\n",
       "  </thead>\n",
       "  <tbody>\n",
       "    <tr>\n",
       "      <th>62435</th>\n",
       "      <td>2018 Associate Programme</td>\n",
       "      <td>On Purpose</td>\n",
       "      <td>Entrepreneurship &amp; Start Ups</td>\n",
       "      <td>Charity &amp; Social Enterprise</td>\n",
       "      <td>Female</td>\n",
       "      <td>White/White British</td>\n",
       "      <td>Royal Holloway</td>\n",
       "      <td>Sociology</td>\n",
       "      <td>NaN</td>\n",
       "    </tr>\n",
       "    <tr>\n",
       "      <th>62433</th>\n",
       "      <td>Graduate Scheme</td>\n",
       "      <td>Worthwhile</td>\n",
       "      <td>Entrepreneurship &amp; Start Ups</td>\n",
       "      <td>Charity &amp; Social Enterprise</td>\n",
       "      <td>Female</td>\n",
       "      <td>White/White British</td>\n",
       "      <td>Royal Holloway</td>\n",
       "      <td>Sociology</td>\n",
       "      <td>NaN</td>\n",
       "    </tr>\n",
       "    <tr>\n",
       "      <th>62437</th>\n",
       "      <td>2018 Corporate Analyst Development Program - F...</td>\n",
       "      <td>J.P. Morgan</td>\n",
       "      <td>Financial Services</td>\n",
       "      <td>Financial Services</td>\n",
       "      <td>Female</td>\n",
       "      <td>White/White British</td>\n",
       "      <td>Royal Holloway</td>\n",
       "      <td>Sociology</td>\n",
       "      <td>NaN</td>\n",
       "    </tr>\n",
       "    <tr>\n",
       "      <th>62432</th>\n",
       "      <td>Commercial programme</td>\n",
       "      <td>BAE Systems</td>\n",
       "      <td>Technology: Consulting &amp; Project Management</td>\n",
       "      <td>Technology: Consulting &amp; Project Management</td>\n",
       "      <td>Female</td>\n",
       "      <td>White/White British</td>\n",
       "      <td>Royal Holloway</td>\n",
       "      <td>Sociology</td>\n",
       "      <td>NaN</td>\n",
       "    </tr>\n",
       "    <tr>\n",
       "      <th>62431</th>\n",
       "      <td>Global Research Global Graduate Programme</td>\n",
       "      <td>HSBC</td>\n",
       "      <td>Financial Services</td>\n",
       "      <td>Financial Services</td>\n",
       "      <td>Female</td>\n",
       "      <td>White/White British</td>\n",
       "      <td>Royal Holloway</td>\n",
       "      <td>Sociology</td>\n",
       "      <td>NaN</td>\n",
       "    </tr>\n",
       "  </tbody>\n",
       "</table>\n",
       "</div>"
      ],
      "text/plain": [
       "                                               job_title employer_title  \\\n",
       "62435                           2018 Associate Programme     On Purpose   \n",
       "62433                                    Graduate Scheme     Worthwhile   \n",
       "62437  2018 Corporate Analyst Development Program - F...    J.P. Morgan   \n",
       "62432                               Commercial programme    BAE Systems   \n",
       "62431          Global Research Global Graduate Programme           HSBC   \n",
       "\n",
       "                             employer_sector_title  \\\n",
       "62435                 Entrepreneurship & Start Ups   \n",
       "62433                 Entrepreneurship & Start Ups   \n",
       "62437                           Financial Services   \n",
       "62432  Technology: Consulting & Project Management   \n",
       "62431                           Financial Services   \n",
       "\n",
       "                                  job_sector_title  gender  \\\n",
       "62435                  Charity & Social Enterprise  Female   \n",
       "62433                  Charity & Social Enterprise  Female   \n",
       "62437                           Financial Services  Female   \n",
       "62432  Technology: Consulting & Project Management  Female   \n",
       "62431                           Financial Services  Female   \n",
       "\n",
       "                 ethnicity university_name degree_subject_name user_preference  \n",
       "62435  White/White British  Royal Holloway           Sociology             NaN  \n",
       "62433  White/White British  Royal Holloway           Sociology             NaN  \n",
       "62437  White/White British  Royal Holloway           Sociology             NaN  \n",
       "62432  White/White British  Royal Holloway           Sociology             NaN  \n",
       "62431  White/White British  Royal Holloway           Sociology             NaN  "
      ]
     },
     "execution_count": 56,
     "metadata": {},
     "output_type": "execute_result"
    }
   ],
   "source": [
    "train[train[\"user_id\"]==117634][['job_title','employer_title', 'employer_sector_title', 'job_sector_title', 'gender',\n",
    "       'ethnicity', 'university_name', 'degree_subject_name', 'user_preference']].tail()"
   ]
  },
  {
   "cell_type": "markdown",
   "metadata": {},
   "source": [
    "# similar users"
   ]
  },
  {
   "cell_type": "code",
   "execution_count": 57,
   "metadata": {},
   "outputs": [
    {
     "data": {
      "text/html": [
       "<div>\n",
       "<style scoped>\n",
       "    .dataframe tbody tr th:only-of-type {\n",
       "        vertical-align: middle;\n",
       "    }\n",
       "\n",
       "    .dataframe tbody tr th {\n",
       "        vertical-align: top;\n",
       "    }\n",
       "\n",
       "    .dataframe thead th {\n",
       "        text-align: right;\n",
       "    }\n",
       "</style>\n",
       "<table border=\"1\" class=\"dataframe\">\n",
       "  <thead>\n",
       "    <tr style=\"text-align: right;\">\n",
       "      <th></th>\n",
       "      <th>job_title</th>\n",
       "      <th>employer_title</th>\n",
       "      <th>employer_sector_title</th>\n",
       "      <th>job_sector_title</th>\n",
       "      <th>gender</th>\n",
       "      <th>ethnicity</th>\n",
       "      <th>university_name</th>\n",
       "      <th>degree_subject_name</th>\n",
       "      <th>user_preference</th>\n",
       "    </tr>\n",
       "  </thead>\n",
       "  <tbody>\n",
       "    <tr>\n",
       "      <th>60913</th>\n",
       "      <td>2018 Associate Programme</td>\n",
       "      <td>On Purpose</td>\n",
       "      <td>Entrepreneurship &amp; Start Ups</td>\n",
       "      <td>Charity &amp; Social Enterprise</td>\n",
       "      <td>Female</td>\n",
       "      <td>NaN</td>\n",
       "      <td>NaN</td>\n",
       "      <td>NaN</td>\n",
       "      <td>Entrepreneurship &amp; Start Ups Journalism &amp; Publ...</td>\n",
       "    </tr>\n",
       "    <tr>\n",
       "      <th>60914</th>\n",
       "      <td>Graduate Programme</td>\n",
       "      <td>HM Treasury</td>\n",
       "      <td>Public Sector &amp; Government</td>\n",
       "      <td>Financial Services</td>\n",
       "      <td>Female</td>\n",
       "      <td>NaN</td>\n",
       "      <td>NaN</td>\n",
       "      <td>NaN</td>\n",
       "      <td>Entrepreneurship &amp; Start Ups Journalism &amp; Publ...</td>\n",
       "    </tr>\n",
       "    <tr>\n",
       "      <th>60911</th>\n",
       "      <td>Global Research Global Graduate Programme</td>\n",
       "      <td>HSBC</td>\n",
       "      <td>Financial Services</td>\n",
       "      <td>Financial Services</td>\n",
       "      <td>Female</td>\n",
       "      <td>NaN</td>\n",
       "      <td>NaN</td>\n",
       "      <td>NaN</td>\n",
       "      <td>Entrepreneurship &amp; Start Ups Journalism &amp; Publ...</td>\n",
       "    </tr>\n",
       "    <tr>\n",
       "      <th>60919</th>\n",
       "      <td>Deutsche Bank Graduate Programme</td>\n",
       "      <td>Deutsche Bank</td>\n",
       "      <td>Technology: Consulting &amp; Project Management</td>\n",
       "      <td>Technology: Consulting &amp; Project Management</td>\n",
       "      <td>Female</td>\n",
       "      <td>NaN</td>\n",
       "      <td>NaN</td>\n",
       "      <td>NaN</td>\n",
       "      <td>Entrepreneurship &amp; Start Ups Journalism &amp; Publ...</td>\n",
       "    </tr>\n",
       "    <tr>\n",
       "      <th>60918</th>\n",
       "      <td>Graduate Analyst Role</td>\n",
       "      <td>CIL Management Consultants</td>\n",
       "      <td>Consulting</td>\n",
       "      <td>Consulting</td>\n",
       "      <td>Female</td>\n",
       "      <td>NaN</td>\n",
       "      <td>NaN</td>\n",
       "      <td>NaN</td>\n",
       "      <td>Entrepreneurship &amp; Start Ups Journalism &amp; Publ...</td>\n",
       "    </tr>\n",
       "  </tbody>\n",
       "</table>\n",
       "</div>"
      ],
      "text/plain": [
       "                                       job_title              employer_title  \\\n",
       "60913                   2018 Associate Programme                  On Purpose   \n",
       "60914                         Graduate Programme                 HM Treasury   \n",
       "60911  Global Research Global Graduate Programme                        HSBC   \n",
       "60919           Deutsche Bank Graduate Programme               Deutsche Bank   \n",
       "60918                      Graduate Analyst Role  CIL Management Consultants   \n",
       "\n",
       "                             employer_sector_title  \\\n",
       "60913                 Entrepreneurship & Start Ups   \n",
       "60914                   Public Sector & Government   \n",
       "60911                           Financial Services   \n",
       "60919  Technology: Consulting & Project Management   \n",
       "60918                                   Consulting   \n",
       "\n",
       "                                  job_sector_title  gender ethnicity  \\\n",
       "60913                  Charity & Social Enterprise  Female       NaN   \n",
       "60914                           Financial Services  Female       NaN   \n",
       "60911                           Financial Services  Female       NaN   \n",
       "60919  Technology: Consulting & Project Management  Female       NaN   \n",
       "60918                                   Consulting  Female       NaN   \n",
       "\n",
       "      university_name degree_subject_name  \\\n",
       "60913             NaN                 NaN   \n",
       "60914             NaN                 NaN   \n",
       "60911             NaN                 NaN   \n",
       "60919             NaN                 NaN   \n",
       "60918             NaN                 NaN   \n",
       "\n",
       "                                         user_preference  \n",
       "60913  Entrepreneurship & Start Ups Journalism & Publ...  \n",
       "60914  Entrepreneurship & Start Ups Journalism & Publ...  \n",
       "60911  Entrepreneurship & Start Ups Journalism & Publ...  \n",
       "60919  Entrepreneurship & Start Ups Journalism & Publ...  \n",
       "60918  Entrepreneurship & Start Ups Journalism & Publ...  "
      ]
     },
     "execution_count": 57,
     "metadata": {},
     "output_type": "execute_result"
    }
   ],
   "source": [
    "train[train[\"user_id\"]==182869][['job_title','employer_title', 'employer_sector_title', 'job_sector_title', 'gender',\n",
    "       'ethnicity', 'university_name', 'degree_subject_name', 'user_preference']].tail()"
   ]
  },
  {
   "cell_type": "code",
   "execution_count": 58,
   "metadata": {},
   "outputs": [
    {
     "data": {
      "text/html": [
       "<div>\n",
       "<style scoped>\n",
       "    .dataframe tbody tr th:only-of-type {\n",
       "        vertical-align: middle;\n",
       "    }\n",
       "\n",
       "    .dataframe tbody tr th {\n",
       "        vertical-align: top;\n",
       "    }\n",
       "\n",
       "    .dataframe thead th {\n",
       "        text-align: right;\n",
       "    }\n",
       "</style>\n",
       "<table border=\"1\" class=\"dataframe\">\n",
       "  <thead>\n",
       "    <tr style=\"text-align: right;\">\n",
       "      <th></th>\n",
       "      <th>job_title</th>\n",
       "      <th>employer_title</th>\n",
       "      <th>employer_sector_title</th>\n",
       "      <th>job_sector_title</th>\n",
       "      <th>gender</th>\n",
       "      <th>ethnicity</th>\n",
       "      <th>university_name</th>\n",
       "      <th>degree_subject_name</th>\n",
       "      <th>user_preference</th>\n",
       "    </tr>\n",
       "  </thead>\n",
       "  <tbody>\n",
       "    <tr>\n",
       "      <th>91995</th>\n",
       "      <td>International Company - Graduate</td>\n",
       "      <td>Robert Half</td>\n",
       "      <td>HR &amp; Recruitment</td>\n",
       "      <td>Financial Services</td>\n",
       "      <td>Female</td>\n",
       "      <td>White/White British</td>\n",
       "      <td>University of Exeter</td>\n",
       "      <td>Modern Languages</td>\n",
       "      <td>NaN</td>\n",
       "    </tr>\n",
       "    <tr>\n",
       "      <th>92003</th>\n",
       "      <td>Community Banking Leadership Programme</td>\n",
       "      <td>Lloyds Banking Group</td>\n",
       "      <td>Financial Services</td>\n",
       "      <td>Financial Services</td>\n",
       "      <td>Female</td>\n",
       "      <td>White/White British</td>\n",
       "      <td>University of Exeter</td>\n",
       "      <td>Modern Languages</td>\n",
       "      <td>NaN</td>\n",
       "    </tr>\n",
       "    <tr>\n",
       "      <th>91993</th>\n",
       "      <td>Graduate Teacher Training Programme</td>\n",
       "      <td>Ark Teacher Training</td>\n",
       "      <td>Education &amp; Teaching</td>\n",
       "      <td>Charity &amp; Social Enterprise</td>\n",
       "      <td>Female</td>\n",
       "      <td>White/White British</td>\n",
       "      <td>University of Exeter</td>\n",
       "      <td>Modern Languages</td>\n",
       "      <td>NaN</td>\n",
       "    </tr>\n",
       "    <tr>\n",
       "      <th>91994</th>\n",
       "      <td>Leadership Development Programme</td>\n",
       "      <td>Teach First</td>\n",
       "      <td>Education &amp; Teaching</td>\n",
       "      <td>Charity &amp; Social Enterprise</td>\n",
       "      <td>Female</td>\n",
       "      <td>White/White British</td>\n",
       "      <td>University of Exeter</td>\n",
       "      <td>Modern Languages</td>\n",
       "      <td>NaN</td>\n",
       "    </tr>\n",
       "    <tr>\n",
       "      <th>92006</th>\n",
       "      <td>Graduate Scheme</td>\n",
       "      <td>Brainlabs</td>\n",
       "      <td>Education &amp; Teaching</td>\n",
       "      <td>Technology: IT &amp; Software Development</td>\n",
       "      <td>Female</td>\n",
       "      <td>White/White British</td>\n",
       "      <td>University of Exeter</td>\n",
       "      <td>Modern Languages</td>\n",
       "      <td>NaN</td>\n",
       "    </tr>\n",
       "  </tbody>\n",
       "</table>\n",
       "</div>"
      ],
      "text/plain": [
       "                                    job_title        employer_title  \\\n",
       "91995        International Company - Graduate           Robert Half   \n",
       "92003  Community Banking Leadership Programme  Lloyds Banking Group   \n",
       "91993     Graduate Teacher Training Programme  Ark Teacher Training   \n",
       "91994        Leadership Development Programme           Teach First   \n",
       "92006                         Graduate Scheme             Brainlabs   \n",
       "\n",
       "      employer_sector_title                       job_sector_title  gender  \\\n",
       "91995      HR & Recruitment                     Financial Services  Female   \n",
       "92003    Financial Services                     Financial Services  Female   \n",
       "91993  Education & Teaching            Charity & Social Enterprise  Female   \n",
       "91994  Education & Teaching            Charity & Social Enterprise  Female   \n",
       "92006  Education & Teaching  Technology: IT & Software Development  Female   \n",
       "\n",
       "                 ethnicity       university_name degree_subject_name  \\\n",
       "91995  White/White British  University of Exeter    Modern Languages   \n",
       "92003  White/White British  University of Exeter    Modern Languages   \n",
       "91993  White/White British  University of Exeter    Modern Languages   \n",
       "91994  White/White British  University of Exeter    Modern Languages   \n",
       "92006  White/White British  University of Exeter    Modern Languages   \n",
       "\n",
       "      user_preference  \n",
       "91995             NaN  \n",
       "92003             NaN  \n",
       "91993             NaN  \n",
       "91994             NaN  \n",
       "92006             NaN  "
      ]
     },
     "execution_count": 58,
     "metadata": {},
     "output_type": "execute_result"
    }
   ],
   "source": [
    "train[train[\"user_id\"]==155182][['job_title','employer_title', 'employer_sector_title', 'job_sector_title', 'gender',\n",
    "       'ethnicity', 'university_name', 'degree_subject_name', 'user_preference']].tail()"
   ]
  },
  {
   "cell_type": "markdown",
   "metadata": {},
   "source": [
    "# not similar users"
   ]
  },
  {
   "cell_type": "code",
   "execution_count": 59,
   "metadata": {},
   "outputs": [
    {
     "data": {
      "text/html": [
       "<div>\n",
       "<style scoped>\n",
       "    .dataframe tbody tr th:only-of-type {\n",
       "        vertical-align: middle;\n",
       "    }\n",
       "\n",
       "    .dataframe tbody tr th {\n",
       "        vertical-align: top;\n",
       "    }\n",
       "\n",
       "    .dataframe thead th {\n",
       "        text-align: right;\n",
       "    }\n",
       "</style>\n",
       "<table border=\"1\" class=\"dataframe\">\n",
       "  <thead>\n",
       "    <tr style=\"text-align: right;\">\n",
       "      <th></th>\n",
       "      <th>job_title</th>\n",
       "      <th>employer_title</th>\n",
       "      <th>employer_sector_title</th>\n",
       "      <th>job_sector_title</th>\n",
       "      <th>gender</th>\n",
       "      <th>ethnicity</th>\n",
       "      <th>university_name</th>\n",
       "      <th>degree_subject_name</th>\n",
       "      <th>user_preference</th>\n",
       "    </tr>\n",
       "  </thead>\n",
       "  <tbody>\n",
       "    <tr>\n",
       "      <th>106992</th>\n",
       "      <td>Herbert Smith Freehills Event Dates 2017-2018</td>\n",
       "      <td>Herbert Smith Freehills</td>\n",
       "      <td>Commercial Law</td>\n",
       "      <td>Commercial Law</td>\n",
       "      <td>Male</td>\n",
       "      <td>Asian/Asian British</td>\n",
       "      <td>University of Warwick</td>\n",
       "      <td>Engineering - Mechanical</td>\n",
       "      <td>Commercial Law</td>\n",
       "    </tr>\n",
       "  </tbody>\n",
       "</table>\n",
       "</div>"
      ],
      "text/plain": [
       "                                            job_title  \\\n",
       "106992  Herbert Smith Freehills Event Dates 2017-2018   \n",
       "\n",
       "                 employer_title employer_sector_title job_sector_title gender  \\\n",
       "106992  Herbert Smith Freehills        Commercial Law   Commercial Law   Male   \n",
       "\n",
       "                  ethnicity        university_name       degree_subject_name  \\\n",
       "106992  Asian/Asian British  University of Warwick  Engineering - Mechanical   \n",
       "\n",
       "        user_preference  \n",
       "106992  Commercial Law   "
      ]
     },
     "execution_count": 59,
     "metadata": {},
     "output_type": "execute_result"
    }
   ],
   "source": [
    "train[train[\"user_id\"]==158698][['job_title','employer_title', 'employer_sector_title', 'job_sector_title', 'gender',\n",
    "       'ethnicity', 'university_name', 'degree_subject_name', 'user_preference']].tail(7)"
   ]
  },
  {
   "cell_type": "code",
   "execution_count": 60,
   "metadata": {},
   "outputs": [
    {
     "data": {
      "text/html": [
       "<div>\n",
       "<style scoped>\n",
       "    .dataframe tbody tr th:only-of-type {\n",
       "        vertical-align: middle;\n",
       "    }\n",
       "\n",
       "    .dataframe tbody tr th {\n",
       "        vertical-align: top;\n",
       "    }\n",
       "\n",
       "    .dataframe thead th {\n",
       "        text-align: right;\n",
       "    }\n",
       "</style>\n",
       "<table border=\"1\" class=\"dataframe\">\n",
       "  <thead>\n",
       "    <tr style=\"text-align: right;\">\n",
       "      <th></th>\n",
       "      <th>job_title</th>\n",
       "      <th>employer_title</th>\n",
       "      <th>employer_sector_title</th>\n",
       "      <th>job_sector_title</th>\n",
       "      <th>gender</th>\n",
       "      <th>ethnicity</th>\n",
       "      <th>university_name</th>\n",
       "      <th>degree_subject_name</th>\n",
       "      <th>user_preference</th>\n",
       "    </tr>\n",
       "  </thead>\n",
       "  <tbody>\n",
       "    <tr>\n",
       "      <th>81558</th>\n",
       "      <td>Internship - Equity Markets and Commodities - ...</td>\n",
       "      <td>Commerzbank AG</td>\n",
       "      <td>Financial Services</td>\n",
       "      <td>Financial Services</td>\n",
       "      <td>Female</td>\n",
       "      <td>NaN</td>\n",
       "      <td>NaN</td>\n",
       "      <td>NaN</td>\n",
       "      <td>NaN</td>\n",
       "    </tr>\n",
       "  </tbody>\n",
       "</table>\n",
       "</div>"
      ],
      "text/plain": [
       "                                               job_title  employer_title  \\\n",
       "81558  Internship - Equity Markets and Commodities - ...  Commerzbank AG   \n",
       "\n",
       "      employer_sector_title    job_sector_title  gender ethnicity  \\\n",
       "81558    Financial Services  Financial Services  Female       NaN   \n",
       "\n",
       "      university_name degree_subject_name user_preference  \n",
       "81558             NaN                 NaN             NaN  "
      ]
     },
     "execution_count": 60,
     "metadata": {},
     "output_type": "execute_result"
    }
   ],
   "source": [
    "train[train[\"user_id\"]==186752][['job_title','employer_title', 'employer_sector_title', 'job_sector_title', 'gender',\n",
    "       'ethnicity', 'university_name', 'degree_subject_name', 'user_preference']].tail(7)"
   ]
  },
  {
   "cell_type": "code",
   "execution_count": 58,
   "metadata": {},
   "outputs": [
    {
     "data": {
      "text/html": [
       "<div>\n",
       "<style scoped>\n",
       "    .dataframe tbody tr th:only-of-type {\n",
       "        vertical-align: middle;\n",
       "    }\n",
       "\n",
       "    .dataframe tbody tr th {\n",
       "        vertical-align: top;\n",
       "    }\n",
       "\n",
       "    .dataframe thead th {\n",
       "        text-align: right;\n",
       "    }\n",
       "</style>\n",
       "<table border=\"1\" class=\"dataframe\">\n",
       "  <thead>\n",
       "    <tr style=\"text-align: right;\">\n",
       "      <th></th>\n",
       "      <th>job_title</th>\n",
       "      <th>employer_title</th>\n",
       "      <th>employer_sector_title</th>\n",
       "      <th>job_sector_title</th>\n",
       "      <th>gender</th>\n",
       "      <th>ethnicity</th>\n",
       "      <th>university_name</th>\n",
       "      <th>degree_subject_name</th>\n",
       "      <th>user_preference</th>\n",
       "    </tr>\n",
       "  </thead>\n",
       "  <tbody>\n",
       "    <tr>\n",
       "      <th>125035</th>\n",
       "      <td>Campus Ambassadors</td>\n",
       "      <td>Reed Smith</td>\n",
       "      <td>Commercial Law</td>\n",
       "      <td>Commercial Law</td>\n",
       "      <td>Female</td>\n",
       "      <td>NaN</td>\n",
       "      <td>Durham University</td>\n",
       "      <td>History and Spanish</td>\n",
       "      <td>Commercial Law</td>\n",
       "    </tr>\n",
       "  </tbody>\n",
       "</table>\n",
       "</div>"
      ],
      "text/plain": [
       "                 job_title employer_title employer_sector_title  \\\n",
       "125035  Campus Ambassadors     Reed Smith        Commercial Law   \n",
       "\n",
       "       job_sector_title  gender ethnicity    university_name  \\\n",
       "125035   Commercial Law  Female       NaN  Durham University   \n",
       "\n",
       "        degree_subject_name  user_preference  \n",
       "125035  History and Spanish  Commercial Law   "
      ]
     },
     "execution_count": 58,
     "metadata": {},
     "output_type": "execute_result"
    }
   ],
   "source": [
    "train[train[\"user_id\"]==98253][['job_title','employer_title', 'employer_sector_title', 'job_sector_title', 'gender',\n",
    "       'ethnicity', 'university_name', 'degree_subject_name', 'user_preference']].tail(7)"
   ]
  },
  {
   "cell_type": "code",
   "execution_count": null,
   "metadata": {},
   "outputs": [],
   "source": []
  },
  {
   "cell_type": "code",
   "execution_count": 59,
   "metadata": {},
   "outputs": [],
   "source": [
    "def get_similar_doc(X_train, doc_id, n):\n",
    "    res=[]\n",
    "    beta=[]\n",
    "    cos=list(cosine_similarity(X_train[doc_id,:].reshape(1, -1) , X_train))[0]\n",
    "    most_similar_doc_id=np.argsort(cos)[::-1]\n",
    "    a=0\n",
    "    while cos[most_similar_doc_id[a]]>=0.9999999:\n",
    "        a+=1\n",
    "    most_similar_doc_id=most_similar_doc_id[a:]\n",
    "    res.append(most_similar_doc_id[0])\n",
    "    beta.append(cos[most_similar_doc_id[0]])\n",
    "    for i in range(1,len(most_similar_doc_id)):\n",
    "        if cos[most_similar_doc_id[i]] not in beta:\n",
    "            res.append(most_similar_doc_id[i])\n",
    "            beta.append(cos[most_similar_doc_id[i]])\n",
    "    print(\"most similar doc : \", res[:n])\n",
    "    print(\"most similar values : \", beta[:n])\n",
    "    print(\"not similar doc : \", res[-n:][::-1])\n",
    "    print(\"not similar values : \", beta[-n:][::-1])"
   ]
  },
  {
   "cell_type": "code",
   "execution_count": 60,
   "metadata": {},
   "outputs": [],
   "source": [
    "def clean_similarity(x):\n",
    "    res=[] \n",
    "    for content in x:\n",
    "        content=content.replace(\",\",\"\").replace(\"-\",\" \").replace(\"  \",\" \")\n",
    "        content=content.replace(\"(\",\"\").replace(\")\",\"\").replace(\" - \",\" \").replace(\" / \",\" \").replace(\"/\",\" \").replace(\"   \",\"\")\n",
    "        content=content.replace(\"&bull;\",\"\\r\\n \").replace(\"bull;\",\"\\r\\n \").replace(\"\\r\\r\\n\\t\",\" \").replace(\"\\r\\r\\n\",\" \")\n",
    "        content=content.replace(\"\\r\\r\\n\\r\\r\\n\",\" \").replace(\"...\",\" \").replace(\"&#39;s\",\"\").replace(\":\",\"\")\n",
    "        content=content.replace(\"&eacute;\",\"e\").replace(\"&lsquo;\",\"\").replace(\"lsquo;\",\"\").replace(\"&#39;\",\"\").replace(\"#39;s\",\"\")\n",
    "        content=content.replace(\"&nbsp;\",\" \").replace(\"nbsp;\",\" \").replace(\"&#39;\",\"\").replace(\"amp;\",\"\").replace(\"&middot;\",\"\")\n",
    "        content=content.replace(\".\",\" \").replace(\",\",\"\").replace(\"?\",\" \").replace(\"!\",\"\").replace(\"  \",\" \").replace(\"middot;\",\"\")\n",
    "        content=content.replace(\"&rsquo;\",\"\").replace(\"rsquo;\",\" \").replace(\"\\t\",\" \").replace(\"\\r\\n\\r\\n\",\"\").replace(\" \\r\\n \",\"\")\n",
    "        content=content.replace(\"&ndash;\",\" \").replace(\"ndash;\",\" \").replace(\"\\r\\n\\r\\n\",\" \").replace(\" \\r\\n \",\" \").replace(\"\\r\\n\",\" \")\n",
    "        content=content.replace(\"\\r\",\" \").replace(\"  \",\"\").replace(\"   \",\"\").replace(\"  \",\"\").replace(\"   \",\"\")\n",
    "        content=content.replace(\"(\",\"\").replace(\")\",\"\").replace(\" - \",\" \").replace(\" / \",\" \").replace(\"/\",\" \").replace(\"   \",\"\")\n",
    "        content=re.sub('<.*?>',\"\",content , flags=re.DOTALL)\n",
    "        res.append(content)\n",
    "    return res"
   ]
  },
  {
   "cell_type": "code",
   "execution_count": 61,
   "metadata": {},
   "outputs": [],
   "source": [
    "data_similarity=clean_similarity(train_job_info)"
   ]
  },
  {
   "cell_type": "code",
   "execution_count": 62,
   "metadata": {},
   "outputs": [
    {
     "name": "stdout",
     "output_type": "stream",
     "text": [
      "most similar doc :  [4803, 100129, 19504, 87946, 15489]\n",
      "most similar values :  [0.9321410823965482, 0.877775035714811, 0.8549871440947936, 0.8545249908564095, 0.85361269657517]\n",
      "not similar doc :  [28126, 92617, 23967, 2469, 103972]\n",
      "not similar values :  [-0.192487014464302, -0.04588360545967207, 0.04989405810715601, 0.08692438747711734, 0.10738647218471054]\n"
     ]
    }
   ],
   "source": [
    "get_similar_doc(X_train, 10, 5)"
   ]
  },
  {
   "cell_type": "markdown",
   "metadata": {},
   "source": [
    "# job"
   ]
  },
  {
   "cell_type": "code",
   "execution_count": 63,
   "metadata": {},
   "outputs": [
    {
     "data": {
      "text/plain": [
       "'Internship Consulting What do you want to be famous for  New consultants at Oliver Wyman get greater client and global opportunities and develop unique expertise sooner than their peers at other consulting firms  Specialized expertise enables you to own an area of our business early on and create more impact for our clients Some clients still hire generalist management consultancies for what they think Oliver Wyman clients hire us for what we know  Interns get real responsibility here Internships at Oliver Wyman provide a true taste of life as a consultant and unique preparation for a full time role Youll be staffed on projects and treated like full team members with responsibility for a distinct piece of work Coaching and feedback is provided throughout your time with usWe consider candidates in their penultimate year of university study Most join during the summer or a winter term In some European countries we offer internships throughout the year  Our internship program will give you a real taste of what it is like to be a strategy consultant at Oliver Wyman Internships provide an opportunity to get to know us as a firm and obtain first hand experience in consulting Interns are staffed on projects and treated like full team members with responsibility for a distinct piece of work Coaching and feedback is provided throughout your time with us Interns who perform strongly may be offered permanent employment after graduation  We consider candidates who are in the penultimate year of their University studies Intern candidates should have extraordinary intellectual capability credibility and judgment as demonstrated by their academic achievements and extracurricular activities  Oliver Wyman Consulting With offices in more than 50 cities across 25 countries Oliver Wyman is one of the world fastest growing strategy consulting firms combining deep industry knowledge with specialized expertise in strategy operations risk management and organizational transformation The firm 3000+ professionals partner with clients in industry sectors and regions of the world where our distinctive approach allows us to identify their highest value opportunities address their most critical challenges and transform their businesses  When you join Oliver Wyman youll have the chance to make an impact from the moment you walk through our doors Our entrepreneurial culture gives you the opportunity to gain exposure to global clients collaborate with industry experts and our own senior Partners and make it all the way to Partner without having to leave the firm to get an advanced degree This means youll have an immediate impact not only on our clients but also on our own business Many of our best internal programs and initiatives from employee resource groups to upward reviews of managers to firm wide information sharing networks came from our consultants The breadth and depth of our firm make it possible for you to grow professionally and personally The engaging nature of our organization facilitates exceptional leadership opportunities and the ability to shape not only your personal future but also the future of our clients and of Oliver Wyman '"
      ]
     },
     "execution_count": 63,
     "metadata": {},
     "output_type": "execute_result"
    }
   ],
   "source": [
    "data_similarity[10]"
   ]
  },
  {
   "cell_type": "markdown",
   "metadata": {},
   "source": [
    "# Similar jobs"
   ]
  },
  {
   "cell_type": "code",
   "execution_count": 64,
   "metadata": {},
   "outputs": [
    {
     "data": {
      "text/plain": [
       "'Graduate programme Media Film & TV Not that we like to blow our own trumpet but there a good argument to suggest that our graduate training scheme is the best of all London agencies Our seven week full time scheme covers strategy creative and production in all communications disciplines culminating in a client pitch Then you start work on your accounts  To help you settle in we will set you up with a buddy a grad who went through it all last year a mentor a wise old sage from up the ladder and creative godparents a pair of inspirational wings to be taken under who will stay with you as your career develops Were a big fan of the IPA professional development scheme so youll start with the Foundation Certificate and continue on from there  Both the training and your job will challenge you intellectually and creatively Itll be hard work and therell be late nights at times but we always have lots of fun along the way  We go to as much trouble as possible to make sure that our training is the best it can be That because grad recruitment is one of the most important things we do Today graduates are the agency future leaders so we go to great lengths to make them the best in the business  FUN PERKS AND CHARITY We pay an industry competitive salary and joining bonus offer travel loans a cycle to work scheme eye care health and dental schemes Youll be able to get your hands on a Carnaby card which entitles you to 10% off shops and restaurants in the area For the energetic ones amongst us we offer discounted gym memberships spinning and yoga classes and the opportunity to play for our agency softball football and netball teams Our parties are the best in town we get to leave early on a Friday and have our birthdays off We also have a save the environment initiative and payroll giving scheme and every year our staff nominate charities to support with fundraising events and community projects  THE RECRUITMENT PROCESS M&C Saatchi was founded in 1995 and is now the biggest independent creative network agency in the world based in the heart of London Soho Were looking for keen bright independent thinkers who share our ambition to create smart brilliant and newsworthy work   Although it a graduate scheme in name we are simply looking for the brightest people degree or no degree   Above is the application link for next year grad training scheme which starts in September 2018 There is no magic answer to any of the questions but it worth bearing in mind our principle of brutal simplicity of thought We believe that it easier to complicate than to simplify so if your answers dont fit in the spaces provided you may wish to spend more time on them   We start three days of first round interviews on Tuesday 21 November and we have a second round assessment day on Wednesday 6 December followed by dinner   Please complete the application form include a short cover letter and a one side CV summary and submit by midnight on Friday 3 November 2017 We will reply to everyone in writing   Enjoy  M&C Saatchi Media Film & TV M&C Saatchi MENA is a communications agency part of the M&C Saatchi worldwide network Established in Beirut in 1992 the agency has grown to be a full service integrated communications company setting a creative standard in the region that has earned it a leading position and over 70 local regional and international awards so far; to name a few 2 Cresta Awards 3 Epica Awards Cannes Finalist in the TV category Our core competencies are   Through The Line Communications  Branding Consultancy  Design Communications  Digital Services  Media Analysis & Planning   M&C Saatchi UK Group consists of best in class specialists that each focus on a slightly different part of the marketing mix Specialists who operate independently but all under one roof part of a single culture and company  Brutal Simplicity is at the heart of everything we do From creative thinking to creative work From how we are structured to the systems we use Brutal Simplicity runs through the culture of every single one of our offices all around the world  Dont forget to cite Bright Network on your M&C Saatchi application form theyre keen to hear from our members '"
      ]
     },
     "execution_count": 64,
     "metadata": {},
     "output_type": "execute_result"
    }
   ],
   "source": [
    "data_similarity[69307]"
   ]
  },
  {
   "cell_type": "markdown",
   "metadata": {},
   "source": [
    "# not similar jobs"
   ]
  },
  {
   "cell_type": "code",
   "execution_count": 65,
   "metadata": {},
   "outputs": [
    {
     "data": {
      "text/plain": [
       "'Summer Internship Programs Financial Services Summer Internship Program Our Summer Internship Program is designed to offer real insight into our business The program typically lasts ten weeks and is one of the most in depth internships within the financial services industry From day one youll be part of the team Youll face real challenges have client exposure enjoy real achievements and have your talents recognized every step of the way  Youll be responsible for projects and tasks that matter to the business Youll grow in knowledge skills and confidence Above all youll experience the team spirit that makes Credit Suisse such a special place to work Our program managers will help guide you through your summer experience and each intern is assigned a mentor and a buddy so youll have all the support you need  If you show real potential and demonstrate exceptional performance during your time with us you may be offered a full time position for the following year   Train in a comprehensive ten week global program Receive up to five days of training in London Learn from on the job and classroom based training Network across the Bank through cross divisional and division specific events Participate in philanthropic and teambuilding events Gain an understanding of the market data and technology tools youll use during training Listen to business presentations from our internal professionals who apply industry knowledge to our Credit Suisse environment  Participate in a formal mentoring program Attend structured review and feedback sessions  Opportunities are available in  Asset Management Equities Research Fixed Income Research Global Markets Sales and Trading Investment Banking and Capital Markets Technology IT    Credit Suisse Investment Banking Credit Suisse is a global financial services company providing a broad range of advisory services solutions and products in Private Banking & Wealth Management and Investment Banking to companies institutions and private clients Credit Suisse is active in more than 50 countries and employs over 46000 people  As a stable company with a long banking tradition we are one of the most respected banks in the world We offer entry level hiring programs in a variety of business areas Our programs give you the chance to make a difference from day one and provide world class training and support to help you to develop into a future business leader And throughout your career with us you will benefit from cross business and international mobility opportunities We look for people with a wide range of experiences interests and degrees who will add fresh perspectives to our business A career with us means that you can help shape our future  Dont forget to cite Bright Network on your Credit Suisse application form theyre keen to hear from our members'"
      ]
     },
     "execution_count": 65,
     "metadata": {},
     "output_type": "execute_result"
    }
   ],
   "source": [
    "data_similarity[74064]"
   ]
  },
  {
   "cell_type": "code",
   "execution_count": 61,
   "metadata": {},
   "outputs": [],
   "source": [
    "data = np.concatenate((X_train, X_train_user), axis=1)"
   ]
  },
  {
   "cell_type": "code",
   "execution_count": 62,
   "metadata": {},
   "outputs": [],
   "source": [
    "test_data = np.concatenate((test_X_train, test_X_train_user), axis=1)"
   ]
  },
  {
   "cell_type": "code",
   "execution_count": 63,
   "metadata": {},
   "outputs": [
    {
     "data": {
      "text/plain": [
       "(294, 700)"
      ]
     },
     "execution_count": 63,
     "metadata": {},
     "output_type": "execute_result"
    }
   ],
   "source": [
    "test_data.shape"
   ]
  },
  {
   "cell_type": "code",
   "execution_count": 64,
   "metadata": {},
   "outputs": [
    {
     "data": {
      "text/plain": [
       "(125136, 700)"
      ]
     },
     "execution_count": 64,
     "metadata": {},
     "output_type": "execute_result"
    }
   ],
   "source": [
    "data.shape"
   ]
  },
  {
   "cell_type": "markdown",
   "metadata": {},
   "source": [
    "# Autoencoder"
   ]
  },
  {
   "cell_type": "code",
   "execution_count": 72,
   "metadata": {},
   "outputs": [],
   "source": [
    "from keras.layers import Input, Dense, Dropout\n",
    "from keras.models import Model\n",
    "from keras.optimizers import SGD, Adam"
   ]
  },
  {
   "cell_type": "code",
   "execution_count": 100,
   "metadata": {},
   "outputs": [],
   "source": [
    "from sklearn.model_selection import train_test_split\n",
    "x_train,x_test,y_train,y_test = train_test_split(data[:50000], data[:50000], test_size=0.1)"
   ]
  },
  {
   "cell_type": "code",
   "execution_count": 101,
   "metadata": {},
   "outputs": [],
   "source": [
    "#test_x_train,test_x_test,test_y_train,test_y_test = train_test_split(test_data, test_data, test_size=0.1)"
   ]
  },
  {
   "cell_type": "code",
   "execution_count": 102,
   "metadata": {},
   "outputs": [
    {
     "data": {
      "text/plain": [
       "(5000, 700)"
      ]
     },
     "execution_count": 102,
     "metadata": {},
     "output_type": "execute_result"
    }
   ],
   "source": [
    "x_test.shape"
   ]
  },
  {
   "cell_type": "code",
   "execution_count": 103,
   "metadata": {},
   "outputs": [],
   "source": [
    "input_data = Input(shape=(data.shape[1],))\n",
    "encoded = Dense(600, activation='relu')(input_data)\n",
    "encoded = Dropout(0.2)(encoded)\n",
    "encoded = Dense(500, activation='relu')(encoded)\n",
    "#encoded = Dropout(0.4)(encoded)\n",
    "encoded = Dense(400, activation='relu')(encoded)\n",
    "encoded = Dropout(0.1)(encoded)\n",
    "encoded = Dense(300, activation='relu')(encoded)\n",
    "#encoded = Dropout(0.4)(encoded)\n",
    "encoded = Dense(200, activation='relu')(encoded)\n",
    "encoded = Dropout(0.1)(encoded)\n",
    "encoded = Dense(100, activation='relu')(encoded)\n",
    "#encoded = Dropout(0.4)(encoded)\n",
    "encoded = Dense(50, activation='relu')(encoded)\n",
    "\n",
    "decoded = Dense(100, activation='relu')(encoded)\n",
    "#decoded = Dropout(0.4)(decoded)\n",
    "decoded = Dense(200, activation='relu')(decoded)\n",
    "decoded = Dropout(0.1)(decoded)\n",
    "decoded = Dense(300, activation='relu')(decoded)\n",
    "#decoded = Dropout(0.4)(decoded)\n",
    "decoded = Dense(400, activation='relu')(decoded)\n",
    "#decoded = Dropout(0.4)(decoded)\n",
    "decoded = Dense(500, activation='relu')(decoded)\n",
    "decoded = Dropout(0.2)(decoded)\n",
    "decoded = Dense(600, activation='relu')(decoded)\n",
    "#decoded = Dropout(0.4)(decoded)\n",
    "#decoded = Dense(800, activation='relu')(decoded)\n",
    "decoded = Dense(data.shape[1], activation='linear')(decoded)"
   ]
  },
  {
   "cell_type": "code",
   "execution_count": 104,
   "metadata": {},
   "outputs": [
    {
     "name": "stdout",
     "output_type": "stream",
     "text": [
      "Train on 45000 samples, validate on 5000 samples\n",
      "Epoch 1/100\n",
      "45000/45000 [==============================] - 66s 1ms/step - loss: 0.0401 - val_loss: 0.0143\n",
      "Epoch 2/100\n",
      "45000/45000 [==============================] - 19s 418us/step - loss: 0.0142 - val_loss: 0.0136\n",
      "Epoch 3/100\n",
      "45000/45000 [==============================] - 18s 410us/step - loss: 0.0136 - val_loss: 0.0133\n",
      "Epoch 4/100\n",
      "45000/45000 [==============================] - 19s 415us/step - loss: 0.0131 - val_loss: 0.0128\n",
      "Epoch 5/100\n",
      "45000/45000 [==============================] - 19s 421us/step - loss: 0.0124 - val_loss: 0.0117\n",
      "Epoch 6/100\n",
      "45000/45000 [==============================] - 19s 424us/step - loss: 0.0117 - val_loss: 0.0111\n",
      "Epoch 7/100\n",
      "45000/45000 [==============================] - 19s 414us/step - loss: 0.0108 - val_loss: 0.0103\n",
      "Epoch 8/100\n",
      "45000/45000 [==============================] - 19s 429us/step - loss: 0.0102 - val_loss: 0.0096\n",
      "Epoch 9/100\n",
      "45000/45000 [==============================] - 19s 426us/step - loss: 0.0096 - val_loss: 0.0092\n",
      "Epoch 10/100\n",
      "45000/45000 [==============================] - 19s 417us/step - loss: 0.0092 - val_loss: 0.0088\n",
      "Epoch 11/100\n",
      "45000/45000 [==============================] - 19s 418us/step - loss: 0.0089 - val_loss: 0.0085\n",
      "Epoch 12/100\n",
      "45000/45000 [==============================] - 19s 425us/step - loss: 0.0087 - val_loss: 0.0085\n",
      "Epoch 13/100\n",
      "45000/45000 [==============================] - 19s 420us/step - loss: 0.0084 - val_loss: 0.0080\n",
      "Epoch 14/100\n",
      "45000/45000 [==============================] - 19s 416us/step - loss: 0.0081 - val_loss: 0.0077\n",
      "Epoch 15/100\n",
      "45000/45000 [==============================] - 19s 416us/step - loss: 0.0079 - val_loss: 0.0075\n",
      "Epoch 16/100\n",
      "45000/45000 [==============================] - 19s 415us/step - loss: 0.0076 - val_loss: 0.0073\n",
      "Epoch 17/100\n",
      "45000/45000 [==============================] - 19s 418us/step - loss: 0.0074 - val_loss: 0.0070\n",
      "Epoch 18/100\n",
      "45000/45000 [==============================] - 19s 415us/step - loss: 0.0073 - val_loss: 0.0069\n",
      "Epoch 19/100\n",
      "45000/45000 [==============================] - 19s 412us/step - loss: 0.0071 - val_loss: 0.0069\n",
      "Epoch 20/100\n",
      "45000/45000 [==============================] - 19s 419us/step - loss: 0.0070 - val_loss: 0.0068\n",
      "Epoch 21/100\n",
      "45000/45000 [==============================] - 20s 453us/step - loss: 0.0069 - val_loss: 0.0066\n",
      "Epoch 22/100\n",
      "45000/45000 [==============================] - 19s 421us/step - loss: 0.0067 - val_loss: 0.0064\n",
      "Epoch 23/100\n",
      "45000/45000 [==============================] - 19s 418us/step - loss: 0.0067 - val_loss: 0.0065\n",
      "Epoch 24/100\n",
      "45000/45000 [==============================] - 19s 419us/step - loss: 0.0066 - val_loss: 0.0062\n",
      "Epoch 25/100\n",
      "45000/45000 [==============================] - 19s 418us/step - loss: 0.0065 - val_loss: 0.0063\n",
      "Epoch 26/100\n",
      "45000/45000 [==============================] - 20s 437us/step - loss: 0.0064 - val_loss: 0.0061\n",
      "Epoch 27/100\n",
      "45000/45000 [==============================] - 19s 426us/step - loss: 0.0063 - val_loss: 0.0061\n",
      "Epoch 28/100\n",
      "45000/45000 [==============================] - 19s 413us/step - loss: 0.0063 - val_loss: 0.0059\n",
      "Epoch 29/100\n",
      "45000/45000 [==============================] - 19s 416us/step - loss: 0.0062 - val_loss: 0.0061\n",
      "Epoch 30/100\n",
      "45000/45000 [==============================] - 19s 412us/step - loss: 0.0062 - val_loss: 0.0058\n",
      "Epoch 31/100\n",
      "45000/45000 [==============================] - 19s 427us/step - loss: 0.0060 - val_loss: 0.0058\n",
      "Epoch 32/100\n",
      "45000/45000 [==============================] - 18s 408us/step - loss: 0.0059 - val_loss: 0.0055\n",
      "Epoch 33/100\n",
      "45000/45000 [==============================] - 18s 405us/step - loss: 0.0058 - val_loss: 0.0054\n",
      "Epoch 34/100\n",
      "45000/45000 [==============================] - 18s 405us/step - loss: 0.0057 - val_loss: 0.0054\n",
      "Epoch 35/100\n",
      "45000/45000 [==============================] - 18s 404us/step - loss: 0.0056 - val_loss: 0.0053\n",
      "Epoch 36/100\n",
      "45000/45000 [==============================] - 19s 411us/step - loss: 0.0056 - val_loss: 0.0053\n",
      "Epoch 37/100\n",
      "45000/45000 [==============================] - 19s 431us/step - loss: 0.0055 - val_loss: 0.0052\n",
      "Epoch 38/100\n",
      "45000/45000 [==============================] - 18s 411us/step - loss: 0.0054 - val_loss: 0.0051\n",
      "Epoch 39/100\n",
      "45000/45000 [==============================] - 18s 410us/step - loss: 0.0053 - val_loss: 0.0050\n",
      "Epoch 40/100\n",
      "45000/45000 [==============================] - 18s 410us/step - loss: 0.0053 - val_loss: 0.0050\n",
      "Epoch 41/100\n",
      "45000/45000 [==============================] - 18s 409us/step - loss: 0.0053 - val_loss: 0.0050\n",
      "Epoch 42/100\n",
      "45000/45000 [==============================] - 18s 410us/step - loss: 0.0053 - val_loss: 0.0050\n",
      "Epoch 43/100\n",
      "45000/45000 [==============================] - 18s 405us/step - loss: 0.0053 - val_loss: 0.0049\n",
      "Epoch 44/100\n",
      "45000/45000 [==============================] - 19s 422us/step - loss: 0.0052 - val_loss: 0.0049\n",
      "Epoch 45/100\n",
      "45000/45000 [==============================] - 19s 414us/step - loss: 0.0052 - val_loss: 0.0048\n",
      "Epoch 46/100\n",
      "45000/45000 [==============================] - 19s 414us/step - loss: 0.0051 - val_loss: 0.0047\n",
      "Epoch 47/100\n",
      "45000/45000 [==============================] - 18s 409us/step - loss: 0.0050 - val_loss: 0.0047\n",
      "Epoch 48/100\n",
      "45000/45000 [==============================] - 18s 410us/step - loss: 0.0050 - val_loss: 0.0047\n",
      "Epoch 49/100\n",
      "45000/45000 [==============================] - 18s 410us/step - loss: 0.0050 - val_loss: 0.0047\n",
      "Epoch 50/100\n",
      "45000/45000 [==============================] - 19s 412us/step - loss: 0.0050 - val_loss: 0.0046\n",
      "Epoch 51/100\n",
      "45000/45000 [==============================] - 19s 414us/step - loss: 0.0051 - val_loss: 0.0047\n",
      "Epoch 52/100\n",
      "45000/45000 [==============================] - 19s 411us/step - loss: 0.0050 - val_loss: 0.0047\n",
      "Epoch 53/100\n",
      "45000/45000 [==============================] - 20s 438us/step - loss: 0.0050 - val_loss: 0.0046\n",
      "Epoch 54/100\n",
      "45000/45000 [==============================] - 19s 433us/step - loss: 0.0050 - val_loss: 0.0046\n",
      "Epoch 55/100\n",
      "45000/45000 [==============================] - 20s 449us/step - loss: 0.0050 - val_loss: 0.0046\n",
      "Epoch 56/100\n",
      "45000/45000 [==============================] - 18s 407us/step - loss: 0.0049 - val_loss: 0.0045\n",
      "Epoch 57/100\n",
      "45000/45000 [==============================] - 19s 418us/step - loss: 0.0049 - val_loss: 0.0045\n",
      "Epoch 58/100\n",
      "45000/45000 [==============================] - 20s 455us/step - loss: 0.0049 - val_loss: 0.0045\n",
      "Epoch 59/100\n",
      "45000/45000 [==============================] - 20s 453us/step - loss: 0.0048 - val_loss: 0.0044\n",
      "Epoch 60/100\n",
      "45000/45000 [==============================] - 19s 412us/step - loss: 0.0048 - val_loss: 0.0044\n",
      "Epoch 61/100\n",
      "45000/45000 [==============================] - 19s 413us/step - loss: 0.0047 - val_loss: 0.0043\n",
      "Epoch 62/100\n",
      "45000/45000 [==============================] - 19s 414us/step - loss: 0.0047 - val_loss: 0.0043\n",
      "Epoch 63/100\n",
      "45000/45000 [==============================] - 19s 420us/step - loss: 0.0047 - val_loss: 0.0043\n",
      "Epoch 64/100\n",
      "45000/45000 [==============================] - 19s 413us/step - loss: 0.0047 - val_loss: 0.0043\n",
      "Epoch 65/100\n",
      "45000/45000 [==============================] - 19s 413us/step - loss: 0.0046 - val_loss: 0.0043\n",
      "Epoch 66/100\n",
      "45000/45000 [==============================] - 19s 418us/step - loss: 0.0046 - val_loss: 0.0044\n",
      "Epoch 67/100\n",
      "45000/45000 [==============================] - 19s 412us/step - loss: 0.0046 - val_loss: 0.0042\n",
      "Epoch 68/100\n",
      "45000/45000 [==============================] - 19s 414us/step - loss: 0.0046 - val_loss: 0.0043\n",
      "Epoch 69/100\n",
      "45000/45000 [==============================] - 19s 418us/step - loss: 0.0045 - val_loss: 0.0042\n",
      "Epoch 70/100\n",
      "45000/45000 [==============================] - 19s 414us/step - loss: 0.0046 - val_loss: 0.0043\n",
      "Epoch 71/100\n",
      "45000/45000 [==============================] - 19s 415us/step - loss: 0.0046 - val_loss: 0.0042\n",
      "Epoch 72/100\n",
      "45000/45000 [==============================] - 19s 415us/step - loss: 0.0046 - val_loss: 0.0042\n",
      "Epoch 73/100\n",
      "45000/45000 [==============================] - 19s 425us/step - loss: 0.0045 - val_loss: 0.0042\n",
      "Epoch 74/100\n",
      "45000/45000 [==============================] - 19s 431us/step - loss: 0.0045 - val_loss: 0.0043\n",
      "Epoch 75/100\n",
      "45000/45000 [==============================] - 19s 413us/step - loss: 0.0046 - val_loss: 0.0044\n"
     ]
    },
    {
     "name": "stdout",
     "output_type": "stream",
     "text": [
      "Epoch 76/100\n",
      "45000/45000 [==============================] - 18s 410us/step - loss: 0.0048 - val_loss: 0.0043\n",
      "Epoch 77/100\n",
      "45000/45000 [==============================] - 18s 410us/step - loss: 0.0047 - val_loss: 0.0042\n",
      "Epoch 78/100\n",
      "45000/45000 [==============================] - 18s 410us/step - loss: 0.0046 - val_loss: 0.0042\n",
      "Epoch 79/100\n",
      "45000/45000 [==============================] - 18s 411us/step - loss: 0.0045 - val_loss: 0.0042\n",
      "Epoch 80/100\n",
      "45000/45000 [==============================] - 19s 411us/step - loss: 0.0045 - val_loss: 0.0041\n",
      "Epoch 81/100\n",
      "45000/45000 [==============================] - 19s 414us/step - loss: 0.0045 - val_loss: 0.0041\n",
      "Epoch 82/100\n",
      "45000/45000 [==============================] - 18s 411us/step - loss: 0.0046 - val_loss: 0.0041\n",
      "Epoch 83/100\n",
      "45000/45000 [==============================] - 18s 411us/step - loss: 0.0045 - val_loss: 0.0041\n",
      "Epoch 84/100\n",
      "45000/45000 [==============================] - 18s 410us/step - loss: 0.0044 - val_loss: 0.0041\n",
      "Epoch 85/100\n",
      "45000/45000 [==============================] - 19s 412us/step - loss: 0.0044 - val_loss: 0.0041\n",
      "Epoch 86/100\n",
      "45000/45000 [==============================] - 19s 411us/step - loss: 0.0044 - val_loss: 0.0040\n",
      "Epoch 87/100\n",
      "45000/45000 [==============================] - 19s 415us/step - loss: 0.0044 - val_loss: 0.0041\n",
      "Epoch 88/100\n",
      "45000/45000 [==============================] - 19s 420us/step - loss: 0.0044 - val_loss: 0.0040\n",
      "Epoch 89/100\n",
      "45000/45000 [==============================] - 20s 434us/step - loss: 0.0043 - val_loss: 0.0040\n",
      "Epoch 90/100\n",
      "45000/45000 [==============================] - 19s 415us/step - loss: 0.0044 - val_loss: 0.0040\n",
      "Epoch 91/100\n",
      "45000/45000 [==============================] - 19s 416us/step - loss: 0.0045 - val_loss: 0.0042\n",
      "Epoch 92/100\n",
      "45000/45000 [==============================] - 19s 420us/step - loss: 0.0047 - val_loss: 0.0042\n",
      "Epoch 93/100\n",
      "45000/45000 [==============================] - 19s 416us/step - loss: 0.0045 - val_loss: 0.0040\n",
      "Epoch 94/100\n",
      "45000/45000 [==============================] - 19s 421us/step - loss: 0.0044 - val_loss: 0.0041\n",
      "Epoch 95/100\n",
      "45000/45000 [==============================] - 20s 438us/step - loss: 0.0045 - val_loss: 0.0041\n",
      "Epoch 96/100\n",
      "45000/45000 [==============================] - 20s 444us/step - loss: 0.0045 - val_loss: 0.0040\n",
      "Epoch 97/100\n",
      "45000/45000 [==============================] - 19s 419us/step - loss: 0.0045 - val_loss: 0.0041\n",
      "Epoch 98/100\n",
      "45000/45000 [==============================] - 19s 411us/step - loss: 0.0045 - val_loss: 0.0040\n",
      "Epoch 99/100\n",
      "45000/45000 [==============================] - 19s 430us/step - loss: 0.0044 - val_loss: 0.0040\n",
      "Epoch 100/100\n",
      "45000/45000 [==============================] - 19s 418us/step - loss: 0.0043 - val_loss: 0.0039\n"
     ]
    }
   ],
   "source": [
    "autoencoder = Model(input_data, decoded)\n",
    "#sgd = optimizers.SGD(lr=0.01, decay=1e-6, momentum=0.9, nesterov=True)\n",
    "adam=Adam(lr=0.005, beta_1=0.9, beta_2=0.999, epsilon=None, decay=0.0, amsgrad=False)\n",
    "autoencoder.compile(loss='mean_squared_error', optimizer=adam)\n",
    "\n",
    "history=autoencoder.fit(x_train, x_train,\n",
    "                epochs=100,\n",
    "                batch_size=1000,\n",
    "                shuffle=True,\n",
    "                validation_data=(x_test, x_test))"
   ]
  },
  {
   "cell_type": "markdown",
   "metadata": {},
   "source": [
    "# Loss"
   ]
  },
  {
   "cell_type": "code",
   "execution_count": 105,
   "metadata": {},
   "outputs": [
    {
     "data": {
      "image/png": "[encoded data removed]",
      "text/plain": [
       "<Figure size 720x720 with 1 Axes>"
      ]
     },
     "metadata": {},
     "output_type": "display_data"
    }
   ],
   "source": [
    "plt.figure(figsize=(10,10))\n",
    "plt.plot(history.history['loss'])\n",
    "plt.plot(history.history['val_loss'])\n",
    "plt.title('model loss')\n",
    "plt.ylabel('loss')\n",
    "plt.xlabel('epoch')\n",
    "plt.legend(['train', 'test'], loc='upper left')\n",
    "plt.show()"
   ]
  },
  {
   "cell_type": "code",
   "execution_count": 106,
   "metadata": {},
   "outputs": [],
   "source": [
    "predictions=autoencoder.predict(x_test)"
   ]
  },
  {
   "cell_type": "code",
   "execution_count": 107,
   "metadata": {},
   "outputs": [
    {
     "data": {
      "text/plain": [
       "array([ 0.13625789, -0.03310135,  0.15258051,  0.18542884, -0.14667562,\n",
       "       -0.0433409 , -0.0453309 ,  0.46061087,  0.15495482,  0.00464755,\n",
       "        0.0690035 ,  0.19876439, -0.124733  , -0.49941799,  0.09970417,\n",
       "       -0.17878871, -0.48727969,  0.25254479, -0.06792465,  0.24076436,\n",
       "        0.25532069,  0.19164705,  0.12221258, -0.1887714 , -0.42727186,\n",
       "       -0.1198044 ,  0.29364799,  0.01064422,  0.20107932, -0.59838414,\n",
       "       -0.05462672, -0.44869577,  0.35362585,  0.06244236, -0.13597924,\n",
       "        0.08010445, -0.00076955, -0.13958762,  0.01407108, -0.2162974 ,\n",
       "       -0.06056425, -0.34018136,  0.18150205, -0.06545853,  0.04277986,\n",
       "        0.18976637,  0.09600769, -0.05285798, -0.06309725,  0.01876783])"
      ]
     },
     "execution_count": 107,
     "metadata": {},
     "output_type": "execute_result"
    }
   ],
   "source": [
    "x_test[0,:50]"
   ]
  },
  {
   "cell_type": "code",
   "execution_count": 108,
   "metadata": {},
   "outputs": [
    {
     "data": {
      "text/plain": [
       "array([ 0.12786062, -0.03806365,  0.13229808,  0.16463894, -0.10416108,\n",
       "       -0.03818483, -0.07026774,  0.46754682,  0.15315403, -0.03135706,\n",
       "        0.04248552,  0.18671429, -0.11625774, -0.44280356,  0.09533939,\n",
       "       -0.15141849, -0.46253166,  0.21592604, -0.07275127,  0.2587865 ,\n",
       "        0.22713639,  0.19217521,  0.1387617 , -0.13806328, -0.4011377 ,\n",
       "       -0.14118193,  0.28754392, -0.00486998,  0.18816929, -0.56091994,\n",
       "       -0.03753273, -0.4206207 ,  0.36410618, -0.00193899, -0.12164011,\n",
       "        0.05479013,  0.00642793, -0.10858597,  0.01829476, -0.17317158,\n",
       "       -0.05605114, -0.30355477,  0.16442166, -0.06964883,  0.03091909,\n",
       "        0.18724237,  0.12358503, -0.06405008, -0.04687829,  0.01483893],\n",
       "      dtype=float32)"
      ]
     },
     "execution_count": 108,
     "metadata": {},
     "output_type": "execute_result"
    }
   ],
   "source": [
    "predictions[0,:50]"
   ]
  },
  {
   "cell_type": "code",
   "execution_count": 109,
   "metadata": {},
   "outputs": [],
   "source": [
    "test_predictions=autoencoder.predict(test_data)"
   ]
  },
  {
   "cell_type": "code",
   "execution_count": 110,
   "metadata": {},
   "outputs": [
    {
     "data": {
      "text/html": [
       "<div>\n",
       "<style scoped>\n",
       "    .dataframe tbody tr th:only-of-type {\n",
       "        vertical-align: middle;\n",
       "    }\n",
       "\n",
       "    .dataframe tbody tr th {\n",
       "        vertical-align: top;\n",
       "    }\n",
       "\n",
       "    .dataframe thead th {\n",
       "        text-align: right;\n",
       "    }\n",
       "</style>\n",
       "<table border=\"1\" class=\"dataframe\">\n",
       "  <thead>\n",
       "    <tr style=\"text-align: right;\">\n",
       "      <th></th>\n",
       "      <th>reconstruction_error</th>\n",
       "      <th>test_reconstruction_error</th>\n",
       "    </tr>\n",
       "  </thead>\n",
       "  <tbody>\n",
       "    <tr>\n",
       "      <th>count</th>\n",
       "      <td>294.000000</td>\n",
       "      <td>294.000000</td>\n",
       "    </tr>\n",
       "    <tr>\n",
       "      <th>mean</th>\n",
       "      <td>0.003817</td>\n",
       "      <td>0.084799</td>\n",
       "    </tr>\n",
       "    <tr>\n",
       "      <th>std</th>\n",
       "      <td>0.002902</td>\n",
       "      <td>0.005222</td>\n",
       "    </tr>\n",
       "    <tr>\n",
       "      <th>min</th>\n",
       "      <td>0.000447</td>\n",
       "      <td>0.069077</td>\n",
       "    </tr>\n",
       "    <tr>\n",
       "      <th>25%</th>\n",
       "      <td>0.001824</td>\n",
       "      <td>0.081146</td>\n",
       "    </tr>\n",
       "    <tr>\n",
       "      <th>50%</th>\n",
       "      <td>0.002982</td>\n",
       "      <td>0.084662</td>\n",
       "    </tr>\n",
       "    <tr>\n",
       "      <th>75%</th>\n",
       "      <td>0.005151</td>\n",
       "      <td>0.087977</td>\n",
       "    </tr>\n",
       "    <tr>\n",
       "      <th>max</th>\n",
       "      <td>0.024716</td>\n",
       "      <td>0.102273</td>\n",
       "    </tr>\n",
       "  </tbody>\n",
       "</table>\n",
       "</div>"
      ],
      "text/plain": [
       "       reconstruction_error  test_reconstruction_error\n",
       "count            294.000000                 294.000000\n",
       "mean               0.003817                   0.084799\n",
       "std                0.002902                   0.005222\n",
       "min                0.000447                   0.069077\n",
       "25%                0.001824                   0.081146\n",
       "50%                0.002982                   0.084662\n",
       "75%                0.005151                   0.087977\n",
       "max                0.024716                   0.102273"
      ]
     },
     "execution_count": 110,
     "metadata": {},
     "output_type": "execute_result"
    }
   ],
   "source": [
    "test_mse = np.mean(np.power(test_data - test_predictions, 2), axis=1)\n",
    "mse = np.mean(np.power(x_test - predictions, 2), axis=1)[:test_data.shape[0]]\n",
    "error_df = pd.DataFrame({'reconstruction_error': mse, 'test_reconstruction_error': test_mse})\n",
    "error_df.describe()"
   ]
  },
  {
   "cell_type": "code",
   "execution_count": 111,
   "metadata": {},
   "outputs": [],
   "source": [
    "def get_best_worse_jobs(x,n):\n",
    "    a=np.argsort(x)[:n]\n",
    "    b=np.argsort(x)[::-1][:n]\n",
    "    print(\"best  jobs : \",a)\n",
    "    print(\"best  jobs errors : \",x[a])\n",
    "    print(\"worst  jobs : \",b)\n",
    "    print(\"worst  jobs errors : \",x[b])"
   ]
  },
  {
   "cell_type": "code",
   "execution_count": 112,
   "metadata": {},
   "outputs": [
    {
     "name": "stdout",
     "output_type": "stream",
     "text": [
      "best  jobs :  [252 280  71 142  27]\n",
      "best  jobs errors :  [0.06907672 0.07427607 0.07468748 0.07492326 0.07532913]\n",
      "worst  jobs :  [224  69 268  17  36]\n",
      "worst  jobs errors :  [0.10227323 0.10165618 0.1015958  0.09903719 0.0989834 ]\n"
     ]
    }
   ],
   "source": [
    "get_best_worse_jobs(test_mse,5)"
   ]
  },
  {
   "cell_type": "code",
   "execution_count": 121,
   "metadata": {},
   "outputs": [
    {
     "data": {
      "text/plain": [
       "array(['<h2>Who can apply</h2>\\r\\r\\n\\r\\r\\n<p>This program is suited for students from any academic discipline who are looking to secure a 3-6 month internship as a part of their degree. If you are applying to one of our European offices, you will need to be able to speak the local language.</p>\\r\\r\\n\\r\\r\\n<h2>Application deadline</h2>\\r\\r\\n\\r\\r\\n<p>Applications are accepted year round and reviewed on an ongoing/rolling basis.</p>\\r\\r\\n\\r\\r\\n<h2>About the programme</h2>\\r\\r\\n\\r\\r\\n<p>Off-Cycle Internships typically last between 3-6 months and are available across many of our European offices including: London, Frankfurt, Paris, Zurich, Milan, Geneva, Dubai, Moscow, Madrid, Tel Aviv and Doha. Opportunities are available in the following divisions:&nbsp;</p>\\r\\r\\n\\r\\r\\n<ul>\\r\\r\\n\\t<li>Finance</li>\\r\\r\\n\\t<li>Global Investment Research</li>\\r\\r\\n\\t<li>Investment Banking</li>\\r\\r\\n\\t<li>Investment Management</li>\\r\\r\\n\\t<li>Securities</li>\\r\\r\\n</ul>\\r\\r\\n\\r\\r\\n<h2>How to apply</h2>\\r\\r\\n\\r\\r\\n<ul>\\r\\r\\n\\t<li>Click on the Apply Now button</li>\\r\\r\\n\\t<li>Login, if you are an existing user, or register</li>\\r\\r\\n\\t<li>Select position &lsquo;Other Internships and Work Placements&rsquo;</li>\\r\\r\\n\\t<li>Select program &lsquo;Seasonal/Off Cycle Internship&rsquo;</li>\\r\\r\\n\\t<li>Complete application details and submit</li>\\r\\r\\n</ul>',\n",
       "       'Off Cycle Internship', 'Goldman Sachs', 'Financial Services',\n",
       "       'Financial Services', 'Female', nan, 'University of Sussex',\n",
       "       'Physics',\n",
       "       'Energy & Infrastructure Entrepreneurship & Start Ups Investment Banking Technology: Consulting & Project Management Management & Business Sales & Commercial Science and Research Technology: IT & Software Development Investment & Asset Management Accounting, Tax & Audit Financial Services Consulting '],\n",
       "      dtype=object)"
      ]
     },
     "execution_count": 121,
     "metadata": {},
     "output_type": "execute_result"
    }
   ],
   "source": [
    "test.iloc[252][['job_description','job_title','employer_title', 'employer_sector_title', 'job_sector_title', 'gender',\n",
    "       'ethnicity', 'university_name', 'degree_subject_name', 'user_preference']].values"
   ]
  },
  {
   "cell_type": "code",
   "execution_count": 122,
   "metadata": {},
   "outputs": [
    {
     "data": {
      "text/plain": [
       "array(['<h2>Overview</h2>\\r\\r\\n\\r\\r\\n<p>Alpha Financial Markets Consulting (Alpha FMC) is the leading global consultancy to the asset and wealth management industry. We are a boutique management consulting firm that offers the world&rsquo;s top asset and wealth managers a competitive edge through our unrivalled expertise and industry insight. Our team is of a uniquely high calibre and by focusing on asset and wealth management alone we build deep knowledge and experience within our industry. We work with a blue-chip client base, including 21 of the top 25 largest global asset management firms, and work with over 130 clients across the globe. We have our headquarters in the United Kingdom, as well as offices in major global financial centres across the United States, France, Netherlands, Luxembourg, Switzerland, and Asia.&nbsp;</p>\\r\\r\\n\\r\\r\\n<p>At Alpha, we pride ourselves on working hard, delivering client projects of the highest quality, and working together to achieve our objectives. At the heart of everything we do is our people and we work hard to find a work-life balance. We have a fantastic social environment &ndash; including summer company trips, evenings out, Mentor / Mentee events, and peer-group activities. Furthermore, we thrive on creating an environment that values Diversity &amp; Inclusion and Corporate Social Responsibility. We are proud to have received numerous industry awards in recent years, including: Funds Europe&#39;s &quot;European Consultant of the Year&quot; for 2015 and 2016, as well as inclusion in The Sunday Times&rsquo; &ldquo;100 Best Small Companies to Work 2017&rdquo;.&nbsp;</p>\\r\\r\\n\\r\\r\\n<p>We are looking for candidates who are bright, hard-working and eager to make a difference in a sociable and fast paced consultancy. Our Analyst Programme at Alpha FMC offers competitive benefits and an excellent platform to develop your professional career. If you&rsquo;re looking for a career that combines stimulating challenges with a lively work culture, Alpha could be the place for you.</p>\\r\\r\\n\\r\\r\\n<h2>Key Responsibilities&nbsp;</h2>\\r\\r\\n\\r\\r\\n<p>As a new Analyst starting at Alpha FMC, you will be enrolled in a month-long Alpha Analyst Training Programme. Week 1 of training aims to provide all new Analysts with a strong Consulting toolkit. This will be a combination of industry-specific training, tool-specific training (e.g. Excel/Word/PowerPoint), soft skill training (time management, influence without authority, presentation skills), as well as training in Consulting activities (preparing a cost model, producing deliverables, managing stakeholders). During this week, you will have the opportunity to meet a number of Alpha practice leads who will come and present to you the different practice areas that exist within Alpha (e.g. Distribution, Front Office IT, Operations &amp; Outsourcing, Benchmarking, Digital &amp; CRM). You will have the chance to ask questions and gain a deeper understanding of the practice areas and the associated projects that Alpha FMC support their clients with. Weeks 2 and 3 of training will consist of a full week of training in a specific certification (The Investment Management Certificate). During Week 4, you will train and become certified in a project management certificate, either Prince2 or Agile, as well as complete other internal training and onboarding. Alongside training, you will be immediately integrated through a number of organized social events to warmly welcome you to the Alpha Team.&nbsp;</p>\\r\\r\\n\\r\\r\\n<p>Following the Alpha Analyst Training, you will start supporting our clients on projects across a range of practice areas. As an Analyst, you will immediately be a key member of the Alpha team. You will either be working on site at the client&rsquo;s office, or in&nbsp;the Alpha office with a small to medium sized Alpha team. Our projects vary in length from a few weeks to around 18 months. As consultants to the world&rsquo;s top asset and wealth managers, you&rsquo;ll be working alongside some of the most senior executives in the global asset management industry, by helping them solve their challenges and achieve their corporate goals. We also have a number of internal roles that our analysts work on, involving supporting our Benchmarking practice, or helping to build out our sales decks and propositions.&nbsp;</p>\\r\\r\\n\\r\\r\\n<p>Your day to day activities could include attending client meetings, documenting requirements, preparing PowerPoint presentations, building financial models, and engaging in creative problem solving with Alpha colleagues. As your performance and experience develop, you will be given the opportunity to take on additional responsibilities in a meritocratic environment. You will be part of a dynamic team that encourages you to develop your skillset and allows you to grow quickly by taking on early responsibility.</p>\\r\\r\\n\\r\\r\\n<ul>\\r\\r\\n</ul>\\r\\r\\n\\r\\r\\n<h2>Candidate Profile</h2>\\r\\r\\n\\r\\r\\n<p>We look for candidates who are eager to make an impact; more than this, you should have:&nbsp;</p>\\r\\r\\n\\r\\r\\n<ul>\\r\\r\\n\\t<li>A 2:1 or above from university&nbsp;</li>\\r\\r\\n\\t<li>Have a genuine interest in consulting and the asset &amp; wealth management industry&nbsp;</li>\\r\\r\\n\\t<li>Be highly ambitious, proactive and entrepreneurial with a &ldquo;can do&rdquo; attitude&nbsp;</li>\\r\\r\\n\\t<li>Have strong problem-solving skills with an analytical mindset&nbsp;</li>\\r\\r\\n\\t<li>Have completed an internship in the professional, legal, IT or financial services sectors&nbsp;</li>\\r\\r\\n\\t<li>Willingness to be part of a team which enjoys working hard and socializing together&nbsp;</li>\\r\\r\\n\\t<li>An interest in assisting with one or more areas of business management&nbsp;</li>\\r\\r\\n</ul>\\r\\r\\n\\r\\r\\n<h2>Benefits</h2>\\r\\r\\n\\r\\r\\n<p>We pride ourselves on a highly competitive graduate benefits package, including, but not limited to:&nbsp;</p>\\r\\r\\n\\r\\r\\n<ul>\\r\\r\\n\\t<li>Salary: &pound;35k plus profit share&nbsp;</li>\\r\\r\\n\\t<li>Travel Expenses&nbsp;</li>\\r\\r\\n\\t<li>Mobile Phone Allowance&nbsp;</li>\\r\\r\\n\\t<li>Your own choice of laptop&nbsp;</li>\\r\\r\\n\\t<li>Sponsorship towards professional certifications&nbsp;</li>\\r\\r\\n\\t<li>Unrivalled career support (including active and structured mentor and buddy schemes for new joiners)&nbsp;</li>\\r\\r\\n\\t<li>A fantastic social environment&nbsp;</li>\\r\\r\\n\\t<li>An environment that values diversity, inclusion and social responsibility&nbsp;</li>\\r\\r\\n\\t<li>Opportunity to second to one of our global offices&nbsp;</li>\\r\\r\\n</ul>\\r\\r\\n\\r\\r\\n<h2>Application Process</h2>\\r\\r\\n\\r\\r\\n<p>There are 5&nbsp;stages to the Alpha&nbsp;Financial Markets Consulting Analyst&nbsp;recruitment process as follows:&nbsp;</p>\\r\\r\\n\\r\\r\\n<ul>\\r\\r\\n\\t<li>Online application&nbsp;</li>\\r\\r\\n\\t<li>Video interview&nbsp;</li>\\r\\r\\n\\t<li>Telephone interview</li>\\r\\r\\n\\t<li>One-day assessment centre</li>\\r\\r\\n\\t<li>Final stage interview</li>\\r\\r\\n</ul>\\r\\r\\n\\r\\r\\n<p>You will know within 7 working days whether you have been successful at the first three stages (application, video interview and telephone&nbsp;interview). You will know within 2 working days whether you were successful at the assessment centre as well as the final interview.</p>\\r\\r\\n\\r\\r\\n<p>The assessment centres/final stages&nbsp;will be held on a rolling basis until all positions have been filled.&nbsp;</p>',\n",
       "       'Alpha Financial Markets Consulting Analyst', 'Alpha FMC',\n",
       "       'Financial Services', 'Financial Services', 'Female', nan,\n",
       "       'University of Sussex', 'Physics',\n",
       "       'Energy & Infrastructure Entrepreneurship & Start Ups Investment Banking Technology: Consulting & Project Management Management & Business Sales & Commercial Science and Research Technology: IT & Software Development Investment & Asset Management Accounting, Tax & Audit Financial Services Consulting '],\n",
       "      dtype=object)"
      ]
     },
     "execution_count": 122,
     "metadata": {},
     "output_type": "execute_result"
    }
   ],
   "source": [
    "test.iloc[280][['job_description','job_title','employer_title', 'employer_sector_title', 'job_sector_title', 'gender',\n",
    "       'ethnicity', 'university_name', 'degree_subject_name', 'user_preference']].values"
   ]
  },
  {
   "cell_type": "markdown",
   "metadata": {},
   "source": [
    "# Worst"
   ]
  },
  {
   "cell_type": "code",
   "execution_count": 124,
   "metadata": {},
   "outputs": [
    {
     "data": {
      "text/plain": [
       "array(['<p>We have more paths to success than anyone else. Start at the right level for you, and begin your ACCA journey today.</p><h2>Professional</h2><p>Professional level is the final stage of the ACCA Qualification. If you have relevant education such as a university degree from an ACCA-accredited university, you could start here.</p><p>At the Professional level of the ACCA Qualification, you?ll learn the dynamic skills and strategic vision that all great businesses and financial leaders need. It also gives you the opportunity to specialise in areas that best suit your career ambitions.</p><p>Becoming an ACCA member unlocks the widest number of career opportunities, and gives you a mark of distinction that lets you drive your career to greater success. It could lead to very senior positions such as a financial manager, chief financial officer or a partner in a professional firm.</p><h2>Fundamentals</h2><p>Our Fundamentals and Professional levels together form the ACCA Qualification. If you don?t have the relevant education to jump straight in at Professional level then you can start here. However, you?ll need to have some relevant secondary education.</p><p>Our Fundamentals level teaches you essential financial and management accounting techniques, in addition to providing a strong, broad and practical knowledge of the world of finance.</p><p>Studying at Fundamentals level gives you a wide range of opportunities to choose from, such as finance trainee, trainee business analyst and internal auditor.</p><p>On completion of the Fundamentals level, students can progress to our Professional level.</p><h2>Foundations</h2><p>Don?t have the qualifications to start at the Fundamentals level? No problem. Our Foundations level gives you all the grounding you need.</p><p>If you don?t have the relevant qualifications to start at the Fundamentals or Professional levels, then our Foundations level will prepare you. It provides an exceptional introduction to the finance sector and teaches some essential skills and techniques.</p><p>Despite being at the start of your journey, there are still a range of roles you could undertake such as trainee bookkeeper, administrator and trainee accountant</p>',\n",
       "       'Qualifications', 'ACCA', 'Financial Services',\n",
       "       'Financial Services', 'Female', nan, 'University of Sussex',\n",
       "       'Physics',\n",
       "       'Energy & Infrastructure Entrepreneurship & Start Ups Investment Banking Technology: Consulting & Project Management Management & Business Sales & Commercial Science and Research Technology: IT & Software Development Investment & Asset Management Accounting, Tax & Audit Financial Services Consulting '],\n",
       "      dtype=object)"
      ]
     },
     "execution_count": 124,
     "metadata": {},
     "output_type": "execute_result"
    }
   ],
   "source": [
    "test.iloc[224][['job_description','job_title','employer_title', 'employer_sector_title', 'job_sector_title', 'gender',\n",
    "       'ethnicity', 'university_name', 'degree_subject_name', 'user_preference']].values"
   ]
  },
  {
   "cell_type": "code",
   "execution_count": 125,
   "metadata": {},
   "outputs": [
    {
     "data": {
      "text/plain": [
       "array(['<p>Harris Federation&nbsp;</p>',\n",
       "       'Harris Federation Graduate Programme', 'Harris Federation',\n",
       "       'Education & Teaching', 'Education & Teaching', 'Female', nan,\n",
       "       'University of Sussex', 'Physics',\n",
       "       'Energy & Infrastructure Entrepreneurship & Start Ups Investment Banking Technology: Consulting & Project Management Management & Business Sales & Commercial Science and Research Technology: IT & Software Development Investment & Asset Management Accounting, Tax & Audit Financial Services Consulting '],\n",
       "      dtype=object)"
      ]
     },
     "execution_count": 125,
     "metadata": {},
     "output_type": "execute_result"
    }
   ],
   "source": [
    "test.iloc[69][['job_description','job_title','employer_title', 'employer_sector_title', 'job_sector_title', 'gender',\n",
    "       'ethnicity', 'university_name', 'degree_subject_name', 'user_preference']].values"
   ]
  },
  {
   "cell_type": "code",
   "execution_count": 126,
   "metadata": {},
   "outputs": [
    {
     "data": {
      "text/plain": [
       "array(['<p>Our Online MSc in Law, Governance, Risk and Compliance is a professional programme, delivered in collaboration with the International Compliance Association (ICA) for those seeking career-enhancing postgraduate qualifications.&nbsp;</p>\\r\\r\\n\\r\\r\\n<p>This programme is specifically designed for students from around the world who already hold the ICA Professional Postgraduate Diploma in Governance, Risk and Compliance and wish to build on their international legal and GRC knowledge.</p>\\r\\r\\n\\r\\r\\n<p>The MSc will focus on the mix of professional skills required to apply regulations in practice &ndash; analysis, drafting and presentation skills, among others &ndash; so that you are equipped with the knowledge you will need as you build your international career.</p>\\r\\r\\n\\r\\r\\n<p>We know what it takes to succeed on the constantly changing global, legal and financial services stage. Everything we do is geared towards teaching in a professional, practical context so you can enhance your professional skills and career prospects as a modern professional.</p>\\r\\r\\n\\r\\r\\n<h2>Why choose the MSc in Law, Governance, Risk and Compliance?</h2>\\r\\r\\n\\r\\r\\n<ul>\\r\\r\\n\\t<li>Enhance your career with a qualification that reflects cutting-edge approaches to international law, regulatory risk and compliance</li>\\r\\r\\n\\t<li>Learn the professional skills required to apply regulations on the global stage in the field of GRC</li>\\r\\r\\n\\t<li>Gain practical experience from tutors with international experience</li>\\r\\r\\n\\t<li>Benefit from modules designed in conjunction with leading professional law firms</li>\\r\\r\\n\\t<li>Study via online distance-learning course</li>\\r\\r\\n\\t<li>Receive a professional, recognised and valuable Master&rsquo;s degree</li>\\r\\r\\n</ul>\\r\\r\\n\\r\\r\\n<h2>Requirements</h2>\\r\\r\\n\\r\\r\\n<p>You must have the following:&nbsp;</p>\\r\\r\\n\\r\\r\\n<ul>\\r\\r\\n\\t<li>the ICA Professional Postgraduate Diploma in Governance, Risk and Compliance or the &nbsp;ICA Graduate Diploma in Compliance, and</li>\\r\\r\\n\\t<li>if you are not from a majority English-speaking country, a score of at least 6.5 in all sections of the relevant tests administered by the International English Language Testing Service (IELTS) (Academic)</li>\\r\\r\\n</ul>\\r\\r\\n\\r\\r\\n<p>We also normally expect you to have one of the following qualifications:</p>\\r\\r\\n\\r\\r\\n<ul>\\r\\r\\n\\t<li>a UK undergraduate degree</li>\\r\\r\\n\\t<li>an equivalent international degree</li>\\r\\r\\n\\t<li>the GDL (Graduate Diploma in Law)</li>\\r\\r\\n\\t<li>the LPC (Legal Practice Course)</li>\\r\\r\\n\\t<li>the BVC (Bar Vocational Course) or BPTC (Bar Professional Training Course)&nbsp;</li>\\r\\r\\n</ul>',\n",
       "       'Online Master of Science (MSc) in Law, Governance, Risk and Compliance',\n",
       "       'University of Law', 'Commercial Law', 'Commercial Law', 'Female',\n",
       "       nan, 'University of Sussex', 'Physics',\n",
       "       'Energy & Infrastructure Entrepreneurship & Start Ups Investment Banking Technology: Consulting & Project Management Management & Business Sales & Commercial Science and Research Technology: IT & Software Development Investment & Asset Management Accounting, Tax & Audit Financial Services Consulting '],\n",
       "      dtype=object)"
      ]
     },
     "execution_count": 126,
     "metadata": {},
     "output_type": "execute_result"
    }
   ],
   "source": [
    "test.iloc[17][['job_description','job_title','employer_title', 'employer_sector_title', 'job_sector_title', 'gender',\n",
    "       'ethnicity', 'university_name', 'degree_subject_name', 'user_preference']].values"
   ]
  },
  {
   "cell_type": "code",
   "execution_count": null,
   "metadata": {},
   "outputs": [],
   "source": []
  },
  {
   "cell_type": "code",
   "execution_count": null,
   "metadata": {},
   "outputs": [],
   "source": []
  },
  {
   "cell_type": "code",
   "execution_count": 98,
   "metadata": {},
   "outputs": [
    {
     "data": {
      "text/plain": [
       "array([ 0.04701967,  0.41418705,  0.07164929,  0.21430707,  0.18202324,\n",
       "       -0.33259852, -0.08178315,  0.60852965, -0.04291201, -0.1194723 ,\n",
       "       -0.04244884,  0.02302099,  0.1486241 , -0.17395045,  0.228528  ,\n",
       "        0.13924819,  0.32321833,  0.10376177, -0.30368976,  0.11983331,\n",
       "        0.15889402,  0.01412741,  0.16837264,  0.07722029, -0.26370964,\n",
       "       -0.31729926,  0.48517841, -0.03705664,  0.16561751,  0.07996607,\n",
       "        0.11742792, -0.1697338 ,  0.15774473,  0.23397327,  0.02931982,\n",
       "       -0.06121839,  0.04211699, -0.06991873,  0.12133328,  0.02275249,\n",
       "        0.06217491, -0.00197144,  0.16315197,  0.08827725, -0.11009564,\n",
       "        0.25157566,  0.08967979, -0.44227603,  0.21575814,  0.33605691])"
      ]
     },
     "execution_count": 98,
     "metadata": {},
     "output_type": "execute_result"
    }
   ],
   "source": [
    "test_data[0,:50]"
   ]
  },
  {
   "cell_type": "code",
   "execution_count": 99,
   "metadata": {},
   "outputs": [
    {
     "data": {
      "text/plain": [
       "array([ 0.17967218, -0.17330869, -0.09473395,  0.4736949 ,  0.04934678,\n",
       "       -0.11568853,  0.17265758,  0.77356845,  0.0523078 , -0.36597   ,\n",
       "        0.21070074,  0.2974584 ,  0.13781425, -0.0443551 ,  0.1183209 ,\n",
       "        0.14434634, -0.03930581,  0.38692006, -0.32868162, -0.04598606,\n",
       "        0.3848385 ,  0.06154285,  0.25159445, -0.02232135, -0.30775785,\n",
       "       -0.27828756,  0.94539654, -0.16153626,  0.07041129, -0.34124416,\n",
       "       -0.16156135, -0.45166922,  0.36582392,  0.0722165 ,  0.08116285,\n",
       "        0.07252601, -0.08610517, -0.10991365,  0.15534899, -0.02382977,\n",
       "       -0.04241791, -0.04415558, -0.06495043,  0.20435323,  0.09739195,\n",
       "        0.00491635,  0.26965344, -0.14320871,  0.01799208,  0.40701234],\n",
       "      dtype=float32)"
      ]
     },
     "execution_count": 99,
     "metadata": {},
     "output_type": "execute_result"
    }
   ],
   "source": [
    "predictions[0,:50]"
   ]
  },
  {
   "cell_type": "code",
   "execution_count": 128,
   "metadata": {},
   "outputs": [
    {
     "name": "stdout",
     "output_type": "stream",
     "text": [
      "0.003920869654342296\n",
      "0.043668805322460515\n"
     ]
    }
   ],
   "source": [
    "from sklearn.metrics import mean_squared_error, mean_absolute_error\n",
    "print(mean_squared_error(predictions, x_test))\n",
    "print(mean_absolute_error(predictions, x_test))"
   ]
  },
  {
   "cell_type": "code",
   "execution_count": 129,
   "metadata": {},
   "outputs": [
    {
     "name": "stdout",
     "output_type": "stream",
     "text": [
      "Saved model to disk\n"
     ]
    }
   ],
   "source": [
    "autoencoder.save_weights(\"autoencoder.h5\")\n",
    "print(\"Saved model to disk\")"
   ]
  },
  {
   "cell_type": "code",
   "execution_count": null,
   "metadata": {},
   "outputs": [],
   "source": []
  },
  {
   "cell_type": "code",
   "execution_count": null,
   "metadata": {},
   "outputs": [],
   "source": []
  }
 ],
 "metadata": {
  "kernelspec": {
   "display_name": "Python 3",
   "language": "python",
   "name": "python3"
  },
  "language_info": {
   "codemirror_mode": {
    "name": "ipython",
    "version": 3
   },
   "file_extension": ".py",
   "mimetype": "text/x-python",
   "name": "python",
   "nbconvert_exporter": "python",
   "pygments_lexer": "ipython3",
   "version": "3.6.5"
  }
 },
 "nbformat": 4,
 "nbformat_minor": 2
}
