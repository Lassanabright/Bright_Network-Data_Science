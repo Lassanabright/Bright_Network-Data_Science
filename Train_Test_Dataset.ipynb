{
 "cells": [
  {
   "cell_type": "code",
   "execution_count": 1,
   "metadata": {},
   "outputs": [
    {
     "name": "stderr",
     "output_type": "stream",
     "text": [
      "C:\\Users\\Lassana Diabira\\Anaconda3\\lib\\site-packages\\gensim\\utils.py:1197: UserWarning: detected Windows; aliasing chunkize to chunkize_serial\n",
      "  warnings.warn(\"detected Windows; aliasing chunkize to chunkize_serial\")\n"
     ]
    }
   ],
   "source": [
    "import pandas as pd\n",
    "import numpy as np\n",
    "import matplotlib.pyplot as plt\n",
    "import re\n",
    "from gensim.models import Word2Vec\n",
    "import datetime\n",
    "from dateutil.relativedelta import relativedelta"
   ]
  },
  {
   "cell_type": "code",
   "execution_count": 2,
   "metadata": {},
   "outputs": [
    {
     "name": "stderr",
     "output_type": "stream",
     "text": [
      "C:\\Users\\Lassana Diabira\\Anaconda3\\lib\\site-packages\\IPython\\core\\interactiveshell.py:2785: DtypeWarning: Columns (2,5,6,7,8,9,13,14,15,16,18,20,22,24) have mixed types. Specify dtype option on import or set low_memory=False.\n",
      "  interactivity=interactivity, compiler=compiler, result=result)\n"
     ]
    }
   ],
   "source": [
    "df=pd.read_csv(\"new_data.csv\")"
   ]
  },
  {
   "cell_type": "code",
   "execution_count": 31,
   "metadata": {},
   "outputs": [
    {
     "name": "stderr",
     "output_type": "stream",
     "text": [
      "C:\\Users\\Lassana Diabira\\Anaconda3\\lib\\site-packages\\ipykernel_launcher.py:1: UserWarning: Boolean Series key will be reindexed to match DataFrame index.\n",
      "  \"\"\"Entry point for launching an IPython kernel.\n"
     ]
    },
    {
     "data": {
      "text/html": [
       "<div>\n",
       "<style scoped>\n",
       "    .dataframe tbody tr th:only-of-type {\n",
       "        vertical-align: middle;\n",
       "    }\n",
       "\n",
       "    .dataframe tbody tr th {\n",
       "        vertical-align: top;\n",
       "    }\n",
       "\n",
       "    .dataframe thead th {\n",
       "        text-align: right;\n",
       "    }\n",
       "</style>\n",
       "<table border=\"1\" class=\"dataframe\">\n",
       "  <thead>\n",
       "    <tr style=\"text-align: right;\">\n",
       "      <th></th>\n",
       "      <th>job_id</th>\n",
       "      <th>job_title</th>\n",
       "    </tr>\n",
       "  </thead>\n",
       "  <tbody>\n",
       "  </tbody>\n",
       "</table>\n",
       "</div>"
      ],
      "text/plain": [
       "Empty DataFrame\n",
       "Columns: [job_id, job_title]\n",
       "Index: []"
      ]
     },
     "execution_count": 31,
     "metadata": {},
     "output_type": "execute_result"
    }
   ],
   "source": [
    "df[df[\"user_id\"]==75898][df[\"job_title\"]==\"Off Cycle Internship\"][[\"job_id\",\"job_title\"]]"
   ]
  },
  {
   "cell_type": "code",
   "execution_count": 24,
   "metadata": {},
   "outputs": [],
   "source": [
    "df['Timestamp'] =  pd.to_datetime(df['Timestamp'])\n",
    "df['job_opening_date'] =  pd.to_datetime(df['job_opening_date'])\n",
    "df['job_closing_date'] =  pd.to_datetime(df['job_closing_date'])"
   ]
  },
  {
   "cell_type": "code",
   "execution_count": 3,
   "metadata": {},
   "outputs": [],
   "source": [
    "df=df[df.user_id.notnull()]"
   ]
  },
  {
   "cell_type": "code",
   "execution_count": 4,
   "metadata": {},
   "outputs": [],
   "source": [
    "def get_all_users_id(df):\n",
    "    users_id=df.user_id.values\n",
    "    users_id=list(set(users_id))\n",
    "    return users_id"
   ]
  },
  {
   "cell_type": "code",
   "execution_count": 5,
   "metadata": {},
   "outputs": [],
   "source": [
    "all_users=get_all_users_id(df)"
   ]
  },
  {
   "cell_type": "code",
   "execution_count": 6,
   "metadata": {},
   "outputs": [
    {
     "data": {
      "text/plain": [
       "165830"
      ]
     },
     "execution_count": 6,
     "metadata": {},
     "output_type": "execute_result"
    }
   ],
   "source": [
    "len(all_users)"
   ]
  },
  {
   "cell_type": "code",
   "execution_count": 7,
   "metadata": {},
   "outputs": [],
   "source": [
    "df=df[df.job_id.notnull()]"
   ]
  },
  {
   "cell_type": "code",
   "execution_count": 8,
   "metadata": {},
   "outputs": [
    {
     "data": {
      "text/plain": [
       "(3799892, 32)"
      ]
     },
     "execution_count": 8,
     "metadata": {},
     "output_type": "execute_result"
    }
   ],
   "source": [
    "df.shape"
   ]
  },
  {
   "cell_type": "code",
   "execution_count": 9,
   "metadata": {},
   "outputs": [
    {
     "data": {
      "text/html": [
       "<div>\n",
       "<style scoped>\n",
       "    .dataframe tbody tr th:only-of-type {\n",
       "        vertical-align: middle;\n",
       "    }\n",
       "\n",
       "    .dataframe tbody tr th {\n",
       "        vertical-align: top;\n",
       "    }\n",
       "\n",
       "    .dataframe thead th {\n",
       "        text-align: right;\n",
       "    }\n",
       "</style>\n",
       "<table border=\"1\" class=\"dataframe\">\n",
       "  <thead>\n",
       "    <tr style=\"text-align: right;\">\n",
       "      <th></th>\n",
       "      <th>Unnamed: 0</th>\n",
       "      <th>id</th>\n",
       "      <th>Timestamp</th>\n",
       "      <th>job_id</th>\n",
       "      <th>user_id</th>\n",
       "      <th>title</th>\n",
       "      <th>job_opening_date</th>\n",
       "      <th>job_closing_date</th>\n",
       "      <th>job_short_description</th>\n",
       "      <th>job_description</th>\n",
       "      <th>...</th>\n",
       "      <th>course_includes_industrial_placement</th>\n",
       "      <th>graduation_year</th>\n",
       "      <th>right_to_work_uk</th>\n",
       "      <th>degree_subject_id</th>\n",
       "      <th>university_id</th>\n",
       "      <th>university_name</th>\n",
       "      <th>university_type</th>\n",
       "      <th>degree_subject_name</th>\n",
       "      <th>degree_subjectgroup_id</th>\n",
       "      <th>degree_subjectgroup_title</th>\n",
       "    </tr>\n",
       "  </thead>\n",
       "  <tbody>\n",
       "    <tr>\n",
       "      <th>3799891</th>\n",
       "      <td>2875445</td>\n",
       "      <td>1356695.0</td>\n",
       "      <td>2018-08-31 12:13:05</td>\n",
       "      <td>2459.0</td>\n",
       "      <td>154137.0</td>\n",
       "      <td>Analyst Summer Internship 2019</td>\n",
       "      <td>2018-08-17</td>\n",
       "      <td>2018-10-21</td>\n",
       "      <td>Greenhill &amp; Co. is a leading independent inves...</td>\n",
       "      <td>&lt;h2&gt;The role&lt;/h2&gt;\\r\\r\\n\\r\\r\\n&lt;p&gt;Genuine analys...</td>\n",
       "      <td>...</td>\n",
       "      <td>False</td>\n",
       "      <td>2019.0</td>\n",
       "      <td>True</td>\n",
       "      <td>751.0</td>\n",
       "      <td>345.0</td>\n",
       "      <td>University of Cambridge</td>\n",
       "      <td>2.0</td>\n",
       "      <td>Geography</td>\n",
       "      <td>4.0</td>\n",
       "      <td>Geography</td>\n",
       "    </tr>\n",
       "  </tbody>\n",
       "</table>\n",
       "<p>1 rows × 32 columns</p>\n",
       "</div>"
      ],
      "text/plain": [
       "         Unnamed: 0         id            Timestamp  job_id   user_id  \\\n",
       "3799891     2875445  1356695.0  2018-08-31 12:13:05  2459.0  154137.0   \n",
       "\n",
       "                                  title job_opening_date job_closing_date  \\\n",
       "3799891  Analyst Summer Internship 2019       2018-08-17       2018-10-21   \n",
       "\n",
       "                                     job_short_description  \\\n",
       "3799891  Greenhill & Co. is a leading independent inves...   \n",
       "\n",
       "                                           job_description  \\\n",
       "3799891  <h2>The role</h2>\\r\\r\\n\\r\\r\\n<p>Genuine analys...   \n",
       "\n",
       "                   ...              course_includes_industrial_placement  \\\n",
       "3799891            ...                                             False   \n",
       "\n",
       "         graduation_year  right_to_work_uk degree_subject_id university_id  \\\n",
       "3799891           2019.0              True             751.0         345.0   \n",
       "\n",
       "                 university_name university_type  degree_subject_name  \\\n",
       "3799891  University of Cambridge             2.0            Geography   \n",
       "\n",
       "        degree_subjectgroup_id  degree_subjectgroup_title  \n",
       "3799891                    4.0                  Geography  \n",
       "\n",
       "[1 rows x 32 columns]"
      ]
     },
     "execution_count": 9,
     "metadata": {},
     "output_type": "execute_result"
    }
   ],
   "source": [
    "df.tail(1)"
   ]
  },
  {
   "cell_type": "code",
   "execution_count": 11,
   "metadata": {},
   "outputs": [
    {
     "data": {
      "text/html": [
       "<div>\n",
       "<style scoped>\n",
       "    .dataframe tbody tr th:only-of-type {\n",
       "        vertical-align: middle;\n",
       "    }\n",
       "\n",
       "    .dataframe tbody tr th {\n",
       "        vertical-align: top;\n",
       "    }\n",
       "\n",
       "    .dataframe thead th {\n",
       "        text-align: right;\n",
       "    }\n",
       "</style>\n",
       "<table border=\"1\" class=\"dataframe\">\n",
       "  <thead>\n",
       "    <tr style=\"text-align: right;\">\n",
       "      <th></th>\n",
       "      <th>Unnamed: 0</th>\n",
       "      <th>id</th>\n",
       "      <th>Timestamp</th>\n",
       "      <th>job_id</th>\n",
       "      <th>user_id</th>\n",
       "      <th>title</th>\n",
       "      <th>job_opening_date</th>\n",
       "      <th>job_closing_date</th>\n",
       "      <th>job_short_description</th>\n",
       "      <th>job_description</th>\n",
       "      <th>...</th>\n",
       "      <th>course_includes_industrial_placement</th>\n",
       "      <th>graduation_year</th>\n",
       "      <th>right_to_work_uk</th>\n",
       "      <th>degree_subject_id</th>\n",
       "      <th>university_id</th>\n",
       "      <th>university_name</th>\n",
       "      <th>university_type</th>\n",
       "      <th>degree_subject_name</th>\n",
       "      <th>degree_subjectgroup_id</th>\n",
       "      <th>degree_subjectgroup_title</th>\n",
       "    </tr>\n",
       "  </thead>\n",
       "  <tbody>\n",
       "    <tr>\n",
       "      <th>0</th>\n",
       "      <td>0</td>\n",
       "      <td>1.0</td>\n",
       "      <td>2017-05-25 11:35:41</td>\n",
       "      <td>68.0</td>\n",
       "      <td>148463.0</td>\n",
       "      <td>Graduate Analyst</td>\n",
       "      <td>2017-04-24</td>\n",
       "      <td>NaN</td>\n",
       "      <td>We?re building the best consulting firm in the...</td>\n",
       "      <td>&lt;h2&gt;Overview&lt;/h2&gt;\\r\\r\\n\\r\\r\\n&lt;p&gt;We&amp;rsquo;ve cr...</td>\n",
       "      <td>...</td>\n",
       "      <td>NaN</td>\n",
       "      <td>NaN</td>\n",
       "      <td>NaN</td>\n",
       "      <td>NaN</td>\n",
       "      <td>NaN</td>\n",
       "      <td>NaN</td>\n",
       "      <td>NaN</td>\n",
       "      <td>NaN</td>\n",
       "      <td>NaN</td>\n",
       "      <td>NaN</td>\n",
       "    </tr>\n",
       "  </tbody>\n",
       "</table>\n",
       "<p>1 rows × 32 columns</p>\n",
       "</div>"
      ],
      "text/plain": [
       "   Unnamed: 0   id            Timestamp  job_id   user_id             title  \\\n",
       "0           0  1.0  2017-05-25 11:35:41    68.0  148463.0  Graduate Analyst   \n",
       "\n",
       "  job_opening_date job_closing_date  \\\n",
       "0       2017-04-24              NaN   \n",
       "\n",
       "                               job_short_description  \\\n",
       "0  We?re building the best consulting firm in the...   \n",
       "\n",
       "                                     job_description  \\\n",
       "0  <h2>Overview</h2>\\r\\r\\n\\r\\r\\n<p>We&rsquo;ve cr...   \n",
       "\n",
       "             ...              course_includes_industrial_placement  \\\n",
       "0            ...                                               NaN   \n",
       "\n",
       "   graduation_year  right_to_work_uk degree_subject_id university_id  \\\n",
       "0              NaN               NaN               NaN           NaN   \n",
       "\n",
       "  university_name university_type  degree_subject_name degree_subjectgroup_id  \\\n",
       "0             NaN             NaN                  NaN                    NaN   \n",
       "\n",
       "   degree_subjectgroup_title  \n",
       "0                        NaN  \n",
       "\n",
       "[1 rows x 32 columns]"
      ]
     },
     "execution_count": 11,
     "metadata": {},
     "output_type": "execute_result"
    }
   ],
   "source": [
    "df.head(1)"
   ]
  },
  {
   "cell_type": "code",
   "execution_count": 12,
   "metadata": {},
   "outputs": [],
   "source": [
    "def get_users_id(df):\n",
    "    users_id=df.user_id.values\n",
    "    users_id=list(set(users_id))\n",
    "    return users_id"
   ]
  },
  {
   "cell_type": "code",
   "execution_count": 13,
   "metadata": {},
   "outputs": [],
   "source": [
    "users_id=get_users_id(df)"
   ]
  },
  {
   "cell_type": "code",
   "execution_count": 14,
   "metadata": {},
   "outputs": [
    {
     "data": {
      "text/plain": [
       "30859"
      ]
     },
     "execution_count": 14,
     "metadata": {},
     "output_type": "execute_result"
    }
   ],
   "source": [
    "len(users_id)"
   ]
  },
  {
   "cell_type": "code",
   "execution_count": 15,
   "metadata": {},
   "outputs": [],
   "source": [
    "def get_jobs_id(df):\n",
    "    jobs_id=df.job_id.values\n",
    "    jobs_id=list(set(jobs_id))\n",
    "    return jobs_id"
   ]
  },
  {
   "cell_type": "code",
   "execution_count": 16,
   "metadata": {},
   "outputs": [],
   "source": [
    "jobs_id=get_jobs_id(df)"
   ]
  },
  {
   "cell_type": "code",
   "execution_count": 17,
   "metadata": {},
   "outputs": [
    {
     "data": {
      "text/plain": [
       "4129"
      ]
     },
     "execution_count": 17,
     "metadata": {},
     "output_type": "execute_result"
    }
   ],
   "source": [
    "len(jobs_id)"
   ]
  },
  {
   "cell_type": "code",
   "execution_count": 18,
   "metadata": {},
   "outputs": [],
   "source": [
    "def get_jobs_per_user(users_id, df):\n",
    "    n=len(users_id)\n",
    "    print(\"n :\",n)\n",
    "    print(\"users collected\")\n",
    "    jobs_per_user={}\n",
    "    for i,user in enumerate(users_id):\n",
    "        if i%1000==0:\n",
    "            print(\"progress :\", i/n)\n",
    "        x=df[df[\"user_id\"]==user]\n",
    "        x=x[x.job_id.notnull()]\n",
    "        if x.shape[0]>0:\n",
    "            job_applications=x[\"job_id\"].values\n",
    "            job_applications=list(set(job_applications))\n",
    "            jobs_per_user[str(int(user))]=job_applications\n",
    "    print(\"Jobs per user collected\")\n",
    "    return jobs_per_user"
   ]
  },
  {
   "cell_type": "code",
   "execution_count": 19,
   "metadata": {},
   "outputs": [
    {
     "name": "stdout",
     "output_type": "stream",
     "text": [
      "n : 30859\n",
      "users collected\n",
      "progress : 0.0\n",
      "progress : 0.0324054570789721\n",
      "progress : 0.0648109141579442\n",
      "progress : 0.0972163712369163\n",
      "progress : 0.1296218283158884\n",
      "progress : 0.1620272853948605\n",
      "progress : 0.1944327424738326\n",
      "progress : 0.22683819955280468\n",
      "progress : 0.2592436566317768\n",
      "progress : 0.29164911371074886\n",
      "progress : 0.324054570789721\n",
      "progress : 0.3564600278686931\n",
      "progress : 0.3888654849476652\n",
      "progress : 0.4212709420266373\n",
      "progress : 0.45367639910560936\n",
      "progress : 0.4860818561845815\n",
      "progress : 0.5184873132635536\n",
      "progress : 0.5508927703425257\n",
      "progress : 0.5832982274214977\n",
      "progress : 0.6157036845004699\n",
      "progress : 0.648109141579442\n",
      "progress : 0.6805145986584141\n",
      "progress : 0.7129200557373861\n",
      "progress : 0.7453255128163583\n",
      "progress : 0.7777309698953304\n",
      "progress : 0.8101364269743024\n",
      "progress : 0.8425418840532746\n",
      "progress : 0.8749473411322467\n",
      "progress : 0.9073527982112187\n",
      "progress : 0.9397582552901909\n",
      "progress : 0.972163712369163\n",
      "Jobs per user collected\n"
     ]
    }
   ],
   "source": [
    "jobs_per_user=get_jobs_per_user(users_id, df)"
   ]
  },
  {
   "cell_type": "code",
   "execution_count": 26,
   "metadata": {},
   "outputs": [],
   "source": [
    "def get_jobs_to_recommend(all_users,df,jobs_per_user):\n",
    "    n=len(all_users)\n",
    "    recommendations_per_user={}\n",
    "    now = datetime.datetime.now()\n",
    "    #d=df[df['job_created_date']>=now-relativedelta(years=1)]\n",
    "    c=df[df['job_closing_date'].isnull()]\n",
    "    d=df[df['job_closing_date']>=now]\n",
    "    d=d[d.job_id.notnull()]\n",
    "    jobs_to_apply_to=list(d[\"job_id\"].values)+list(c[\"job_id\"].values)\n",
    "    jobs_to_apply_to=list(set(jobs_to_apply_to))\n",
    "    print(\"number of jobs to apply to :\",len(jobs_to_apply_to))\n",
    "    print(\"recommendations started\")\n",
    "    for i,user in enumerate(all_users):\n",
    "        if i%10000==0:\n",
    "            print(\"progress :\", i/n)\n",
    "        try:\n",
    "            job_applications=jobs_per_user[str(int(user))]\n",
    "            recommendations=list(set(jobs_to_apply_to) - set(job_applications))\n",
    "            recommendations_per_user[str(int(user))]=recommendations\n",
    "        except:\n",
    "            recommendations_per_user[str(int(user))]=jobs_to_apply_to\n",
    "    return recommendations_per_user"
   ]
  },
  {
   "cell_type": "code",
   "execution_count": 27,
   "metadata": {},
   "outputs": [
    {
     "name": "stdout",
     "output_type": "stream",
     "text": [
      "number of jobs to apply to : 699\n",
      "recommendations started\n",
      "progress : 0.0\n",
      "progress : 0.060302719652656336\n",
      "progress : 0.12060543930531267\n",
      "progress : 0.180908158957969\n",
      "progress : 0.24121087861062535\n",
      "progress : 0.30151359826328167\n",
      "progress : 0.361816317915938\n",
      "progress : 0.42211903756859437\n",
      "progress : 0.4824217572212507\n",
      "progress : 0.542724476873907\n",
      "progress : 0.6030271965265633\n",
      "progress : 0.6633299161792197\n",
      "progress : 0.723632635831876\n",
      "progress : 0.7839353554845323\n",
      "progress : 0.8442380751371887\n",
      "progress : 0.9045407947898451\n",
      "progress : 0.9648435144425014\n"
     ]
    }
   ],
   "source": [
    "recommendations_per_user=get_jobs_to_recommend(all_users, df, jobs_per_user)"
   ]
  },
  {
   "cell_type": "markdown",
   "metadata": {},
   "source": [
    "# create train and test dataset"
   ]
  },
  {
   "cell_type": "code",
   "execution_count": 30,
   "metadata": {},
   "outputs": [],
   "source": [
    "a=list(jobs_per_user.keys())\n",
    "train_user_id=[int(i) for i in a]\n",
    "train_user_applications=list(jobs_per_user.values())"
   ]
  },
  {
   "cell_type": "code",
   "execution_count": 31,
   "metadata": {},
   "outputs": [],
   "source": [
    "a=list(recommendations_per_user.keys())\n",
    "test_user_id=[int(i) for i in a]\n",
    "test_user_applications=list(recommendations_per_user.values())"
   ]
  },
  {
   "cell_type": "code",
   "execution_count": 32,
   "metadata": {},
   "outputs": [],
   "source": [
    "class users:\n",
    "    \n",
    "    def __init__(self, filename, filtre):\n",
    "        data=pd.read_json(filename)\n",
    "        d=data[filtre].values\n",
    "        self.user_id=self.get_ids(d)\n",
    "        self.length_of_course=get_length_of_course(d)\n",
    "        self.gender=self.get_gender(d)\n",
    "        self.ethnicity=self.get_ethnicity(d)\n",
    "        self.course_includes_industrial_placement=self.get_course_includes_industrial_placement(d)\n",
    "        self.graduation_year=self.get_graduation_year(d)\n",
    "        self.right_to_work_uk=self.get_right_to_work_uk(d)\n",
    "        self.degree_subject_id=self.get_degree_subject_id(d)\n",
    "        self.university_id=self.get_university_id(d)\n",
    "        self.create_df()\n",
    "    \n",
    "    def get_ids(self, x):\n",
    "        res=[]\n",
    "        for i in range(len(x)):\n",
    "            res.append(int(x[i][\"user_id\"]))\n",
    "        return res\n",
    "    \n",
    "    def get_length_of_course(self, x):\n",
    "        res=[]\n",
    "        for i in range(len(x)):\n",
    "            try:\n",
    "                res.append(int(x[i][\"length_of_course\"]))\n",
    "            except TypeError:\n",
    "                res.append(None)\n",
    "        return res\n",
    "    \n",
    "    def get_gender(self, x):\n",
    "        res=[]\n",
    "        for i in range(len(x)):\n",
    "            res.append(x[i][\"gender\"])\n",
    "        return res\n",
    "    \n",
    "    def get_ethnicity(self, x):\n",
    "        res=[]\n",
    "        for i in range(len(x)):\n",
    "            res.append(x[i][\"ethnicity\"])\n",
    "        return res\n",
    "    \n",
    "    def get_course_includes_industrial_placement(self, x):\n",
    "        res=[]\n",
    "        for i in range(len(x)):\n",
    "            res.append(x[i][\"course_includes_industrial_placement\"])\n",
    "        return res\n",
    "    \n",
    "    def get_graduation_year(self, x):\n",
    "        res=[]\n",
    "        for i in range(len(x)):\n",
    "            try:\n",
    "                res.append(int(x[i][\"graduation_year\"]))\n",
    "            except TypeError:\n",
    "                res.append(None)\n",
    "        return res\n",
    "    \n",
    "    def get_right_to_work_uk(self, x):\n",
    "        res=[]\n",
    "        for i in range(len(x)):\n",
    "            res.append(x[i][\"right_to_work_uk\"])\n",
    "        return res\n",
    "    \n",
    "    def get_degree_subject_id(self, x):\n",
    "        res=[]\n",
    "        for i in range(len(x)):\n",
    "            try:\n",
    "                res.append(int(x[i][\"degree_subject_id\"]))\n",
    "            except TypeError:\n",
    "                res.append(None)\n",
    "        return res\n",
    "    \n",
    "    def get_university_id(self, x):\n",
    "        res=[]\n",
    "        for i in range(len(x)):\n",
    "            try:\n",
    "                res.append(int(x[i][\"university_id\"]))\n",
    "            except TypeError:\n",
    "                res.append(None)\n",
    "        return res\n",
    "    \n",
    "    def create_df(self):\n",
    "        dd={}\n",
    "        dd[\"user_id\"]=self.user_id\n",
    "        dd[\"length_of_course\"]=self.length_of_course\n",
    "        dd[\"gender\"]=self.gender\n",
    "        dd[\"ethnicity\"]=self.ethnicity\n",
    "        dd[\"course_includes_industrial_placement\"]=self.course_includes_industrial_placement\n",
    "        dd[\"graduation_year\"]=self.graduation_year\n",
    "        dd[\"right_to_work_uk\"]=self.right_to_work_uk\n",
    "        dd[\"degree_subject_id\"]=self.degree_subject_id\n",
    "        dd[\"university_id\"]=self.university_id\n",
    "        self.df=pd.DataFrame(dd)"
   ]
  },
  {
   "cell_type": "code",
   "execution_count": null,
   "metadata": {},
   "outputs": [],
   "source": []
  }
 ],
 "metadata": {
  "kernelspec": {
   "display_name": "Python 3",
   "language": "python",
   "name": "python3"
  },
  "language_info": {
   "codemirror_mode": {
    "name": "ipython",
    "version": 3
   },
   "file_extension": ".py",
   "mimetype": "text/x-python",
   "name": "python",
   "nbconvert_exporter": "python",
   "pygments_lexer": "ipython3",
   "version": "3.6.5"
  }
 },
 "nbformat": 4,
 "nbformat_minor": 2
}
