{
 "cells": [
  {
   "cell_type": "code",
   "execution_count": 1,
   "metadata": {},
   "outputs": [],
   "source": [
    "import pandas as pd\n",
    "import numpy as np\n",
    "import requests\n",
    "import shutil"
   ]
  },
  {
   "cell_type": "code",
   "execution_count": 2,
   "metadata": {},
   "outputs": [],
   "source": [
    "from selenium import webdriver"
   ]
  },
  {
   "cell_type": "code",
   "execution_count": 3,
   "metadata": {},
   "outputs": [],
   "source": [
    "import time"
   ]
  },
  {
   "cell_type": "markdown",
   "metadata": {},
   "source": [
    "# API key"
   ]
  },
  {
   "cell_type": "code",
   "execution_count": 4,
   "metadata": {},
   "outputs": [],
   "source": [
    "api_key = 'qaOLZ5vRULYn5DkzqhRkx9Y3kspjIUOb'"
   ]
  },
  {
   "cell_type": "markdown",
   "metadata": {},
   "source": [
    "# Authentification"
   ]
  },
  {
   "cell_type": "code",
   "execution_count": 5,
   "metadata": {},
   "outputs": [],
   "source": [
    "my_email = 'lassana.diabira@brightnetwork.co.uk'\n",
    "password = 'Bright!Network!123'"
   ]
  },
  {
   "cell_type": "markdown",
   "metadata": {},
   "source": [
    "# Get applications"
   ]
  },
  {
   "cell_type": "code",
   "execution_count": 6,
   "metadata": {},
   "outputs": [],
   "source": [
    "def get_applications():\n",
    "    page = 1\n",
    "    r = requests.get('https://api.resumatorapi.com/v1/applicants/page/1' + '?apikey=' + api_key)\n",
    "    applications = []\n",
    "    while len(r.json()) > 0:\n",
    "        applications += r.json()\n",
    "        page += 1\n",
    "        applicants_url = 'https://api.resumatorapi.com/v1/applicants/page/' + str(page) + '?apikey=' + api_key\n",
    "        r = requests.get(applicants_url)\n",
    "        if page % 50 == 0:\n",
    "            print(\"page \", page)\n",
    "    return applications"
   ]
  },
  {
   "cell_type": "code",
   "execution_count": 7,
   "metadata": {},
   "outputs": [
    {
     "name": "stdout",
     "output_type": "stream",
     "text": [
      "page  50\n",
      "page  100\n"
     ]
    }
   ],
   "source": [
    "applications = get_applications()"
   ]
  },
  {
   "cell_type": "code",
   "execution_count": 8,
   "metadata": {},
   "outputs": [
    {
     "data": {
      "text/plain": [
       "13721"
      ]
     },
     "execution_count": 8,
     "metadata": {},
     "output_type": "execute_result"
    }
   ],
   "source": [
    "len(applications)"
   ]
  },
  {
   "cell_type": "code",
   "execution_count": 9,
   "metadata": {},
   "outputs": [
    {
     "data": {
      "text/plain": [
       "{'id': 'prospect_20190328044230_OUYEZ2ENVOQRXIJG',\n",
       " 'first_name': 'Amal',\n",
       " 'last_name': 'Mohamed',\n",
       " 'prospect_phone': '07340127574',\n",
       " 'apply_date': '2019-03-28',\n",
       " 'job_id': 'job_20190308122816_YDVYYANPF6VOPS9R',\n",
       " 'job_title': 'Graduate Analytics Consultant'}"
      ]
     },
     "execution_count": 9,
     "metadata": {},
     "output_type": "execute_result"
    }
   ],
   "source": [
    "applications[0]"
   ]
  },
  {
   "cell_type": "markdown",
   "metadata": {},
   "source": [
    "# Get jobs"
   ]
  },
  {
   "cell_type": "code",
   "execution_count": 9,
   "metadata": {},
   "outputs": [],
   "source": [
    "def get_jobs():\n",
    "    page = 1\n",
    "    r = requests.get('https://api.resumatorapi.com/v1/jobs/page/1' + '?apikey=' + api_key)\n",
    "    jobs = []\n",
    "    while len(r.json()) > 0:\n",
    "        jobs += r.json()\n",
    "        page += 1\n",
    "        jobs_url = 'https://api.resumatorapi.com/v1/jobs/page/' + str(page) + '?apikey=' + api_key\n",
    "        r = requests.get(jobs_url)\n",
    "        if page % 50 == 0:\n",
    "            print(\"page \", page)\n",
    "    return jobs"
   ]
  },
  {
   "cell_type": "code",
   "execution_count": 10,
   "metadata": {},
   "outputs": [],
   "source": [
    "jobs = get_jobs()"
   ]
  },
  {
   "cell_type": "code",
   "execution_count": 11,
   "metadata": {},
   "outputs": [
    {
     "data": {
      "text/plain": [
       "59"
      ]
     },
     "execution_count": 11,
     "metadata": {},
     "output_type": "execute_result"
    }
   ],
   "source": [
    "len(jobs)"
   ]
  },
  {
   "cell_type": "code",
   "execution_count": 13,
   "metadata": {},
   "outputs": [
    {
     "data": {
      "text/plain": [
       "{'id': 'job_20190322113349_G8YRSKJCJU09ZPZX',\n",
       " 'team_id': '',\n",
       " 'title': 'Potential Campus Marketing Manager',\n",
       " 'country_id': 'United Kingdom',\n",
       " 'city': '',\n",
       " 'state': '',\n",
       " 'zip': '',\n",
       " 'department': '',\n",
       " 'description': '<p>NA</p>\\n',\n",
       " 'minimum_salary': '0',\n",
       " 'maximum_salary': '0',\n",
       " 'notes': '',\n",
       " 'original_open_date': '2019-03-22',\n",
       " 'type': 'Full Time',\n",
       " 'status': 'Open',\n",
       " 'send_to_job_boards': 'No answer',\n",
       " 'hiring_lead': 'usr_20190117080250_WEF32XTL9MLX265F',\n",
       " 'board_code': 'oE3eK9YfQ8',\n",
       " 'internal_code': '',\n",
       " 'questionnaire': '0'}"
      ]
     },
     "execution_count": 13,
     "metadata": {},
     "output_type": "execute_result"
    }
   ],
   "source": [
    "jobs[1]"
   ]
  },
  {
   "cell_type": "markdown",
   "metadata": {},
   "source": [
    "# Get CVs"
   ]
  },
  {
   "cell_type": "code",
   "execution_count": 15,
   "metadata": {},
   "outputs": [],
   "source": [
    "def get_cvs():\n",
    "    applicants_ids = []\n",
    "    for i in range(len(applications)):\n",
    "        applicants_ids.append(applications[i]['id'])\n",
    "    users_url = ['https://api.resumatorapi.com/v1/applicants/' + i + '?apikey=' + api_key for i in applicants_ids]\n",
    "    users = []\n",
    "    driver = webdriver.Chrome(executable_path='C:\\\\Users\\\\Lassana\\\\chromedriver.exe')\n",
    "    driver.get('https://app.jazz.co/app/v2/login')\n",
    "    time.sleep(5)\n",
    "    email = driver.find_element_by_name('email')\n",
    "    time.sleep(1)\n",
    "    email.send_keys(my_email)\n",
    "    time.sleep(1)\n",
    "    pwd = driver.find_element_by_name('password')\n",
    "    time.sleep(1)\n",
    "    pwd.send_keys(password)\n",
    "    time.sleep(1)\n",
    "    driver.find_element_by_name(\"login\").click()\n",
    "    n = len(users_url)\n",
    "    for i, url in enumerate(users_url):\n",
    "        time.sleep(1)\n",
    "        r = requests.get(url)\n",
    "        user_data = r.json()\n",
    "        users.append(user_data)\n",
    "        resume_link = user_data['resume_link']\n",
    "        cv_url = 'https://app.jazz.co/files/download/resume?url=' + resume_link + '?apikey=' + api_key\n",
    "        driver.get(cv_url)\n",
    "        if i % 500 == 0:\n",
    "            print(\"processed \",i+1, \"out of \", n)\n",
    "    driver.close()\n",
    "    return users"
   ]
  },
  {
   "cell_type": "code",
   "execution_count": 16,
   "metadata": {},
   "outputs": [
    {
     "name": "stdout",
     "output_type": "stream",
     "text": [
      "processed  1 out of  13721\n",
      "processed  51 out of  13721\n",
      "processed  101 out of  13721\n",
      "processed  151 out of  13721\n",
      "processed  201 out of  13721\n",
      "processed  251 out of  13721\n",
      "processed  301 out of  13721\n",
      "processed  351 out of  13721\n",
      "processed  401 out of  13721\n",
      "processed  451 out of  13721\n",
      "processed  501 out of  13721\n",
      "processed  551 out of  13721\n",
      "processed  601 out of  13721\n",
      "processed  651 out of  13721\n",
      "processed  701 out of  13721\n",
      "processed  751 out of  13721\n",
      "processed  801 out of  13721\n",
      "processed  851 out of  13721\n",
      "processed  901 out of  13721\n",
      "processed  951 out of  13721\n",
      "processed  1001 out of  13721\n",
      "processed  1051 out of  13721\n",
      "processed  1101 out of  13721\n",
      "processed  1151 out of  13721\n",
      "processed  1201 out of  13721\n",
      "processed  1251 out of  13721\n",
      "processed  1301 out of  13721\n"
     ]
    },
    {
     "ename": "KeyboardInterrupt",
     "evalue": "",
     "output_type": "error",
     "traceback": [
      "\u001b[1;31m---------------------------------------------------------------------------\u001b[0m",
      "\u001b[1;31mKeyboardInterrupt\u001b[0m                         Traceback (most recent call last)",
      "\u001b[1;32m<ipython-input-16-daae61f3d217>\u001b[0m in \u001b[0;36m<module>\u001b[1;34m\u001b[0m\n\u001b[1;32m----> 1\u001b[1;33m \u001b[0musers\u001b[0m \u001b[1;33m=\u001b[0m \u001b[0mget_cvs\u001b[0m\u001b[1;33m(\u001b[0m\u001b[1;33m)\u001b[0m\u001b[1;33m\u001b[0m\u001b[0m\n\u001b[0m",
      "\u001b[1;32m<ipython-input-15-e04a0e415e40>\u001b[0m in \u001b[0;36mget_cvs\u001b[1;34m()\u001b[0m\n\u001b[0;32m     19\u001b[0m     \u001b[0mn\u001b[0m \u001b[1;33m=\u001b[0m \u001b[0mlen\u001b[0m\u001b[1;33m(\u001b[0m\u001b[0musers_url\u001b[0m\u001b[1;33m)\u001b[0m\u001b[1;33m\u001b[0m\u001b[0m\n\u001b[0;32m     20\u001b[0m     \u001b[1;32mfor\u001b[0m \u001b[0mi\u001b[0m\u001b[1;33m,\u001b[0m \u001b[0murl\u001b[0m \u001b[1;32min\u001b[0m \u001b[0menumerate\u001b[0m\u001b[1;33m(\u001b[0m\u001b[0musers_url\u001b[0m\u001b[1;33m)\u001b[0m\u001b[1;33m:\u001b[0m\u001b[1;33m\u001b[0m\u001b[0m\n\u001b[1;32m---> 21\u001b[1;33m         \u001b[0mtime\u001b[0m\u001b[1;33m.\u001b[0m\u001b[0msleep\u001b[0m\u001b[1;33m(\u001b[0m\u001b[1;36m1\u001b[0m\u001b[1;33m)\u001b[0m\u001b[1;33m\u001b[0m\u001b[0m\n\u001b[0m\u001b[0;32m     22\u001b[0m         \u001b[0mr\u001b[0m \u001b[1;33m=\u001b[0m \u001b[0mrequests\u001b[0m\u001b[1;33m.\u001b[0m\u001b[0mget\u001b[0m\u001b[1;33m(\u001b[0m\u001b[0murl\u001b[0m\u001b[1;33m)\u001b[0m\u001b[1;33m\u001b[0m\u001b[0m\n\u001b[0;32m     23\u001b[0m         \u001b[0muser_data\u001b[0m \u001b[1;33m=\u001b[0m \u001b[0mr\u001b[0m\u001b[1;33m.\u001b[0m\u001b[0mjson\u001b[0m\u001b[1;33m(\u001b[0m\u001b[1;33m)\u001b[0m\u001b[1;33m\u001b[0m\u001b[0m\n",
      "\u001b[1;31mKeyboardInterrupt\u001b[0m: "
     ]
    }
   ],
   "source": [
    "users = get_cvs()"
   ]
  },
  {
   "cell_type": "code",
   "execution_count": 36,
   "metadata": {},
   "outputs": [
    {
     "data": {
      "text/plain": [
       "'prospect_20190327130816_268GBIRWXKGJSMA4'"
      ]
     },
     "execution_count": 36,
     "metadata": {},
     "output_type": "execute_result"
    }
   ],
   "source": [
    "applications[0]['id']"
   ]
  },
  {
   "cell_type": "code",
   "execution_count": 39,
   "metadata": {},
   "outputs": [
    {
     "name": "stdout",
     "output_type": "stream",
     "text": [
      "prospect_20190327130816_268GBIRWXKGJSMA4\n",
      "prospect_20190327024951_HOPAJIJBDB4SOR5N\n"
     ]
    }
   ],
   "source": [
    "for i in range(2):\n",
    "    print(applications[i]['id'])"
   ]
  },
  {
   "cell_type": "code",
   "execution_count": null,
   "metadata": {},
   "outputs": [],
   "source": []
  }
 ],
 "metadata": {
  "kernelspec": {
   "display_name": "Python 3",
   "language": "python",
   "name": "python3"
  },
  "language_info": {
   "codemirror_mode": {
    "name": "ipython",
    "version": 3
   },
   "file_extension": ".py",
   "mimetype": "text/x-python",
   "name": "python",
   "nbconvert_exporter": "python",
   "pygments_lexer": "ipython3",
   "version": "3.6.6"
  }
 },
 "nbformat": 4,
 "nbformat_minor": 2
}
