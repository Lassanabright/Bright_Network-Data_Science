{
 "cells": [
  {
   "cell_type": "code",
   "execution_count": 1,
   "metadata": {},
   "outputs": [
    {
     "name": "stderr",
     "output_type": "stream",
     "text": [
      "C:\\Users\\Lassana Diabira\\Anaconda3\\lib\\site-packages\\gensim\\utils.py:1197: UserWarning: detected Windows; aliasing chunkize to chunkize_serial\n",
      "  warnings.warn(\"detected Windows; aliasing chunkize to chunkize_serial\")\n"
     ]
    }
   ],
   "source": [
    "import pandas as pd\n",
    "import numpy as np\n",
    "import matplotlib.pyplot as plt\n",
    "import re\n",
    "from gensim.models import Word2Vec\n",
    "import datetime\n",
    "from dateutil.relativedelta import relativedelta\n",
    "from collections import Counter\n",
    "from sklearn.decomposition import PCA\n",
    "from sklearn.metrics.pairwise import cosine_similarity, euclidean_distances\n",
    "from sklearn.feature_extraction.text import CountVectorizer"
   ]
  },
  {
   "cell_type": "code",
   "execution_count": 2,
   "metadata": {},
   "outputs": [],
   "source": [
    "train=pd.read_csv(\"Training_set.csv\")"
   ]
  },
  {
   "cell_type": "code",
   "execution_count": 3,
   "metadata": {},
   "outputs": [],
   "source": [
    "train=train.sample(train.shape[0])"
   ]
  },
  {
   "cell_type": "code",
   "execution_count": 4,
   "metadata": {},
   "outputs": [],
   "source": [
    "test=pd.read_csv(\"Test_set.csv\")"
   ]
  },
  {
   "cell_type": "code",
   "execution_count": 5,
   "metadata": {},
   "outputs": [
    {
     "data": {
      "text/plain": [
       "(2045, 27)"
      ]
     },
     "execution_count": 5,
     "metadata": {},
     "output_type": "execute_result"
    }
   ],
   "source": [
    "test.shape"
   ]
  },
  {
   "cell_type": "code",
   "execution_count": 6,
   "metadata": {},
   "outputs": [],
   "source": [
    "def get_job_characteristics(df): \n",
    "    job_type=[]\n",
    "    job_title=[]\n",
    "    employer_title=[]\n",
    "    employer_sector_title=[]\n",
    "    job_sector_title=[]\n",
    "    for i in range(df.shape[0]):\n",
    "        data=df.iloc[i]\n",
    "        types=data[\"job_type\"]\n",
    "        title=data[\"job_title\"]\n",
    "        em_title=data[\"employer_title\"]\n",
    "        em_sec_title=data[\"employer_sector_title\"]\n",
    "        job_sec_title=data[\"job_sector_title\"]\n",
    "        job_type.append(types)\n",
    "        job_title.append(title)\n",
    "        employer_title.append(em_title)\n",
    "        employer_sector_title.append(em_sec_title)\n",
    "        job_sector_title.append(job_sec_title)\n",
    "    d={}\n",
    "    #d[\"job_title\"]=job_title\n",
    "    #d[\"employer_title\"]=employer_title\n",
    "    d[\"employer_sector_title\"]=employer_sector_title\n",
    "    d[\"job_sector_title\"]=job_sector_title\n",
    "    a=pd.DataFrame(d)\n",
    "    data=pd.get_dummies(a)\n",
    "    b=pd.get_dummies(job_type)\n",
    "    result = pd.concat([data, b], axis=1, sort=False)\n",
    "    return result"
   ]
  },
  {
   "cell_type": "code",
   "execution_count": 7,
   "metadata": {},
   "outputs": [],
   "source": [
    "def get_data_for_user(user):\n",
    "    jobtitles=list(user[\"job_title\"].values)\n",
    "    emtitles=list(user[\"employer_title\"].values)\n",
    "    jobsectitles=list(user[\"job_sector_title\"].values)\n",
    "    emsectitles=list(user[\"employer_sector_title\"].values)\n",
    "    a=\"\"\n",
    "    for k in range(len(jobtitles)):\n",
    "        a+=jobtitles[k]+\" \"\n",
    "        a+=emtitles[k]+\" \"\n",
    "        a+=jobsectitles[k]+\" \"\n",
    "        #a+=emsectitles[k]+\" \"\n",
    "    return a"
   ]
  },
  {
   "cell_type": "code",
   "execution_count": 8,
   "metadata": {},
   "outputs": [],
   "source": [
    "def get_user_characteristics(df):\n",
    "    corpus=[]\n",
    "    gender=[]\n",
    "    ethnicity=[]\n",
    "    school_type=[]\n",
    "    right_to_work_uk=[]\n",
    "    university_name=[]\n",
    "    university_type=[]\n",
    "    course_includes_industrial_placement=[]\n",
    "    degree_subject_name=[]\n",
    "    user_preference=[]\n",
    "    job_types=list(set(df[\"job_type\"].values))\n",
    "    em_sectors=list(set(df[\"employer_sector_title\"].values))\n",
    "    job_sectors=list(set(df[\"job_sector_title\"].values))\n",
    "    count_job_types=[[] for i in range(len(job_types))]\n",
    "    count_job_sectors=[[] for i in range(len(job_sectors))]\n",
    "    count_em_sectors=[[] for i in range(len(em_sectors))]\n",
    "    nb_em_sector=[]\n",
    "    nb_job_sector=[]\n",
    "    job_type=[]\n",
    "    for i in range(df.shape[0]):\n",
    "        data=df.iloc[i]\n",
    "        user=data[\"user_id\"]\n",
    "        user_data=df[df[\"user_id\"]==user]\n",
    "        user_job_type=dict(Counter(list(user_data[\"job_type\"].values)))\n",
    "        user_job_sectors=dict(Counter(list(user_data[\"job_sector_title\"].values)))\n",
    "        user_em_sectors=dict(Counter(list(user_data[\"employer_sector_title\"].values)))\n",
    "        user_em_sector=len(list(set(list(user_data[\"employer_sector_title\"].values))))\n",
    "        user_job_sector=len(list(set(list(user_data[\"job_sector_title\"].values))))\n",
    "        for i in range(len(count_job_types)):\n",
    "            try:\n",
    "                count_job_types[i].append(user_job_type[i])\n",
    "            except:\n",
    "                count_job_types[i].append(0)\n",
    "        for i in range(len(count_job_sectors)):\n",
    "            try:\n",
    "                count_job_sectors[i].append(user_job_sectors[i])\n",
    "            except:\n",
    "                count_job_sectors[i].append(0)\n",
    "        for i in range(len(count_em_sectors)):\n",
    "            try:\n",
    "                count_em_sectors[i].append(user_em_sectors[i])\n",
    "            except:\n",
    "                count_em_sectors[i].append(0)\n",
    "        sex=data[\"gender\"]\n",
    "        jobtype=data[\"job_type\"]\n",
    "        eth=data[\"ethnicity\"]\n",
    "        school=data[\"school_type\"]\n",
    "        placement=data[\"course_includes_industrial_placement\"]\n",
    "        right=data[\"right_to_work_uk\"]\n",
    "        uni=data[\"university_name\"]\n",
    "        uni_type=data[\"university_type\"]\n",
    "        subname=data[\"degree_subject_name\"]\n",
    "        pref=data[\"user_preference\"]\n",
    "        title=data[\"job_title\"]\n",
    "        em_title=data[\"employer_title\"]\n",
    "        em_sec_title=data[\"employer_sector_title\"]\n",
    "        job_sec_title=data[\"job_sector_title\"]\n",
    "        if sex==\"F\":\n",
    "            sex=\"Female\"\n",
    "        elif sex==\"M\":\n",
    "            sex=\"Male\"\n",
    "        if placement==True:\n",
    "            placement=1\n",
    "        elif placement==False:\n",
    "            placement=-1\n",
    "        else:\n",
    "            placement=0\n",
    "        if right==True:\n",
    "            right=1\n",
    "        elif right==False:\n",
    "            right=-1\n",
    "        else:\n",
    "            right=0\n",
    "        if type(pref) is float:\n",
    "            pref=\"\"\n",
    "        if type(subname) is float:\n",
    "            subname=\"\"\n",
    "        nb_em_sector.append(user_em_sector)\n",
    "        nb_job_sector.append(user_job_sector)\n",
    "        gender.append(sex)\n",
    "        ethnicity.append(eth)\n",
    "        school_type.append(school)\n",
    "        course_includes_industrial_placement.append(placement)\n",
    "        right_to_work_uk.append(right)\n",
    "        university_type.append(uni_type)\n",
    "        #degree_subject_name.append(subname)\n",
    "        #user_preference.append(pref)\n",
    "        job_type.append(jobtype)\n",
    "        corpus.append(pref+subname+\" \"+get_data_for_user(user_data))\n",
    "    d={}\n",
    "    for i in range(len(count_job_sectors)):\n",
    "        d['count_job_sectors_'+str(i)]=count_job_sectors[i]\n",
    "    for i in range(len(count_em_sectors)):\n",
    "        d['count_em_sectors_'+str(i)]=count_em_sectors[i]\n",
    "    for i in range(len(count_job_types)):\n",
    "        d['count_job_types_'+str(i)]=count_job_types[i]\n",
    "    d[\"gender\"]=gender\n",
    "    d[\"job_type\"]=job_type\n",
    "    d[\"nb_em_sector\"]=nb_em_sector\n",
    "    d[\"nb_job_sector\"]=nb_job_sector\n",
    "    d[\"right_to_work_uk\"]=right_to_work_uk\n",
    "    d[\"ethnicity\"]=ethnicity\n",
    "    #d[\"degree_subject_name\"]=degree_subject_name\n",
    "    d[\"school_type\"]=school_type\n",
    "    #d[\"user_preference\"]=user_preference\n",
    "    d[\"course_includes_industrial_placement\"]=course_includes_industrial_placement\n",
    "    a=pd.DataFrame(d)\n",
    "    data=pd.get_dummies(a)\n",
    "    b=pd.get_dummies(university_type)\n",
    "    result = pd.concat([data, b], axis=1, sort=False)\n",
    "    vectorizer = CountVectorizer(max_df=1.0, min_df=3)\n",
    "    X = vectorizer.fit_transform(corpus)\n",
    "    col=vectorizer.get_feature_names()\n",
    "    donnees=X.toarray()\n",
    "    print(X.shape)\n",
    "    donnee=pd.DataFrame(donnees, columns=col)\n",
    "    final=pd.concat([result, donnee], axis=1)\n",
    "    return final"
   ]
  },
  {
   "cell_type": "code",
   "execution_count": 9,
   "metadata": {},
   "outputs": [],
   "source": [
    "#user_characteristics=get_user_characteristics(train)"
   ]
  },
  {
   "cell_type": "code",
   "execution_count": 10,
   "metadata": {},
   "outputs": [],
   "source": [
    "#user_characteristics.shape"
   ]
  },
  {
   "cell_type": "code",
   "execution_count": 11,
   "metadata": {},
   "outputs": [],
   "source": [
    "#job_characteristics=get_job_characteristics(train)"
   ]
  },
  {
   "cell_type": "code",
   "execution_count": 12,
   "metadata": {},
   "outputs": [],
   "source": [
    "#job_characteristics.shape"
   ]
  },
  {
   "cell_type": "code",
   "execution_count": 13,
   "metadata": {},
   "outputs": [],
   "source": [
    "def get_user_info(df):\n",
    "    user_info=[]\n",
    "    d={}\n",
    "    x=train[[\"user_id\",\"job_title\",\"employer_title\",\"job_sector_title\",\"job_description\",\n",
    "             \"employer_sector_title\",\"employer_description\"]]\n",
    "    n=df.shape[0]\n",
    "    for i in range(n):\n",
    "        if i%5000==0:\n",
    "            print(\"progress: \",i/n)\n",
    "        data=df.iloc[i]\n",
    "        user_id=data[\"user_id\"]\n",
    "        try:\n",
    "            a=d[str(user_id)]\n",
    "        except:\n",
    "            y=x[x[\"user_id\"]==user_id]\n",
    "            if y.shape[0]>0:\n",
    "                job_titles=y[\"job_title\"].values\n",
    "                job_sector_title=y[\"job_sector_title\"].values\n",
    "                description=y[\"job_description\"].values\n",
    "                em_titles=y[\"employer_title\"].values\n",
    "                em_sector_title=y[\"employer_sector_title\"].values\n",
    "                em_description=y[\"employer_description\"].values\n",
    "                university_name=data[\"university_name\"]\n",
    "                degree_subject_name=data[\"degree_subject_name\"]\n",
    "                user_preference=data[\"user_preference\"]\n",
    "                ethnicity=data[\"ethnicity\"]\n",
    "                school_type=data[\"school_type\"]\n",
    "                if type(user_preference) is float:\n",
    "                    user_preference=\"\"\n",
    "                if type(university_name) is float:\n",
    "                    university_name=\"\"\n",
    "                if type(degree_subject_name) is float:\n",
    "                    degree_subject_name=\"\"\n",
    "                if type(ethnicity) is float:\n",
    "                    ethnicity=\"\"\n",
    "                if type(school_type) is float:\n",
    "                    school_type=\"\"\n",
    "                try:\n",
    "                    if np.isnan(user_preference):\n",
    "                        user_preference=\"\"\n",
    "                except:\n",
    "                    pass\n",
    "                try:\n",
    "                    if np.isnan(university_name):\n",
    "                        university_name=\"\"\n",
    "                except:\n",
    "                    pass\n",
    "                try:\n",
    "                    if np.isnan(degree_subject_name):\n",
    "                        degree_subject_name=\"\"\n",
    "                except:\n",
    "                    pass\n",
    "                try:\n",
    "                    if np.isnan(ethnicity):\n",
    "                        ethnicity=\"\"\n",
    "                except:\n",
    "                    pass\n",
    "                try:\n",
    "                    if np.isnan(school_type):\n",
    "                        school_type=\"\"\n",
    "                except:\n",
    "                    pass\n",
    "                user_preference=user_preference+\" \"\n",
    "                user_preference=user_preference *3\n",
    "                degree_subject_name=degree_subject_name+\" \"\n",
    "                degree_subject_name=degree_subject_name *3\n",
    "                a=\"\"\n",
    "                a+=university_name+\" \"\n",
    "                a+=degree_subject_name+\" \"\n",
    "                a+=user_preference+\" \"\n",
    "                a+=ethnicity+\" \"\n",
    "                a+=school_type+\" \"\n",
    "                for k in range(len(job_titles)):\n",
    "                    a+=job_titles[k]+\" \"\n",
    "                    a+=job_sector_title[k]+\" \"\n",
    "                    a+=description[k]+\" \"\n",
    "                    a+=em_titles[k]+\" \"\n",
    "                    a+=em_sector_title[k]+\" \"\n",
    "                    a+=em_description[k]+\" \"\n",
    "                a=a.replace(\"Graduate\",\"\").replace(\"Programme\",\"\").replace(\"  \",\" \").replace(\"&\",\"\")\n",
    "            else:\n",
    "                university_name=data[\"university_name\"]\n",
    "                degree_subject_name=data[\"degree_subject_name\"]\n",
    "                user_preference=data[\"user_preference\"]\n",
    "                ethnicity=data[\"ethnicity\"]\n",
    "                school_type=data[\"school_type\"]\n",
    "                if type(user_preference) is float:\n",
    "                    user_preference=\"\"\n",
    "                if type(university_name) is float:\n",
    "                    university_name=\"\"\n",
    "                if type(degree_subject_name) is float:\n",
    "                    degree_subject_name=\"\"\n",
    "                if type(ethnicity) is float:\n",
    "                    ethnicity=\"\"\n",
    "                if type(school_type) is float:\n",
    "                    school_type=\"\"\n",
    "                try:\n",
    "                    if np.isnan(user_preference):\n",
    "                        user_preference=\"\"\n",
    "                except:\n",
    "                    pass\n",
    "                try:\n",
    "                    if np.isnan(university_name):\n",
    "                        university_name=\"\"\n",
    "                except:\n",
    "                    pass\n",
    "                try:\n",
    "                    if np.isnan(degree_subject_name):\n",
    "                        degree_subject_name=\"\"\n",
    "                except:\n",
    "                    pass\n",
    "                try:\n",
    "                    if np.isnan(ethnicity):\n",
    "                        ethnicity=\"\"\n",
    "                except:\n",
    "                    pass\n",
    "                try:\n",
    "                    if np.isnan(school_type):\n",
    "                        school_type=\"\"\n",
    "                except:\n",
    "                    pass\n",
    "                user_preference=user_preference+\" \"\n",
    "                user_preference=user_preference *3\n",
    "                degree_subject_name=degree_subject_name+\" \"\n",
    "                degree_subject_name=degree_subject_name *3\n",
    "                a=\"\"\n",
    "                a+=university_name+\" \"\n",
    "                a+=degree_subject_name+\" \"\n",
    "                a+=user_preference+\" \"\n",
    "                a+=ethnicity+\" \"\n",
    "                a+=school_type+\" \"\n",
    "            d[str(user_id)]=a\n",
    "        user_info.append(a)\n",
    "    return user_info"
   ]
  },
  {
   "cell_type": "code",
   "execution_count": 14,
   "metadata": {},
   "outputs": [
    {
     "name": "stdout",
     "output_type": "stream",
     "text": [
      "progress:  0.0\n"
     ]
    }
   ],
   "source": [
    "test_user_info=get_user_info(test)"
   ]
  },
  {
   "cell_type": "code",
   "execution_count": 15,
   "metadata": {},
   "outputs": [
    {
     "name": "stdout",
     "output_type": "stream",
     "text": [
      "progress:  0.0\n",
      "progress:  0.03995652729829945\n",
      "progress:  0.0799130545965989\n",
      "progress:  0.11986958189489835\n",
      "progress:  0.1598261091931978\n",
      "progress:  0.19978263649149725\n",
      "progress:  0.2397391637897967\n",
      "progress:  0.27969569108809617\n",
      "progress:  0.3196522183863956\n",
      "progress:  0.35960874568469503\n",
      "progress:  0.3995652729829945\n",
      "progress:  0.43952180028129395\n",
      "progress:  0.4794783275795934\n",
      "progress:  0.5194348548778929\n",
      "progress:  0.5593913821761923\n",
      "progress:  0.5993479094744918\n",
      "progress:  0.6393044367727913\n",
      "progress:  0.6792609640710906\n",
      "progress:  0.7192174913693901\n",
      "progress:  0.7591740186676895\n",
      "progress:  0.799130545965989\n",
      "progress:  0.8390870732642884\n",
      "progress:  0.8790436005625879\n",
      "progress:  0.9190001278608874\n",
      "progress:  0.9589566551591868\n",
      "progress:  0.9989131824574863\n"
     ]
    }
   ],
   "source": [
    "train_user_info=get_user_info(train)"
   ]
  },
  {
   "cell_type": "code",
   "execution_count": 16,
   "metadata": {},
   "outputs": [
    {
     "data": {
      "text/plain": [
       "125136"
      ]
     },
     "execution_count": 16,
     "metadata": {},
     "output_type": "execute_result"
    }
   ],
   "source": [
    "len(train_user_info)"
   ]
  },
  {
   "cell_type": "code",
   "execution_count": 17,
   "metadata": {},
   "outputs": [
    {
     "data": {
      "text/plain": [
       "2045"
      ]
     },
     "execution_count": 17,
     "metadata": {},
     "output_type": "execute_result"
    }
   ],
   "source": [
    "len(test_user_info)"
   ]
  },
  {
   "cell_type": "code",
   "execution_count": 18,
   "metadata": {},
   "outputs": [],
   "source": [
    "def clean_user(x,df):\n",
    "    n=len(x)\n",
    "    res=[]\n",
    "    d={}\n",
    "    for i,content in enumerate(x):\n",
    "        if i%5000==0:\n",
    "            print(\"progress : \",i/n)\n",
    "        data=df.iloc[i]\n",
    "        user_id=data[\"user_id\"]\n",
    "        try:\n",
    "            y=d[str(user_id)]\n",
    "        except:\n",
    "            content=content.replace(\",\",\"\").replace(\"-\",\" \").replace(\"  \",\" \").replace(\"&eacute;\",\"e\")\n",
    "            content=content.replace(\"(\",\"\").replace(\")\",\"\").replace(\" - \",\" \").replace(\" / \",\" \").replace(\"/\",\" \").replace(\"   \",\"\")\n",
    "            content=content.replace(\"&bull;\",\"\\r\\n \").replace(\"bull;\",\"\\r\\n \").replace(\"\\r\\r\\n\\t\",\" \").replace(\"\\r\\r\\n\",\" \")\n",
    "            content=content.replace(\"\\r\\r\\n\\r\\r\\n\",\" \").replace(\"...\",\" \").replace(\"&#39;s\",\"\").replace(\":\",\"\")\n",
    "            content=content.replace(\"&eacute;\",\"e\").replace(\"&lsquo;\",\"\").replace(\"lsquo;\",\"\").replace(\"&#39;\",\"\").replace(\"#39;s\",\"\")\n",
    "            content=content.replace(\"&nbsp;\",\" \").replace(\"nbsp;\",\" \").replace(\"&#39;\",\"\").replace(\"amp;\",\"\").replace(\"&middot;\",\"\")\n",
    "            content=content.replace(\".\",\" \").replace(\",\",\"\").replace(\"?\",\" \").replace(\"!\",\"\").replace(\"  \",\" \").replace(\"middot;\",\"\")\n",
    "            content=content.replace(\"&rsquo;\",\"\").replace(\"rsquo;\",\" \").replace(\"\\t\",\" \").replace(\"\\r\\n\\r\\n\",\"\").replace(\" \\r\\n \",\"\")\n",
    "            content=content.replace(\"&ndash;\",\" \").replace(\"ndash;\",\" \").replace(\"\\r\\n\\r\\n\",\" \").replace(\" \\r\\n \",\" \").replace(\"\\r\\n\",\" \")\n",
    "            content=content.replace(\"\\r\",\" \").replace(\"  \",\"\").replace(\"   \",\"\").replace(\"  \",\"\").replace(\"   \",\"\")\n",
    "            content=content.replace(\"(\",\"\").replace(\")\",\"\").replace(\" - \",\" \").replace(\" / \",\" \").replace(\"/\",\" \").replace(\"   \",\"\")\n",
    "            content=re.sub('<.*?>',\"\",content , flags=re.DOTALL)\n",
    "            content=content.replace(\"&ldquo;\",\"\").replace(\"ldquo;\",\"\").replace(\"&rdquo;\",\"\").replace(\"rdquo;\",\"\")\n",
    "            try:\n",
    "                content=''.join([i for i in content if not i.isdigit()])\n",
    "            except:\n",
    "                pass\n",
    "            content=content.split(\" \")\n",
    "            y=[]\n",
    "            for i in content:\n",
    "                if len(i)>1:\n",
    "                    y.append(i.lower())\n",
    "            d[str(user_id)]=y\n",
    "        res.append(y)\n",
    "    return res"
   ]
  },
  {
   "cell_type": "code",
   "execution_count": 19,
   "metadata": {},
   "outputs": [
    {
     "name": "stdout",
     "output_type": "stream",
     "text": [
      "progress :  0.0\n"
     ]
    }
   ],
   "source": [
    "clean_test_user_info=clean_user(test_user_info, test)"
   ]
  },
  {
   "cell_type": "code",
   "execution_count": 20,
   "metadata": {},
   "outputs": [
    {
     "name": "stdout",
     "output_type": "stream",
     "text": [
      "progress :  0.0\n",
      "progress :  0.03995652729829945\n",
      "progress :  0.0799130545965989\n",
      "progress :  0.11986958189489835\n",
      "progress :  0.1598261091931978\n",
      "progress :  0.19978263649149725\n",
      "progress :  0.2397391637897967\n",
      "progress :  0.27969569108809617\n",
      "progress :  0.3196522183863956\n",
      "progress :  0.35960874568469503\n",
      "progress :  0.3995652729829945\n",
      "progress :  0.43952180028129395\n",
      "progress :  0.4794783275795934\n",
      "progress :  0.5194348548778929\n",
      "progress :  0.5593913821761923\n",
      "progress :  0.5993479094744918\n",
      "progress :  0.6393044367727913\n",
      "progress :  0.6792609640710906\n",
      "progress :  0.7192174913693901\n",
      "progress :  0.7591740186676895\n",
      "progress :  0.799130545965989\n",
      "progress :  0.8390870732642884\n",
      "progress :  0.8790436005625879\n",
      "progress :  0.9190001278608874\n",
      "progress :  0.9589566551591868\n",
      "progress :  0.9989131824574863\n"
     ]
    }
   ],
   "source": [
    "clean_train_user_info=clean_user(train_user_info, train)"
   ]
  },
  {
   "cell_type": "code",
   "execution_count": 21,
   "metadata": {},
   "outputs": [],
   "source": [
    "def get_job_info(df):\n",
    "    job_info=[]\n",
    "    d={}\n",
    "    for i in range(df.shape[0]):\n",
    "        data=df.iloc[i]\n",
    "        job_id=data[\"job_id\"]\n",
    "        try:\n",
    "            a=d[str(job_id)]\n",
    "        except:\n",
    "            title=data[\"job_title\"]\n",
    "            job_sector_title=data[\"job_sector_title\"]\n",
    "            description=data[\"job_description\"]\n",
    "            em_title=data[\"employer_title\"]\n",
    "            em_sector_title=data[\"employer_sector_title\"]\n",
    "            em_description=data[\"employer_description\"]\n",
    "            a=\"\"\n",
    "            a+=title+\" \"\n",
    "            a+=job_sector_title+\" \"\n",
    "            a+=description+\" \"\n",
    "            a+=em_title+\" \"\n",
    "            a+=em_sector_title+\" \"\n",
    "            a+=em_description\n",
    "            d[str(job_id)]=a\n",
    "        job_info.append(a)\n",
    "    return job_info"
   ]
  },
  {
   "cell_type": "code",
   "execution_count": 22,
   "metadata": {},
   "outputs": [],
   "source": [
    "test_job_info=get_job_info(test)"
   ]
  },
  {
   "cell_type": "code",
   "execution_count": 23,
   "metadata": {},
   "outputs": [],
   "source": [
    "train_job_info=get_job_info(train)"
   ]
  },
  {
   "cell_type": "code",
   "execution_count": 24,
   "metadata": {},
   "outputs": [],
   "source": [
    "def clean(x,df):\n",
    "    res=[]\n",
    "    n=len(x)\n",
    "    d={}\n",
    "    for i,content in enumerate(x):\n",
    "        if i%5000==0:\n",
    "            print(\"progress : \",i/n)\n",
    "        data=df.iloc[i]\n",
    "        job_id=data[\"job_id\"]\n",
    "        try:\n",
    "            y=d[str(job_id)]\n",
    "        except:\n",
    "            content=content.replace(\",\",\"\").replace(\"-\",\" \").replace(\"  \",\" \").replace(\"&eacute;\",\"e\")\n",
    "            content=content.replace(\"(\",\"\").replace(\")\",\"\").replace(\" - \",\" \").replace(\" / \",\" \").replace(\"/\",\" \").replace(\"   \",\"\")\n",
    "            content=content.replace(\"&bull;\",\"\\r\\n \").replace(\"bull;\",\"\\r\\n \").replace(\"\\r\\r\\n\\t\",\" \").replace(\"\\r\\r\\n\",\" \")\n",
    "            content=content.replace(\"\\r\\r\\n\\r\\r\\n\",\" \").replace(\"...\",\" \").replace(\"&#39;s\",\"\").replace(\":\",\"\")\n",
    "            content=content.replace(\"&eacute;\",\"e\").replace(\"&lsquo;\",\"\").replace(\"lsquo;\",\"\").replace(\"&#39;\",\"\").replace(\"#39;s\",\"\")\n",
    "            content=content.replace(\"&nbsp;\",\" \").replace(\"nbsp;\",\" \").replace(\"&#39;\",\"\").replace(\"amp;\",\"\").replace(\"&middot;\",\"\")\n",
    "            content=content.replace(\".\",\" \").replace(\",\",\"\").replace(\"?\",\" \").replace(\"!\",\"\").replace(\"  \",\" \").replace(\"middot;\",\"\")\n",
    "            content=content.replace(\"&rsquo;\",\"\").replace(\"rsquo;\",\" \").replace(\"\\t\",\" \").replace(\"\\r\\n\\r\\n\",\"\").replace(\" \\r\\n \",\"\")\n",
    "            content=content.replace(\"&ndash;\",\" \").replace(\"ndash;\",\" \").replace(\"\\r\\n\\r\\n\",\" \").replace(\" \\r\\n \",\" \").replace(\"\\r\\n\",\" \")\n",
    "            content=content.replace(\"\\r\",\" \").replace(\"  \",\"\").replace(\"   \",\"\").replace(\"  \",\"\").replace(\"   \",\"\")\n",
    "            content=content.replace(\"(\",\"\").replace(\")\",\"\").replace(\" - \",\" \").replace(\" / \",\" \").replace(\"/\",\" \").replace(\"   \",\"\")\n",
    "            content=re.sub('<.*?>',\"\",content , flags=re.DOTALL)\n",
    "            content=content.replace(\"&ldquo;\",\"\").replace(\"ldquo;\",\"\").replace(\"&rdquo;\",\"\").replace(\"rdquo;\",\"\")\n",
    "            try:\n",
    "                content=''.join([i for i in content if not i.isdigit()])\n",
    "            except:\n",
    "                pass\n",
    "            content=content.split(\" \")\n",
    "            y=[]\n",
    "            for i in content:\n",
    "                if len(i)>1:\n",
    "                    y.append(i.lower())\n",
    "            d[str(job_id)]=y\n",
    "        res.append(y)\n",
    "    return res"
   ]
  },
  {
   "cell_type": "code",
   "execution_count": 25,
   "metadata": {},
   "outputs": [
    {
     "name": "stdout",
     "output_type": "stream",
     "text": [
      "progress :  0.0\n"
     ]
    }
   ],
   "source": [
    "cleaned_test_job_info=clean(test_job_info,test)"
   ]
  },
  {
   "cell_type": "code",
   "execution_count": 26,
   "metadata": {},
   "outputs": [
    {
     "name": "stdout",
     "output_type": "stream",
     "text": [
      "progress :  0.0\n",
      "progress :  0.03995652729829945\n",
      "progress :  0.0799130545965989\n",
      "progress :  0.11986958189489835\n",
      "progress :  0.1598261091931978\n",
      "progress :  0.19978263649149725\n",
      "progress :  0.2397391637897967\n",
      "progress :  0.27969569108809617\n",
      "progress :  0.3196522183863956\n",
      "progress :  0.35960874568469503\n",
      "progress :  0.3995652729829945\n",
      "progress :  0.43952180028129395\n",
      "progress :  0.4794783275795934\n",
      "progress :  0.5194348548778929\n",
      "progress :  0.5593913821761923\n",
      "progress :  0.5993479094744918\n",
      "progress :  0.6393044367727913\n",
      "progress :  0.6792609640710906\n",
      "progress :  0.7192174913693901\n",
      "progress :  0.7591740186676895\n",
      "progress :  0.799130545965989\n",
      "progress :  0.8390870732642884\n",
      "progress :  0.8790436005625879\n",
      "progress :  0.9190001278608874\n",
      "progress :  0.9589566551591868\n",
      "progress :  0.9989131824574863\n"
     ]
    }
   ],
   "source": [
    "cleaned_train_job_info=clean(train_job_info,train)"
   ]
  },
  {
   "cell_type": "code",
   "execution_count": 27,
   "metadata": {},
   "outputs": [],
   "source": [
    "def remove_stopwords_job(x, df):\n",
    "    res=[]\n",
    "    n=len(x)\n",
    "    d={}\n",
    "    with open('stopwords.txt') as stopfile:\n",
    "        stopwords = stopfile.read()\n",
    "        stop = stopwords.split()\n",
    "    for i,job in enumerate(x):\n",
    "        if i%5000==0:\n",
    "            print(\"progress : \",i/n)\n",
    "        data=df.iloc[i]\n",
    "        job_id=data[\"job_id\"]\n",
    "        try:\n",
    "            a=d[str(job_id)]\n",
    "        except:\n",
    "            a=[]\n",
    "            for word in job:\n",
    "                if word not in stop:\n",
    "                    a.append(word)\n",
    "            d[str(job_id)]=a\n",
    "        res.append(a)\n",
    "    return res"
   ]
  },
  {
   "cell_type": "code",
   "execution_count": 28,
   "metadata": {},
   "outputs": [],
   "source": [
    "def remove_stopwords_user(x, df):\n",
    "    res=[]\n",
    "    n=len(x)\n",
    "    d={}\n",
    "    with open('stopwords.txt') as stopfile:\n",
    "        stopwords = stopfile.read()\n",
    "        stop = stopwords.split()\n",
    "    for i,user in enumerate(x):\n",
    "        if i%5000==0:\n",
    "            print(\"progress : \",i/n)\n",
    "        data=df.iloc[i]\n",
    "        user_id=data[\"user_id\"]\n",
    "        try:\n",
    "            a=d[str(user_id)]\n",
    "        except:\n",
    "            a=[]\n",
    "            for word in user:\n",
    "                if word not in stop:\n",
    "                    a.append(word)\n",
    "            d[str(user_id)]=a\n",
    "        res.append(a)\n",
    "    return res"
   ]
  },
  {
   "cell_type": "code",
   "execution_count": 29,
   "metadata": {},
   "outputs": [
    {
     "name": "stdout",
     "output_type": "stream",
     "text": [
      "progress :  0.0\n"
     ]
    }
   ],
   "source": [
    "test_clean=remove_stopwords_job(cleaned_test_job_info,test)"
   ]
  },
  {
   "cell_type": "code",
   "execution_count": 30,
   "metadata": {},
   "outputs": [
    {
     "name": "stdout",
     "output_type": "stream",
     "text": [
      "progress :  0.0\n",
      "progress :  0.03995652729829945\n",
      "progress :  0.0799130545965989\n",
      "progress :  0.11986958189489835\n",
      "progress :  0.1598261091931978\n",
      "progress :  0.19978263649149725\n",
      "progress :  0.2397391637897967\n",
      "progress :  0.27969569108809617\n",
      "progress :  0.3196522183863956\n",
      "progress :  0.35960874568469503\n",
      "progress :  0.3995652729829945\n",
      "progress :  0.43952180028129395\n",
      "progress :  0.4794783275795934\n",
      "progress :  0.5194348548778929\n",
      "progress :  0.5593913821761923\n",
      "progress :  0.5993479094744918\n",
      "progress :  0.6393044367727913\n",
      "progress :  0.6792609640710906\n",
      "progress :  0.7192174913693901\n",
      "progress :  0.7591740186676895\n",
      "progress :  0.799130545965989\n",
      "progress :  0.8390870732642884\n",
      "progress :  0.8790436005625879\n",
      "progress :  0.9190001278608874\n",
      "progress :  0.9589566551591868\n",
      "progress :  0.9989131824574863\n"
     ]
    }
   ],
   "source": [
    "train_clean=remove_stopwords_job(cleaned_train_job_info,train)"
   ]
  },
  {
   "cell_type": "code",
   "execution_count": 31,
   "metadata": {},
   "outputs": [
    {
     "name": "stdout",
     "output_type": "stream",
     "text": [
      "progress :  0.0\n"
     ]
    }
   ],
   "source": [
    "test_user_clean=remove_stopwords_user(clean_test_user_info,test)"
   ]
  },
  {
   "cell_type": "code",
   "execution_count": 32,
   "metadata": {},
   "outputs": [
    {
     "name": "stdout",
     "output_type": "stream",
     "text": [
      "progress :  0.0\n",
      "progress :  0.03995652729829945\n",
      "progress :  0.0799130545965989\n",
      "progress :  0.11986958189489835\n",
      "progress :  0.1598261091931978\n",
      "progress :  0.19978263649149725\n",
      "progress :  0.2397391637897967\n",
      "progress :  0.27969569108809617\n",
      "progress :  0.3196522183863956\n",
      "progress :  0.35960874568469503\n",
      "progress :  0.3995652729829945\n",
      "progress :  0.43952180028129395\n",
      "progress :  0.4794783275795934\n",
      "progress :  0.5194348548778929\n",
      "progress :  0.5593913821761923\n",
      "progress :  0.5993479094744918\n",
      "progress :  0.6393044367727913\n",
      "progress :  0.6792609640710906\n",
      "progress :  0.7192174913693901\n",
      "progress :  0.7591740186676895\n",
      "progress :  0.799130545965989\n",
      "progress :  0.8390870732642884\n",
      "progress :  0.8790436005625879\n",
      "progress :  0.9190001278608874\n",
      "progress :  0.9589566551591868\n",
      "progress :  0.9989131824574863\n"
     ]
    }
   ],
   "source": [
    "train_user_clean=remove_stopwords_user(clean_train_user_info,train)"
   ]
  },
  {
   "cell_type": "code",
   "execution_count": 33,
   "metadata": {},
   "outputs": [],
   "source": [
    "def get_occurence_job(x,df):\n",
    "    res=[]\n",
    "    n=len(x)\n",
    "    d={}\n",
    "    for i,job in enumerate(x):\n",
    "        if i%5000==0:\n",
    "            print(\"progress : \",i/n)\n",
    "        data=df.iloc[i]\n",
    "        job_id=data[\"job_id\"]\n",
    "        try:\n",
    "            a=d[str(job_id)]\n",
    "        except:\n",
    "            a=dict(Counter(job))\n",
    "            d[str(job_id)]=a\n",
    "        res.append(a)\n",
    "    return res"
   ]
  },
  {
   "cell_type": "code",
   "execution_count": 34,
   "metadata": {},
   "outputs": [],
   "source": [
    "def get_occurence_user(x,df):\n",
    "    res=[]\n",
    "    n=len(x)\n",
    "    d={}\n",
    "    for i,user in enumerate(x):\n",
    "        if i%5000==0:\n",
    "            print(\"progress : \",i/n)\n",
    "        data=df.iloc[i]\n",
    "        user_id=data[\"user_id\"]\n",
    "        try:\n",
    "            a=d[str(user_id)]\n",
    "        except:\n",
    "            a=dict(Counter(user))\n",
    "            d[str(user_id)]=a\n",
    "        res.append(a)\n",
    "    return res"
   ]
  },
  {
   "cell_type": "code",
   "execution_count": 35,
   "metadata": {},
   "outputs": [
    {
     "name": "stdout",
     "output_type": "stream",
     "text": [
      "progress :  0.0\n"
     ]
    }
   ],
   "source": [
    "test_occurences=get_occurence_job(test_clean,test)"
   ]
  },
  {
   "cell_type": "code",
   "execution_count": 36,
   "metadata": {},
   "outputs": [
    {
     "name": "stdout",
     "output_type": "stream",
     "text": [
      "progress :  0.0\n",
      "progress :  0.03995652729829945\n",
      "progress :  0.0799130545965989\n",
      "progress :  0.11986958189489835\n",
      "progress :  0.1598261091931978\n",
      "progress :  0.19978263649149725\n",
      "progress :  0.2397391637897967\n",
      "progress :  0.27969569108809617\n",
      "progress :  0.3196522183863956\n",
      "progress :  0.35960874568469503\n",
      "progress :  0.3995652729829945\n",
      "progress :  0.43952180028129395\n",
      "progress :  0.4794783275795934\n",
      "progress :  0.5194348548778929\n",
      "progress :  0.5593913821761923\n",
      "progress :  0.5993479094744918\n",
      "progress :  0.6393044367727913\n",
      "progress :  0.6792609640710906\n",
      "progress :  0.7192174913693901\n",
      "progress :  0.7591740186676895\n",
      "progress :  0.799130545965989\n",
      "progress :  0.8390870732642884\n",
      "progress :  0.8790436005625879\n",
      "progress :  0.9190001278608874\n",
      "progress :  0.9589566551591868\n",
      "progress :  0.9989131824574863\n"
     ]
    }
   ],
   "source": [
    "occurences=get_occurence_job(train_clean,train)"
   ]
  },
  {
   "cell_type": "code",
   "execution_count": 37,
   "metadata": {},
   "outputs": [
    {
     "name": "stdout",
     "output_type": "stream",
     "text": [
      "progress :  0.0\n"
     ]
    }
   ],
   "source": [
    "test_user_occurences=get_occurence_user(test_user_clean,test)"
   ]
  },
  {
   "cell_type": "code",
   "execution_count": 38,
   "metadata": {},
   "outputs": [
    {
     "name": "stdout",
     "output_type": "stream",
     "text": [
      "progress :  0.0\n",
      "progress :  0.03995652729829945\n",
      "progress :  0.0799130545965989\n",
      "progress :  0.11986958189489835\n",
      "progress :  0.1598261091931978\n",
      "progress :  0.19978263649149725\n",
      "progress :  0.2397391637897967\n",
      "progress :  0.27969569108809617\n",
      "progress :  0.3196522183863956\n",
      "progress :  0.35960874568469503\n",
      "progress :  0.3995652729829945\n",
      "progress :  0.43952180028129395\n",
      "progress :  0.4794783275795934\n",
      "progress :  0.5194348548778929\n",
      "progress :  0.5593913821761923\n",
      "progress :  0.5993479094744918\n",
      "progress :  0.6393044367727913\n",
      "progress :  0.6792609640710906\n",
      "progress :  0.7192174913693901\n",
      "progress :  0.7591740186676895\n",
      "progress :  0.799130545965989\n",
      "progress :  0.8390870732642884\n",
      "progress :  0.8790436005625879\n",
      "progress :  0.9190001278608874\n",
      "progress :  0.9589566551591868\n",
      "progress :  0.9989131824574863\n"
     ]
    }
   ],
   "source": [
    "train_user_occurences=get_occurence_user(train_user_clean,train)"
   ]
  },
  {
   "cell_type": "code",
   "execution_count": 39,
   "metadata": {},
   "outputs": [],
   "source": [
    "def get_vector_job(occurences, jobs, vector_size,df):\n",
    "    vector=[]\n",
    "    d={}\n",
    "    model = Word2Vec.load('model.bin')\n",
    "    nb=len(jobs)\n",
    "    for i,job in enumerate(jobs):\n",
    "        if i%10000==0:\n",
    "            print(\"progress : \",i/nb )\n",
    "        data=df.iloc[i]\n",
    "        job_id=data[\"job_id\"]\n",
    "        try:\n",
    "            res=d[str(job_id)]\n",
    "        except:\n",
    "            res=np.zeros(vector_size,)\n",
    "            n=sum(list(occurences[i].values()))\n",
    "            job_unique=list(set(job))\n",
    "            for word in job_unique:\n",
    "                try:\n",
    "                    a=model[word]\n",
    "                except:\n",
    "                    #print(word)\n",
    "                    a=None\n",
    "                if a is not None:\n",
    "                    count=occurences[i][word]\n",
    "                    w=count/n\n",
    "                    res+=w*a\n",
    "            d[str(job_id)]=res\n",
    "        vector.append(res)\n",
    "    return vector"
   ]
  },
  {
   "cell_type": "code",
   "execution_count": 40,
   "metadata": {},
   "outputs": [],
   "source": [
    "def get_vector_user(occurences, users, vector_size,df):\n",
    "    vector=[]\n",
    "    d={}\n",
    "    model = Word2Vec.load('model.bin')\n",
    "    nb=len(users)\n",
    "    for i,user in enumerate(users):\n",
    "        if i%10000==0:\n",
    "            print(\"progress : \",i/nb )\n",
    "        data=df.iloc[i]\n",
    "        user_id=data[\"user_id\"]\n",
    "        try:\n",
    "            res=d[str(user_id)]\n",
    "        except:\n",
    "            res=np.zeros(vector_size,)\n",
    "            n=sum(list(occurences[i].values()))\n",
    "            user_unique=list(set(user))\n",
    "            for word in user_unique:\n",
    "                try:\n",
    "                    a=model[word]\n",
    "                except:\n",
    "                    #print(word)\n",
    "                    a=None\n",
    "                if a is not None:\n",
    "                    count=occurences[i][word]\n",
    "                    w=count/n\n",
    "                    res+=w*a\n",
    "            d[str(user_id)]=res\n",
    "        vector.append(res)\n",
    "    return vector"
   ]
  },
  {
   "cell_type": "code",
   "execution_count": 41,
   "metadata": {},
   "outputs": [
    {
     "name": "stdout",
     "output_type": "stream",
     "text": [
      "progress :  0.0\n"
     ]
    },
    {
     "name": "stderr",
     "output_type": "stream",
     "text": [
      "C:\\Users\\Lassana Diabira\\Anaconda3\\lib\\site-packages\\ipykernel_launcher.py:19: DeprecationWarning: Call to deprecated `__getitem__` (Method will be removed in 4.0.0, use self.wv.__getitem__() instead).\n"
     ]
    }
   ],
   "source": [
    "test_X=get_vector_job(test_occurences, test_clean, 350,test)"
   ]
  },
  {
   "cell_type": "code",
   "execution_count": 42,
   "metadata": {},
   "outputs": [
    {
     "name": "stdout",
     "output_type": "stream",
     "text": [
      "progress :  0.0\n"
     ]
    },
    {
     "name": "stderr",
     "output_type": "stream",
     "text": [
      "C:\\Users\\Lassana Diabira\\Anaconda3\\lib\\site-packages\\ipykernel_launcher.py:19: DeprecationWarning: Call to deprecated `__getitem__` (Method will be removed in 4.0.0, use self.wv.__getitem__() instead).\n"
     ]
    },
    {
     "name": "stdout",
     "output_type": "stream",
     "text": [
      "progress :  0.0799130545965989\n",
      "progress :  0.1598261091931978\n",
      "progress :  0.2397391637897967\n",
      "progress :  0.3196522183863956\n",
      "progress :  0.3995652729829945\n",
      "progress :  0.4794783275795934\n",
      "progress :  0.5593913821761923\n",
      "progress :  0.6393044367727913\n",
      "progress :  0.7192174913693901\n",
      "progress :  0.799130545965989\n",
      "progress :  0.8790436005625879\n",
      "progress :  0.9589566551591868\n"
     ]
    }
   ],
   "source": [
    "X=get_vector_job(occurences, train_clean, 350,train)"
   ]
  },
  {
   "cell_type": "code",
   "execution_count": 43,
   "metadata": {},
   "outputs": [
    {
     "name": "stdout",
     "output_type": "stream",
     "text": [
      "progress :  0.0\n"
     ]
    },
    {
     "name": "stderr",
     "output_type": "stream",
     "text": [
      "C:\\Users\\Lassana Diabira\\Anaconda3\\lib\\site-packages\\ipykernel_launcher.py:19: DeprecationWarning: Call to deprecated `__getitem__` (Method will be removed in 4.0.0, use self.wv.__getitem__() instead).\n"
     ]
    }
   ],
   "source": [
    "test_X_user=get_vector_user(test_user_occurences, test_user_clean, 350, test)"
   ]
  },
  {
   "cell_type": "code",
   "execution_count": 44,
   "metadata": {},
   "outputs": [
    {
     "name": "stdout",
     "output_type": "stream",
     "text": [
      "progress :  0.0\n"
     ]
    },
    {
     "name": "stderr",
     "output_type": "stream",
     "text": [
      "C:\\Users\\Lassana Diabira\\Anaconda3\\lib\\site-packages\\ipykernel_launcher.py:19: DeprecationWarning: Call to deprecated `__getitem__` (Method will be removed in 4.0.0, use self.wv.__getitem__() instead).\n"
     ]
    },
    {
     "name": "stdout",
     "output_type": "stream",
     "text": [
      "progress :  0.0799130545965989\n",
      "progress :  0.1598261091931978\n",
      "progress :  0.2397391637897967\n",
      "progress :  0.3196522183863956\n",
      "progress :  0.3995652729829945\n",
      "progress :  0.4794783275795934\n",
      "progress :  0.5593913821761923\n",
      "progress :  0.6393044367727913\n",
      "progress :  0.7192174913693901\n",
      "progress :  0.799130545965989\n",
      "progress :  0.8790436005625879\n",
      "progress :  0.9589566551591868\n"
     ]
    }
   ],
   "source": [
    "X_user=get_vector_user(train_user_occurences, train_user_clean, 350, train)"
   ]
  },
  {
   "cell_type": "code",
   "execution_count": 45,
   "metadata": {},
   "outputs": [],
   "source": [
    "test_X_train=np.array(test_X)"
   ]
  },
  {
   "cell_type": "code",
   "execution_count": 46,
   "metadata": {},
   "outputs": [
    {
     "data": {
      "text/plain": [
       "(2045, 350)"
      ]
     },
     "execution_count": 46,
     "metadata": {},
     "output_type": "execute_result"
    }
   ],
   "source": [
    "test_X_train.shape"
   ]
  },
  {
   "cell_type": "code",
   "execution_count": 47,
   "metadata": {},
   "outputs": [],
   "source": [
    "X_train=np.array(X)"
   ]
  },
  {
   "cell_type": "code",
   "execution_count": 48,
   "metadata": {},
   "outputs": [
    {
     "data": {
      "text/plain": [
       "(125136, 350)"
      ]
     },
     "execution_count": 48,
     "metadata": {},
     "output_type": "execute_result"
    }
   ],
   "source": [
    "X_train.shape"
   ]
  },
  {
   "cell_type": "code",
   "execution_count": 49,
   "metadata": {},
   "outputs": [],
   "source": [
    "test_X_train_user=np.array(test_X_user)"
   ]
  },
  {
   "cell_type": "code",
   "execution_count": 50,
   "metadata": {},
   "outputs": [],
   "source": [
    "X_train_user=np.array(X_user)"
   ]
  },
  {
   "cell_type": "code",
   "execution_count": 51,
   "metadata": {},
   "outputs": [
    {
     "data": {
      "text/plain": [
       "(125136, 350)"
      ]
     },
     "execution_count": 51,
     "metadata": {},
     "output_type": "execute_result"
    }
   ],
   "source": [
    "X_train_user.shape"
   ]
  },
  {
   "cell_type": "code",
   "execution_count": 52,
   "metadata": {},
   "outputs": [],
   "source": [
    "#X_train_job_final=np.concatenate((X_train, job_characteristics.values), axis=1)"
   ]
  },
  {
   "cell_type": "code",
   "execution_count": 53,
   "metadata": {},
   "outputs": [],
   "source": [
    "#X_train_job_final.shape"
   ]
  },
  {
   "cell_type": "code",
   "execution_count": 54,
   "metadata": {},
   "outputs": [],
   "source": [
    "#X_train_user_final=np.concatenate((X_train_user, user_characteristics.values), axis=1)"
   ]
  },
  {
   "cell_type": "code",
   "execution_count": 55,
   "metadata": {},
   "outputs": [],
   "source": [
    "#X_train_user_final.shape"
   ]
  },
  {
   "cell_type": "code",
   "execution_count": 56,
   "metadata": {},
   "outputs": [],
   "source": [
    "#pca = PCA(n_components=2)\n",
    "#result_user = pca.fit_transform(X_train_user_final)"
   ]
  },
  {
   "cell_type": "code",
   "execution_count": 57,
   "metadata": {},
   "outputs": [],
   "source": [
    "#print(pca.explained_variance_ratio_)"
   ]
  },
  {
   "cell_type": "code",
   "execution_count": 58,
   "metadata": {},
   "outputs": [],
   "source": [
    "#pca = PCA(n_components=2)\n",
    "#result = pca.fit_transform(X_train_job_final)"
   ]
  },
  {
   "cell_type": "code",
   "execution_count": 59,
   "metadata": {},
   "outputs": [],
   "source": [
    "#print(pca.explained_variance_ratio_)"
   ]
  },
  {
   "cell_type": "code",
   "execution_count": 60,
   "metadata": {},
   "outputs": [],
   "source": [
    "#users=list(train[\"user_id\"].values)\n",
    "#users=[str(i) for i in users]"
   ]
  },
  {
   "cell_type": "code",
   "execution_count": 61,
   "metadata": {},
   "outputs": [],
   "source": [
    "def get_job_info_plot(df):\n",
    "    job_info=[]\n",
    "    for i in range(df.shape[0]):\n",
    "        data=df.iloc[i]\n",
    "        title=data[\"job_title\"]\n",
    "        em_title=data[\"employer_title\"]\n",
    "        a=\"\"\n",
    "        a+=title+\" \"\n",
    "        a+=em_title+\" \"\n",
    "        job_info.append(a)\n",
    "    return job_info"
   ]
  },
  {
   "cell_type": "code",
   "execution_count": 62,
   "metadata": {},
   "outputs": [],
   "source": [
    "#infos=get_job_info_plot(train)"
   ]
  },
  {
   "cell_type": "code",
   "execution_count": 63,
   "metadata": {},
   "outputs": [
    {
     "data": {
      "text/plain": [
       "'k=200\\nplt.figure(figsize=(20,20))\\nplt.scatter(result_user[:k, 0], result_user[:k, 1])\\nfor i, word in enumerate(users[:k]):\\n    plt.annotate(word, xy=(result_user[i, 0], result_user[i, 1]))\\nplt.show()'"
      ]
     },
     "execution_count": 63,
     "metadata": {},
     "output_type": "execute_result"
    }
   ],
   "source": [
    "\"\"\"k=200\n",
    "plt.figure(figsize=(20,20))\n",
    "plt.scatter(result_user[:k, 0], result_user[:k, 1])\n",
    "for i, word in enumerate(users[:k]):\n",
    "    plt.annotate(word, xy=(result_user[i, 0], result_user[i, 1]))\n",
    "plt.show()\"\"\""
   ]
  },
  {
   "cell_type": "code",
   "execution_count": 64,
   "metadata": {},
   "outputs": [
    {
     "data": {
      "text/plain": [
       "job_title                                    Graduate Analytics Consultant\n",
       "employer_title                                                   Concentra\n",
       "employer_sector_title                                           Consulting\n",
       "job_sector_title               Technology: Consulting & Project Management\n",
       "gender                                                                Male\n",
       "ethnicity                                                              NaN\n",
       "university_name                                    University of Liverpool\n",
       "degree_subject_name                                              Economics\n",
       "user_preference          Commercial Law Consumer, FMCG & Retail Educati...\n",
       "Name: 75765, dtype: object"
      ]
     },
     "execution_count": 64,
     "metadata": {},
     "output_type": "execute_result"
    }
   ],
   "source": [
    "train.iloc[10][['job_title','employer_title', 'employer_sector_title', 'job_sector_title', 'gender',\n",
    "       'ethnicity', 'university_name', 'degree_subject_name', 'user_preference']]"
   ]
  },
  {
   "cell_type": "code",
   "execution_count": 65,
   "metadata": {},
   "outputs": [],
   "source": [
    "def get_similar_member(df, X_train, doc_id, n):\n",
    "    res=[]\n",
    "    beta=[]\n",
    "    cos=list(cosine_similarity(X_train[doc_id,:].reshape(1, -1) , X_train))[0]\n",
    "    most_similar_doc_id=np.argsort(cos)[::-1]\n",
    "    a=0\n",
    "    while cos[most_similar_doc_id[a]]>=0.9999999:\n",
    "        a+=1\n",
    "    most_similar_doc_id=most_similar_doc_id[a:]\n",
    "    res.append(df.iloc[most_similar_doc_id[0]][\"user_id\"])\n",
    "    beta.append(cos[most_similar_doc_id[0]])\n",
    "    for i in range(1,len(most_similar_doc_id)):\n",
    "        if cos[most_similar_doc_id[i]] not in beta:\n",
    "            user=df.iloc[most_similar_doc_id[i]][\"user_id\"]\n",
    "            if user not in res:\n",
    "                res.append(user)\n",
    "                beta.append(cos[most_similar_doc_id[i]])\n",
    "    print(\" user id : \", df.iloc[doc_id][\"user_id\"])\n",
    "    print(\"most similar doc : \", res[:n])\n",
    "    print(\"most similar values : \", beta[:n])\n",
    "    print(\"not similar doc : \", res[-n:][::-1])\n",
    "    print(\"not similar values : \", beta[-n:][::-1])"
   ]
  },
  {
   "cell_type": "code",
   "execution_count": 66,
   "metadata": {},
   "outputs": [
    {
     "name": "stdout",
     "output_type": "stream",
     "text": [
      " user id :  87050\n",
      "most similar doc :  [154093, 108679, 49239, 159411, 151035]\n",
      "most similar values :  [0.9730714533728877, 0.9710813454960002, 0.9708624598126464, 0.9707238912044533, 0.9697656148414618]\n",
      "not similar doc :  [158698, 180714, 173617, 193292, 142975]\n",
      "not similar values :  [-0.11914561202612466, -0.10857386500394699, 0.03695085713511763, 0.1308361492375208, 0.16804726740535536]\n"
     ]
    }
   ],
   "source": [
    "get_similar_member(train, X_train_user, 10, 5)"
   ]
  },
  {
   "cell_type": "markdown",
   "metadata": {},
   "source": [
    "# user"
   ]
  },
  {
   "cell_type": "code",
   "execution_count": 67,
   "metadata": {},
   "outputs": [
    {
     "data": {
      "text/html": [
       "<div>\n",
       "<style scoped>\n",
       "    .dataframe tbody tr th:only-of-type {\n",
       "        vertical-align: middle;\n",
       "    }\n",
       "\n",
       "    .dataframe tbody tr th {\n",
       "        vertical-align: top;\n",
       "    }\n",
       "\n",
       "    .dataframe thead th {\n",
       "        text-align: right;\n",
       "    }\n",
       "</style>\n",
       "<table border=\"1\" class=\"dataframe\">\n",
       "  <thead>\n",
       "    <tr style=\"text-align: right;\">\n",
       "      <th></th>\n",
       "      <th>job_title</th>\n",
       "      <th>employer_title</th>\n",
       "      <th>employer_sector_title</th>\n",
       "      <th>job_sector_title</th>\n",
       "      <th>gender</th>\n",
       "      <th>ethnicity</th>\n",
       "      <th>university_name</th>\n",
       "      <th>degree_subject_name</th>\n",
       "      <th>user_preference</th>\n",
       "    </tr>\n",
       "  </thead>\n",
       "  <tbody>\n",
       "    <tr>\n",
       "      <th>62432</th>\n",
       "      <td>Commercial programme</td>\n",
       "      <td>BAE Systems</td>\n",
       "      <td>Technology: Consulting &amp; Project Management</td>\n",
       "      <td>Technology: Consulting &amp; Project Management</td>\n",
       "      <td>Female</td>\n",
       "      <td>White/White British</td>\n",
       "      <td>Royal Holloway</td>\n",
       "      <td>Sociology</td>\n",
       "      <td>NaN</td>\n",
       "    </tr>\n",
       "    <tr>\n",
       "      <th>62433</th>\n",
       "      <td>Graduate Scheme</td>\n",
       "      <td>Worthwhile</td>\n",
       "      <td>Entrepreneurship &amp; Start Ups</td>\n",
       "      <td>Charity &amp; Social Enterprise</td>\n",
       "      <td>Female</td>\n",
       "      <td>White/White British</td>\n",
       "      <td>Royal Holloway</td>\n",
       "      <td>Sociology</td>\n",
       "      <td>NaN</td>\n",
       "    </tr>\n",
       "    <tr>\n",
       "      <th>62435</th>\n",
       "      <td>2018 Associate Programme</td>\n",
       "      <td>On Purpose</td>\n",
       "      <td>Entrepreneurship &amp; Start Ups</td>\n",
       "      <td>Charity &amp; Social Enterprise</td>\n",
       "      <td>Female</td>\n",
       "      <td>White/White British</td>\n",
       "      <td>Royal Holloway</td>\n",
       "      <td>Sociology</td>\n",
       "      <td>NaN</td>\n",
       "    </tr>\n",
       "    <tr>\n",
       "      <th>62431</th>\n",
       "      <td>Global Research Global Graduate Programme</td>\n",
       "      <td>HSBC</td>\n",
       "      <td>Financial Services</td>\n",
       "      <td>Financial Services</td>\n",
       "      <td>Female</td>\n",
       "      <td>White/White British</td>\n",
       "      <td>Royal Holloway</td>\n",
       "      <td>Sociology</td>\n",
       "      <td>NaN</td>\n",
       "    </tr>\n",
       "    <tr>\n",
       "      <th>62438</th>\n",
       "      <td>Graduate Scheme</td>\n",
       "      <td>Brainlabs</td>\n",
       "      <td>Education &amp; Teaching</td>\n",
       "      <td>Technology: IT &amp; Software Development</td>\n",
       "      <td>Female</td>\n",
       "      <td>White/White British</td>\n",
       "      <td>Royal Holloway</td>\n",
       "      <td>Sociology</td>\n",
       "      <td>NaN</td>\n",
       "    </tr>\n",
       "  </tbody>\n",
       "</table>\n",
       "</div>"
      ],
      "text/plain": [
       "                                       job_title employer_title  \\\n",
       "62432                       Commercial programme    BAE Systems   \n",
       "62433                            Graduate Scheme     Worthwhile   \n",
       "62435                   2018 Associate Programme     On Purpose   \n",
       "62431  Global Research Global Graduate Programme           HSBC   \n",
       "62438                            Graduate Scheme      Brainlabs   \n",
       "\n",
       "                             employer_sector_title  \\\n",
       "62432  Technology: Consulting & Project Management   \n",
       "62433                 Entrepreneurship & Start Ups   \n",
       "62435                 Entrepreneurship & Start Ups   \n",
       "62431                           Financial Services   \n",
       "62438                         Education & Teaching   \n",
       "\n",
       "                                  job_sector_title  gender  \\\n",
       "62432  Technology: Consulting & Project Management  Female   \n",
       "62433                  Charity & Social Enterprise  Female   \n",
       "62435                  Charity & Social Enterprise  Female   \n",
       "62431                           Financial Services  Female   \n",
       "62438        Technology: IT & Software Development  Female   \n",
       "\n",
       "                 ethnicity university_name degree_subject_name user_preference  \n",
       "62432  White/White British  Royal Holloway           Sociology             NaN  \n",
       "62433  White/White British  Royal Holloway           Sociology             NaN  \n",
       "62435  White/White British  Royal Holloway           Sociology             NaN  \n",
       "62431  White/White British  Royal Holloway           Sociology             NaN  \n",
       "62438  White/White British  Royal Holloway           Sociology             NaN  "
      ]
     },
     "execution_count": 67,
     "metadata": {},
     "output_type": "execute_result"
    }
   ],
   "source": [
    "train[train[\"user_id\"]==117634][['job_title','employer_title', 'employer_sector_title', 'job_sector_title', 'gender',\n",
    "       'ethnicity', 'university_name', 'degree_subject_name', 'user_preference']].tail()"
   ]
  },
  {
   "cell_type": "markdown",
   "metadata": {},
   "source": [
    "# similar users"
   ]
  },
  {
   "cell_type": "code",
   "execution_count": 68,
   "metadata": {},
   "outputs": [
    {
     "data": {
      "text/html": [
       "<div>\n",
       "<style scoped>\n",
       "    .dataframe tbody tr th:only-of-type {\n",
       "        vertical-align: middle;\n",
       "    }\n",
       "\n",
       "    .dataframe tbody tr th {\n",
       "        vertical-align: top;\n",
       "    }\n",
       "\n",
       "    .dataframe thead th {\n",
       "        text-align: right;\n",
       "    }\n",
       "</style>\n",
       "<table border=\"1\" class=\"dataframe\">\n",
       "  <thead>\n",
       "    <tr style=\"text-align: right;\">\n",
       "      <th></th>\n",
       "      <th>job_title</th>\n",
       "      <th>employer_title</th>\n",
       "      <th>employer_sector_title</th>\n",
       "      <th>job_sector_title</th>\n",
       "      <th>gender</th>\n",
       "      <th>ethnicity</th>\n",
       "      <th>university_name</th>\n",
       "      <th>degree_subject_name</th>\n",
       "      <th>user_preference</th>\n",
       "    </tr>\n",
       "  </thead>\n",
       "  <tbody>\n",
       "    <tr>\n",
       "      <th>60911</th>\n",
       "      <td>Global Research Global Graduate Programme</td>\n",
       "      <td>HSBC</td>\n",
       "      <td>Financial Services</td>\n",
       "      <td>Financial Services</td>\n",
       "      <td>Female</td>\n",
       "      <td>NaN</td>\n",
       "      <td>NaN</td>\n",
       "      <td>NaN</td>\n",
       "      <td>Entrepreneurship &amp; Start Ups Journalism &amp; Publ...</td>\n",
       "    </tr>\n",
       "    <tr>\n",
       "      <th>60913</th>\n",
       "      <td>2018 Associate Programme</td>\n",
       "      <td>On Purpose</td>\n",
       "      <td>Entrepreneurship &amp; Start Ups</td>\n",
       "      <td>Charity &amp; Social Enterprise</td>\n",
       "      <td>Female</td>\n",
       "      <td>NaN</td>\n",
       "      <td>NaN</td>\n",
       "      <td>NaN</td>\n",
       "      <td>Entrepreneurship &amp; Start Ups Journalism &amp; Publ...</td>\n",
       "    </tr>\n",
       "    <tr>\n",
       "      <th>60909</th>\n",
       "      <td>Business Analyst</td>\n",
       "      <td>AT Kearney</td>\n",
       "      <td>Consulting</td>\n",
       "      <td>Consulting</td>\n",
       "      <td>Female</td>\n",
       "      <td>NaN</td>\n",
       "      <td>NaN</td>\n",
       "      <td>NaN</td>\n",
       "      <td>Entrepreneurship &amp; Start Ups Journalism &amp; Publ...</td>\n",
       "    </tr>\n",
       "    <tr>\n",
       "      <th>60910</th>\n",
       "      <td>Graduate Programs</td>\n",
       "      <td>Credit Suisse</td>\n",
       "      <td>Investment Banking</td>\n",
       "      <td>Financial Services</td>\n",
       "      <td>Female</td>\n",
       "      <td>NaN</td>\n",
       "      <td>NaN</td>\n",
       "      <td>NaN</td>\n",
       "      <td>Entrepreneurship &amp; Start Ups Journalism &amp; Publ...</td>\n",
       "    </tr>\n",
       "    <tr>\n",
       "      <th>60918</th>\n",
       "      <td>Graduate Analyst Role</td>\n",
       "      <td>CIL Management Consultants</td>\n",
       "      <td>Consulting</td>\n",
       "      <td>Consulting</td>\n",
       "      <td>Female</td>\n",
       "      <td>NaN</td>\n",
       "      <td>NaN</td>\n",
       "      <td>NaN</td>\n",
       "      <td>Entrepreneurship &amp; Start Ups Journalism &amp; Publ...</td>\n",
       "    </tr>\n",
       "  </tbody>\n",
       "</table>\n",
       "</div>"
      ],
      "text/plain": [
       "                                       job_title              employer_title  \\\n",
       "60911  Global Research Global Graduate Programme                        HSBC   \n",
       "60913                   2018 Associate Programme                  On Purpose   \n",
       "60909                           Business Analyst                  AT Kearney   \n",
       "60910                          Graduate Programs               Credit Suisse   \n",
       "60918                      Graduate Analyst Role  CIL Management Consultants   \n",
       "\n",
       "              employer_sector_title             job_sector_title  gender  \\\n",
       "60911            Financial Services           Financial Services  Female   \n",
       "60913  Entrepreneurship & Start Ups  Charity & Social Enterprise  Female   \n",
       "60909                    Consulting                   Consulting  Female   \n",
       "60910            Investment Banking           Financial Services  Female   \n",
       "60918                    Consulting                   Consulting  Female   \n",
       "\n",
       "      ethnicity university_name degree_subject_name  \\\n",
       "60911       NaN             NaN                 NaN   \n",
       "60913       NaN             NaN                 NaN   \n",
       "60909       NaN             NaN                 NaN   \n",
       "60910       NaN             NaN                 NaN   \n",
       "60918       NaN             NaN                 NaN   \n",
       "\n",
       "                                         user_preference  \n",
       "60911  Entrepreneurship & Start Ups Journalism & Publ...  \n",
       "60913  Entrepreneurship & Start Ups Journalism & Publ...  \n",
       "60909  Entrepreneurship & Start Ups Journalism & Publ...  \n",
       "60910  Entrepreneurship & Start Ups Journalism & Publ...  \n",
       "60918  Entrepreneurship & Start Ups Journalism & Publ...  "
      ]
     },
     "execution_count": 68,
     "metadata": {},
     "output_type": "execute_result"
    }
   ],
   "source": [
    "train[train[\"user_id\"]==182869][['job_title','employer_title', 'employer_sector_title', 'job_sector_title', 'gender',\n",
    "       'ethnicity', 'university_name', 'degree_subject_name', 'user_preference']].tail()"
   ]
  },
  {
   "cell_type": "code",
   "execution_count": 69,
   "metadata": {},
   "outputs": [
    {
     "data": {
      "text/html": [
       "<div>\n",
       "<style scoped>\n",
       "    .dataframe tbody tr th:only-of-type {\n",
       "        vertical-align: middle;\n",
       "    }\n",
       "\n",
       "    .dataframe tbody tr th {\n",
       "        vertical-align: top;\n",
       "    }\n",
       "\n",
       "    .dataframe thead th {\n",
       "        text-align: right;\n",
       "    }\n",
       "</style>\n",
       "<table border=\"1\" class=\"dataframe\">\n",
       "  <thead>\n",
       "    <tr style=\"text-align: right;\">\n",
       "      <th></th>\n",
       "      <th>job_title</th>\n",
       "      <th>employer_title</th>\n",
       "      <th>employer_sector_title</th>\n",
       "      <th>job_sector_title</th>\n",
       "      <th>gender</th>\n",
       "      <th>ethnicity</th>\n",
       "      <th>university_name</th>\n",
       "      <th>degree_subject_name</th>\n",
       "      <th>user_preference</th>\n",
       "    </tr>\n",
       "  </thead>\n",
       "  <tbody>\n",
       "    <tr>\n",
       "      <th>91999</th>\n",
       "      <td>Assistant Consultant</td>\n",
       "      <td>Archus</td>\n",
       "      <td>Consulting</td>\n",
       "      <td>Consulting</td>\n",
       "      <td>Female</td>\n",
       "      <td>White/White British</td>\n",
       "      <td>University of Exeter</td>\n",
       "      <td>Modern Languages</td>\n",
       "      <td>NaN</td>\n",
       "    </tr>\n",
       "    <tr>\n",
       "      <th>92006</th>\n",
       "      <td>Graduate Scheme</td>\n",
       "      <td>Brainlabs</td>\n",
       "      <td>Education &amp; Teaching</td>\n",
       "      <td>Technology: IT &amp; Software Development</td>\n",
       "      <td>Female</td>\n",
       "      <td>White/White British</td>\n",
       "      <td>University of Exeter</td>\n",
       "      <td>Modern Languages</td>\n",
       "      <td>NaN</td>\n",
       "    </tr>\n",
       "    <tr>\n",
       "      <th>91995</th>\n",
       "      <td>International Company - Graduate</td>\n",
       "      <td>Robert Half</td>\n",
       "      <td>HR &amp; Recruitment</td>\n",
       "      <td>Financial Services</td>\n",
       "      <td>Female</td>\n",
       "      <td>White/White British</td>\n",
       "      <td>University of Exeter</td>\n",
       "      <td>Modern Languages</td>\n",
       "      <td>NaN</td>\n",
       "    </tr>\n",
       "    <tr>\n",
       "      <th>92005</th>\n",
       "      <td>HR Programme</td>\n",
       "      <td>Nestlé</td>\n",
       "      <td>Consumer, FMCG &amp; Retail</td>\n",
       "      <td>Consumer, FMCG &amp; Retail</td>\n",
       "      <td>Female</td>\n",
       "      <td>White/White British</td>\n",
       "      <td>University of Exeter</td>\n",
       "      <td>Modern Languages</td>\n",
       "      <td>NaN</td>\n",
       "    </tr>\n",
       "    <tr>\n",
       "      <th>92003</th>\n",
       "      <td>Community Banking Leadership Programme</td>\n",
       "      <td>Lloyds Banking Group</td>\n",
       "      <td>Financial Services</td>\n",
       "      <td>Financial Services</td>\n",
       "      <td>Female</td>\n",
       "      <td>White/White British</td>\n",
       "      <td>University of Exeter</td>\n",
       "      <td>Modern Languages</td>\n",
       "      <td>NaN</td>\n",
       "    </tr>\n",
       "  </tbody>\n",
       "</table>\n",
       "</div>"
      ],
      "text/plain": [
       "                                    job_title        employer_title  \\\n",
       "91999                    Assistant Consultant                Archus   \n",
       "92006                         Graduate Scheme             Brainlabs   \n",
       "91995        International Company - Graduate           Robert Half   \n",
       "92005                            HR Programme                Nestlé   \n",
       "92003  Community Banking Leadership Programme  Lloyds Banking Group   \n",
       "\n",
       "         employer_sector_title                       job_sector_title  gender  \\\n",
       "91999               Consulting                             Consulting  Female   \n",
       "92006     Education & Teaching  Technology: IT & Software Development  Female   \n",
       "91995         HR & Recruitment                     Financial Services  Female   \n",
       "92005  Consumer, FMCG & Retail                Consumer, FMCG & Retail  Female   \n",
       "92003       Financial Services                     Financial Services  Female   \n",
       "\n",
       "                 ethnicity       university_name degree_subject_name  \\\n",
       "91999  White/White British  University of Exeter    Modern Languages   \n",
       "92006  White/White British  University of Exeter    Modern Languages   \n",
       "91995  White/White British  University of Exeter    Modern Languages   \n",
       "92005  White/White British  University of Exeter    Modern Languages   \n",
       "92003  White/White British  University of Exeter    Modern Languages   \n",
       "\n",
       "      user_preference  \n",
       "91999             NaN  \n",
       "92006             NaN  \n",
       "91995             NaN  \n",
       "92005             NaN  \n",
       "92003             NaN  "
      ]
     },
     "execution_count": 69,
     "metadata": {},
     "output_type": "execute_result"
    }
   ],
   "source": [
    "train[train[\"user_id\"]==155182][['job_title','employer_title', 'employer_sector_title', 'job_sector_title', 'gender',\n",
    "       'ethnicity', 'university_name', 'degree_subject_name', 'user_preference']].tail()"
   ]
  },
  {
   "cell_type": "markdown",
   "metadata": {},
   "source": [
    "# not similar users"
   ]
  },
  {
   "cell_type": "code",
   "execution_count": 70,
   "metadata": {},
   "outputs": [
    {
     "data": {
      "text/html": [
       "<div>\n",
       "<style scoped>\n",
       "    .dataframe tbody tr th:only-of-type {\n",
       "        vertical-align: middle;\n",
       "    }\n",
       "\n",
       "    .dataframe tbody tr th {\n",
       "        vertical-align: top;\n",
       "    }\n",
       "\n",
       "    .dataframe thead th {\n",
       "        text-align: right;\n",
       "    }\n",
       "</style>\n",
       "<table border=\"1\" class=\"dataframe\">\n",
       "  <thead>\n",
       "    <tr style=\"text-align: right;\">\n",
       "      <th></th>\n",
       "      <th>job_title</th>\n",
       "      <th>employer_title</th>\n",
       "      <th>employer_sector_title</th>\n",
       "      <th>job_sector_title</th>\n",
       "      <th>gender</th>\n",
       "      <th>ethnicity</th>\n",
       "      <th>university_name</th>\n",
       "      <th>degree_subject_name</th>\n",
       "      <th>user_preference</th>\n",
       "    </tr>\n",
       "  </thead>\n",
       "  <tbody>\n",
       "    <tr>\n",
       "      <th>106992</th>\n",
       "      <td>Herbert Smith Freehills Event Dates 2017-2018</td>\n",
       "      <td>Herbert Smith Freehills</td>\n",
       "      <td>Commercial Law</td>\n",
       "      <td>Commercial Law</td>\n",
       "      <td>Male</td>\n",
       "      <td>Asian/Asian British</td>\n",
       "      <td>University of Warwick</td>\n",
       "      <td>Engineering - Mechanical</td>\n",
       "      <td>Commercial Law</td>\n",
       "    </tr>\n",
       "  </tbody>\n",
       "</table>\n",
       "</div>"
      ],
      "text/plain": [
       "                                            job_title  \\\n",
       "106992  Herbert Smith Freehills Event Dates 2017-2018   \n",
       "\n",
       "                 employer_title employer_sector_title job_sector_title gender  \\\n",
       "106992  Herbert Smith Freehills        Commercial Law   Commercial Law   Male   \n",
       "\n",
       "                  ethnicity        university_name       degree_subject_name  \\\n",
       "106992  Asian/Asian British  University of Warwick  Engineering - Mechanical   \n",
       "\n",
       "        user_preference  \n",
       "106992  Commercial Law   "
      ]
     },
     "execution_count": 70,
     "metadata": {},
     "output_type": "execute_result"
    }
   ],
   "source": [
    "train[train[\"user_id\"]==158698][['job_title','employer_title', 'employer_sector_title', 'job_sector_title', 'gender',\n",
    "       'ethnicity', 'university_name', 'degree_subject_name', 'user_preference']].tail(7)"
   ]
  },
  {
   "cell_type": "code",
   "execution_count": 71,
   "metadata": {},
   "outputs": [
    {
     "data": {
      "text/html": [
       "<div>\n",
       "<style scoped>\n",
       "    .dataframe tbody tr th:only-of-type {\n",
       "        vertical-align: middle;\n",
       "    }\n",
       "\n",
       "    .dataframe tbody tr th {\n",
       "        vertical-align: top;\n",
       "    }\n",
       "\n",
       "    .dataframe thead th {\n",
       "        text-align: right;\n",
       "    }\n",
       "</style>\n",
       "<table border=\"1\" class=\"dataframe\">\n",
       "  <thead>\n",
       "    <tr style=\"text-align: right;\">\n",
       "      <th></th>\n",
       "      <th>job_title</th>\n",
       "      <th>employer_title</th>\n",
       "      <th>employer_sector_title</th>\n",
       "      <th>job_sector_title</th>\n",
       "      <th>gender</th>\n",
       "      <th>ethnicity</th>\n",
       "      <th>university_name</th>\n",
       "      <th>degree_subject_name</th>\n",
       "      <th>user_preference</th>\n",
       "    </tr>\n",
       "  </thead>\n",
       "  <tbody>\n",
       "    <tr>\n",
       "      <th>81558</th>\n",
       "      <td>Internship - Equity Markets and Commodities - ...</td>\n",
       "      <td>Commerzbank AG</td>\n",
       "      <td>Financial Services</td>\n",
       "      <td>Financial Services</td>\n",
       "      <td>Female</td>\n",
       "      <td>NaN</td>\n",
       "      <td>NaN</td>\n",
       "      <td>NaN</td>\n",
       "      <td>NaN</td>\n",
       "    </tr>\n",
       "  </tbody>\n",
       "</table>\n",
       "</div>"
      ],
      "text/plain": [
       "                                               job_title  employer_title  \\\n",
       "81558  Internship - Equity Markets and Commodities - ...  Commerzbank AG   \n",
       "\n",
       "      employer_sector_title    job_sector_title  gender ethnicity  \\\n",
       "81558    Financial Services  Financial Services  Female       NaN   \n",
       "\n",
       "      university_name degree_subject_name user_preference  \n",
       "81558             NaN                 NaN             NaN  "
      ]
     },
     "execution_count": 71,
     "metadata": {},
     "output_type": "execute_result"
    }
   ],
   "source": [
    "train[train[\"user_id\"]==186752][['job_title','employer_title', 'employer_sector_title', 'job_sector_title', 'gender',\n",
    "       'ethnicity', 'university_name', 'degree_subject_name', 'user_preference']].tail(7)"
   ]
  },
  {
   "cell_type": "code",
   "execution_count": 72,
   "metadata": {},
   "outputs": [
    {
     "data": {
      "text/html": [
       "<div>\n",
       "<style scoped>\n",
       "    .dataframe tbody tr th:only-of-type {\n",
       "        vertical-align: middle;\n",
       "    }\n",
       "\n",
       "    .dataframe tbody tr th {\n",
       "        vertical-align: top;\n",
       "    }\n",
       "\n",
       "    .dataframe thead th {\n",
       "        text-align: right;\n",
       "    }\n",
       "</style>\n",
       "<table border=\"1\" class=\"dataframe\">\n",
       "  <thead>\n",
       "    <tr style=\"text-align: right;\">\n",
       "      <th></th>\n",
       "      <th>job_title</th>\n",
       "      <th>employer_title</th>\n",
       "      <th>employer_sector_title</th>\n",
       "      <th>job_sector_title</th>\n",
       "      <th>gender</th>\n",
       "      <th>ethnicity</th>\n",
       "      <th>university_name</th>\n",
       "      <th>degree_subject_name</th>\n",
       "      <th>user_preference</th>\n",
       "    </tr>\n",
       "  </thead>\n",
       "  <tbody>\n",
       "    <tr>\n",
       "      <th>125035</th>\n",
       "      <td>Campus Ambassadors</td>\n",
       "      <td>Reed Smith</td>\n",
       "      <td>Commercial Law</td>\n",
       "      <td>Commercial Law</td>\n",
       "      <td>Female</td>\n",
       "      <td>NaN</td>\n",
       "      <td>Durham University</td>\n",
       "      <td>History and Spanish</td>\n",
       "      <td>Commercial Law</td>\n",
       "    </tr>\n",
       "  </tbody>\n",
       "</table>\n",
       "</div>"
      ],
      "text/plain": [
       "                 job_title employer_title employer_sector_title  \\\n",
       "125035  Campus Ambassadors     Reed Smith        Commercial Law   \n",
       "\n",
       "       job_sector_title  gender ethnicity    university_name  \\\n",
       "125035   Commercial Law  Female       NaN  Durham University   \n",
       "\n",
       "        degree_subject_name  user_preference  \n",
       "125035  History and Spanish  Commercial Law   "
      ]
     },
     "execution_count": 72,
     "metadata": {},
     "output_type": "execute_result"
    }
   ],
   "source": [
    "train[train[\"user_id\"]==98253][['job_title','employer_title', 'employer_sector_title', 'job_sector_title', 'gender',\n",
    "       'ethnicity', 'university_name', 'degree_subject_name', 'user_preference']].tail(7)"
   ]
  },
  {
   "cell_type": "code",
   "execution_count": null,
   "metadata": {},
   "outputs": [],
   "source": []
  },
  {
   "cell_type": "code",
   "execution_count": 73,
   "metadata": {},
   "outputs": [],
   "source": [
    "def get_similar_doc(X_train, doc_id, n):\n",
    "    res=[]\n",
    "    beta=[]\n",
    "    cos=list(cosine_similarity(X_train[doc_id,:].reshape(1, -1) , X_train))[0]\n",
    "    most_similar_doc_id=np.argsort(cos)[::-1]\n",
    "    a=0\n",
    "    while cos[most_similar_doc_id[a]]>=0.9999999:\n",
    "        a+=1\n",
    "    most_similar_doc_id=most_similar_doc_id[a:]\n",
    "    res.append(most_similar_doc_id[0])\n",
    "    beta.append(cos[most_similar_doc_id[0]])\n",
    "    for i in range(1,len(most_similar_doc_id)):\n",
    "        if cos[most_similar_doc_id[i]] not in beta:\n",
    "            res.append(most_similar_doc_id[i])\n",
    "            beta.append(cos[most_similar_doc_id[i]])\n",
    "    print(\"most similar doc : \", res[:n])\n",
    "    print(\"most similar values : \", beta[:n])\n",
    "    print(\"not similar doc : \", res[-n:][::-1])\n",
    "    print(\"not similar values : \", beta[-n:][::-1])"
   ]
  },
  {
   "cell_type": "code",
   "execution_count": 74,
   "metadata": {},
   "outputs": [],
   "source": [
    "def clean_similarity(x):\n",
    "    res=[] \n",
    "    for content in x:\n",
    "        content=content.replace(\",\",\"\").replace(\"-\",\" \").replace(\"  \",\" \")\n",
    "        content=content.replace(\"(\",\"\").replace(\")\",\"\").replace(\" - \",\" \").replace(\" / \",\" \").replace(\"/\",\" \").replace(\"   \",\"\")\n",
    "        content=content.replace(\"&bull;\",\"\\r\\n \").replace(\"bull;\",\"\\r\\n \").replace(\"\\r\\r\\n\\t\",\" \").replace(\"\\r\\r\\n\",\" \")\n",
    "        content=content.replace(\"\\r\\r\\n\\r\\r\\n\",\" \").replace(\"...\",\" \").replace(\"&#39;s\",\"\").replace(\":\",\"\")\n",
    "        content=content.replace(\"&eacute;\",\"e\").replace(\"&lsquo;\",\"\").replace(\"lsquo;\",\"\").replace(\"&#39;\",\"\").replace(\"#39;s\",\"\")\n",
    "        content=content.replace(\"&nbsp;\",\" \").replace(\"nbsp;\",\" \").replace(\"&#39;\",\"\").replace(\"amp;\",\"\").replace(\"&middot;\",\"\")\n",
    "        content=content.replace(\".\",\" \").replace(\",\",\"\").replace(\"?\",\" \").replace(\"!\",\"\").replace(\"  \",\" \").replace(\"middot;\",\"\")\n",
    "        content=content.replace(\"&rsquo;\",\"\").replace(\"rsquo;\",\" \").replace(\"\\t\",\" \").replace(\"\\r\\n\\r\\n\",\"\").replace(\" \\r\\n \",\"\")\n",
    "        content=content.replace(\"&ndash;\",\" \").replace(\"ndash;\",\" \").replace(\"\\r\\n\\r\\n\",\" \").replace(\" \\r\\n \",\" \").replace(\"\\r\\n\",\" \")\n",
    "        content=content.replace(\"\\r\",\" \").replace(\"  \",\"\").replace(\"   \",\"\").replace(\"  \",\"\").replace(\"   \",\"\")\n",
    "        content=content.replace(\"(\",\"\").replace(\")\",\"\").replace(\" - \",\" \").replace(\" / \",\" \").replace(\"/\",\" \").replace(\"   \",\"\")\n",
    "        content=re.sub('<.*?>',\"\",content , flags=re.DOTALL)\n",
    "        res.append(content)\n",
    "    return res"
   ]
  },
  {
   "cell_type": "code",
   "execution_count": 75,
   "metadata": {},
   "outputs": [],
   "source": [
    "data_similarity=clean_similarity(train_job_info)"
   ]
  },
  {
   "cell_type": "code",
   "execution_count": 76,
   "metadata": {},
   "outputs": [
    {
     "name": "stdout",
     "output_type": "stream",
     "text": [
      "most similar doc :  [35422, 44934, 46076, 113190, 38203]\n",
      "most similar values :  [0.7435465136707475, 0.696812796453856, 0.6554181140393707, 0.6540591251939086, 0.6484197857715319]\n",
      "not similar doc :  [70189, 89787, 20026, 119141, 15929]\n",
      "not similar values :  [-0.14239113012433496, -0.1331531257111101, -0.121488489714105, -0.09684267440942294, -0.09260447781061525]\n"
     ]
    }
   ],
   "source": [
    "get_similar_doc(X_train, 10, 5)"
   ]
  },
  {
   "cell_type": "markdown",
   "metadata": {},
   "source": [
    "# job"
   ]
  },
  {
   "cell_type": "code",
   "execution_count": 77,
   "metadata": {},
   "outputs": [
    {
     "data": {
      "text/plain": [
       "'Graduate Analytics Consultant Technology Consulting & Project Management Be the driving force behind client projects Transform businesses with the latest analytical tools and techniques What involved Work on a wide variety of projects across industries and sectors One day you might be working on improving hospital efficiencies the next you could be building a supply chain analytics solution   Experience all stages of our analytics projects from developing technical solutions to designing insightful analytics dashboards and visualisations There will be plenty of client interaction and problem solving to identify and take advantage of business needs and opportunities  What youll learn Best practice across the latest analytics technologies with training and sponsorship for official certification Core consulting skills Commercial and business acumen Client facing skills What technologies youll use Microsoft SQL Server Microsoft PowerBI Tableau QlikView Alteryx PostgreSQL and Pentaho as well as new and upcoming technologies What required Minimum 21 degree preferably in a quantitative discipline  Desirable postgraduate qualifications experience in consulting analytical modelling skills and or statistical modelling skills using Excel SQL R Python or Matlab Our process Application submitted One of our recruitment team will review your CV and if you are successful we will be in touch Unfortunately due to high numbers of applications only successful applicants will be contacted  Recorded Video Assessment If you are successful you will be invited to take part in a video interview You will receive a link via email and you will have seven days to complete your application You will be asked a series of five competency based questions Once your video is submitted we will review your video interview and a member of the recruitment team will be in touch with you within 7 10 days to inform you if your application has been successful or not  Assessment centre If you are successful post your video interview you will be invited to take part in an all day assessment centre at our offices in St Pauls The day will be comprised of the below  Morning  Welcome presentation Interview with two members of the Consulting team during this interview you will be given a technical and consulting test Interview with a member of HR Psychometric and Abstract reasoning tests  Afternoon  Group exercise Coffee Q&A with our current Graduates and those who progressed on the Graduate track to Consultants  Post the assessment centre all candidates will be contacted via phone to inform them if they have been successful or not we will provide feedback to all candidates  Final round presentations If you are successful at the Assessment Centre we will ask you to present data that you have found online in Tableau software You will be given a week to prepare for this Post this final stage we will inform you by phone if you have been successful or not  Intake start date The start date for our April 2018 Graduate Intake is Wednesday 11th April 2018 For candidates not available for a start in April we have a Graduate Intake in October 2018 as well  Concentra Consulting We craft extraordinary data driven tools that give organisations new ways to drive insight performance and competitive advantage every day Our success comes from the drive dedication and imagination of our people Everyone here is a problem solver through design development implementation and support Our teams are driven by a desire to innovate and disrupt current ways of working to transform organisations and even whole industries As individuals were experts in our fields As a team were unlike any other   Dont forget to cite Bright Network on your Concentra application form theyre keen to hear from our members '"
      ]
     },
     "execution_count": 77,
     "metadata": {},
     "output_type": "execute_result"
    }
   ],
   "source": [
    "data_similarity[10]"
   ]
  },
  {
   "cell_type": "markdown",
   "metadata": {},
   "source": [
    "# Similar jobs"
   ]
  },
  {
   "cell_type": "code",
   "execution_count": 78,
   "metadata": {},
   "outputs": [
    {
     "data": {
      "text/plain": [
       "'Summer Internship Programs Financial Services Summer Internship Program Our Summer Internship Program is designed to offer real insight into our business The program typically lasts ten weeks and is one of the most in depth internships within the financial services industry From day one youll be part of the team Youll face real challenges have client exposure enjoy real achievements and have your talents recognized every step of the way  Youll be responsible for projects and tasks that matter to the business Youll grow in knowledge skills and confidence Above all youll experience the team spirit that makes Credit Suisse such a special place to work Our program managers will help guide you through your summer experience and each intern is assigned a mentor and a buddy so youll have all the support you need  If you show real potential and demonstrate exceptional performance during your time with us you may be offered a full time position for the following year   Train in a comprehensive ten week global program Receive up to five days of training in London Learn from on the job and classroom based training Network across the Bank through cross divisional and division specific events Participate in philanthropic and teambuilding events Gain an understanding of the market data and technology tools youll use during training Listen to business presentations from our internal professionals who apply industry knowledge to our Credit Suisse environment  Participate in a formal mentoring program Attend structured review and feedback sessions  Opportunities are available in  Asset Management Equities Research Fixed Income Research Global Markets Sales and Trading Investment Banking and Capital Markets Technology IT    Credit Suisse Investment Banking Credit Suisse is a global financial services company providing a broad range of advisory services solutions and products in Private Banking & Wealth Management and Investment Banking to companies institutions and private clients Credit Suisse is active in more than 50 countries and employs over 46000 people  As a stable company with a long banking tradition we are one of the most respected banks in the world We offer entry level hiring programs in a variety of business areas Our programs give you the chance to make a difference from day one and provide world class training and support to help you to develop into a future business leader And throughout your career with us you will benefit from cross business and international mobility opportunities We look for people with a wide range of experiences interests and degrees who will add fresh perspectives to our business A career with us means that you can help shape our future  Dont forget to cite Bright Network on your Credit Suisse application form theyre keen to hear from our members'"
      ]
     },
     "execution_count": 78,
     "metadata": {},
     "output_type": "execute_result"
    }
   ],
   "source": [
    "data_similarity[69307]"
   ]
  },
  {
   "cell_type": "markdown",
   "metadata": {},
   "source": [
    "# not similar jobs"
   ]
  },
  {
   "cell_type": "code",
   "execution_count": 79,
   "metadata": {},
   "outputs": [
    {
     "data": {
      "text/plain": [
       "'Summer Vacation SchemeInternships Accounting Tax & Audit What does the Summer Vacation Scheme involve  We offer a range of summer internships that reflect the kinds of jobs you could do here To find out more about these different areas click on the links   Audit & Assurance Business & Financial Advisory Governance Risk & Regulation Human Capital Real Estate Strategy & Operations Tax Consulting Technology  What kind of work would I be doing  Each of our Internships has a different focus so your work will differ depending on the kind of role you choose If its Audit & Assurance for example youll be working with a team that advises clients on their accounting systems and controls ways to improve them and reduce risk Whereas in Real Estate its all about helping clients with property buying selling planning etc  How long does the Summer Vacation Scheme last  The actual length of your internship depends on the service line you join but is usually between three and six weeks long    Audit & Assurance = 3 weeks   Consulting = 5 weeks   Financial Advisory = 3 to 4 weeks depending on business area   Risk Advisory = 6 weeks   Tax Consulting = 6 weeks   Will there be a permanent job at the end of my Internship  Not automatically This is a work experience placement designed to give you a good insight into what its like to work here But it could certainly lead to a permanent position If you impress us over the summer and you like us we could offer you an interview for a place on our Graduate Programme You can then join us any time after you finish university And if we dont offer you a place there and then youre still welcome to apply Your vacation experience will stand you in good stead whatever you choose to do  Please note if you do go on to join us as a full time graduate we expect you to apply within the same job family and at the same office as your summer internship So consider carefully the kind of role and location as it needs to suit you long term    Who can join the Summer Vacation Scheme  Check the requirements here All professional services academic requirements Of course youll need more than good grades to make the most of the opportunity If youre fascinated by business and cant wait to get stuck in to complex projects youll fit right in  Not sure which area to choose Dont worry well ask you to fill in a questionnaire at interview stage to find out what would suit you best  Opportunities open for applications  Audit & Assurance 30th March Consulting Belfast 30th March Tax Consulting 16th March Real Estate 28th February  Deloitte Consulting Are you curious  Solving todays problems takes more creativity than ever before It requires different ways of thinking; different people working together to find simple answers to ever more complex questions These are the explorers the influencers the challengers the people like you  Bring new thinking here and youll find a business that doesnt just recognise your need to be your own curious clever self but fully embraces it  Our opportunities are as diverse as our people and the professional services we provide You can develop a career in all the areas youd expect and many more you wouldnt from management consulting to cyber risk  Whichever path you choose youll get to work with the best minds in the industry with guidance from inspirational senior managers and every opportunity to grow progress and make an impact that truly matters  What impact will you make  Dont forget to cite Bright Network on your Deloitte application form theyre keen to hear from our members '"
      ]
     },
     "execution_count": 79,
     "metadata": {},
     "output_type": "execute_result"
    }
   ],
   "source": [
    "data_similarity[74064]"
   ]
  },
  {
   "cell_type": "code",
   "execution_count": 80,
   "metadata": {},
   "outputs": [],
   "source": [
    "data = np.concatenate((X_train, X_train_user), axis=1)"
   ]
  },
  {
   "cell_type": "code",
   "execution_count": 81,
   "metadata": {},
   "outputs": [],
   "source": [
    "test_data = np.concatenate((test_X_train, test_X_train_user), axis=1)"
   ]
  },
  {
   "cell_type": "code",
   "execution_count": 82,
   "metadata": {},
   "outputs": [
    {
     "data": {
      "text/plain": [
       "(2045, 700)"
      ]
     },
     "execution_count": 82,
     "metadata": {},
     "output_type": "execute_result"
    }
   ],
   "source": [
    "test_data.shape"
   ]
  },
  {
   "cell_type": "code",
   "execution_count": 83,
   "metadata": {},
   "outputs": [
    {
     "data": {
      "text/plain": [
       "(125136, 700)"
      ]
     },
     "execution_count": 83,
     "metadata": {},
     "output_type": "execute_result"
    }
   ],
   "source": [
    "data.shape"
   ]
  },
  {
   "cell_type": "code",
   "execution_count": null,
   "metadata": {},
   "outputs": [],
   "source": []
  },
  {
   "cell_type": "code",
   "execution_count": null,
   "metadata": {},
   "outputs": [],
   "source": []
  },
  {
   "cell_type": "markdown",
   "metadata": {},
   "source": [
    "# Autoencoder"
   ]
  },
  {
   "cell_type": "code",
   "execution_count": 84,
   "metadata": {},
   "outputs": [
    {
     "name": "stderr",
     "output_type": "stream",
     "text": [
      "C:\\Users\\Lassana Diabira\\Anaconda3\\lib\\site-packages\\h5py\\__init__.py:36: FutureWarning: Conversion of the second argument of issubdtype from `float` to `np.floating` is deprecated. In future, it will be treated as `np.float64 == np.dtype(float).type`.\n",
      "  from ._conv import register_converters as _register_converters\n",
      "Using TensorFlow backend.\n"
     ]
    }
   ],
   "source": [
    "from keras.layers import Input, Dense, Dropout\n",
    "from keras.models import Model\n",
    "from keras.optimizers import SGD, Adam"
   ]
  },
  {
   "cell_type": "code",
   "execution_count": 85,
   "metadata": {},
   "outputs": [],
   "source": [
    "from keras.models import load_model"
   ]
  },
  {
   "cell_type": "markdown",
   "metadata": {},
   "source": [
    "# Create model"
   ]
  },
  {
   "cell_type": "code",
   "execution_count": 86,
   "metadata": {},
   "outputs": [],
   "source": [
    "from sklearn.model_selection import train_test_split\n",
    "x_train,x_test,y_train,y_test = train_test_split(data, data, test_size=0.1)"
   ]
  },
  {
   "cell_type": "code",
   "execution_count": 90,
   "metadata": {},
   "outputs": [
    {
     "data": {
      "text/plain": [
       "(12514, 700)"
      ]
     },
     "execution_count": 90,
     "metadata": {},
     "output_type": "execute_result"
    }
   ],
   "source": [
    "x_test.shape"
   ]
  },
  {
   "cell_type": "code",
   "execution_count": 93,
   "metadata": {},
   "outputs": [],
   "source": [
    "input_data = Input(shape=(data.shape[1],))\n",
    "encoded = Dense(600, activation='relu')(input_data)\n",
    "#encoded = Dropout(0.2)(encoded)\n",
    "encoded = Dense(500, activation='relu')(encoded)\n",
    "#encoded = Dropout(0.4)(encoded)\n",
    "encoded = Dense(400, activation='relu')(encoded)\n",
    "#encoded = Dropout(0.1)(encoded)\n",
    "encoded = Dense(300, activation='relu')(encoded)\n",
    "#encoded = Dropout(0.4)(encoded)\n",
    "encoded = Dense(200, activation='relu')(encoded)\n",
    "#encoded = Dropout(0.1)(encoded)\n",
    "encoded = Dense(100, activation='relu')(encoded)\n",
    "#encoded = Dropout(0.4)(encoded)\n",
    "encoded = Dense(50, activation='relu')(encoded)\n",
    "\n",
    "decoded = Dense(100, activation='relu')(encoded)\n",
    "#decoded = Dropout(0.4)(decoded)\n",
    "decoded = Dense(200, activation='relu')(decoded)\n",
    "#decoded = Dropout(0.1)(decoded)\n",
    "decoded = Dense(300, activation='relu')(decoded)\n",
    "#decoded = Dropout(0.4)(decoded)\n",
    "decoded = Dense(400, activation='relu')(decoded)\n",
    "#decoded = Dropout(0.4)(decoded)\n",
    "decoded = Dense(500, activation='relu')(decoded)\n",
    "#decoded = Dropout(0.2)(decoded)\n",
    "decoded = Dense(600, activation='relu')(decoded)\n",
    "#decoded = Dropout(0.4)(decoded)\n",
    "#decoded = Dense(800, activation='relu')(decoded)\n",
    "decoded = Dense(data.shape[1], activation='linear')(decoded)"
   ]
  },
  {
   "cell_type": "code",
   "execution_count": 94,
   "metadata": {},
   "outputs": [
    {
     "name": "stdout",
     "output_type": "stream",
     "text": [
      "Train on 112622 samples, validate on 12514 samples\n",
      "Epoch 1/100\n",
      "112622/112622 [==============================] - 216s 2ms/step - loss: 0.0816 - val_loss: 0.0149\n",
      "Epoch 2/100\n",
      "112622/112622 [==============================] - 80s 713us/step - loss: 0.0144 - val_loss: 0.0143\n",
      "Epoch 3/100\n",
      "112622/112622 [==============================] - 80s 711us/step - loss: 0.0141 - val_loss: 0.0141\n",
      "Epoch 4/100\n",
      "112622/112622 [==============================] - 78s 695us/step - loss: 0.0136 - val_loss: 0.0134\n",
      "Epoch 5/100\n",
      "112622/112622 [==============================] - 78s 694us/step - loss: 0.0131 - val_loss: 0.0130\n",
      "Epoch 6/100\n",
      "112622/112622 [==============================] - 78s 691us/step - loss: 0.0126 - val_loss: 0.0124\n",
      "Epoch 7/100\n",
      "112622/112622 [==============================] - 78s 697us/step - loss: 0.0122 - val_loss: 0.0121\n",
      "Epoch 8/100\n",
      "112622/112622 [==============================] - 62s 547us/step - loss: 0.0120 - val_loss: 0.0119\n",
      "Epoch 9/100\n",
      "112622/112622 [==============================] - 37s 327us/step - loss: 0.0119 - val_loss: 0.0116\n",
      "Epoch 10/100\n",
      "112622/112622 [==============================] - 36s 322us/step - loss: 0.0114 - val_loss: 0.0112\n",
      "Epoch 11/100\n",
      "112622/112622 [==============================] - 37s 325us/step - loss: 0.0112 - val_loss: 0.0110\n",
      "Epoch 12/100\n",
      "112622/112622 [==============================] - 37s 331us/step - loss: 0.0109 - val_loss: 0.0107\n",
      "Epoch 13/100\n",
      "112622/112622 [==============================] - 37s 324us/step - loss: 0.0106 - val_loss: 0.0107\n",
      "Epoch 14/100\n",
      "112622/112622 [==============================] - 37s 325us/step - loss: 0.0105 - val_loss: 0.0104\n",
      "Epoch 15/100\n",
      "112622/112622 [==============================] - 36s 320us/step - loss: 0.0103 - val_loss: 0.0108\n",
      "Epoch 16/100\n",
      "112622/112622 [==============================] - 37s 329us/step - loss: 0.0102 - val_loss: 0.0110\n",
      "Epoch 17/100\n",
      "112622/112622 [==============================] - 37s 327us/step - loss: 0.0099 - val_loss: 0.0096\n",
      "Epoch 18/100\n",
      "112622/112622 [==============================] - 36s 318us/step - loss: 0.0095 - val_loss: 0.0096\n",
      "Epoch 19/100\n",
      "112622/112622 [==============================] - 35s 315us/step - loss: 0.0094 - val_loss: 0.0091\n",
      "Epoch 20/100\n",
      "112622/112622 [==============================] - 37s 326us/step - loss: 0.0090 - val_loss: 0.0090\n",
      "Epoch 21/100\n",
      "112622/112622 [==============================] - 37s 329us/step - loss: 0.0088 - val_loss: 0.0086\n",
      "Epoch 22/100\n",
      "112622/112622 [==============================] - 36s 317us/step - loss: 0.0090 - val_loss: 0.0087\n",
      "Epoch 23/100\n",
      "112622/112622 [==============================] - 37s 327us/step - loss: 0.0085 - val_loss: 0.0083\n",
      "Epoch 24/100\n",
      "112622/112622 [==============================] - 36s 317us/step - loss: 0.0082 - val_loss: 0.0081\n",
      "Epoch 25/100\n",
      "112622/112622 [==============================] - 35s 315us/step - loss: 0.0086 - val_loss: 0.0082\n",
      "Epoch 26/100\n",
      "112622/112622 [==============================] - 37s 327us/step - loss: 0.0080 - val_loss: 0.0079\n",
      "Epoch 27/100\n",
      "112622/112622 [==============================] - 36s 322us/step - loss: 0.0078 - val_loss: 0.0077\n",
      "Epoch 28/100\n",
      "112622/112622 [==============================] - 37s 329us/step - loss: 0.0080 - val_loss: 0.0077\n",
      "Epoch 29/100\n",
      "112622/112622 [==============================] - 37s 325us/step - loss: 0.0076 - val_loss: 0.0074\n",
      "Epoch 30/100\n",
      "112622/112622 [==============================] - 37s 328us/step - loss: 0.0075 - val_loss: 0.0073\n",
      "Epoch 31/100\n",
      "112622/112622 [==============================] - 37s 325us/step - loss: 0.0073 - val_loss: 0.0075\n",
      "Epoch 32/100\n",
      "112622/112622 [==============================] - 36s 318us/step - loss: 0.0073 - val_loss: 0.0071\n",
      "Epoch 33/100\n",
      "112622/112622 [==============================] - 37s 325us/step - loss: 0.0070 - val_loss: 0.0076\n",
      "Epoch 34/100\n",
      "112622/112622 [==============================] - 37s 327us/step - loss: 0.0071 - val_loss: 0.0068\n",
      "Epoch 35/100\n",
      "112622/112622 [==============================] - 36s 318us/step - loss: 0.0068 - val_loss: 0.0067\n",
      "Epoch 36/100\n",
      "112622/112622 [==============================] - 35s 313us/step - loss: 0.0068 - val_loss: 0.0074\n",
      "Epoch 37/100\n",
      "112622/112622 [==============================] - 36s 323us/step - loss: 0.0073 - val_loss: 0.0069\n",
      "Epoch 38/100\n",
      "112622/112622 [==============================] - 36s 316us/step - loss: 0.0066 - val_loss: 0.0064\n",
      "Epoch 39/100\n",
      "112622/112622 [==============================] - 36s 319us/step - loss: 0.0064 - val_loss: 0.0063\n",
      "Epoch 40/100\n",
      "112622/112622 [==============================] - 37s 332us/step - loss: 0.0063 - val_loss: 0.0065\n",
      "Epoch 41/100\n",
      "112622/112622 [==============================] - 36s 322us/step - loss: 0.0063 - val_loss: 0.0061\n",
      "Epoch 42/100\n",
      "112622/112622 [==============================] - 38s 333us/step - loss: 0.0060 - val_loss: 0.0060\n",
      "Epoch 43/100\n",
      "112622/112622 [==============================] - 37s 330us/step - loss: 0.0068 - val_loss: 0.0065\n",
      "Epoch 44/100\n",
      "112622/112622 [==============================] - 38s 339us/step - loss: 0.0061 - val_loss: 0.0059\n",
      "Epoch 45/100\n",
      "112622/112622 [==============================] - 37s 330us/step - loss: 0.0058 - val_loss: 0.0058\n",
      "Epoch 46/100\n",
      "112622/112622 [==============================] - 36s 318us/step - loss: 0.0059 - val_loss: 0.0059\n",
      "Epoch 47/100\n",
      "112622/112622 [==============================] - 37s 324us/step - loss: 0.0058 - val_loss: 0.0056\n",
      "Epoch 48/100\n",
      "112622/112622 [==============================] - 36s 322us/step - loss: 0.0055 - val_loss: 0.0055\n",
      "Epoch 49/100\n",
      "112622/112622 [==============================] - 37s 325us/step - loss: 0.0055 - val_loss: 0.0054\n",
      "Epoch 50/100\n",
      "112622/112622 [==============================] - 37s 325us/step - loss: 0.0058 - val_loss: 0.0063\n",
      "Epoch 51/100\n",
      "112622/112622 [==============================] - 36s 319us/step - loss: 0.0058 - val_loss: 0.0054\n",
      "Epoch 52/100\n",
      "112622/112622 [==============================] - 36s 318us/step - loss: 0.0053 - val_loss: 0.0053\n",
      "Epoch 53/100\n",
      "112622/112622 [==============================] - 36s 322us/step - loss: 0.0053 - val_loss: 0.0052\n",
      "Epoch 54/100\n",
      "112622/112622 [==============================] - 36s 324us/step - loss: 0.0052 - val_loss: 0.0051\n",
      "Epoch 55/100\n",
      "112622/112622 [==============================] - 36s 322us/step - loss: 0.0055 - val_loss: 0.0053\n",
      "Epoch 56/100\n",
      "112622/112622 [==============================] - 37s 324us/step - loss: 0.0051 - val_loss: 0.0050\n",
      "Epoch 57/100\n",
      "112622/112622 [==============================] - 35s 315us/step - loss: 0.0050 - val_loss: 0.0051\n",
      "Epoch 58/100\n",
      "112622/112622 [==============================] - 36s 323us/step - loss: 0.0050 - val_loss: 0.0049\n",
      "Epoch 59/100\n",
      "112622/112622 [==============================] - 38s 337us/step - loss: 0.0051 - val_loss: 0.0055\n",
      "Epoch 60/100\n",
      "112622/112622 [==============================] - 38s 334us/step - loss: 0.0052 - val_loss: 0.0049\n",
      "Epoch 61/100\n",
      "112622/112622 [==============================] - 36s 322us/step - loss: 0.0048 - val_loss: 0.0048\n",
      "Epoch 62/100\n",
      "112622/112622 [==============================] - 36s 318us/step - loss: 0.0051 - val_loss: 0.0061\n",
      "Epoch 63/100\n",
      "112622/112622 [==============================] - 36s 318us/step - loss: 0.0054 - val_loss: 0.0049\n",
      "Epoch 64/100\n",
      "112622/112622 [==============================] - 37s 326us/step - loss: 0.0048 - val_loss: 0.0047\n",
      "Epoch 65/100\n",
      "112622/112622 [==============================] - 36s 323us/step - loss: 0.0046 - val_loss: 0.0046\n",
      "Epoch 66/100\n",
      "112622/112622 [==============================] - 36s 323us/step - loss: 0.0046 - val_loss: 0.0046\n",
      "Epoch 67/100\n",
      "112622/112622 [==============================] - 37s 326us/step - loss: 0.0045 - val_loss: 0.0050\n",
      "Epoch 68/100\n",
      "112622/112622 [==============================] - 35s 314us/step - loss: 0.0050 - val_loss: 0.0047\n",
      "Epoch 69/100\n",
      "112622/112622 [==============================] - 36s 320us/step - loss: 0.0045 - val_loss: 0.0045\n",
      "Epoch 70/100\n",
      "112622/112622 [==============================] - 36s 319us/step - loss: 0.0044 - val_loss: 0.0044\n",
      "Epoch 71/100\n",
      "112622/112622 [==============================] - 37s 325us/step - loss: 0.0047 - val_loss: 0.0046\n",
      "Epoch 72/100\n",
      "112622/112622 [==============================] - 36s 322us/step - loss: 0.0044 - val_loss: 0.0044\n",
      "Epoch 73/100\n",
      "112622/112622 [==============================] - 36s 317us/step - loss: 0.0043 - val_loss: 0.0043\n",
      "Epoch 74/100\n"
     ]
    },
    {
     "name": "stdout",
     "output_type": "stream",
     "text": [
      "112622/112622 [==============================] - 36s 323us/step - loss: 0.0043 - val_loss: 0.0043\n",
      "Epoch 75/100\n",
      "112622/112622 [==============================] - 36s 322us/step - loss: 0.0043 - val_loss: 0.0044\n",
      "Epoch 76/100\n",
      "112622/112622 [==============================] - 37s 326us/step - loss: 0.0043 - val_loss: 0.0043\n",
      "Epoch 77/100\n",
      "112622/112622 [==============================] - 37s 324us/step - loss: 0.0055 - val_loss: 0.0055\n",
      "Epoch 78/100\n",
      "112622/112622 [==============================] - 36s 322us/step - loss: 0.0048 - val_loss: 0.0045\n",
      "Epoch 79/100\n",
      "112622/112622 [==============================] - 38s 336us/step - loss: 0.0043 - val_loss: 0.0043\n",
      "Epoch 80/100\n",
      "112622/112622 [==============================] - 38s 335us/step - loss: 0.0042 - val_loss: 0.0042\n",
      "Epoch 81/100\n",
      "112622/112622 [==============================] - 39s 342us/step - loss: 0.0042 - val_loss: 0.0042\n",
      "Epoch 82/100\n",
      "112622/112622 [==============================] - 37s 325us/step - loss: 0.0042 - val_loss: 0.0041\n",
      "Epoch 83/100\n",
      "112622/112622 [==============================] - 36s 319us/step - loss: 0.0041 - val_loss: 0.0041\n",
      "Epoch 84/100\n",
      "112622/112622 [==============================] - 36s 321us/step - loss: 0.0043 - val_loss: 0.0048\n",
      "Epoch 85/100\n",
      "112622/112622 [==============================] - 36s 320us/step - loss: 0.0043 - val_loss: 0.0042\n",
      "Epoch 86/100\n",
      "112622/112622 [==============================] - 36s 319us/step - loss: 0.0040 - val_loss: 0.0041\n",
      "Epoch 87/100\n",
      "112622/112622 [==============================] - 37s 329us/step - loss: 0.0040 - val_loss: 0.0040\n",
      "Epoch 88/100\n",
      "112622/112622 [==============================] - 36s 322us/step - loss: 0.0040 - val_loss: 0.0040\n",
      "Epoch 89/100\n",
      "112622/112622 [==============================] - 37s 330us/step - loss: 0.0049 - val_loss: 0.0049\n",
      "Epoch 90/100\n",
      "112622/112622 [==============================] - 36s 319us/step - loss: 0.0044 - val_loss: 0.0041\n",
      "Epoch 91/100\n",
      "112622/112622 [==============================] - 36s 321us/step - loss: 0.0040 - val_loss: 0.0040\n",
      "Epoch 92/100\n",
      "112622/112622 [==============================] - 36s 322us/step - loss: 0.0039 - val_loss: 0.0039\n",
      "Epoch 93/100\n",
      "112622/112622 [==============================] - 36s 319us/step - loss: 0.0039 - val_loss: 0.0039\n",
      "Epoch 94/100\n",
      "112622/112622 [==============================] - 36s 322us/step - loss: 0.0039 - val_loss: 0.0038\n",
      "Epoch 95/100\n",
      "112622/112622 [==============================] - 35s 314us/step - loss: 0.0046 - val_loss: 0.0046\n",
      "Epoch 96/100\n",
      "112622/112622 [==============================] - 35s 312us/step - loss: 0.0042 - val_loss: 0.0040\n",
      "Epoch 97/100\n",
      "112622/112622 [==============================] - 36s 323us/step - loss: 0.0039 - val_loss: 0.0038\n",
      "Epoch 98/100\n",
      "112622/112622 [==============================] - 37s 327us/step - loss: 0.0038 - val_loss: 0.0038\n",
      "Epoch 99/100\n",
      "112622/112622 [==============================] - 37s 330us/step - loss: 0.0038 - val_loss: 0.0038\n",
      "Epoch 100/100\n",
      "112622/112622 [==============================] - 39s 344us/step - loss: 0.0037 - val_loss: 0.0037\n"
     ]
    }
   ],
   "source": [
    "autoencoder = Model(input_data, decoded)\n",
    "#sgd = optimizers.SGD(lr=0.01, decay=1e-6, momentum=0.9, nesterov=True)\n",
    "adam=Adam(lr=0.005, beta_1=0.9, beta_2=0.999, epsilon=None, decay=0.0, amsgrad=False)\n",
    "autoencoder.compile(loss='mean_squared_error', optimizer=adam)\n",
    "\n",
    "history=autoencoder.fit(x_train, x_train,\n",
    "                epochs=100,\n",
    "                batch_size=5000,\n",
    "                shuffle=True,\n",
    "                validation_data=(x_test, x_test))"
   ]
  },
  {
   "cell_type": "markdown",
   "metadata": {},
   "source": [
    "# Loss"
   ]
  },
  {
   "cell_type": "code",
   "execution_count": 95,
   "metadata": {},
   "outputs": [
    {
     "data": {
      "image/png": "[encoded data removed]",
      "text/plain": [
       "<Figure size 720x720 with 1 Axes>"
      ]
     },
     "metadata": {},
     "output_type": "display_data"
    }
   ],
   "source": [
    "plt.figure(figsize=(10,10))\n",
    "plt.plot(history.history['loss'])\n",
    "plt.plot(history.history['val_loss'])\n",
    "plt.title('model loss')\n",
    "plt.ylabel('loss')\n",
    "plt.xlabel('epoch')\n",
    "plt.legend(['train', 'test'], loc='upper left')\n",
    "plt.show()"
   ]
  },
  {
   "cell_type": "code",
   "execution_count": 101,
   "metadata": {},
   "outputs": [],
   "source": [
    "autoencoder.save('model.h5')"
   ]
  },
  {
   "cell_type": "code",
   "execution_count": 105,
   "metadata": {},
   "outputs": [
    {
     "data": {
      "text/plain": [
       "array([-0.03540946, -0.13441858,  0.08056124,  0.221413  ,  0.04294347,\n",
       "       -0.11343296,  0.09547411,  0.5490711 ,  0.09030824, -0.14575076,\n",
       "        0.09732994,  0.25514287, -0.07246329, -0.304709  , -0.02670881,\n",
       "        0.02543148, -0.52797604,  0.13422094, -0.18471085,  0.2620564 ,\n",
       "        0.28889632,  0.18621181,  0.07269341, -0.03742869, -0.41475394,\n",
       "       -0.26988146,  0.30755162, -0.05940884,  0.11596066, -0.41828525,\n",
       "       -0.06874769, -0.40843824,  0.5901353 , -0.16069542, -0.12840036,\n",
       "       -0.05864508,  0.0919178 ,  0.09166344,  0.05268285,  0.03566686,\n",
       "        0.00840456, -0.09534641,  0.15067512, -0.11718532, -0.04379994,\n",
       "        0.09595412,  0.32305303, -0.02799875,  0.15663776,  0.05690826],\n",
       "      dtype=float32)"
      ]
     },
     "execution_count": 105,
     "metadata": {},
     "output_type": "execute_result"
    }
   ],
   "source": [
    "new_predictions[0,:50]"
   ]
  },
  {
   "cell_type": "code",
   "execution_count": 106,
   "metadata": {},
   "outputs": [],
   "source": [
    "predictions=autoencoder.predict(x_test)"
   ]
  },
  {
   "cell_type": "code",
   "execution_count": 107,
   "metadata": {},
   "outputs": [
    {
     "data": {
      "text/plain": [
       "array([-0.02102856, -0.13744961,  0.06806465,  0.20344211,  0.04803307,\n",
       "       -0.12442788,  0.09628485,  0.51898635,  0.09287311, -0.14808669,\n",
       "        0.10933098,  0.27176079, -0.08411171, -0.31209839, -0.03819622,\n",
       "        0.04017922, -0.54759633,  0.14166643, -0.18378697,  0.26381813,\n",
       "        0.29700438,  0.18665482,  0.05854281, -0.03329473, -0.42165206,\n",
       "       -0.2665128 ,  0.30136341, -0.06027701,  0.10689598, -0.39721733,\n",
       "       -0.07260506, -0.3946092 ,  0.59495724, -0.16362847, -0.1210157 ,\n",
       "       -0.0570148 ,  0.11056362,  0.06788637,  0.05184581,  0.03291846,\n",
       "       -0.00090651, -0.10980141,  0.14912577, -0.1111011 , -0.0446132 ,\n",
       "        0.08853083,  0.32535498, -0.04012543,  0.1758333 ,  0.05684665])"
      ]
     },
     "execution_count": 107,
     "metadata": {},
     "output_type": "execute_result"
    }
   ],
   "source": [
    "x_test[0,:50]"
   ]
  },
  {
   "cell_type": "code",
   "execution_count": 108,
   "metadata": {},
   "outputs": [
    {
     "data": {
      "text/plain": [
       "array([-0.03540946, -0.13441858,  0.08056124,  0.221413  ,  0.04294347,\n",
       "       -0.11343296,  0.09547411,  0.5490711 ,  0.09030824, -0.14575076,\n",
       "        0.09732994,  0.25514287, -0.07246329, -0.304709  , -0.02670881,\n",
       "        0.02543148, -0.52797604,  0.13422094, -0.18471085,  0.2620564 ,\n",
       "        0.28889632,  0.18621181,  0.07269341, -0.03742869, -0.41475394,\n",
       "       -0.26988146,  0.30755162, -0.05940884,  0.11596066, -0.41828525,\n",
       "       -0.06874769, -0.40843824,  0.5901353 , -0.16069542, -0.12840036,\n",
       "       -0.05864508,  0.0919178 ,  0.09166344,  0.05268285,  0.03566686,\n",
       "        0.00840456, -0.09534641,  0.15067512, -0.11718532, -0.04379994,\n",
       "        0.09595412,  0.32305303, -0.02799875,  0.15663776,  0.05690826],\n",
       "      dtype=float32)"
      ]
     },
     "execution_count": 108,
     "metadata": {},
     "output_type": "execute_result"
    }
   ],
   "source": [
    "predictions[0,:50]"
   ]
  },
  {
   "cell_type": "code",
   "execution_count": 109,
   "metadata": {},
   "outputs": [],
   "source": [
    "test_predictions=autoencoder.predict(test_data)"
   ]
  },
  {
   "cell_type": "code",
   "execution_count": 110,
   "metadata": {},
   "outputs": [
    {
     "data": {
      "text/html": [
       "<div>\n",
       "<style scoped>\n",
       "    .dataframe tbody tr th:only-of-type {\n",
       "        vertical-align: middle;\n",
       "    }\n",
       "\n",
       "    .dataframe tbody tr th {\n",
       "        vertical-align: top;\n",
       "    }\n",
       "\n",
       "    .dataframe thead th {\n",
       "        text-align: right;\n",
       "    }\n",
       "</style>\n",
       "<table border=\"1\" class=\"dataframe\">\n",
       "  <thead>\n",
       "    <tr style=\"text-align: right;\">\n",
       "      <th></th>\n",
       "      <th>reconstruction_error</th>\n",
       "      <th>test_reconstruction_error</th>\n",
       "    </tr>\n",
       "  </thead>\n",
       "  <tbody>\n",
       "    <tr>\n",
       "      <th>count</th>\n",
       "      <td>294.000000</td>\n",
       "      <td>294.000000</td>\n",
       "    </tr>\n",
       "    <tr>\n",
       "      <th>mean</th>\n",
       "      <td>0.003812</td>\n",
       "      <td>0.086868</td>\n",
       "    </tr>\n",
       "    <tr>\n",
       "      <th>std</th>\n",
       "      <td>0.003308</td>\n",
       "      <td>0.007160</td>\n",
       "    </tr>\n",
       "    <tr>\n",
       "      <th>min</th>\n",
       "      <td>0.000335</td>\n",
       "      <td>0.053470</td>\n",
       "    </tr>\n",
       "    <tr>\n",
       "      <th>25%</th>\n",
       "      <td>0.001815</td>\n",
       "      <td>0.082569</td>\n",
       "    </tr>\n",
       "    <tr>\n",
       "      <th>50%</th>\n",
       "      <td>0.002889</td>\n",
       "      <td>0.086269</td>\n",
       "    </tr>\n",
       "    <tr>\n",
       "      <th>75%</th>\n",
       "      <td>0.004796</td>\n",
       "      <td>0.090362</td>\n",
       "    </tr>\n",
       "    <tr>\n",
       "      <th>max</th>\n",
       "      <td>0.030089</td>\n",
       "      <td>0.121486</td>\n",
       "    </tr>\n",
       "  </tbody>\n",
       "</table>\n",
       "</div>"
      ],
      "text/plain": [
       "       reconstruction_error  test_reconstruction_error\n",
       "count            294.000000                 294.000000\n",
       "mean               0.003812                   0.086868\n",
       "std                0.003308                   0.007160\n",
       "min                0.000335                   0.053470\n",
       "25%                0.001815                   0.082569\n",
       "50%                0.002889                   0.086269\n",
       "75%                0.004796                   0.090362\n",
       "max                0.030089                   0.121486"
      ]
     },
     "execution_count": 110,
     "metadata": {},
     "output_type": "execute_result"
    }
   ],
   "source": [
    "test_mse = np.mean(np.power(test_data - test_predictions, 2), axis=1)\n",
    "mse = np.mean(np.power(x_test - predictions, 2), axis=1)[:test_data.shape[0]]\n",
    "error_df = pd.DataFrame({'reconstruction_error': mse, 'test_reconstruction_error': test_mse})\n",
    "error_df.describe()"
   ]
  },
  {
   "cell_type": "code",
   "execution_count": 111,
   "metadata": {},
   "outputs": [],
   "source": [
    "def get_test_user_id(df):\n",
    "    users=list(set(list(df[\"user_id\"].values)))\n",
    "    d={}\n",
    "    for user in users:\n",
    "        d[str(user)]=[]\n",
    "    n=df.shape[0]\n",
    "    for i in range(n):\n",
    "        user_id=df.iloc[i][\"user_id\"]\n",
    "        d[str(user_id)].append(i)\n",
    "    return d"
   ]
  },
  {
   "cell_type": "code",
   "execution_count": 112,
   "metadata": {},
   "outputs": [],
   "source": [
    "select_ids=get_test_user_id(test)"
   ]
  },
  {
   "cell_type": "code",
   "execution_count": 114,
   "metadata": {},
   "outputs": [],
   "source": [
    "def get_best_worse_jobs(x,n):\n",
    "    a=np.argsort(x)[:n]\n",
    "    b=np.argsort(x)[::-1][:n]\n",
    "    print(\"best  jobs : \",a)\n",
    "    print(\"best  jobs errors : \",x[a])\n",
    "    print(\"worst  jobs : \",b)\n",
    "    print(\"worst  jobs errors : \",x[b])"
   ]
  },
  {
   "cell_type": "code",
   "execution_count": 115,
   "metadata": {},
   "outputs": [
    {
     "name": "stdout",
     "output_type": "stream",
     "text": [
      "best  jobs :  [252 145 150 118  71]\n",
      "best  jobs errors :  [0.05347014 0.07268894 0.07277304 0.0735609  0.07397324]\n",
      "worst  jobs :  [ 17 181  46  30 227]\n",
      "worst  jobs errors :  [0.12148622 0.11693042 0.11544135 0.10651174 0.10544073]\n"
     ]
    }
   ],
   "source": [
    "get_best_worse_jobs(test_mse,5)"
   ]
  },
  {
   "cell_type": "code",
   "execution_count": 116,
   "metadata": {},
   "outputs": [
    {
     "data": {
      "text/plain": [
       "array(['<h2>Who can apply</h2>\\r\\r\\n\\r\\r\\n<p>This program is suited for students from any academic discipline who are looking to secure a 3-6 month internship as a part of their degree. If you are applying to one of our European offices, you will need to be able to speak the local language.</p>\\r\\r\\n\\r\\r\\n<h2>Application deadline</h2>\\r\\r\\n\\r\\r\\n<p>Applications are accepted year round and reviewed on an ongoing/rolling basis.</p>\\r\\r\\n\\r\\r\\n<h2>About the programme</h2>\\r\\r\\n\\r\\r\\n<p>Off-Cycle Internships typically last between 3-6 months and are available across many of our European offices including: London, Frankfurt, Paris, Zurich, Milan, Geneva, Dubai, Moscow, Madrid, Tel Aviv and Doha. Opportunities are available in the following divisions:&nbsp;</p>\\r\\r\\n\\r\\r\\n<ul>\\r\\r\\n\\t<li>Finance</li>\\r\\r\\n\\t<li>Global Investment Research</li>\\r\\r\\n\\t<li>Investment Banking</li>\\r\\r\\n\\t<li>Investment Management</li>\\r\\r\\n\\t<li>Securities</li>\\r\\r\\n</ul>\\r\\r\\n\\r\\r\\n<h2>How to apply</h2>\\r\\r\\n\\r\\r\\n<ul>\\r\\r\\n\\t<li>Click on the Apply Now button</li>\\r\\r\\n\\t<li>Login, if you are an existing user, or register</li>\\r\\r\\n\\t<li>Select position &lsquo;Other Internships and Work Placements&rsquo;</li>\\r\\r\\n\\t<li>Select program &lsquo;Seasonal/Off Cycle Internship&rsquo;</li>\\r\\r\\n\\t<li>Complete application details and submit</li>\\r\\r\\n</ul>',\n",
       "       'Off Cycle Internship', 'Goldman Sachs', 'Financial Services',\n",
       "       'Financial Services', 'Female', nan, 'University of Sussex',\n",
       "       'Physics',\n",
       "       'Energy & Infrastructure Entrepreneurship & Start Ups Investment Banking Technology: Consulting & Project Management Management & Business Sales & Commercial Science and Research Technology: IT & Software Development Investment & Asset Management Accounting, Tax & Audit Financial Services Consulting '],\n",
       "      dtype=object)"
      ]
     },
     "execution_count": 116,
     "metadata": {},
     "output_type": "execute_result"
    }
   ],
   "source": [
    "test.iloc[252][['job_description','job_title','employer_title', 'employer_sector_title', 'job_sector_title', 'gender',\n",
    "       'ethnicity', 'university_name', 'degree_subject_name', 'user_preference']].values"
   ]
  },
  {
   "cell_type": "code",
   "execution_count": 117,
   "metadata": {},
   "outputs": [
    {
     "data": {
      "text/plain": [
       "array(['<h2>Job Description</h2>\\r\\r\\n\\r\\r\\n<p>Quantitative Researchers play a key role on the Quantitative Research (&ldquo;QR&rdquo;) team, which is responsible for developing and testing automated quant trading strategies using sophisticated statistical techniques.</p>\\r\\r\\n\\r\\r\\n<h2>Your Objectives</h2>\\r\\r\\n\\r\\r\\n<ul>\\r\\r\\n\\t<li>Conceptualize valuation strategies, develop and continuously improve upon mathematical models, and help translate algorithms into code</li>\\r\\r\\n\\t<li>Back test and implement trading models and signals in a live trading environment</li>\\r\\r\\n\\t<li>Use unconventional data sources to drive innovation</li>\\r\\r\\n\\t<li>Conduct research and statistical analysis to build and refine monetization systems for trading signals</li>\\r\\r\\n</ul>\\r\\r\\n\\r\\r\\n<h2>Your Skills &amp; Talents</h2>\\r\\r\\n\\r\\r\\n<ul>\\r\\r\\n\\t<li>Advanced training in Mathematics, Statistics, Physics, Computer Science, or another highly quantitative field (Bachelor&rsquo;s, Master&rsquo;s, PhD degree)</li>\\r\\r\\n\\t<li>Strong knowledge of probability and statistics (e.g.,machine learning, time-series analysis, pattern recognition, NLP)</li>\\r\\r\\n\\t<li>Prior experience working in a data driven research environment</li>\\r\\r\\n\\t<li>Experience with NoSQL databases (e.g.,MongoDB)</li>\\r\\r\\n\\t<li>Experience with distributed computing using MapReduce</li>\\r\\r\\n\\t<li>Experience with analytical packages (e.g., R,Matlab)</li>\\r\\r\\n\\t<li>Independent research experience</li>\\r\\r\\n\\t<li>Ability to manage multiple tasks and thrive in a fast-paced team environment</li>\\r\\r\\n\\t<li>Excellent analytical skills, with strong attention to detail</li>\\r\\r\\n\\t<li>Strong written and verbal communication skills</li>\\r\\r\\n</ul>',\n",
       "       'Quantitative Researcher', 'Citadel', 'Investment Banking',\n",
       "       'Investment Banking', 'Female', nan, 'University of Sussex',\n",
       "       'Physics',\n",
       "       'Energy & Infrastructure Entrepreneurship & Start Ups Investment Banking Technology: Consulting & Project Management Management & Business Sales & Commercial Science and Research Technology: IT & Software Development Investment & Asset Management Accounting, Tax & Audit Financial Services Consulting '],\n",
       "      dtype=object)"
      ]
     },
     "execution_count": 117,
     "metadata": {},
     "output_type": "execute_result"
    }
   ],
   "source": [
    "test.iloc[145][['job_description','job_title','employer_title', 'employer_sector_title', 'job_sector_title', 'gender',\n",
    "       'ethnicity', 'university_name', 'degree_subject_name', 'user_preference']].values"
   ]
  },
  {
   "cell_type": "markdown",
   "metadata": {},
   "source": [
    "# Worst"
   ]
  },
  {
   "cell_type": "code",
   "execution_count": 118,
   "metadata": {},
   "outputs": [
    {
     "data": {
      "text/plain": [
       "array(['<h2>Overview</h2>\\r\\r\\n\\r\\r\\n<p>BPP is the professional&nbsp;university for&nbsp;career-focussed&nbsp;students. BPP&nbsp;offers a wide range of modern, relevant postgraduate programmes and professional qualifications to help you realise your ambitions and tailor your learning to your specific interests. We also offer a full careers service in helping you realise your ambitions.</p>\\r\\r\\n\\r\\r\\n<p>At BPP University, we&nbsp;think, act, and teach in&nbsp;a way that is innovative,&nbsp;knowledgeable and&nbsp;professionally focussed.</p>\\r\\r\\n\\r\\r\\n<h2>What makes&nbsp;BPP University&nbsp;different?</h2>\\r\\r\\n\\r\\r\\n<p>We are the experts that the experts turn to.&nbsp;We actively shape the next generation of&nbsp;professionals through our academically&nbsp;rigorous programmes. Much of our&nbsp;programme content is designed in&nbsp;collaboration with businesses and&nbsp;employers, and you will be taught in&nbsp;professional workspaces by tutors with&nbsp;practitioner experience.</p>\\r\\r\\n\\r\\r\\n<p>You will get more than just a qualification, we help you to join a profession.&nbsp;We focus on the development of your skills&nbsp;to ensure a rewarding career in your chosen&nbsp;profession. BPP University works closely with&nbsp;industry professional bodies to ensure that&nbsp;your learning is rooted in real-life and current&nbsp;business practices. BPP University is at the</p>\\r\\r\\n\\r\\r\\n<p>heart of the professions it serves; cemented&nbsp;through our close links with businesses,&nbsp;firms, NHS (National Health Service) trusts&nbsp;and professional bodies and institutes.</p>\\r\\r\\n\\r\\r\\n<p>We aim to provide you with the practice-relevant&nbsp;knowledge and skill set to flourish in your chosen profession.</p>\\r\\r\\n\\r\\r\\n<h2>We work closely&nbsp;with employers</h2>\\r\\r\\n\\r\\r\\n<p>We believe that having outstanding links with global&nbsp;businesses and organisations is crucial. We work with leading&nbsp;law firms, banks and businesses in the UK and overseas.&nbsp;We speak the language of employers and professions&nbsp;because ultimately, we are professionals ourselves.</p>\\r\\r\\n\\r\\r\\n<p>Many of our postgraduate degree programmes&nbsp;are designed in consultation with employers&nbsp;and respected professionals in the fields of law,&nbsp;business, management, accounting, banking,&nbsp;financial services, and health, ensuring that&nbsp;we provide you with a professionally relevant&nbsp;education experience.</p>\\r\\r\\n\\r\\r\\n<h2>Your tutors are&nbsp;experienced professionals</h2>\\r\\r\\n\\r\\r\\n<p>We pride ourselves on our tutors&rsquo;&nbsp;invaluable combination of practical&nbsp;and academic experience. They&nbsp;are qualified accountants, bankers,&nbsp;managers, barristers, solicitors,&nbsp;psychologists, dentists, marketers,&nbsp;nurses and chiropractors.</p>\\r\\r\\n\\r\\r\\n<p>Our tutors truly understand what&nbsp;additional skills are required for&nbsp;your chosen profession as they&nbsp;are part of it themselves. They&nbsp;bring first-hand experience to your&nbsp;classroom to enable you to translate&nbsp;your studies into practice.</p>\\r\\r\\n\\r\\r\\n<h2>We are committed to&nbsp;providing an outstanding&nbsp;student experience</h2>\\r\\r\\n\\r\\r\\n<p>Our teaching quality is of the highest standard. In the&nbsp;most recent survey by Legal Week, BPP University Law&nbsp;School was ranked in the top five* UK universities for&nbsp;quality of teaching. We have a range of professional study spaces with&nbsp;modern resources and technology. We take a practical&nbsp;approach to your studies &ndash; helping you transform&nbsp;theory into practice to develop knowledge for your&nbsp;chosen profession. BPP University study centres are located in some of&nbsp;the UK&rsquo;s most popular locations. We offer our law,&nbsp;business and health programmes at multiple centres.</p>\\r\\r\\n\\r\\r\\n<p>We specialise in developing your skills&nbsp;to succeed in business or a professional&nbsp;career in the following areas:</p>\\r\\r\\n\\r\\r\\n<ul>\\r\\r\\n\\t<li>Accountancy</li>\\r\\r\\n\\t<li>Banking</li>\\r\\r\\n\\t<li>Business and Management</li>\\r\\r\\n\\t<li>Chiropractic</li>\\r\\r\\n\\t<li>Dentistry</li>\\r\\r\\n\\t<li>English language</li>\\r\\r\\n\\t<li>Finance</li>\\r\\r\\n\\t<li>Health and Social Care</li>\\r\\r\\n\\t<li>Law</li>\\r\\r\\n\\t<li>Nursing</li>\\r\\r\\n\\t<li>Marketing</li>\\r\\r\\n\\t<li>Psychology</li>\\r\\r\\n</ul>',\n",
       "       'Postgraduate Courses', 'BPP Professional Education',\n",
       "       'Entrepreneurship & Start Ups', 'Financial Services', 'Female',\n",
       "       nan, 'University of Sussex', 'Physics',\n",
       "       'Energy & Infrastructure Entrepreneurship & Start Ups Investment Banking Technology: Consulting & Project Management Management & Business Sales & Commercial Science and Research Technology: IT & Software Development Investment & Asset Management Accounting, Tax & Audit Financial Services Consulting '],\n",
       "      dtype=object)"
      ]
     },
     "execution_count": 118,
     "metadata": {},
     "output_type": "execute_result"
    }
   ],
   "source": [
    "test.iloc[181][['job_description','job_title','employer_title', 'employer_sector_title', 'job_sector_title', 'gender',\n",
    "       'ethnicity', 'university_name', 'degree_subject_name', 'user_preference']].values"
   ]
  },
  {
   "cell_type": "code",
   "execution_count": 126,
   "metadata": {},
   "outputs": [
    {
     "data": {
      "text/plain": [
       "array(['<p>Our Online MSc in Law, Governance, Risk and Compliance is a professional programme, delivered in collaboration with the International Compliance Association (ICA) for those seeking career-enhancing postgraduate qualifications.&nbsp;</p>\\r\\r\\n\\r\\r\\n<p>This programme is specifically designed for students from around the world who already hold the ICA Professional Postgraduate Diploma in Governance, Risk and Compliance and wish to build on their international legal and GRC knowledge.</p>\\r\\r\\n\\r\\r\\n<p>The MSc will focus on the mix of professional skills required to apply regulations in practice &ndash; analysis, drafting and presentation skills, among others &ndash; so that you are equipped with the knowledge you will need as you build your international career.</p>\\r\\r\\n\\r\\r\\n<p>We know what it takes to succeed on the constantly changing global, legal and financial services stage. Everything we do is geared towards teaching in a professional, practical context so you can enhance your professional skills and career prospects as a modern professional.</p>\\r\\r\\n\\r\\r\\n<h2>Why choose the MSc in Law, Governance, Risk and Compliance?</h2>\\r\\r\\n\\r\\r\\n<ul>\\r\\r\\n\\t<li>Enhance your career with a qualification that reflects cutting-edge approaches to international law, regulatory risk and compliance</li>\\r\\r\\n\\t<li>Learn the professional skills required to apply regulations on the global stage in the field of GRC</li>\\r\\r\\n\\t<li>Gain practical experience from tutors with international experience</li>\\r\\r\\n\\t<li>Benefit from modules designed in conjunction with leading professional law firms</li>\\r\\r\\n\\t<li>Study via online distance-learning course</li>\\r\\r\\n\\t<li>Receive a professional, recognised and valuable Master&rsquo;s degree</li>\\r\\r\\n</ul>\\r\\r\\n\\r\\r\\n<h2>Requirements</h2>\\r\\r\\n\\r\\r\\n<p>You must have the following:&nbsp;</p>\\r\\r\\n\\r\\r\\n<ul>\\r\\r\\n\\t<li>the ICA Professional Postgraduate Diploma in Governance, Risk and Compliance or the &nbsp;ICA Graduate Diploma in Compliance, and</li>\\r\\r\\n\\t<li>if you are not from a majority English-speaking country, a score of at least 6.5 in all sections of the relevant tests administered by the International English Language Testing Service (IELTS) (Academic)</li>\\r\\r\\n</ul>\\r\\r\\n\\r\\r\\n<p>We also normally expect you to have one of the following qualifications:</p>\\r\\r\\n\\r\\r\\n<ul>\\r\\r\\n\\t<li>a UK undergraduate degree</li>\\r\\r\\n\\t<li>an equivalent international degree</li>\\r\\r\\n\\t<li>the GDL (Graduate Diploma in Law)</li>\\r\\r\\n\\t<li>the LPC (Legal Practice Course)</li>\\r\\r\\n\\t<li>the BVC (Bar Vocational Course) or BPTC (Bar Professional Training Course)&nbsp;</li>\\r\\r\\n</ul>',\n",
       "       'Online Master of Science (MSc) in Law, Governance, Risk and Compliance',\n",
       "       'University of Law', 'Commercial Law', 'Commercial Law', 'Female',\n",
       "       nan, 'University of Sussex', 'Physics',\n",
       "       'Energy & Infrastructure Entrepreneurship & Start Ups Investment Banking Technology: Consulting & Project Management Management & Business Sales & Commercial Science and Research Technology: IT & Software Development Investment & Asset Management Accounting, Tax & Audit Financial Services Consulting '],\n",
       "      dtype=object)"
      ]
     },
     "execution_count": 126,
     "metadata": {},
     "output_type": "execute_result"
    }
   ],
   "source": [
    "test.iloc[17][['job_description','job_title','employer_title', 'employer_sector_title', 'job_sector_title', 'gender',\n",
    "       'ethnicity', 'university_name', 'degree_subject_name', 'user_preference']].values"
   ]
  },
  {
   "cell_type": "markdown",
   "metadata": {},
   "source": [
    "# load model"
   ]
  },
  {
   "cell_type": "code",
   "execution_count": 87,
   "metadata": {},
   "outputs": [],
   "source": [
    "new_autoencoder = load_model(\"final_model.h5\")"
   ]
  },
  {
   "cell_type": "code",
   "execution_count": 113,
   "metadata": {},
   "outputs": [
    {
     "name": "stdout",
     "output_type": "stream",
     "text": [
      "Epoch 1/50\n",
      "125136/125136 [==============================] - 139s 1ms/step - loss: 0.0098\n",
      "Epoch 2/50\n",
      "125136/125136 [==============================] - 40s 321us/step - loss: 0.0069\n",
      "Epoch 3/50\n",
      "125136/125136 [==============================] - 39s 309us/step - loss: 0.0058\n",
      "Epoch 4/50\n",
      "125136/125136 [==============================] - 38s 305us/step - loss: 0.0053\n",
      "Epoch 5/50\n",
      "125136/125136 [==============================] - 39s 310us/step - loss: 0.0051\n",
      "Epoch 6/50\n",
      "125136/125136 [==============================] - 38s 305us/step - loss: 0.0048\n",
      "Epoch 7/50\n",
      "125136/125136 [==============================] - 38s 303us/step - loss: 0.0046\n",
      "Epoch 8/50\n",
      "125136/125136 [==============================] - 39s 315us/step - loss: 0.0045\n",
      "Epoch 9/50\n",
      "125136/125136 [==============================] - 40s 316us/step - loss: 0.0042\n",
      "Epoch 10/50\n",
      "125136/125136 [==============================] - 39s 311us/step - loss: 0.0047\n",
      "Epoch 11/50\n",
      "125136/125136 [==============================] - 39s 310us/step - loss: 0.0042\n",
      "Epoch 12/50\n",
      "125136/125136 [==============================] - 44s 353us/step - loss: 0.0040\n",
      "Epoch 13/50\n",
      "125136/125136 [==============================] - 39s 308us/step - loss: 0.0039\n",
      "Epoch 14/50\n",
      "125136/125136 [==============================] - 38s 301us/step - loss: 0.0038\n",
      "Epoch 15/50\n",
      "125136/125136 [==============================] - 38s 300us/step - loss: 0.0041\n",
      "Epoch 16/50\n",
      "125136/125136 [==============================] - 38s 302us/step - loss: 0.0040\n",
      "Epoch 17/50\n",
      "125136/125136 [==============================] - 38s 301us/step - loss: 0.0036\n",
      "Epoch 18/50\n",
      "125136/125136 [==============================] - 38s 303us/step - loss: 0.0035\n",
      "Epoch 19/50\n",
      "125136/125136 [==============================] - 38s 300us/step - loss: 0.0035\n",
      "Epoch 20/50\n",
      "125136/125136 [==============================] - 38s 303us/step - loss: 0.0034\n",
      "Epoch 21/50\n",
      "125136/125136 [==============================] - 37s 300us/step - loss: 0.0034\n",
      "Epoch 22/50\n",
      "125136/125136 [==============================] - 37s 300us/step - loss: 0.0033\n",
      "Epoch 23/50\n",
      "125136/125136 [==============================] - 39s 312us/step - loss: 0.0033\n",
      "Epoch 24/50\n",
      "125136/125136 [==============================] - 38s 305us/step - loss: 0.0035\n",
      "Epoch 25/50\n",
      "125136/125136 [==============================] - 42s 335us/step - loss: 0.0033\n",
      "Epoch 26/50\n",
      "125136/125136 [==============================] - 39s 310us/step - loss: 0.0032\n",
      "Epoch 27/50\n",
      "125136/125136 [==============================] - 38s 307us/step - loss: 0.0032\n",
      "Epoch 28/50\n",
      "125136/125136 [==============================] - 38s 305us/step - loss: 0.0034\n",
      "Epoch 29/50\n",
      "125136/125136 [==============================] - 40s 318us/step - loss: 0.0031\n",
      "Epoch 30/50\n",
      "125136/125136 [==============================] - 40s 317us/step - loss: 0.0030\n",
      "Epoch 31/50\n",
      "125136/125136 [==============================] - 38s 303us/step - loss: 0.0031\n",
      "Epoch 32/50\n",
      "125136/125136 [==============================] - 39s 310us/step - loss: 0.0030\n",
      "Epoch 33/50\n",
      "125136/125136 [==============================] - 38s 305us/step - loss: 0.0030\n",
      "Epoch 34/50\n",
      "125136/125136 [==============================] - 38s 304us/step - loss: 0.0029\n",
      "Epoch 35/50\n",
      "125136/125136 [==============================] - 38s 303us/step - loss: 0.0029\n",
      "Epoch 36/50\n",
      "125136/125136 [==============================] - 38s 304us/step - loss: 0.0030\n",
      "Epoch 37/50\n",
      "125136/125136 [==============================] - 38s 303us/step - loss: 0.0029\n",
      "Epoch 38/50\n",
      "125136/125136 [==============================] - 38s 302us/step - loss: 0.0028\n",
      "Epoch 39/50\n",
      "125136/125136 [==============================] - 38s 303us/step - loss: 0.0029\n",
      "Epoch 40/50\n",
      "125136/125136 [==============================] - 38s 307us/step - loss: 0.0028\n",
      "Epoch 41/50\n",
      "125136/125136 [==============================] - 39s 310us/step - loss: 0.0029\n",
      "Epoch 42/50\n",
      "125136/125136 [==============================] - 38s 305us/step - loss: 0.0031\n",
      "Epoch 43/50\n",
      "125136/125136 [==============================] - 38s 303us/step - loss: 0.0028\n",
      "Epoch 44/50\n",
      "125136/125136 [==============================] - 38s 301us/step - loss: 0.0028\n",
      "Epoch 45/50\n",
      "125136/125136 [==============================] - 38s 306us/step - loss: 0.0027\n",
      "Epoch 46/50\n",
      "125136/125136 [==============================] - 38s 304us/step - loss: 0.0029\n",
      "Epoch 47/50\n",
      "125136/125136 [==============================] - 37s 300us/step - loss: 0.0027\n",
      "Epoch 48/50\n",
      "125136/125136 [==============================] - 38s 303us/step - loss: 0.0027\n",
      "Epoch 49/50\n",
      "125136/125136 [==============================] - 39s 311us/step - loss: 0.0027\n",
      "Epoch 50/50\n",
      "125136/125136 [==============================] - 38s 303us/step - loss: 0.0026\n"
     ]
    },
    {
     "data": {
      "text/plain": [
       "<keras.callbacks.History at 0x23aafa5bfd0>"
      ]
     },
     "execution_count": 113,
     "metadata": {},
     "output_type": "execute_result"
    }
   ],
   "source": [
    "adam=Adam(lr=0.005, beta_1=0.9, beta_2=0.999, epsilon=None, decay=0.0, amsgrad=False)\n",
    "new_autoencoder.compile(loss='mean_squared_error', optimizer=adam)\n",
    "\n",
    "new_autoencoder.fit(data, data,\n",
    "                epochs=50,\n",
    "                batch_size=7000,\n",
    "                shuffle=True)"
   ]
  },
  {
   "cell_type": "code",
   "execution_count": 114,
   "metadata": {},
   "outputs": [],
   "source": [
    "new_autoencoder.save('final_model.h5')"
   ]
  },
  {
   "cell_type": "code",
   "execution_count": 115,
   "metadata": {},
   "outputs": [],
   "source": [
    "train_predictions=new_autoencoder.predict(data)"
   ]
  },
  {
   "cell_type": "code",
   "execution_count": 116,
   "metadata": {},
   "outputs": [],
   "source": [
    "test_predictions=new_autoencoder.predict(test_data)"
   ]
  },
  {
   "cell_type": "code",
   "execution_count": 93,
   "metadata": {},
   "outputs": [],
   "source": [
    "def get_test_user_id(df):\n",
    "    users=list(set(list(df[\"user_id\"].values)))\n",
    "    d={}\n",
    "    for user in users:\n",
    "        d[str(user)]=[]\n",
    "    n=df.shape[0]\n",
    "    for i in range(n):\n",
    "        user_id=df.iloc[i][\"user_id\"]\n",
    "        d[str(user_id)].append(i)\n",
    "    return d"
   ]
  },
  {
   "cell_type": "code",
   "execution_count": 145,
   "metadata": {},
   "outputs": [],
   "source": [
    "select_ids=get_test_user_id(test)\n",
    "selected_user=select_ids[\"155182\"]\n",
    "#selected_mse=test_mse[selected_user]"
   ]
  },
  {
   "cell_type": "code",
   "execution_count": 146,
   "metadata": {},
   "outputs": [],
   "source": [
    "test_mse_1 = np.power(test_data[selected_user] - test_predictions[selected_user], 2)\n",
    "mse_1 = np.power(data - train_predictions, 2)"
   ]
  },
  {
   "cell_type": "code",
   "execution_count": 147,
   "metadata": {},
   "outputs": [],
   "source": [
    "df_train=pd.DataFrame(mse_1, columns=[\"col\"+str(i) for i in range(mse_1.shape[1])])\n",
    "df_test=pd.DataFrame(test_mse_1, columns=[\"col\"+str(i) for i in range(mse_1.shape[1])])"
   ]
  },
  {
   "cell_type": "code",
   "execution_count": 148,
   "metadata": {},
   "outputs": [
    {
     "data": {
      "text/html": [
       "<div>\n",
       "<style scoped>\n",
       "    .dataframe tbody tr th:only-of-type {\n",
       "        vertical-align: middle;\n",
       "    }\n",
       "\n",
       "    .dataframe tbody tr th {\n",
       "        vertical-align: top;\n",
       "    }\n",
       "\n",
       "    .dataframe thead th {\n",
       "        text-align: right;\n",
       "    }\n",
       "</style>\n",
       "<table border=\"1\" class=\"dataframe\">\n",
       "  <thead>\n",
       "    <tr style=\"text-align: right;\">\n",
       "      <th></th>\n",
       "      <th>col0</th>\n",
       "      <th>col1</th>\n",
       "      <th>col2</th>\n",
       "      <th>col3</th>\n",
       "      <th>col4</th>\n",
       "      <th>col5</th>\n",
       "      <th>col6</th>\n",
       "      <th>col7</th>\n",
       "      <th>col8</th>\n",
       "      <th>col9</th>\n",
       "      <th>...</th>\n",
       "      <th>col690</th>\n",
       "      <th>col691</th>\n",
       "      <th>col692</th>\n",
       "      <th>col693</th>\n",
       "      <th>col694</th>\n",
       "      <th>col695</th>\n",
       "      <th>col696</th>\n",
       "      <th>col697</th>\n",
       "      <th>col698</th>\n",
       "      <th>col699</th>\n",
       "    </tr>\n",
       "  </thead>\n",
       "  <tbody>\n",
       "    <tr>\n",
       "      <th>0</th>\n",
       "      <td>0.004663</td>\n",
       "      <td>0.006413</td>\n",
       "      <td>0.012687</td>\n",
       "      <td>0.002379</td>\n",
       "      <td>0.000390</td>\n",
       "      <td>0.002064</td>\n",
       "      <td>0.005560</td>\n",
       "      <td>0.001733</td>\n",
       "      <td>0.00002</td>\n",
       "      <td>0.000257</td>\n",
       "      <td>...</td>\n",
       "      <td>0.001264</td>\n",
       "      <td>0.000087</td>\n",
       "      <td>0.005926</td>\n",
       "      <td>0.000038</td>\n",
       "      <td>0.007369</td>\n",
       "      <td>0.000007</td>\n",
       "      <td>0.003764</td>\n",
       "      <td>0.024220</td>\n",
       "      <td>0.000482</td>\n",
       "      <td>0.002523</td>\n",
       "    </tr>\n",
       "    <tr>\n",
       "      <th>1</th>\n",
       "      <td>0.008103</td>\n",
       "      <td>0.133410</td>\n",
       "      <td>0.014222</td>\n",
       "      <td>0.007694</td>\n",
       "      <td>0.005597</td>\n",
       "      <td>0.018696</td>\n",
       "      <td>0.003044</td>\n",
       "      <td>0.002291</td>\n",
       "      <td>0.00241</td>\n",
       "      <td>0.003219</td>\n",
       "      <td>...</td>\n",
       "      <td>0.000030</td>\n",
       "      <td>0.000151</td>\n",
       "      <td>0.001614</td>\n",
       "      <td>0.000008</td>\n",
       "      <td>0.007184</td>\n",
       "      <td>0.000319</td>\n",
       "      <td>0.002246</td>\n",
       "      <td>0.027438</td>\n",
       "      <td>0.000015</td>\n",
       "      <td>0.002374</td>\n",
       "    </tr>\n",
       "  </tbody>\n",
       "</table>\n",
       "<p>2 rows × 700 columns</p>\n",
       "</div>"
      ],
      "text/plain": [
       "       col0      col1      col2      col3      col4      col5      col6  \\\n",
       "0  0.004663  0.006413  0.012687  0.002379  0.000390  0.002064  0.005560   \n",
       "1  0.008103  0.133410  0.014222  0.007694  0.005597  0.018696  0.003044   \n",
       "\n",
       "       col7     col8      col9    ...       col690    col691    col692  \\\n",
       "0  0.001733  0.00002  0.000257    ...     0.001264  0.000087  0.005926   \n",
       "1  0.002291  0.00241  0.003219    ...     0.000030  0.000151  0.001614   \n",
       "\n",
       "     col693    col694    col695    col696    col697    col698    col699  \n",
       "0  0.000038  0.007369  0.000007  0.003764  0.024220  0.000482  0.002523  \n",
       "1  0.000008  0.007184  0.000319  0.002246  0.027438  0.000015  0.002374  \n",
       "\n",
       "[2 rows x 700 columns]"
      ]
     },
     "execution_count": 148,
     "metadata": {},
     "output_type": "execute_result"
    }
   ],
   "source": [
    "df_test.head(2)"
   ]
  },
  {
   "cell_type": "code",
   "execution_count": 150,
   "metadata": {},
   "outputs": [
    {
     "data": {
      "text/html": [
       "<div>\n",
       "<style scoped>\n",
       "    .dataframe tbody tr th:only-of-type {\n",
       "        vertical-align: middle;\n",
       "    }\n",
       "\n",
       "    .dataframe tbody tr th {\n",
       "        vertical-align: top;\n",
       "    }\n",
       "\n",
       "    .dataframe thead th {\n",
       "        text-align: right;\n",
       "    }\n",
       "</style>\n",
       "<table border=\"1\" class=\"dataframe\">\n",
       "  <thead>\n",
       "    <tr style=\"text-align: right;\">\n",
       "      <th></th>\n",
       "      <th>col0</th>\n",
       "      <th>col1</th>\n",
       "      <th>col2</th>\n",
       "      <th>col3</th>\n",
       "      <th>col4</th>\n",
       "      <th>col5</th>\n",
       "      <th>col6</th>\n",
       "      <th>col7</th>\n",
       "      <th>col8</th>\n",
       "      <th>col9</th>\n",
       "      <th>...</th>\n",
       "      <th>col690</th>\n",
       "      <th>col691</th>\n",
       "      <th>col692</th>\n",
       "      <th>col693</th>\n",
       "      <th>col694</th>\n",
       "      <th>col695</th>\n",
       "      <th>col696</th>\n",
       "      <th>col697</th>\n",
       "      <th>col698</th>\n",
       "      <th>col699</th>\n",
       "    </tr>\n",
       "  </thead>\n",
       "  <tbody>\n",
       "    <tr>\n",
       "      <th>0</th>\n",
       "      <td>0.000456</td>\n",
       "      <td>0.000185</td>\n",
       "      <td>0.000249</td>\n",
       "      <td>0.000035</td>\n",
       "      <td>0.000543</td>\n",
       "      <td>0.000034</td>\n",
       "      <td>8.186448e-08</td>\n",
       "      <td>0.000096</td>\n",
       "      <td>0.000314</td>\n",
       "      <td>0.000060</td>\n",
       "      <td>...</td>\n",
       "      <td>0.006918</td>\n",
       "      <td>0.000096</td>\n",
       "      <td>0.000248</td>\n",
       "      <td>0.000296</td>\n",
       "      <td>0.000156</td>\n",
       "      <td>0.000006</td>\n",
       "      <td>0.000646</td>\n",
       "      <td>0.00174</td>\n",
       "      <td>0.000186</td>\n",
       "      <td>0.000016</td>\n",
       "    </tr>\n",
       "    <tr>\n",
       "      <th>1</th>\n",
       "      <td>0.000018</td>\n",
       "      <td>0.000009</td>\n",
       "      <td>0.000107</td>\n",
       "      <td>0.000016</td>\n",
       "      <td>0.000011</td>\n",
       "      <td>0.000411</td>\n",
       "      <td>3.540577e-04</td>\n",
       "      <td>0.000007</td>\n",
       "      <td>0.000010</td>\n",
       "      <td>0.000051</td>\n",
       "      <td>...</td>\n",
       "      <td>0.001221</td>\n",
       "      <td>0.006967</td>\n",
       "      <td>0.010797</td>\n",
       "      <td>0.002359</td>\n",
       "      <td>0.001124</td>\n",
       "      <td>0.001068</td>\n",
       "      <td>0.004601</td>\n",
       "      <td>0.00384</td>\n",
       "      <td>0.001851</td>\n",
       "      <td>0.001893</td>\n",
       "    </tr>\n",
       "  </tbody>\n",
       "</table>\n",
       "<p>2 rows × 700 columns</p>\n",
       "</div>"
      ],
      "text/plain": [
       "       col0      col1      col2      col3      col4      col5          col6  \\\n",
       "0  0.000456  0.000185  0.000249  0.000035  0.000543  0.000034  8.186448e-08   \n",
       "1  0.000018  0.000009  0.000107  0.000016  0.000011  0.000411  3.540577e-04   \n",
       "\n",
       "       col7      col8      col9    ...       col690    col691    col692  \\\n",
       "0  0.000096  0.000314  0.000060    ...     0.006918  0.000096  0.000248   \n",
       "1  0.000007  0.000010  0.000051    ...     0.001221  0.006967  0.010797   \n",
       "\n",
       "     col693    col694    col695    col696   col697    col698    col699  \n",
       "0  0.000296  0.000156  0.000006  0.000646  0.00174  0.000186  0.000016  \n",
       "1  0.002359  0.001124  0.001068  0.004601  0.00384  0.001851  0.001893  \n",
       "\n",
       "[2 rows x 700 columns]"
      ]
     },
     "execution_count": 150,
     "metadata": {},
     "output_type": "execute_result"
    }
   ],
   "source": [
    "df_train.head(2)"
   ]
  },
  {
   "cell_type": "code",
   "execution_count": 254,
   "metadata": {},
   "outputs": [],
   "source": [
    "test_reconstruction_error=df_test.sum(axis=1).values"
   ]
  },
  {
   "cell_type": "code",
   "execution_count": 256,
   "metadata": {},
   "outputs": [
    {
     "data": {
      "text/plain": [
       "0    3.479218\n",
       "1    5.733729\n",
       "2    5.125675\n",
       "3    3.762453\n",
       "4    3.674176\n",
       "5    6.715399\n",
       "6    1.858253\n",
       "7    3.527649\n",
       "8    4.109744\n",
       "9    4.310875\n",
       "dtype: float64"
      ]
     },
     "execution_count": 256,
     "metadata": {},
     "output_type": "execute_result"
    }
   ],
   "source": [
    "reconstruction_error[:10]"
   ]
  },
  {
   "cell_type": "code",
   "execution_count": 261,
   "metadata": {},
   "outputs": [],
   "source": [
    "train_reconstruction_error=df_train.sum(axis=1)"
   ]
  },
  {
   "cell_type": "code",
   "execution_count": 263,
   "metadata": {},
   "outputs": [
    {
     "data": {
      "text/plain": [
       "0     0.400191\n",
       "1     1.378169\n",
       "2     2.085674\n",
       "3     0.865040\n",
       "4     1.133220\n",
       "5     2.484558\n",
       "6     1.602567\n",
       "7     1.246450\n",
       "8    16.173773\n",
       "9     0.824381\n",
       "dtype: float64"
      ]
     },
     "execution_count": 263,
     "metadata": {},
     "output_type": "execute_result"
    }
   ],
   "source": [
    "train_reconstruction_error[:10]"
   ]
  },
  {
   "cell_type": "code",
   "execution_count": 279,
   "metadata": {},
   "outputs": [],
   "source": [
    "def get_max(df,treshold):\n",
    "    x=df.describe(percentiles=[treshold])[5]\n",
    "    return x"
   ]
  },
  {
   "cell_type": "code",
   "execution_count": 293,
   "metadata": {},
   "outputs": [],
   "source": [
    "train_max=get_max(train_reconstruction_error,0.8)"
   ]
  },
  {
   "cell_type": "code",
   "execution_count": 294,
   "metadata": {},
   "outputs": [
    {
     "data": {
      "text/plain": [
       "2.7204860211005975"
      ]
     },
     "execution_count": 294,
     "metadata": {},
     "output_type": "execute_result"
    }
   ],
   "source": [
    "train_max"
   ]
  },
  {
   "cell_type": "code",
   "execution_count": 296,
   "metadata": {},
   "outputs": [],
   "source": [
    "rank_jobs=np.argsort(test_reconstruction_error)"
   ]
  },
  {
   "cell_type": "code",
   "execution_count": 314,
   "metadata": {},
   "outputs": [
    {
     "data": {
      "text/plain": [
       "array([ 38, 191, 165,  54, 187, 209, 278, 192, 202,  53,  28, 279,  51,\n",
       "       126, 127,  73, 123, 223,  50,  63,  76, 185, 251,  43, 196,  91,\n",
       "         6,  48, 104,  89,  60, 199,  15,  86, 271, 157, 261,  39,  92,\n",
       "       190,  72, 203, 108, 284, 229, 166,  17, 111, 109, 118, 277, 275,\n",
       "       285,  81, 189, 133,  36,  32, 195, 140, 253, 153, 252, 276, 282,\n",
       "       103, 155, 272,  35, 269, 179, 201,  66, 119, 129, 113, 283, 258,\n",
       "       231, 168,  95, 289,  24,  88, 193,  55, 143, 204, 122, 225,  25,\n",
       "        58, 128, 243, 130, 236, 233, 132, 237, 162, 235,  69,  68, 110,\n",
       "       234, 167, 194, 263,  65, 178, 250,  59, 164,   0,  57, 115,  80,\n",
       "        18,  21,   7,  61,  52, 183, 244, 207, 240, 163,   4,  16, 210,\n",
       "       205,  70,   3, 265,  56, 206,  19, 144, 175, 173, 242, 117,  93,\n",
       "       213, 212,  40,  44,  30, 220,  47,  96, 188, 211, 274, 254, 259,\n",
       "         8, 241, 136,  87,  94,  31, 257, 268,   9,  20, 248, 246,  41,\n",
       "       186,  75, 198, 134, 239,  33, 177, 176,  82, 270,  71, 149, 215,\n",
       "       152, 112, 208, 219,  77,  98, 245, 255, 141, 145, 222, 180, 138,\n",
       "        74, 121, 125, 146, 158, 182,  45, 249, 124, 228,   2,  97, 238,\n",
       "        79,  49, 172, 260,  22,  64, 151, 139,  11, 100, 106,  84, 224,\n",
       "       221, 161,  29, 232, 200, 264,  10, 107,  67,   1, 147,  78, 267,\n",
       "       114,  37, 116, 287, 170, 280,  83, 262, 197,  23,  62, 214, 142,\n",
       "       105, 102,  90, 150,  85, 169,  34, 160, 286, 181, 120,  14, 171,\n",
       "         5, 101,  99, 226, 131, 135, 156, 227,  12, 184,  42, 148, 159,\n",
       "       256, 266,  26, 154,  13, 273,  46, 288, 247, 230, 216, 174, 217,\n",
       "        27, 137, 281, 218], dtype=int64)"
      ]
     },
     "execution_count": 314,
     "metadata": {},
     "output_type": "execute_result"
    }
   ],
   "source": [
    "rank_jobs"
   ]
  },
  {
   "cell_type": "code",
   "execution_count": 298,
   "metadata": {},
   "outputs": [],
   "source": [
    "def make_recommendations(x,treshold):\n",
    "    res=[]\n",
    "    for i in x:\n",
    "        if i<=treshold:\n",
    "            res.append(1)\n",
    "        else:\n",
    "            res.append(0)\n",
    "    return np.array(res)"
   ]
  },
  {
   "cell_type": "code",
   "execution_count": 299,
   "metadata": {},
   "outputs": [],
   "source": [
    "recommendations=make_recommendations(test_reconstruction_error, train_max)"
   ]
  },
  {
   "cell_type": "code",
   "execution_count": 300,
   "metadata": {},
   "outputs": [
    {
     "data": {
      "text/plain": [
       "69"
      ]
     },
     "execution_count": 300,
     "metadata": {},
     "output_type": "execute_result"
    }
   ],
   "source": [
    "sum(recommendations)"
   ]
  },
  {
   "cell_type": "code",
   "execution_count": 302,
   "metadata": {},
   "outputs": [],
   "source": [
    "recommended_jobs=rank_jobs[:sum(recommendations)]"
   ]
  },
  {
   "cell_type": "code",
   "execution_count": 306,
   "metadata": {},
   "outputs": [
    {
     "data": {
      "text/html": [
       "<div>\n",
       "<style scoped>\n",
       "    .dataframe tbody tr th:only-of-type {\n",
       "        vertical-align: middle;\n",
       "    }\n",
       "\n",
       "    .dataframe tbody tr th {\n",
       "        vertical-align: top;\n",
       "    }\n",
       "\n",
       "    .dataframe thead th {\n",
       "        text-align: right;\n",
       "    }\n",
       "</style>\n",
       "<table border=\"1\" class=\"dataframe\">\n",
       "  <thead>\n",
       "    <tr style=\"text-align: right;\">\n",
       "      <th></th>\n",
       "      <th>job_title</th>\n",
       "      <th>employer_title</th>\n",
       "      <th>employer_sector_title</th>\n",
       "      <th>job_sector_title</th>\n",
       "      <th>gender</th>\n",
       "      <th>ethnicity</th>\n",
       "      <th>university_name</th>\n",
       "      <th>degree_subject_name</th>\n",
       "      <th>user_preference</th>\n",
       "    </tr>\n",
       "  </thead>\n",
       "  <tbody>\n",
       "    <tr>\n",
       "      <th>91994</th>\n",
       "      <td>Leadership Development Programme</td>\n",
       "      <td>Teach First</td>\n",
       "      <td>Education &amp; Teaching</td>\n",
       "      <td>Charity &amp; Social Enterprise</td>\n",
       "      <td>Female</td>\n",
       "      <td>White/White British</td>\n",
       "      <td>University of Exeter</td>\n",
       "      <td>Modern Languages</td>\n",
       "      <td>NaN</td>\n",
       "    </tr>\n",
       "    <tr>\n",
       "      <th>91997</th>\n",
       "      <td>Graduate Scheme</td>\n",
       "      <td>Worthwhile</td>\n",
       "      <td>Entrepreneurship &amp; Start Ups</td>\n",
       "      <td>Charity &amp; Social Enterprise</td>\n",
       "      <td>Female</td>\n",
       "      <td>White/White British</td>\n",
       "      <td>University of Exeter</td>\n",
       "      <td>Modern Languages</td>\n",
       "      <td>NaN</td>\n",
       "    </tr>\n",
       "    <tr>\n",
       "      <th>91996</th>\n",
       "      <td>Global Research Global Graduate Programme</td>\n",
       "      <td>HSBC</td>\n",
       "      <td>Financial Services</td>\n",
       "      <td>Financial Services</td>\n",
       "      <td>Female</td>\n",
       "      <td>White/White British</td>\n",
       "      <td>University of Exeter</td>\n",
       "      <td>Modern Languages</td>\n",
       "      <td>NaN</td>\n",
       "    </tr>\n",
       "    <tr>\n",
       "      <th>91993</th>\n",
       "      <td>Graduate Teacher Training Programme</td>\n",
       "      <td>Ark Teacher Training</td>\n",
       "      <td>Education &amp; Teaching</td>\n",
       "      <td>Charity &amp; Social Enterprise</td>\n",
       "      <td>Female</td>\n",
       "      <td>White/White British</td>\n",
       "      <td>University of Exeter</td>\n",
       "      <td>Modern Languages</td>\n",
       "      <td>NaN</td>\n",
       "    </tr>\n",
       "    <tr>\n",
       "      <th>91998</th>\n",
       "      <td>Business Associate</td>\n",
       "      <td>Next Jump</td>\n",
       "      <td>Technology: Consulting &amp; Project Management</td>\n",
       "      <td>Media, Film &amp; TV</td>\n",
       "      <td>Female</td>\n",
       "      <td>White/White British</td>\n",
       "      <td>University of Exeter</td>\n",
       "      <td>Modern Languages</td>\n",
       "      <td>NaN</td>\n",
       "    </tr>\n",
       "    <tr>\n",
       "      <th>92001</th>\n",
       "      <td>General Graduate Development Programme</td>\n",
       "      <td>Wellcome Trust</td>\n",
       "      <td>Charity &amp; Social Enterprise</td>\n",
       "      <td>Charity &amp; Social Enterprise</td>\n",
       "      <td>Female</td>\n",
       "      <td>White/White British</td>\n",
       "      <td>University of Exeter</td>\n",
       "      <td>Modern Languages</td>\n",
       "      <td>NaN</td>\n",
       "    </tr>\n",
       "    <tr>\n",
       "      <th>92002</th>\n",
       "      <td>Bright Network Springboard Programme</td>\n",
       "      <td>Bright Network Springboard</td>\n",
       "      <td>Sales &amp; Commercial</td>\n",
       "      <td>Sales &amp; Commercial</td>\n",
       "      <td>Female</td>\n",
       "      <td>White/White British</td>\n",
       "      <td>University of Exeter</td>\n",
       "      <td>Modern Languages</td>\n",
       "      <td>NaN</td>\n",
       "    </tr>\n",
       "    <tr>\n",
       "      <th>92004</th>\n",
       "      <td>Project Management Graduate</td>\n",
       "      <td>Fujitsu</td>\n",
       "      <td>Technology: Consulting &amp; Project Management</td>\n",
       "      <td>Technology: Consulting &amp; Project Management</td>\n",
       "      <td>Female</td>\n",
       "      <td>White/White British</td>\n",
       "      <td>University of Exeter</td>\n",
       "      <td>Modern Languages</td>\n",
       "      <td>NaN</td>\n",
       "    </tr>\n",
       "    <tr>\n",
       "      <th>92000</th>\n",
       "      <td>2018 Associate Programme</td>\n",
       "      <td>On Purpose</td>\n",
       "      <td>Entrepreneurship &amp; Start Ups</td>\n",
       "      <td>Charity &amp; Social Enterprise</td>\n",
       "      <td>Female</td>\n",
       "      <td>White/White British</td>\n",
       "      <td>University of Exeter</td>\n",
       "      <td>Modern Languages</td>\n",
       "      <td>NaN</td>\n",
       "    </tr>\n",
       "    <tr>\n",
       "      <th>91999</th>\n",
       "      <td>Assistant Consultant</td>\n",
       "      <td>Archus</td>\n",
       "      <td>Consulting</td>\n",
       "      <td>Consulting</td>\n",
       "      <td>Female</td>\n",
       "      <td>White/White British</td>\n",
       "      <td>University of Exeter</td>\n",
       "      <td>Modern Languages</td>\n",
       "      <td>NaN</td>\n",
       "    </tr>\n",
       "    <tr>\n",
       "      <th>92006</th>\n",
       "      <td>Graduate Scheme</td>\n",
       "      <td>Brainlabs</td>\n",
       "      <td>Education &amp; Teaching</td>\n",
       "      <td>Technology: IT &amp; Software Development</td>\n",
       "      <td>Female</td>\n",
       "      <td>White/White British</td>\n",
       "      <td>University of Exeter</td>\n",
       "      <td>Modern Languages</td>\n",
       "      <td>NaN</td>\n",
       "    </tr>\n",
       "    <tr>\n",
       "      <th>91995</th>\n",
       "      <td>International Company - Graduate</td>\n",
       "      <td>Robert Half</td>\n",
       "      <td>HR &amp; Recruitment</td>\n",
       "      <td>Financial Services</td>\n",
       "      <td>Female</td>\n",
       "      <td>White/White British</td>\n",
       "      <td>University of Exeter</td>\n",
       "      <td>Modern Languages</td>\n",
       "      <td>NaN</td>\n",
       "    </tr>\n",
       "    <tr>\n",
       "      <th>92005</th>\n",
       "      <td>HR Programme</td>\n",
       "      <td>Nestlé</td>\n",
       "      <td>Consumer, FMCG &amp; Retail</td>\n",
       "      <td>Consumer, FMCG &amp; Retail</td>\n",
       "      <td>Female</td>\n",
       "      <td>White/White British</td>\n",
       "      <td>University of Exeter</td>\n",
       "      <td>Modern Languages</td>\n",
       "      <td>NaN</td>\n",
       "    </tr>\n",
       "    <tr>\n",
       "      <th>92003</th>\n",
       "      <td>Community Banking Leadership Programme</td>\n",
       "      <td>Lloyds Banking Group</td>\n",
       "      <td>Financial Services</td>\n",
       "      <td>Financial Services</td>\n",
       "      <td>Female</td>\n",
       "      <td>White/White British</td>\n",
       "      <td>University of Exeter</td>\n",
       "      <td>Modern Languages</td>\n",
       "      <td>NaN</td>\n",
       "    </tr>\n",
       "  </tbody>\n",
       "</table>\n",
       "</div>"
      ],
      "text/plain": [
       "                                       job_title              employer_title  \\\n",
       "91994           Leadership Development Programme                 Teach First   \n",
       "91997                            Graduate Scheme                  Worthwhile   \n",
       "91996  Global Research Global Graduate Programme                        HSBC   \n",
       "91993        Graduate Teacher Training Programme        Ark Teacher Training   \n",
       "91998                         Business Associate                   Next Jump   \n",
       "92001     General Graduate Development Programme              Wellcome Trust   \n",
       "92002       Bright Network Springboard Programme  Bright Network Springboard   \n",
       "92004                Project Management Graduate                     Fujitsu   \n",
       "92000                   2018 Associate Programme                  On Purpose   \n",
       "91999                       Assistant Consultant                      Archus   \n",
       "92006                            Graduate Scheme                   Brainlabs   \n",
       "91995           International Company - Graduate                 Robert Half   \n",
       "92005                               HR Programme                      Nestlé   \n",
       "92003     Community Banking Leadership Programme        Lloyds Banking Group   \n",
       "\n",
       "                             employer_sector_title  \\\n",
       "91994                         Education & Teaching   \n",
       "91997                 Entrepreneurship & Start Ups   \n",
       "91996                           Financial Services   \n",
       "91993                         Education & Teaching   \n",
       "91998  Technology: Consulting & Project Management   \n",
       "92001                  Charity & Social Enterprise   \n",
       "92002                           Sales & Commercial   \n",
       "92004  Technology: Consulting & Project Management   \n",
       "92000                 Entrepreneurship & Start Ups   \n",
       "91999                                   Consulting   \n",
       "92006                         Education & Teaching   \n",
       "91995                             HR & Recruitment   \n",
       "92005                      Consumer, FMCG & Retail   \n",
       "92003                           Financial Services   \n",
       "\n",
       "                                  job_sector_title  gender  \\\n",
       "91994                  Charity & Social Enterprise  Female   \n",
       "91997                  Charity & Social Enterprise  Female   \n",
       "91996                           Financial Services  Female   \n",
       "91993                  Charity & Social Enterprise  Female   \n",
       "91998                             Media, Film & TV  Female   \n",
       "92001                  Charity & Social Enterprise  Female   \n",
       "92002                           Sales & Commercial  Female   \n",
       "92004  Technology: Consulting & Project Management  Female   \n",
       "92000                  Charity & Social Enterprise  Female   \n",
       "91999                                   Consulting  Female   \n",
       "92006        Technology: IT & Software Development  Female   \n",
       "91995                           Financial Services  Female   \n",
       "92005                      Consumer, FMCG & Retail  Female   \n",
       "92003                           Financial Services  Female   \n",
       "\n",
       "                 ethnicity       university_name degree_subject_name  \\\n",
       "91994  White/White British  University of Exeter    Modern Languages   \n",
       "91997  White/White British  University of Exeter    Modern Languages   \n",
       "91996  White/White British  University of Exeter    Modern Languages   \n",
       "91993  White/White British  University of Exeter    Modern Languages   \n",
       "91998  White/White British  University of Exeter    Modern Languages   \n",
       "92001  White/White British  University of Exeter    Modern Languages   \n",
       "92002  White/White British  University of Exeter    Modern Languages   \n",
       "92004  White/White British  University of Exeter    Modern Languages   \n",
       "92000  White/White British  University of Exeter    Modern Languages   \n",
       "91999  White/White British  University of Exeter    Modern Languages   \n",
       "92006  White/White British  University of Exeter    Modern Languages   \n",
       "91995  White/White British  University of Exeter    Modern Languages   \n",
       "92005  White/White British  University of Exeter    Modern Languages   \n",
       "92003  White/White British  University of Exeter    Modern Languages   \n",
       "\n",
       "      user_preference  \n",
       "91994             NaN  \n",
       "91997             NaN  \n",
       "91996             NaN  \n",
       "91993             NaN  \n",
       "91998             NaN  \n",
       "92001             NaN  \n",
       "92002             NaN  \n",
       "92004             NaN  \n",
       "92000             NaN  \n",
       "91999             NaN  \n",
       "92006             NaN  \n",
       "91995             NaN  \n",
       "92005             NaN  \n",
       "92003             NaN  "
      ]
     },
     "execution_count": 306,
     "metadata": {},
     "output_type": "execute_result"
    }
   ],
   "source": [
    "train[train[\"user_id\"]==155182][['job_title','employer_title', 'employer_sector_title', 'job_sector_title', 'gender',\n",
    "       'ethnicity', 'university_name', 'degree_subject_name', 'user_preference']].tail(200)"
   ]
  },
  {
   "cell_type": "code",
   "execution_count": 303,
   "metadata": {},
   "outputs": [
    {
     "data": {
      "text/plain": [
       "array([ 38, 191, 165,  54, 187, 209, 278, 192, 202,  53,  28, 279,  51,\n",
       "       126, 127,  73, 123, 223,  50,  63,  76, 185, 251,  43, 196,  91,\n",
       "         6,  48, 104,  89,  60, 199,  15,  86, 271, 157, 261,  39,  92,\n",
       "       190,  72, 203, 108, 284, 229, 166,  17, 111, 109, 118, 277, 275,\n",
       "       285,  81, 189, 133,  36,  32, 195, 140, 253, 153, 252, 276, 282,\n",
       "       103, 155, 272,  35], dtype=int64)"
      ]
     },
     "execution_count": 303,
     "metadata": {},
     "output_type": "execute_result"
    }
   ],
   "source": [
    "recommended_jobs"
   ]
  },
  {
   "cell_type": "code",
   "execution_count": 311,
   "metadata": {},
   "outputs": [
    {
     "data": {
      "text/plain": [
       "array([288, 247, 230, 216, 174, 217,  27, 137, 281, 218], dtype=int64)"
      ]
     },
     "execution_count": 311,
     "metadata": {},
     "output_type": "execute_result"
    }
   ],
   "source": [
    "rank_jobs[-10:]"
   ]
  },
  {
   "cell_type": "code",
   "execution_count": 305,
   "metadata": {},
   "outputs": [
    {
     "data": {
      "text/plain": [
       "array([155182, 'UK Sales Graduate Job 2019',\n",
       "       '<h2 style=\"margin-left: 0px !important;\">Overview</h2>\\r\\r\\n\\r\\r\\n<p style=\"margin-left:0px !important\">Want to work with brands that millions of consumers can&rsquo;t live without? Want to work with like-minded and talented colleagues? Are you motivated by challenging problems, real responsibility and winning?</p>\\r\\r\\n\\r\\r\\n<p style=\"margin-left:0px !important\"><strong>If</strong>&nbsp;<strong>so,</strong>&nbsp;<strong>we</strong>&nbsp;<strong>have</strong>&nbsp;<strong>the</strong>&nbsp;<strong>perfect</strong>&nbsp;<strong>opportunity</strong>&nbsp;<strong>for</strong>&nbsp;<strong>you.</strong>&nbsp;<strong>Apply</strong>&nbsp;<strong>now</strong>&nbsp;<strong>to</strong>&nbsp;<strong>join</strong>&nbsp;<strong>the</strong>&nbsp;<strong>P&amp;G Sales</strong>&nbsp;<strong>team.</strong></p>\\r\\r\\n\\r\\r\\n<h2 style=\"margin-left: 0px !important;\">What you can expect</h2>\\r\\r\\n\\r\\r\\n<p style=\"margin-left:0px !important\">Working in sales at P&amp;G means getting your own multi million pound business &amp; budget to lead from day 1. That means working with great brands like Pampers, Fairy &amp; Gillette and the UK&#39;s biggest grocery retailers. You will be the key contact for the business with your retailer and responsible for building and maintaining that relationship. You will build and design ideas &amp; strategies using analytics and shopper insights and then use your relationship and understanding of the market to sell, negotiate &amp; execute your ideas.</p>\\r\\r\\n\\r\\r\\n<p style=\"margin-left:0px !important\">As a full time hire you are automatically enrolled in our world-class graduate scheme training programme. It&rsquo;s 2 years of structured training, mentoring and specially chosen roles to set you up for a successful career in P&amp;G Sales and recognized industry wide as the best leadership development programme.</p>\\r\\r\\n\\r\\r\\n<p style=\"margin-left:0px !important\">Full time jobs are available at both our Weybridge &amp; Harrogate offices.</p>\\r\\r\\n\\r\\r\\n<h2 style=\"margin-left: 0px !important;\">What we offer you</h2>\\r\\r\\n\\r\\r\\n<ul>\\r\\r\\n\\t<li>\\r\\r\\n\\t<p><strong>Responsibilities</strong>&nbsp;<strong>as</strong>&nbsp;<strong>of</strong>&nbsp;<strong>Day</strong>&nbsp;<strong>1</strong>&nbsp;&ndash; From the beginning you will be doing a full time job in sales, managing your own account with a retailer.</p>\\r\\r\\n\\t</li>\\r\\r\\n\\t<li><strong>Continuous</strong>&nbsp;<strong>coaching</strong>&nbsp;&ndash; you will work with passionate people and receive both formal training as well as day-to-day mentoring from your manager.</li>\\r\\r\\n\\t<li><strong>Dynamic</strong>&nbsp;<strong>and</strong>&nbsp;<strong>respectful</strong>&nbsp;<strong>work</strong>&nbsp;<strong>environment</strong>&nbsp;&ndash; employees are at the core, we value every individual and encourage initiatives, promoting flexible working arrangements and work/life balance.</li>\\r\\r\\n\\t<li><strong>Benefits</strong>&nbsp;<strong>-</strong>&nbsp;A job in P&amp;G Sales offers a competitive salary as well as other great benefits such as a company car, pension &amp; share schemes.</li>\\r\\r\\n</ul>\\r\\r\\n\\r\\r\\n<h2><br />\\r\\r\\nMinimum Qualifications</h2>\\r\\r\\n\\r\\r\\n<p style=\"margin-left:0px !important\">We are looking for</p>\\r\\r\\n\\r\\r\\n<ul>\\r\\r\\n\\t<li>We search for people who have a record of making a positive impact on projects, events &amp; groups and who collaborate with people and can understand what makes them tick. We want individuals who can think strategically &amp; generate new ideas, and can not only persuade other partners to support them but also see the idea through to completion.</li>\\r\\r\\n\\t<li>University undergrads/graduates who are currently pursuing a Degree or have recently completed a degree</li>\\r\\r\\n\\t<li>Evidence of passion and achievements in academic and/or non-academic activities</li>\\r\\r\\n\\t<li>Demonstrated leadership skills and strong analytical capability</li>\\r\\r\\n\\t<li>Excellent communication and social skills</li>\\r\\r\\n\\t<li>Strong English verbal and writing skills</li>\\r\\r\\n</ul>\\r\\r\\n\\r\\r\\n<h2 style=\"margin-left: 0px !important;\">How do you apply?</h2>\\r\\r\\n\\r\\r\\n<ul>\\r\\r\\n\\t<li>Just apply via clicking the button below</li>\\r\\r\\n\\t<li>Attach your CV in English (include examples of the experiences you have had both within and outside academia)</li>\\r\\r\\n\\t<li>Successful interviewees will be invited to attend the P&amp;G Commercial Careers Academy. A two day intensive learning course designed to challenge your business and critical thinking, networking and team building skills, in real business situations. You&#39;ll work on a real brand case study covering all aspects of business including a presentation to a board of directors at P&amp;G. Successful attendees at the academy will be offered full time roles with us.</li>\\r\\r\\n\\t<li>The Commercial Careers Academy takes place on the 12th -14th of December. An alternative with very limited spaces is available for those undertaking exams at this time.</li>\\r\\r\\n</ul>\\r\\r\\n\\r\\r\\n<p><strong>Procter&amp;Gamble is an Equal Opportunity Employer</strong></p>',\n",
       "       'P&G', 'Consumer, FMCG & Retail', 'Sales & Commercial', 'Female',\n",
       "       'White/White British', 'University of Exeter', 'Modern Languages',\n",
       "       nan], dtype=object)"
      ]
     },
     "execution_count": 305,
     "metadata": {},
     "output_type": "execute_result"
    }
   ],
   "source": [
    "test.iloc[selected_user[0]+38][['user_id','job_title','job_description','employer_title', 'employer_sector_title', 'job_sector_title', 'gender',\n",
    "       'ethnicity', 'university_name', 'degree_subject_name', 'user_preference']].values"
   ]
  },
  {
   "cell_type": "code",
   "execution_count": 307,
   "metadata": {},
   "outputs": [
    {
     "data": {
      "text/plain": [
       "array([155182, 'P&G UK Sales Summer Internship',\n",
       "       '<div>\\r\\r\\n<div>\\r\\r\\n<div>\\r\\r\\n<p>Want to work with brands that millions of consumers can&rsquo;t live without? Are you ready to gain real work experience with the largest Consumer Goods Company in the world while still at university, and set the path for your future career?</p>\\r\\r\\n\\r\\r\\n<p>Then&nbsp;we&nbsp;have&nbsp;the&nbsp;perfect&nbsp;opportunity&nbsp;for&nbsp;you. Come and do one of our summer sales internships.</p>\\r\\r\\n\\r\\r\\n<h2>What does a job in sales look like?</h2>\\r\\r\\n\\r\\r\\n<p>Working in sales at P&amp;G means getting your own multi million pound business &amp; budget to lead from day one. That means working with great brands like Pampers, Fairy &amp; Gillette and the UK&#39;s biggest grocery retailers. You are the key contact for the business with your retailer and are responsible for building and maintaining that relationship. You build and design ideas and strategies using analytics and shopper insights and then use your relationship and understanding of the market to sell, negotiate &amp; execute your ideas.</p>\\r\\r\\n\\r\\r\\n<h2>What to expect</h2>\\r\\r\\n\\r\\r\\n<p>This internship will help you get a firsthand experience of what a career in sales with P&amp;G involves, and if it is right for you. You will be working on live business problems and you will be expected to make relevant contributions to the growth of our brands. Each intern receives a customized learning plan to ensure they get the right levels of coaching, mentoring and formal training as they deliver their work.</p>\\r\\r\\n\\r\\r\\n<p>If you are looking for an exciting and challenging experience, have a passion for winning, strong leadership credentials and an interest in pursuing a career at P&amp;G &ndash; this internship is for you.</p>\\r\\r\\n\\r\\r\\n<p>Internships are available at both our Weybridge &amp; Harrogate sites.</p>\\r\\r\\n\\r\\r\\n<h2>What we offer you</h2>\\r\\r\\n\\r\\r\\n<h3>Responsibilities&nbsp;as&nbsp;of&nbsp;Day&nbsp;1</h3>\\r\\r\\n\\r\\r\\n<p>You will feel the ownership of your project from the beginning. You will be given specific projects and responsibilities working on real and live business challenges, just like everyone else working here.</p>\\r\\r\\n\\r\\r\\n<h3>Continuous&nbsp;coaching</h3>\\r\\r\\n\\r\\r\\n<p>You will work with passionate people and receive both formal training as well as day-to-day mentoring from your manager.</p>\\r\\r\\n\\r\\r\\n<h3>Dynamic&nbsp;and&nbsp;respectful&nbsp;work&nbsp;environment</h3>\\r\\r\\n\\r\\r\\n<p>Employees are at the core, we value every individual and encourage initiatives, promoting agility and work/life balance</p>\\r\\r\\n\\r\\r\\n<h3>Benefits&nbsp;</h3>\\r\\r\\n\\r\\r\\n<p>This is a paid internship. The most successful interns will receive a job offer to join P&amp;G full time as part of our highly regarded graduate scheme. A full time job in P&amp;G sales offers a competitive salary as well as other great benefits such as a company car, pension &amp; share schemes.&nbsp;</p>\\r\\r\\n</div>\\r\\r\\n</div>\\r\\r\\n</div>\\r\\r\\n\\r\\r\\n<div>\\r\\r\\n<h2>We are looking for</h2>\\r\\r\\n</div>\\r\\r\\n\\r\\r\\n<div>\\r\\r\\n<div>\\r\\r\\n<p>We search for people who have a record of making a positive impact on projects, events &amp; groups and who collaborate with people and can understand what makes them tick. We want individuals who can think strategically &amp; generate new ideas, and can not only persuade other partners to support them but also see the idea through to completion.</p>\\r\\r\\n\\r\\r\\n<ul>\\r\\r\\n\\t<li>\\r\\r\\n\\t<p>University undergrads/graduates who are currently pursuing a Degree</p>\\r\\r\\n\\t</li>\\r\\r\\n\\t<li>\\r\\r\\n\\t<p>Evidence of passion and achievements in academic and/or non-academic activities</p>\\r\\r\\n\\t</li>\\r\\r\\n\\t<li>\\r\\r\\n\\t<p>Demonstrated leadership skills and strong analytical capability</p>\\r\\r\\n\\t</li>\\r\\r\\n\\t<li>\\r\\r\\n\\t<p>Excellent communication and social skills</p>\\r\\r\\n\\t</li>\\r\\r\\n\\t<li>\\r\\r\\n\\t<p>Strong English verbal and writing skills</p>\\r\\r\\n\\t</li>\\r\\r\\n</ul>\\r\\r\\n\\r\\r\\n<h2>How do you apply?</h2>\\r\\r\\n\\r\\r\\n<ul>\\r\\r\\n\\t<li>\\r\\r\\n\\t<p>Just apply via clicking the button below</p>\\r\\r\\n\\t</li>\\r\\r\\n\\t<li>\\r\\r\\n\\t<p>Attach your CV in English (include examples of the experiences you have had both within and outside academia)</p>\\r\\r\\n\\t</li>\\r\\r\\n</ul>\\r\\r\\n\\r\\r\\n<h2>Application deadline:&nbsp;31st January 2018</h2>\\r\\r\\n</div>\\r\\r\\n</div>',\n",
       "       'P&G', 'Consumer, FMCG & Retail', 'Sales & Commercial', 'Female',\n",
       "       'White/White British', 'University of Exeter', 'Modern Languages',\n",
       "       nan], dtype=object)"
      ]
     },
     "execution_count": 307,
     "metadata": {},
     "output_type": "execute_result"
    }
   ],
   "source": [
    "test.iloc[selected_user[0]+191][['user_id','job_title','job_description','employer_title', 'employer_sector_title', 'job_sector_title', 'gender',\n",
    "       'ethnicity', 'university_name', 'degree_subject_name', 'user_preference']].values"
   ]
  },
  {
   "cell_type": "code",
   "execution_count": 309,
   "metadata": {},
   "outputs": [
    {
     "data": {
      "text/plain": [
       "array([155182, 'Teach First LDP Black Heritage',\n",
       "       '<p>Some job description</p>', 'Teach First',\n",
       "       'Education & Teaching', 'Charity & Social Enterprise', 'Female',\n",
       "       'White/White British', 'University of Exeter', 'Modern Languages',\n",
       "       nan], dtype=object)"
      ]
     },
     "execution_count": 309,
     "metadata": {},
     "output_type": "execute_result"
    }
   ],
   "source": [
    "test.iloc[selected_user[0]+53][['user_id','job_title','job_description','employer_title', 'employer_sector_title', 'job_sector_title', 'gender',\n",
    "       'ethnicity', 'university_name', 'degree_subject_name', 'user_preference']].values"
   ]
  },
  {
   "cell_type": "code",
   "execution_count": 310,
   "metadata": {},
   "outputs": [
    {
     "data": {
      "text/plain": [
       "array([155182, 'Graduate Programmes',\n",
       "       '<h2>FDM Group</h2>\\r\\r\\n\\r\\r\\n<p>FDM Group is a professional services provider with a focus on IT and the UK&rsquo;s leading IT graduate employer. FDM&rsquo;s business model is both unique and robust, bringing people and technology together.</p>\\r\\r\\n\\r\\r\\n<p>We are renowned for our dynamic Careers Programme, which gives graduates and ex-Forces personnel award-winning business and technical training in core disciplines. They then progress to represent FDM on client sites as our Consultants for a minimum of two years. With over 180 clients worldwide, we help them achieve specific business objectives within various sectors, including financial services, media, retail and insurance.</p>\\r\\r\\n\\r\\r\\n<h2>The programme</h2>\\r\\r\\n\\r\\r\\n<p>The FDM Graduate Programme is a fantastic opportunity to kick-start your career in IT. As a successful candidate, your award-winning training will take place in one of our state of the art Academies around the UK in London, Leeds or Glasgow. Once trained along your personally tailored learning pathway (full-time for approximately 9-14 weeks), you will progress to become a professional IT or business Consultant.</p>\\r\\r\\n\\r\\r\\n<p>As an FDM Consultant you will be placed on site with one of our high-profile clients. You will be given the opportunity to work on exciting and current projects and gain instrumental industry experience. FDM Consultants from our business and IT Graduate Programme go on to work on engaging projects like fingerprint technology, facial recognition systems, supporting investment banking platforms and testing mobile banking applications.</p>\\r\\r\\n\\r\\r\\n<p>After fulfilling the two-year commitment representing FDM on client sites, the sky is the limit. You may choose to continue as a Senior FDM Consultant and take advantage of the versatility of the role or you may have the opportunity to transfer to a client on a permanent basis.</p>\\r\\r\\n\\r\\r\\n<h2>Training</h2>\\r\\r\\n\\r\\r\\n<p>As a trainee you will complete foundation training in professional skills, SQL and Excel VBA during your first 3 weeks. You will then embark upon an individual learning pathway either business or technically focused, taught by our expert Trainers. All training will last a total of 9-14 weeks, depending on your specialty. The skills and knowledge you acquire during your training will fully prepare you for specific roles and projects on site as an IT or business Consultant, allowing you to work effectively, efficiently and confidently as soon as you are placed.</p>\\r\\r\\n\\r\\r\\n<h2>Launch your career in IT and Business</h2>\\r\\r\\n\\r\\r\\n<p>You can choose business graduate programme pathways:</p>\\r\\r\\n\\r\\r\\n<ul>\\r\\r\\n\\t<li>Project Support&nbsp;</li>\\r\\r\\n\\t<li>Business Analysis</li>\\r\\r\\n\\t<li>Data and Operational Analysis</li>\\r\\r\\n\\t<li>Business Test Analysis</li>\\r\\r\\n\\t<li>Risk, Regulation and Compliance</li>\\r\\r\\n</ul>\\r\\r\\n\\r\\r\\n<p>There are also technical IT graduate programme pathways:</p>\\r\\r\\n\\r\\r\\n<ul>\\r\\r\\n\\t<li>Software Testing</li>\\r\\r\\n\\t<li>Software Development</li>\\r\\r\\n\\t<li>Production Support</li>\\r\\r\\n\\t<li>MX.3 Production Support</li>\\r\\r\\n\\t<li>Business Intelligence</li>\\r\\r\\n</ul>\\r\\r\\n\\r\\r\\n<p>We actively recruit all year round in order to keep up with our fast-growing international operations and client demands - apply now!</p>',\n",
       "       'FDM Group', 'Technology: Consulting & Project Management',\n",
       "       'Technology: Consulting & Project Management', 'Female',\n",
       "       'White/White British', 'University of Exeter', 'Modern Languages',\n",
       "       nan], dtype=object)"
      ]
     },
     "execution_count": 310,
     "metadata": {},
     "output_type": "execute_result"
    }
   ],
   "source": [
    "test.iloc[selected_user[0]+104][['user_id','job_title','job_description','employer_title', 'employer_sector_title', 'job_sector_title', 'gender',\n",
    "       'ethnicity', 'university_name', 'degree_subject_name', 'user_preference']].values"
   ]
  },
  {
   "cell_type": "markdown",
   "metadata": {},
   "source": [
    "# Not recommended jobs"
   ]
  },
  {
   "cell_type": "code",
   "execution_count": 312,
   "metadata": {},
   "outputs": [
    {
     "data": {
      "text/plain": [
       "array([155182, 'MBA Programme',\n",
       "       '<p>Our MBA students have access to the best research and industry knowledge from a world-renowned business school right in the heart of London.</p>\\r\\r\\n\\r\\r\\n<p>The Cass MBA programme is delivered in both a full-time and Executive part-time format, with programmes delivered in London and Dubai.</p>\\r\\r\\n\\r\\r\\n<h3><a href=\"https://www.cass.city.ac.uk/study/mba/full-time\">Full-Time MBA Course in London</a></h3>\\r\\r\\n\\r\\r\\n<p>The Cass Full-time MBA course is a challenging 12-month journey combining intensive learning and practical application that will sharpen your performance and give you the clarity to design the next decisive phase of your career.</p>\\r\\r\\n\\r\\r\\n<h3><a href=\"https://www.cass.city.ac.uk/study/mba/executive-mba\">Executive MBA Course in London</a></h3>\\r\\r\\n\\r\\r\\n<p>The Cass Executive MBA is a challenging 24-month journey combining intensive learning and practical application that will sharpen your performance and give you the clarity to design the next decisive phase of your career.</p>\\r\\r\\n\\r\\r\\n<h3><a href=\"https://www.cass.city.ac.uk/study/mba/executive-mba-in-dubai\">Executive MBA Course in Dubai</a></h3>\\r\\r\\n\\r\\r\\n<p>The Cass Executive MBA in Dubai is designed to meet the needs of business executives in the Middle East and surrounding regions. It forms part of a Cass Executive MBA offering that ranks amongst the world&#39;s elite.</p>\\r\\r\\n\\r\\r\\n<h3><a href=\"https://www.cass.city.ac.uk/study/mba/modular-executive-mba\">Modular Executive MBA in London</a></h3>\\r\\r\\n\\r\\r\\n<h4>The Modular Executive MBA is a part-time programme delivered over one long weekend a month over a 24-month period. The programme is the perfect business degree if you aspire to further your career.</h4>\\r\\r\\n\\r\\r\\n<h2>Study in the heart of London</h2>\\r\\r\\n\\r\\r\\n<p>Cass is located in the heart of London and is one of the most centrally located universities in the city.&nbsp;Due to our close proximity to the City of London, we have unparalleled connections with international businesses and global organisations that are also based here such as KPMG, Allen &amp; Overy, Goldman Sachs, the BBC and Sky. You&#39;ll get to make the most of these connections through&nbsp;regular&nbsp;networking events.</p>\\r\\r\\n\\r\\r\\n<p>You will join a global network of alumni who work across all industries and who also attend the networking events.</p>\\r\\r\\n\\r\\r\\n<h2><strong>Student life in London</strong></h2>\\r\\r\\n\\r\\r\\n<p>Cass is not only committed to the professional development of all of our students (through our Careers team) but also has a whole range of societies, clubs and sports teams&nbsp;open to everyone.</p>\\r\\r\\n\\r\\r\\n<p>The campus is just a short journey away from London&#39;s leading sights, main shopping districts and an abundance of cafes, restaurants, pubs and bars.</p>',\n",
       "       'Cass Business School', 'Further Education', 'Further Education',\n",
       "       'Female', 'White/White British', 'University of Exeter',\n",
       "       'Modern Languages', nan], dtype=object)"
      ]
     },
     "execution_count": 312,
     "metadata": {},
     "output_type": "execute_result"
    }
   ],
   "source": [
    "test.iloc[selected_user[0]+288][['user_id','job_title','job_description','employer_title', 'employer_sector_title', 'job_sector_title', 'gender',\n",
    "       'ethnicity', 'university_name', 'degree_subject_name', 'user_preference']].values"
   ]
  },
  {
   "cell_type": "code",
   "execution_count": 313,
   "metadata": {},
   "outputs": [
    {
     "data": {
      "text/plain": [
       "array([155182, 'Graduate Programme - Process Engineering',\n",
       "       '<h2>Overview/Responsibilities</h2>\\r\\r\\n\\r\\r\\n<p>Amec Foster Wheeler recruits within three main disciplines: Business, Science and Environment and Engineering. Each of these disciplines provides opportunities within our Environment &amp; Infrastructure (E&amp;I), Transmission &amp; Distribution (T&amp;D), Clean Energy and Oil &amp; Gas (O&amp;G) business areas and there are a wide range of technical and non-technical opportunities available.&nbsp;</p>\\r\\r\\n\\r\\r\\n<h2>Skills/Qualifications</h2>\\r\\r\\n\\r\\r\\n<p>We offer a variety of accredited programmes, each recognised by the appropriate professional institution or qualifying body. As a graduate you will be enrolled on the appropriate programme depending on your chosen discipline and market area. Each programme is focused on providing the environment for you to gain the skills and competencies needed for your professional registration or to support you in gaining a recognised qualification.</p>\\r\\r\\n\\r\\r\\n<p>To be considered for our 2016 Graduate Engineering Programme simply click on the Apply Online button to submit your details.</p>\\r\\r\\n\\r\\r\\n<h2>Diversity Statement (EEO)</h2>\\r\\r\\n\\r\\r\\n<p>We are an equal opportunity employer that recognises the value of a diverse workforce. All suitably qualified applicants will receive consideration for employment on the basis of objective criteria and without regard to the following (which is a non-exhaustive list): race, colour, age, religion, gender, national origin, disability, sexual orientation, gender identity, protected veteran status, or other characteristics in accordance with the relevant governing laws.</p>',\n",
       "       'Amec Foster Wheeler',\n",
       "       'Technology: Consulting & Project Management',\n",
       "       'Technology: Consulting & Project Management', 'Female',\n",
       "       'White/White British', 'University of Exeter', 'Modern Languages',\n",
       "       nan], dtype=object)"
      ]
     },
     "execution_count": 313,
     "metadata": {},
     "output_type": "execute_result"
    }
   ],
   "source": [
    "test.iloc[selected_user[0]+27][['user_id','job_title','job_description','employer_title', 'employer_sector_title', 'job_sector_title', 'gender',\n",
    "       'ethnicity', 'university_name', 'degree_subject_name', 'user_preference']].values"
   ]
  },
  {
   "cell_type": "code",
   "execution_count": 101,
   "metadata": {},
   "outputs": [],
   "source": []
  },
  {
   "cell_type": "code",
   "execution_count": 102,
   "metadata": {},
   "outputs": [],
   "source": []
  },
  {
   "cell_type": "code",
   "execution_count": null,
   "metadata": {},
   "outputs": [],
   "source": []
  },
  {
   "cell_type": "code",
   "execution_count": null,
   "metadata": {},
   "outputs": [],
   "source": []
  },
  {
   "cell_type": "code",
   "execution_count": null,
   "metadata": {},
   "outputs": [],
   "source": []
  },
  {
   "cell_type": "code",
   "execution_count": null,
   "metadata": {},
   "outputs": [],
   "source": []
  },
  {
   "cell_type": "code",
   "execution_count": null,
   "metadata": {},
   "outputs": [],
   "source": []
  },
  {
   "cell_type": "code",
   "execution_count": null,
   "metadata": {},
   "outputs": [],
   "source": []
  },
  {
   "cell_type": "code",
   "execution_count": 128,
   "metadata": {},
   "outputs": [
    {
     "name": "stdout",
     "output_type": "stream",
     "text": [
      "0.003920869654342296\n",
      "0.043668805322460515\n"
     ]
    }
   ],
   "source": [
    "from sklearn.metrics import mean_squared_error, mean_absolute_error\n",
    "print(mean_squared_error(predictions, x_test))\n",
    "print(mean_absolute_error(predictions, x_test))"
   ]
  }
 ],
 "metadata": {
  "kernelspec": {
   "display_name": "Python 3",
   "language": "python",
   "name": "python3"
  },
  "language_info": {
   "codemirror_mode": {
    "name": "ipython",
    "version": 3
   },
   "file_extension": ".py",
   "mimetype": "text/x-python",
   "name": "python",
   "nbconvert_exporter": "python",
   "pygments_lexer": "ipython3",
   "version": "3.6.5"
  }
 },
 "nbformat": 4,
 "nbformat_minor": 2
}
