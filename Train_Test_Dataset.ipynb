{
 "cells": [
  {
   "cell_type": "code",
   "execution_count": 1,
   "metadata": {},
   "outputs": [
    {
     "name": "stderr",
     "output_type": "stream",
     "text": [
      "C:\\Users\\Lassana Diabira\\Anaconda3\\lib\\site-packages\\gensim\\utils.py:1197: UserWarning: detected Windows; aliasing chunkize to chunkize_serial\n",
      "  warnings.warn(\"detected Windows; aliasing chunkize to chunkize_serial\")\n"
     ]
    }
   ],
   "source": [
    "import pandas as pd\n",
    "import numpy as np\n",
    "import matplotlib.pyplot as plt\n",
    "import re\n",
    "from gensim.models import Word2Vec\n",
    "import datetime\n",
    "from dateutil.relativedelta import relativedelta"
   ]
  },
  {
   "cell_type": "code",
   "execution_count": 2,
   "metadata": {},
   "outputs": [
    {
     "name": "stderr",
     "output_type": "stream",
     "text": [
      "C:\\Users\\Lassana Diabira\\Anaconda3\\lib\\site-packages\\IPython\\core\\interactiveshell.py:2785: DtypeWarning: Columns (2,3,6,7,8,9,12,13,14,15,17,19,21,23) have mixed types. Specify dtype option on import or set low_memory=False.\n",
      "  interactivity=interactivity, compiler=compiler, result=result)\n"
     ]
    }
   ],
   "source": [
    "df=pd.read_csv(\"data.csv\")"
   ]
  },
  {
   "cell_type": "code",
   "execution_count": 3,
   "metadata": {},
   "outputs": [],
   "source": [
    "df['job_created_date'] =  pd.to_datetime(df['job_created_date'])\n",
    "df['job_opening_date'] =  pd.to_datetime(df['job_opening_date'])\n",
    "df['job_closing_date'] =  pd.to_datetime(df['job_closing_date'])"
   ]
  },
  {
   "cell_type": "code",
   "execution_count": 4,
   "metadata": {},
   "outputs": [],
   "source": [
    "df=df[df.user_id.notnull()]"
   ]
  },
  {
   "cell_type": "code",
   "execution_count": 5,
   "metadata": {},
   "outputs": [],
   "source": [
    "def get_all_users_id(df):\n",
    "    users_id=df.user_id.values\n",
    "    users_id=list(set(users_id))\n",
    "    return users_id"
   ]
  },
  {
   "cell_type": "code",
   "execution_count": 6,
   "metadata": {},
   "outputs": [],
   "source": [
    "all_users=get_all_users_id(df)"
   ]
  },
  {
   "cell_type": "code",
   "execution_count": 7,
   "metadata": {},
   "outputs": [
    {
     "data": {
      "text/plain": [
       "165822"
      ]
     },
     "execution_count": 7,
     "metadata": {},
     "output_type": "execute_result"
    }
   ],
   "source": [
    "len(all_users)"
   ]
  },
  {
   "cell_type": "code",
   "execution_count": 8,
   "metadata": {},
   "outputs": [],
   "source": [
    "df=df[df.job_id.notnull()]"
   ]
  },
  {
   "cell_type": "code",
   "execution_count": 9,
   "metadata": {},
   "outputs": [
    {
     "data": {
      "text/plain": [
       "(836373, 31)"
      ]
     },
     "execution_count": 9,
     "metadata": {},
     "output_type": "execute_result"
    }
   ],
   "source": [
    "df.shape"
   ]
  },
  {
   "cell_type": "code",
   "execution_count": 10,
   "metadata": {},
   "outputs": [
    {
     "data": {
      "text/html": [
       "<div>\n",
       "<style scoped>\n",
       "    .dataframe tbody tr th:only-of-type {\n",
       "        vertical-align: middle;\n",
       "    }\n",
       "\n",
       "    .dataframe tbody tr th {\n",
       "        vertical-align: top;\n",
       "    }\n",
       "\n",
       "    .dataframe thead th {\n",
       "        text-align: right;\n",
       "    }\n",
       "</style>\n",
       "<table border=\"1\" class=\"dataframe\">\n",
       "  <thead>\n",
       "    <tr style=\"text-align: right;\">\n",
       "      <th></th>\n",
       "      <th>Unnamed: 0</th>\n",
       "      <th>user_id</th>\n",
       "      <th>job_created_date</th>\n",
       "      <th>job_application_status</th>\n",
       "      <th>job_id</th>\n",
       "      <th>employer_id</th>\n",
       "      <th>job_opening_date</th>\n",
       "      <th>job_closing_date</th>\n",
       "      <th>job_short_description</th>\n",
       "      <th>job_description</th>\n",
       "      <th>...</th>\n",
       "      <th>course_includes_industrial_placement</th>\n",
       "      <th>graduation_year</th>\n",
       "      <th>right_to_work_uk</th>\n",
       "      <th>degree_subject_id</th>\n",
       "      <th>university_id</th>\n",
       "      <th>university_name</th>\n",
       "      <th>university_type</th>\n",
       "      <th>degree_subject_name</th>\n",
       "      <th>degree_subjectgroup_id</th>\n",
       "      <th>degree_subjectgroup_title</th>\n",
       "    </tr>\n",
       "  </thead>\n",
       "  <tbody>\n",
       "    <tr>\n",
       "      <th>836372</th>\n",
       "      <td>671110</td>\n",
       "      <td>154122.0</td>\n",
       "      <td>2018-08-31 12:13:24</td>\n",
       "      <td>Initiated</td>\n",
       "      <td>2459.0</td>\n",
       "      <td>131.0</td>\n",
       "      <td>2018-08-17</td>\n",
       "      <td>2018-10-21</td>\n",
       "      <td>Greenhill &amp; Co. is a leading independent inves...</td>\n",
       "      <td>&lt;h2&gt;The role&lt;/h2&gt;\\r\\r\\n\\r\\r\\n&lt;p&gt;Genuine analys...</td>\n",
       "      <td>...</td>\n",
       "      <td>False</td>\n",
       "      <td>2019.0</td>\n",
       "      <td>True</td>\n",
       "      <td>751.0</td>\n",
       "      <td>345.0</td>\n",
       "      <td>University of Cambridge</td>\n",
       "      <td>2.0</td>\n",
       "      <td>Geography</td>\n",
       "      <td>4.0</td>\n",
       "      <td>Geography</td>\n",
       "    </tr>\n",
       "  </tbody>\n",
       "</table>\n",
       "<p>1 rows × 31 columns</p>\n",
       "</div>"
      ],
      "text/plain": [
       "        Unnamed: 0   user_id    job_created_date job_application_status  \\\n",
       "836372      671110  154122.0 2018-08-31 12:13:24              Initiated   \n",
       "\n",
       "        job_id  employer_id job_opening_date job_closing_date  \\\n",
       "836372  2459.0        131.0       2018-08-17       2018-10-21   \n",
       "\n",
       "                                    job_short_description  \\\n",
       "836372  Greenhill & Co. is a leading independent inves...   \n",
       "\n",
       "                                          job_description  \\\n",
       "836372  <h2>The role</h2>\\r\\r\\n\\r\\r\\n<p>Genuine analys...   \n",
       "\n",
       "                  ...             course_includes_industrial_placement  \\\n",
       "836372            ...                                            False   \n",
       "\n",
       "        graduation_year right_to_work_uk degree_subject_id university_id  \\\n",
       "836372           2019.0             True             751.0         345.0   \n",
       "\n",
       "                university_name  university_type degree_subject_name  \\\n",
       "836372  University of Cambridge              2.0           Geography   \n",
       "\n",
       "        degree_subjectgroup_id degree_subjectgroup_title  \n",
       "836372                     4.0                 Geography  \n",
       "\n",
       "[1 rows x 31 columns]"
      ]
     },
     "execution_count": 10,
     "metadata": {},
     "output_type": "execute_result"
    }
   ],
   "source": [
    "df.tail(1)"
   ]
  },
  {
   "cell_type": "code",
   "execution_count": 11,
   "metadata": {},
   "outputs": [
    {
     "data": {
      "text/html": [
       "<div>\n",
       "<style scoped>\n",
       "    .dataframe tbody tr th:only-of-type {\n",
       "        vertical-align: middle;\n",
       "    }\n",
       "\n",
       "    .dataframe tbody tr th {\n",
       "        vertical-align: top;\n",
       "    }\n",
       "\n",
       "    .dataframe thead th {\n",
       "        text-align: right;\n",
       "    }\n",
       "</style>\n",
       "<table border=\"1\" class=\"dataframe\">\n",
       "  <thead>\n",
       "    <tr style=\"text-align: right;\">\n",
       "      <th></th>\n",
       "      <th>Unnamed: 0</th>\n",
       "      <th>user_id</th>\n",
       "      <th>job_created_date</th>\n",
       "      <th>job_application_status</th>\n",
       "      <th>job_id</th>\n",
       "      <th>employer_id</th>\n",
       "      <th>job_opening_date</th>\n",
       "      <th>job_closing_date</th>\n",
       "      <th>job_short_description</th>\n",
       "      <th>job_description</th>\n",
       "      <th>...</th>\n",
       "      <th>course_includes_industrial_placement</th>\n",
       "      <th>graduation_year</th>\n",
       "      <th>right_to_work_uk</th>\n",
       "      <th>degree_subject_id</th>\n",
       "      <th>university_id</th>\n",
       "      <th>university_name</th>\n",
       "      <th>university_type</th>\n",
       "      <th>degree_subject_name</th>\n",
       "      <th>degree_subjectgroup_id</th>\n",
       "      <th>degree_subjectgroup_title</th>\n",
       "    </tr>\n",
       "  </thead>\n",
       "  <tbody>\n",
       "    <tr>\n",
       "      <th>0</th>\n",
       "      <td>0</td>\n",
       "      <td>75898.0</td>\n",
       "      <td>2017-09-01 01:00:02</td>\n",
       "      <td>Initiated</td>\n",
       "      <td>214.0</td>\n",
       "      <td>25.0</td>\n",
       "      <td>2017-03-27</td>\n",
       "      <td>2017-08-31</td>\n",
       "      <td>Think of our Summer Vacation Scheme in 2018 as...</td>\n",
       "      <td>&lt;p&gt;Apply now to fast track your application to...</td>\n",
       "      <td>...</td>\n",
       "      <td>False</td>\n",
       "      <td>2019.0</td>\n",
       "      <td>True</td>\n",
       "      <td>1371.0</td>\n",
       "      <td>381.0</td>\n",
       "      <td>University of Manchester</td>\n",
       "      <td>2.0</td>\n",
       "      <td>Spanish and Business</td>\n",
       "      <td>26.0</td>\n",
       "      <td>Modern Languages</td>\n",
       "    </tr>\n",
       "  </tbody>\n",
       "</table>\n",
       "<p>1 rows × 31 columns</p>\n",
       "</div>"
      ],
      "text/plain": [
       "   Unnamed: 0  user_id    job_created_date job_application_status  job_id  \\\n",
       "0           0  75898.0 2017-09-01 01:00:02              Initiated   214.0   \n",
       "\n",
       "   employer_id job_opening_date job_closing_date  \\\n",
       "0         25.0       2017-03-27       2017-08-31   \n",
       "\n",
       "                               job_short_description  \\\n",
       "0  Think of our Summer Vacation Scheme in 2018 as...   \n",
       "\n",
       "                                     job_description  \\\n",
       "0  <p>Apply now to fast track your application to...   \n",
       "\n",
       "             ...             course_includes_industrial_placement  \\\n",
       "0            ...                                            False   \n",
       "\n",
       "   graduation_year right_to_work_uk degree_subject_id university_id  \\\n",
       "0           2019.0             True            1371.0         381.0   \n",
       "\n",
       "            university_name  university_type   degree_subject_name  \\\n",
       "0  University of Manchester              2.0  Spanish and Business   \n",
       "\n",
       "   degree_subjectgroup_id degree_subjectgroup_title  \n",
       "0                    26.0          Modern Languages  \n",
       "\n",
       "[1 rows x 31 columns]"
      ]
     },
     "execution_count": 11,
     "metadata": {},
     "output_type": "execute_result"
    }
   ],
   "source": [
    "df.head(1)"
   ]
  },
  {
   "cell_type": "code",
   "execution_count": 12,
   "metadata": {},
   "outputs": [],
   "source": [
    "def get_users_id(df):\n",
    "    users_id=df.user_id.values\n",
    "    users_id=list(set(users_id))\n",
    "    return users_id"
   ]
  },
  {
   "cell_type": "code",
   "execution_count": 13,
   "metadata": {},
   "outputs": [],
   "source": [
    "users_id=get_users_id(df)"
   ]
  },
  {
   "cell_type": "code",
   "execution_count": 14,
   "metadata": {},
   "outputs": [
    {
     "data": {
      "text/plain": [
       "20812"
      ]
     },
     "execution_count": 14,
     "metadata": {},
     "output_type": "execute_result"
    }
   ],
   "source": [
    "len(users_id)"
   ]
  },
  {
   "cell_type": "code",
   "execution_count": 15,
   "metadata": {},
   "outputs": [],
   "source": [
    "def get_jobs_id(df):\n",
    "    jobs_id=df.job_id.values\n",
    "    jobs_id=list(set(jobs_id))\n",
    "    return jobs_id"
   ]
  },
  {
   "cell_type": "code",
   "execution_count": 16,
   "metadata": {},
   "outputs": [],
   "source": [
    "jobs_id=get_jobs_id(df)"
   ]
  },
  {
   "cell_type": "code",
   "execution_count": 17,
   "metadata": {},
   "outputs": [
    {
     "data": {
      "text/plain": [
       "2988"
      ]
     },
     "execution_count": 17,
     "metadata": {},
     "output_type": "execute_result"
    }
   ],
   "source": [
    "len(jobs_id)"
   ]
  },
  {
   "cell_type": "code",
   "execution_count": 18,
   "metadata": {},
   "outputs": [],
   "source": [
    "def get_jobs_per_user(users_id, df):\n",
    "    n=len(users_id)\n",
    "    print(\"n :\",n)\n",
    "    print(\"users collected\")\n",
    "    jobs_per_user={}\n",
    "    for i,user in enumerate(users_id):\n",
    "        if i%1000==0:\n",
    "            print(\"progress :\", i/n)\n",
    "        x=df[df[\"user_id\"]==user]\n",
    "        x=x[x.job_id.notnull()]\n",
    "        if x.shape[0]>0:\n",
    "            job_applications=x[\"job_id\"].values\n",
    "            job_applications=list(set(job_applications))\n",
    "            jobs_per_user[str(int(user))]=job_applications\n",
    "    print(\"Jobs per user collected\")\n",
    "    return jobs_per_user"
   ]
  },
  {
   "cell_type": "code",
   "execution_count": 19,
   "metadata": {},
   "outputs": [
    {
     "name": "stdout",
     "output_type": "stream",
     "text": [
      "n : 20812\n",
      "users collected\n",
      "progress : 0.0\n",
      "progress : 0.04804920238324044\n",
      "progress : 0.09609840476648088\n",
      "progress : 0.1441476071497213\n",
      "progress : 0.19219680953296175\n",
      "progress : 0.24024601191620218\n",
      "progress : 0.2882952142994426\n",
      "progress : 0.33634441668268306\n",
      "progress : 0.3843936190659235\n",
      "progress : 0.43244282144916396\n",
      "progress : 0.48049202383240436\n",
      "progress : 0.5285412262156448\n",
      "progress : 0.5765904285988852\n",
      "progress : 0.6246396309821257\n",
      "progress : 0.6726888333653661\n",
      "progress : 0.7207380357486066\n",
      "progress : 0.768787238131847\n",
      "progress : 0.8168364405150874\n",
      "progress : 0.8648856428983279\n",
      "progress : 0.9129348452815683\n",
      "progress : 0.9609840476648087\n",
      "Jobs per user collected\n"
     ]
    }
   ],
   "source": [
    "jobs_per_user=get_jobs_per_user(users_id, df)"
   ]
  },
  {
   "cell_type": "code",
   "execution_count": 20,
   "metadata": {},
   "outputs": [],
   "source": [
    "def get_jobs_to_recommend(all_users,df,jobs_per_user):\n",
    "    n=len(all_users)\n",
    "    recommendations_per_user={}\n",
    "    now = datetime.datetime.now()\n",
    "    #d=df[df['job_created_date']>=now-relativedelta(years=1)]\n",
    "    c=df[df['job_closing_date'].isnull()]\n",
    "    d=df[df['job_closing_date']>=now]\n",
    "    d=d[d.job_id.notnull()]\n",
    "    jobs_to_apply_to=list(d[\"job_id\"].values)+list(c[\"job_id\"].values)\n",
    "    jobs_to_apply_to=list(set(jobs_to_apply_to))\n",
    "    print(\"number of jobs to apply to :\",len(jobs_to_apply_to))\n",
    "    print(\"recommendations started\")\n",
    "    for i,user in enumerate(all_users):\n",
    "        if i%10000==0:\n",
    "            print(\"progress :\", i/n)\n",
    "        try:\n",
    "            job_applications=jobs_per_user[str(int(user))]\n",
    "            recommendations=list(set(jobs_to_apply_to) - set(job_applications))\n",
    "            recommendations_per_user[str(int(user))]=recommendations\n",
    "        except:\n",
    "            recommendations_per_user[str(int(user))]=jobs_to_apply_to\n",
    "    return recommendations_per_user"
   ]
  },
  {
   "cell_type": "code",
   "execution_count": 21,
   "metadata": {},
   "outputs": [
    {
     "name": "stdout",
     "output_type": "stream",
     "text": [
      "number of jobs to apply to : 294\n",
      "recommendations started\n",
      "progress : 0.0\n",
      "progress : 0.060305628927404084\n",
      "progress : 0.12061125785480817\n",
      "progress : 0.18091688678221224\n",
      "progress : 0.24122251570961634\n",
      "progress : 0.30152814463702043\n",
      "progress : 0.3618337735644245\n",
      "progress : 0.4221394024918286\n",
      "progress : 0.4824450314192327\n",
      "progress : 0.5427506603466368\n",
      "progress : 0.6030562892740409\n",
      "progress : 0.663361918201445\n",
      "progress : 0.723667547128849\n",
      "progress : 0.783973176056253\n",
      "progress : 0.8442788049836571\n",
      "progress : 0.9045844339110612\n",
      "progress : 0.9648900628384653\n"
     ]
    }
   ],
   "source": [
    "recommendations_per_user=get_jobs_to_recommend(all_users, df, jobs_per_user)"
   ]
  },
  {
   "cell_type": "markdown",
   "metadata": {},
   "source": [
    "# create train and test dataset"
   ]
  },
  {
   "cell_type": "code",
   "execution_count": 22,
   "metadata": {},
   "outputs": [],
   "source": [
    "a=list(jobs_per_user.keys())\n",
    "train_user_id=[int(i) for i in a]\n",
    "train_user_applications=list(jobs_per_user.values())"
   ]
  },
  {
   "cell_type": "code",
   "execution_count": 23,
   "metadata": {},
   "outputs": [],
   "source": [
    "a=list(recommendations_per_user.keys())\n",
    "test_user_id=[int(i) for i in a]\n",
    "test_user_applications=list(recommendations_per_user.values())"
   ]
  },
  {
   "cell_type": "code",
   "execution_count": 24,
   "metadata": {},
   "outputs": [],
   "source": [
    "class users:\n",
    "    \n",
    "    def __init__(self, filename, filtre):\n",
    "        data=pd.read_json(filename)\n",
    "        d=data[filtre].values\n",
    "        self.user_id=self.get_ids(d)\n",
    "        self.length_of_course=self.get_length_of_course(d)\n",
    "        self.gender=self.get_gender(d)\n",
    "        self.ethnicity=self.get_ethnicity(d)\n",
    "        self.school_type=self.get_school_type(d)\n",
    "        self.course_includes_industrial_placement=self.get_course_includes_industrial_placement(d)\n",
    "        self.graduation_year=self.get_graduation_year(d)\n",
    "        self.right_to_work_uk=self.get_right_to_work_uk(d)\n",
    "        self.degree_subject_id=self.get_degree_subject_id(d)\n",
    "        self.university_id=self.get_university_id(d)\n",
    "        self.create_df()\n",
    "    \n",
    "    def get_ids(self, x):\n",
    "        res=[]\n",
    "        for i in range(len(x)):\n",
    "            res.append(int(x[i][\"user_id\"]))\n",
    "        return res\n",
    "    \n",
    "    def get_length_of_course(self, x):\n",
    "        res=[]\n",
    "        for i in range(len(x)):\n",
    "            try:\n",
    "                res.append(int(x[i][\"length_of_course\"]))\n",
    "            except TypeError:\n",
    "                res.append(None)\n",
    "        return res\n",
    "    \n",
    "    def get_gender(self, x):\n",
    "        res=[]\n",
    "        for i in range(len(x)):\n",
    "            res.append(x[i][\"gender\"])\n",
    "        return res\n",
    "    \n",
    "    def get_ethnicity(self, x):\n",
    "        res=[]\n",
    "        for i in range(len(x)):\n",
    "            res.append(x[i][\"ethnicity\"])\n",
    "        return res\n",
    "    \n",
    "    def get_school_type(self, x):\n",
    "        res=[]\n",
    "        for i in range(len(x)):\n",
    "            res.append(x[i][\"school_type\"])\n",
    "        return res\n",
    "    \n",
    "    def get_course_includes_industrial_placement(self, x):\n",
    "        res=[]\n",
    "        for i in range(len(x)):\n",
    "            res.append(x[i][\"course_includes_industrial_placement\"])\n",
    "        return res\n",
    "    \n",
    "    def get_graduation_year(self, x):\n",
    "        res=[]\n",
    "        for i in range(len(x)):\n",
    "            try:\n",
    "                res.append(int(x[i][\"graduation_year\"]))\n",
    "            except TypeError:\n",
    "                res.append(None)\n",
    "        return res\n",
    "    \n",
    "    def get_right_to_work_uk(self, x):\n",
    "        res=[]\n",
    "        for i in range(len(x)):\n",
    "            res.append(x[i][\"right_to_work_uk\"])\n",
    "        return res\n",
    "    \n",
    "    def get_degree_subject_id(self, x):\n",
    "        res=[]\n",
    "        for i in range(len(x)):\n",
    "            try:\n",
    "                res.append(int(x[i][\"degree_subject_id\"]))\n",
    "            except TypeError:\n",
    "                res.append(None)\n",
    "        return res\n",
    "    \n",
    "    def get_university_id(self, x):\n",
    "        res=[]\n",
    "        for i in range(len(x)):\n",
    "            try:\n",
    "                res.append(int(x[i][\"university_id\"]))\n",
    "            except TypeError:\n",
    "                res.append(None)\n",
    "        return res\n",
    "    \n",
    "    def create_df(self):\n",
    "        dd={}\n",
    "        dd[\"user_id\"]=self.user_id\n",
    "        dd[\"length_of_course\"]=self.length_of_course\n",
    "        dd[\"gender\"]=self.gender\n",
    "        dd[\"ethnicity\"]=self.ethnicity\n",
    "        dd[\"school_type\"]=self.school_type\n",
    "        dd[\"course_includes_industrial_placement\"]=self.course_includes_industrial_placement\n",
    "        dd[\"graduation_year\"]=self.graduation_year\n",
    "        dd[\"right_to_work_uk\"]=self.right_to_work_uk\n",
    "        dd[\"degree_subject_id\"]=self.degree_subject_id\n",
    "        dd[\"university_id\"]=self.university_id\n",
    "        self.df=pd.DataFrame(dd)"
   ]
  },
  {
   "cell_type": "code",
   "execution_count": 25,
   "metadata": {},
   "outputs": [],
   "source": [
    "user=users(\"users_profile.json\", \"users_profile\")\n",
    "user_df=user.df"
   ]
  },
  {
   "cell_type": "code",
   "execution_count": 26,
   "metadata": {},
   "outputs": [],
   "source": [
    "class jobs:\n",
    "    \n",
    "    def __init__(self, filename, filtre):\n",
    "        data=pd.read_json(filename)\n",
    "        d=data[filtre].values\n",
    "        self.job_id=self.get_ids(d)\n",
    "        self.opening_date=self.get_opening_date(d)\n",
    "        self.closing_date=self.get_closing_date(d)\n",
    "        self.short_description=self.get_short_description(d)\n",
    "        self.description=self.get_description(d)\n",
    "        self.job_type=self.get_job_type(d)\n",
    "        self.employer_id=self.get_employer_id(d)\n",
    "        self.search_rank=self.get_search_rank(d)\n",
    "        self.title=self.get_title(d)\n",
    "        self.create_df()\n",
    "    \n",
    "    def get_ids(self, x):\n",
    "        res=[]\n",
    "        for i in range(len(x)):\n",
    "            res.append(int(x[i][\"id\"]))\n",
    "        return res\n",
    "    \n",
    "    def get_opening_date(self, x):\n",
    "        res=[]\n",
    "        for i in range(len(x)):\n",
    "            res.append(x[i][\"opening_date\"])\n",
    "        return res\n",
    "    \n",
    "    def get_closing_date(self, x):\n",
    "        res=[]\n",
    "        for i in range(len(x)):\n",
    "            res.append(x[i][\"closing_date\"])\n",
    "        return res\n",
    "    \n",
    "    def get_short_description(self, x):\n",
    "        res=[]\n",
    "        for i in range(len(x)):\n",
    "            res.append(x[i][\"description_short\"])\n",
    "        return res\n",
    "    \n",
    "    def get_description(self, x):\n",
    "        res=[]\n",
    "        for i in range(len(x)):\n",
    "            res.append(x[i][\"description\"])\n",
    "        return res\n",
    "    \n",
    "    def get_job_type(self, x):\n",
    "        res=[]\n",
    "        for i in range(len(x)):\n",
    "            res.append(int(x[i][\"job_type\"]))\n",
    "        return res\n",
    "    \n",
    "    def get_employer_id(self, x):\n",
    "        res=[]\n",
    "        for i in range(len(x)):\n",
    "            res.append(int(x[i][\"employer_id\"]))\n",
    "        return res\n",
    "    \n",
    "    def get_search_rank(self, x):\n",
    "        res=[]\n",
    "        for i in range(len(x)):\n",
    "            res.append(int(x[i][\"search_rank\"]))\n",
    "        return res\n",
    "    \n",
    "    def get_title(self, x):\n",
    "        res=[]\n",
    "        for i in range(len(x)):\n",
    "            res.append(x[i][\"title\"])\n",
    "        return res\n",
    "    \n",
    "    def create_df(self):\n",
    "        dd={}\n",
    "        dd[\"job_id\"]=self.job_id\n",
    "        dd[\"job_opening_date\"]=self.opening_date\n",
    "        dd[\"job_closing_date\"]=self.closing_date\n",
    "        dd[\"job_short_description\"]=self.short_description\n",
    "        dd[\"job_description\"]=self.description\n",
    "        dd[\"job_type\"]=self.job_type\n",
    "        dd[\"employer_id\"]=self.employer_id\n",
    "        dd[\"search_rank\"]=self.search_rank\n",
    "        dd[\"job_title\"]=self.title\n",
    "        self.df=pd.DataFrame(dd)"
   ]
  },
  {
   "cell_type": "code",
   "execution_count": 27,
   "metadata": {},
   "outputs": [],
   "source": [
    "job=jobs(\"job.json\", \"job\")\n",
    "job_df=job.df"
   ]
  },
  {
   "cell_type": "code",
   "execution_count": 28,
   "metadata": {},
   "outputs": [],
   "source": [
    "class employers_job_sectors:\n",
    "    \n",
    "    def __init__(self, filename, filtre):\n",
    "        data=pd.read_json(filename)\n",
    "        d=data[filtre].values\n",
    "        self.employer_id=self.get_employer_id(d)\n",
    "        self.jobsector_id=self.get_jobsector_id(d)\n",
    "        self.create_df()\n",
    "    \n",
    "    def get_employer_id(self, x):\n",
    "        res=[]\n",
    "        for i in range(len(x)):\n",
    "            res.append(int(x[i][\"employer_id\"]))\n",
    "        return res\n",
    "    \n",
    "    def get_jobsector_id(self, x):\n",
    "        res=[]\n",
    "        for i in range(len(x)):\n",
    "            try:\n",
    "                res.append(int(x[i][\"jobsector_id\"]))\n",
    "            except TypeError:\n",
    "                res.append(None)\n",
    "        return res\n",
    "    \n",
    "    def create_df(self):\n",
    "        dd={}\n",
    "        dd[\"employer_id\"]=self.employer_id\n",
    "        dd[\"employer_sector_id\"]=self.jobsector_id\n",
    "        self.df=pd.DataFrame(dd)"
   ]
  },
  {
   "cell_type": "code",
   "execution_count": 29,
   "metadata": {},
   "outputs": [],
   "source": [
    "employer_job_sector=employers_job_sectors(\"employers_sectors.json\", \"employers_sectors\")\n",
    "employer_job_sector_df=employer_job_sector.df"
   ]
  },
  {
   "cell_type": "code",
   "execution_count": 30,
   "metadata": {},
   "outputs": [],
   "source": [
    "class jobsectors:\n",
    "    \n",
    "    def __init__(self, filename, filtre):\n",
    "        data=pd.read_json(filename)\n",
    "        d=data[filtre].values\n",
    "        self.title=self.get_title(d)\n",
    "        self.jobsector_id=self.get_jobsector_id(d)\n",
    "        self.create_df()\n",
    "    \n",
    "    def get_title(self, x):\n",
    "        res=[]\n",
    "        for i in range(len(x)):\n",
    "            res.append(x[i][\"title\"])\n",
    "        return res\n",
    "    \n",
    "    def get_jobsector_id(self, x):\n",
    "        res=[]\n",
    "        for i in range(len(x)):\n",
    "            try:\n",
    "                res.append(int(x[i][\"id\"]))\n",
    "            except TypeError:\n",
    "                res.append(None)\n",
    "        return res\n",
    "    \n",
    "    def create_df(self):\n",
    "        dd={}\n",
    "        dd[\"jobsector_title\"]=self.title\n",
    "        dd[\"jobsector_id\"]=self.jobsector_id\n",
    "        self.df=pd.DataFrame(dd)"
   ]
  },
  {
   "cell_type": "code",
   "execution_count": 31,
   "metadata": {},
   "outputs": [],
   "source": [
    "jobsector=jobsectors(\"jobsectors.json\", \"job_sectors\")\n",
    "jobsector_df=jobsector.df"
   ]
  },
  {
   "cell_type": "code",
   "execution_count": 32,
   "metadata": {},
   "outputs": [],
   "source": [
    "class job_sectors:\n",
    "    \n",
    "    def __init__(self, filename, filtre):\n",
    "        data=pd.read_json(filename)\n",
    "        d=data[filtre].values\n",
    "        self.job_id=self.get_job_id(d)\n",
    "        self.jobsector_id=self.get_jobsector_id(d)\n",
    "        self.create_df()\n",
    "    \n",
    "    def get_job_id(self, x):\n",
    "        res=[]\n",
    "        for i in range(len(x)):\n",
    "            try:\n",
    "                res.append(int(x[i][\"job_id\"]))\n",
    "            except TypeError:\n",
    "                res.append(None)\n",
    "        return res\n",
    "    \n",
    "    def get_jobsector_id(self, x):\n",
    "        res=[]\n",
    "        for i in range(len(x)):\n",
    "            try:\n",
    "                res.append(int(x[i][\"jobsector_id\"]))\n",
    "            except TypeError:\n",
    "                res.append(None)\n",
    "        return res\n",
    "    \n",
    "    def create_df(self):\n",
    "        dd={}\n",
    "        dd[\"job_id\"]=self.job_id\n",
    "        dd[\"jobsector_id\"]=self.jobsector_id\n",
    "        self.df=pd.DataFrame(dd)"
   ]
  },
  {
   "cell_type": "code",
   "execution_count": 33,
   "metadata": {},
   "outputs": [],
   "source": [
    "job_sector=job_sectors(\"job_sectors.json\", \"job_sectors\")\n",
    "job_sector_df=job_sector.df"
   ]
  },
  {
   "cell_type": "code",
   "execution_count": 34,
   "metadata": {},
   "outputs": [],
   "source": [
    "class employers:\n",
    "    \n",
    "    def __init__(self, filename, filtre):\n",
    "        data=pd.read_json(filename)\n",
    "        d=data[filtre].values\n",
    "        self.employer_id=self.get_ids(d)\n",
    "        self.title=self.get_title(d)\n",
    "        self.description_short=self.get_description_short(d)\n",
    "        self.description=self.get_description(d)\n",
    "        self.create_df()\n",
    "    \n",
    "    def get_ids(self, x):\n",
    "        res=[]\n",
    "        for i in range(len(x)):\n",
    "            res.append(int(x[i][\"id\"]))\n",
    "        return res\n",
    "    \n",
    "    def get_title(self, x):\n",
    "        res=[]\n",
    "        for i in range(len(x)):\n",
    "            res.append(x[i][\"title\"])\n",
    "        return res\n",
    "    \n",
    "    def get_description_short(self, x):\n",
    "        res=[]\n",
    "        for i in range(len(x)):\n",
    "            res.append(x[i][\"description_short\"])\n",
    "        return res\n",
    "    \n",
    "    \n",
    "    def get_description(self, x):\n",
    "        res=[]\n",
    "        for i in range(len(x)):\n",
    "            res.append(x[i][\"description\"])\n",
    "        return res\n",
    "    \n",
    "    \n",
    "    def create_df(self):\n",
    "        dd={}\n",
    "        dd[\"employer_id\"]=self.employer_id\n",
    "        dd[\"employer_title\"]=self.title\n",
    "        dd[\"employer_description_short\"]=self.description_short\n",
    "        dd[\"employer_description\"]=self.description\n",
    "        self.df=pd.DataFrame(dd)"
   ]
  },
  {
   "cell_type": "code",
   "execution_count": 35,
   "metadata": {},
   "outputs": [],
   "source": [
    "employer=employers(\"employer.json\", \"employer\")\n",
    "employer_df=employer.df"
   ]
  },
  {
   "cell_type": "code",
   "execution_count": 36,
   "metadata": {},
   "outputs": [],
   "source": [
    "class university:\n",
    "    \n",
    "    def __init__(self, filename, filtre):\n",
    "        data=pd.read_json(filename)\n",
    "        d=data[filtre].values\n",
    "        self.university_id=self.get_ids(d)\n",
    "        self.university_name=self.get_university_name(d)\n",
    "        self.university_type=self.get_university_type(d)\n",
    "        self.create_df()\n",
    "    \n",
    "    def get_ids(self, x):\n",
    "        res=[]\n",
    "        for i in range(len(x)):\n",
    "            res.append(int(x[i][\"id\"]))\n",
    "        return res\n",
    "    \n",
    "    def get_university_name(self, x):\n",
    "        res=[]\n",
    "        for i in range(len(x)):\n",
    "            res.append(x[i][\"name\"])\n",
    "        return res\n",
    "    \n",
    "    def get_university_type(self, x):\n",
    "        res=[]\n",
    "        for i in range(len(x)):\n",
    "            res.append(int(x[i][\"university_type\"]))\n",
    "        return res\n",
    "    \n",
    "    def create_df(self):\n",
    "        dd={}\n",
    "        dd[\"university_id\"]=self.university_id\n",
    "        dd[\"university_name\"]=self.university_name\n",
    "        dd[\"university_type\"]=self.university_type\n",
    "        self.df=pd.DataFrame(dd)"
   ]
  },
  {
   "cell_type": "code",
   "execution_count": 37,
   "metadata": {},
   "outputs": [],
   "source": [
    "uni=university(\"university.json\", \"university\")\n",
    "uni_df=uni.df"
   ]
  },
  {
   "cell_type": "code",
   "execution_count": 38,
   "metadata": {},
   "outputs": [],
   "source": [
    "class subject:\n",
    "    \n",
    "    def __init__(self, filename, filtre):\n",
    "        data=pd.read_json(filename)\n",
    "        d=data[filtre].values\n",
    "        self.subject_id=self.get_ids(d)\n",
    "        self.subject_name=self.get_subject_name(d)\n",
    "        self.create_df()\n",
    "    \n",
    "    def get_ids(self, x):\n",
    "        res=[]\n",
    "        for i in range(len(x)):\n",
    "            res.append(int(x[i][\"id\"]))\n",
    "        return res\n",
    "    \n",
    "    def get_subject_name(self, x):\n",
    "        res=[]\n",
    "        for i in range(len(x)):\n",
    "            res.append(x[i][\"name\"])\n",
    "        return res\n",
    "    \n",
    "    \n",
    "    def create_df(self):\n",
    "        dd={}\n",
    "        dd[\"degree_subject_id\"]=self.subject_id\n",
    "        dd[\"degree_subject_name\"]=self.subject_name\n",
    "        self.df=pd.DataFrame(dd)"
   ]
  },
  {
   "cell_type": "code",
   "execution_count": 39,
   "metadata": {},
   "outputs": [],
   "source": [
    "sub=subject(\"subject.json\", \"subject\")\n",
    "subject_df=sub.df"
   ]
  },
  {
   "cell_type": "code",
   "execution_count": 40,
   "metadata": {},
   "outputs": [],
   "source": [
    "class subject_groups:\n",
    "    \n",
    "    def __init__(self, filename, filtre):\n",
    "        data=pd.read_json(filename)\n",
    "        d=data[filtre].values\n",
    "        self.subject_id=self.get_ids(d)\n",
    "        self.subjectgroup_id=self.get_subjectgroup_id(d)\n",
    "        self.create_df()\n",
    "    \n",
    "    def get_ids(self, x):\n",
    "        res=[]\n",
    "        for i in range(len(x)):\n",
    "            res.append(int(x[i][\"subject_id\"]))\n",
    "        return res\n",
    "    \n",
    "    def get_subjectgroup_id(self, x):\n",
    "        res=[]\n",
    "        for i in range(len(x)):\n",
    "            res.append(int(x[i][\"subjectgroup_id\"]))\n",
    "        return res\n",
    "    \n",
    "    \n",
    "    def create_df(self):\n",
    "        dd={}\n",
    "        dd[\"degree_subject_id\"]=self.subject_id\n",
    "        dd[\"degree_subjectgroup_id\"]=self.subjectgroup_id\n",
    "        self.df=pd.DataFrame(dd)"
   ]
  },
  {
   "cell_type": "code",
   "execution_count": 41,
   "metadata": {},
   "outputs": [],
   "source": [
    "subgroup=subject_groups(\"subject_groups.json\", \"subject_groups\")\n",
    "subjectgroup_df=subgroup.df"
   ]
  },
  {
   "cell_type": "code",
   "execution_count": 42,
   "metadata": {},
   "outputs": [],
   "source": [
    "class subjectgroup:\n",
    "    \n",
    "    def __init__(self, filename, filtre):\n",
    "        data=pd.read_json(filename)\n",
    "        d=data[filtre].values\n",
    "        self.subjectgroup_id=self.get_ids(d)\n",
    "        self.subjectgroup_title=self.get_subject_name(d)\n",
    "        self.create_df()\n",
    "    \n",
    "    def get_ids(self, x):\n",
    "        res=[]\n",
    "        for i in range(len(x)):\n",
    "            res.append(int(x[i][\"id\"]))\n",
    "        return res\n",
    "    \n",
    "    def get_subject_name(self, x):\n",
    "        res=[]\n",
    "        for i in range(len(x)):\n",
    "            res.append(x[i][\"title\"])\n",
    "        return res\n",
    "    \n",
    "    \n",
    "    def create_df(self):\n",
    "        dd={}\n",
    "        dd[\"degree_subjectgroup_id\"]=self.subjectgroup_id\n",
    "        dd[\"degree_subjectgroup_title\"]=self.subjectgroup_title\n",
    "        self.df=pd.DataFrame(dd)"
   ]
  },
  {
   "cell_type": "code",
   "execution_count": 43,
   "metadata": {},
   "outputs": [],
   "source": [
    "subgrouptitle=subjectgroup(\"subjectgroup.json\", \"subjectgroup\")\n",
    "subjectgrouptitle_df=subgrouptitle.df"
   ]
  },
  {
   "cell_type": "code",
   "execution_count": 44,
   "metadata": {},
   "outputs": [],
   "source": [
    "job_df=pd.merge(job_df, employer_df, on='employer_id', how='outer')"
   ]
  },
  {
   "cell_type": "code",
   "execution_count": 45,
   "metadata": {},
   "outputs": [],
   "source": [
    "job_df=pd.merge(job_df, employer_job_sector_df, on='employer_id', how='outer')"
   ]
  },
  {
   "cell_type": "code",
   "execution_count": 46,
   "metadata": {},
   "outputs": [],
   "source": [
    "job_df=pd.merge(job_df, jobsector_df, left_on = 'employer_sector_id', right_on = 'jobsector_id', how='outer')"
   ]
  },
  {
   "cell_type": "code",
   "execution_count": 47,
   "metadata": {},
   "outputs": [],
   "source": [
    "job_df=job_df.rename(index=str, columns={\"jobsector_title\": \"employer_sector_title\"})"
   ]
  },
  {
   "cell_type": "code",
   "execution_count": 48,
   "metadata": {},
   "outputs": [],
   "source": [
    "job_df.drop(\"jobsector_id\", axis=1, inplace=True)"
   ]
  },
  {
   "cell_type": "code",
   "execution_count": 49,
   "metadata": {},
   "outputs": [],
   "source": [
    "job_df=pd.merge(job_df, job_sector_df, on='job_id', how='outer')"
   ]
  },
  {
   "cell_type": "code",
   "execution_count": 50,
   "metadata": {},
   "outputs": [],
   "source": [
    "job_df=pd.merge(job_df, jobsector_df, on = 'jobsector_id', how='outer')"
   ]
  },
  {
   "cell_type": "code",
   "execution_count": 51,
   "metadata": {},
   "outputs": [],
   "source": [
    "job_df=job_df.rename(index=str, columns={\"jobsector_title\": \"job_sector_title\"})"
   ]
  },
  {
   "cell_type": "code",
   "execution_count": 52,
   "metadata": {},
   "outputs": [],
   "source": [
    "user_df=pd.merge(user_df, uni_df, on='university_id', how='outer')"
   ]
  },
  {
   "cell_type": "code",
   "execution_count": 53,
   "metadata": {},
   "outputs": [],
   "source": [
    "user_df=pd.merge(user_df, subject_df, on='degree_subject_id', how='outer')"
   ]
  },
  {
   "cell_type": "code",
   "execution_count": 54,
   "metadata": {},
   "outputs": [],
   "source": [
    "user_df=pd.merge(user_df, subjectgroup_df, on='degree_subject_id', how='outer')"
   ]
  },
  {
   "cell_type": "code",
   "execution_count": 55,
   "metadata": {},
   "outputs": [],
   "source": [
    "#user_df=pd.merge(user_df, subjectgrouptitle_df, on='degree_subjectgroup_id', how='outer')"
   ]
  },
  {
   "cell_type": "code",
   "execution_count": 56,
   "metadata": {},
   "outputs": [],
   "source": [
    "user_df.drop(\"degree_subjectgroup_id\", axis=1, inplace=True)"
   ]
  },
  {
   "cell_type": "code",
   "execution_count": 57,
   "metadata": {},
   "outputs": [],
   "source": [
    "user_df=user_df.drop_duplicates(subset=user_df.columns)"
   ]
  },
  {
   "cell_type": "code",
   "execution_count": 58,
   "metadata": {},
   "outputs": [
    {
     "data": {
      "text/html": [
       "<div>\n",
       "<style scoped>\n",
       "    .dataframe tbody tr th:only-of-type {\n",
       "        vertical-align: middle;\n",
       "    }\n",
       "\n",
       "    .dataframe tbody tr th {\n",
       "        vertical-align: top;\n",
       "    }\n",
       "\n",
       "    .dataframe thead th {\n",
       "        text-align: right;\n",
       "    }\n",
       "</style>\n",
       "<table border=\"1\" class=\"dataframe\">\n",
       "  <thead>\n",
       "    <tr style=\"text-align: right;\">\n",
       "      <th></th>\n",
       "      <th>user_id</th>\n",
       "      <th>length_of_course</th>\n",
       "      <th>gender</th>\n",
       "      <th>ethnicity</th>\n",
       "      <th>school_type</th>\n",
       "      <th>course_includes_industrial_placement</th>\n",
       "      <th>graduation_year</th>\n",
       "      <th>right_to_work_uk</th>\n",
       "      <th>degree_subject_id</th>\n",
       "      <th>university_id</th>\n",
       "      <th>university_name</th>\n",
       "      <th>university_type</th>\n",
       "      <th>degree_subject_name</th>\n",
       "    </tr>\n",
       "  </thead>\n",
       "  <tbody>\n",
       "    <tr>\n",
       "      <th>94492</th>\n",
       "      <td>98304.0</td>\n",
       "      <td>NaN</td>\n",
       "      <td>Female</td>\n",
       "      <td>None</td>\n",
       "      <td>None</td>\n",
       "      <td>false</td>\n",
       "      <td>2019.0</td>\n",
       "      <td>true</td>\n",
       "      <td>835.0</td>\n",
       "      <td>196.0</td>\n",
       "      <td>Durham University</td>\n",
       "      <td>2.0</td>\n",
       "      <td>History and Politics</td>\n",
       "    </tr>\n",
       "  </tbody>\n",
       "</table>\n",
       "</div>"
      ],
      "text/plain": [
       "       user_id  length_of_course  gender ethnicity school_type  \\\n",
       "94492  98304.0               NaN  Female      None        None   \n",
       "\n",
       "      course_includes_industrial_placement  graduation_year right_to_work_uk  \\\n",
       "94492                                false           2019.0             true   \n",
       "\n",
       "       degree_subject_id  university_id    university_name  university_type  \\\n",
       "94492              835.0          196.0  Durham University              2.0   \n",
       "\n",
       "        degree_subject_name  \n",
       "94492  History and Politics  "
      ]
     },
     "execution_count": 58,
     "metadata": {},
     "output_type": "execute_result"
    }
   ],
   "source": [
    "user_df[user_df[\"user_id\"]==98304]"
   ]
  },
  {
   "cell_type": "code",
   "execution_count": 59,
   "metadata": {},
   "outputs": [],
   "source": [
    "#job_df=job_df[job_df[\"employer_sector_title\"]!=job_df[\"job_sector_title\"]]"
   ]
  },
  {
   "cell_type": "code",
   "execution_count": 60,
   "metadata": {},
   "outputs": [
    {
     "data": {
      "text/plain": [
       "7871    2017-10-01\n",
       "8827    2017-10-01\n",
       "Name: job_opening_date, dtype: object"
      ]
     },
     "execution_count": 60,
     "metadata": {},
     "output_type": "execute_result"
    }
   ],
   "source": [
    "job_df[job_df[\"job_id\"]==3163.0][\"job_opening_date\"]"
   ]
  },
  {
   "cell_type": "code",
   "execution_count": 70,
   "metadata": {},
   "outputs": [
    {
     "data": {
      "text/plain": [
       "Index(['job_id', 'job_opening_date', 'job_closing_date',\n",
       "       'job_short_description', 'job_description', 'job_type', 'employer_id',\n",
       "       'search_rank', 'job_title', 'employer_title',\n",
       "       'employer_description_short', 'employer_description',\n",
       "       'employer_sector_id', 'employer_sector_title', 'jobsector_id',\n",
       "       'job_sector_title'],\n",
       "      dtype='object')"
      ]
     },
     "execution_count": 70,
     "metadata": {},
     "output_type": "execute_result"
    }
   ],
   "source": [
    "job_df.columns"
   ]
  },
  {
   "cell_type": "code",
   "execution_count": 61,
   "metadata": {},
   "outputs": [
    {
     "data": {
      "text/plain": [
       "(165871, 13)"
      ]
     },
     "execution_count": 61,
     "metadata": {},
     "output_type": "execute_result"
    }
   ],
   "source": [
    "user_df.shape"
   ]
  },
  {
   "cell_type": "code",
   "execution_count": 62,
   "metadata": {},
   "outputs": [
    {
     "data": {
      "text/plain": [
       "(14348, 16)"
      ]
     },
     "execution_count": 62,
     "metadata": {},
     "output_type": "execute_result"
    }
   ],
   "source": [
    "job_df.shape"
   ]
  },
  {
   "cell_type": "code",
   "execution_count": 79,
   "metadata": {},
   "outputs": [],
   "source": [
    "def make_dataset(job_df, user_df, ids, applications):\n",
    "    n=len(ids)\n",
    "    d={}\n",
    "    user_id=[]\n",
    "    job_id=[]\n",
    "    employer_id=[]\n",
    "    job_opening_date=[]\n",
    "    job_closing_date=[]\n",
    "    job_description=[]\n",
    "    job_type=[]\n",
    "    job_title=[]\n",
    "    employer_title=[]\n",
    "    employer_description=[]\n",
    "    employer_sector_id=[]\n",
    "    employer_sector_title=[]\n",
    "    jobsector_id=[]\n",
    "    job_sector_title=[]\n",
    "    gender=[]\n",
    "    course_includes_industrial_placement=[]\n",
    "    graduation_year=[]\n",
    "    right_to_work_uk=[]\n",
    "    degree_subject_id=[]\n",
    "    university_id=[]\n",
    "    university_name=[]\n",
    "    university_type=[]\n",
    "    degree_subject_name=[]\n",
    "    for i in range(n):\n",
    "        if i%1000==0:\n",
    "            print(\"progress :\",i/n)\n",
    "        user_applications=applications[i]\n",
    "        nb_applications=len(user_applications)\n",
    "        for j in range(nb_applications):\n",
    "            user_id.append(ids[i])\n",
    "            job_id.append(user_applications[j])\n",
    "            user_info=user_df[user_df[\"user_id\"]==ids[i]]\n",
    "            job_infos=job_df[job_df[\"job_id\"]==user_applications[j]]\n",
    "            employer_id.append(job_infos[\"employer_id\"].iloc[0])\n",
    "            job_opening_date.append(job_infos[\"job_opening_date\"].iloc[0])\n",
    "            job_closing_date.append(job_infos[\"job_closing_date\"].iloc[0])\n",
    "            job_description.append(job_infos[\"job_description\"].iloc[0])\n",
    "            job_type.append(job_infos[\"job_type\"].iloc[0])\n",
    "            job_title.append(job_infos[\"job_title\"].iloc[0])\n",
    "            employer_title.append(job_infos[\"employer_title\"].iloc[0])\n",
    "            employer_description.append(job_infos[\"employer_description\"].iloc[0])\n",
    "            employer_sector_id.append(job_infos[\"employer_sector_id\"].iloc[0])\n",
    "            employer_sector_title.append(job_infos[\"employer_sector_title\"].iloc[0])\n",
    "            jobsector_id.append(job_infos[\"jobsector_id\"].iloc[0])\n",
    "            job_sector_title.append(job_infos[\"job_sector_title\"].iloc[0])\n",
    "            try:\n",
    "                gender.append(user_info[\"gender\"].iloc[0])\n",
    "            except:\n",
    "                gender.append(None)\n",
    "            try:\n",
    "                course_includes_industrial_placement.append(user_info[\"course_includes_industrial_placement\"].iloc[0])\n",
    "            except:\n",
    "                course_includes_industrial_placement.append(None)\n",
    "            try:\n",
    "                graduation_year.append(user_info[\"graduation_year\"].iloc[0])\n",
    "            except:\n",
    "                graduation_year.append(None)\n",
    "            try:\n",
    "                right_to_work_uk.append(user_info[\"right_to_work_uk\"].iloc[0])\n",
    "            except:\n",
    "                right_to_work_uk.append(None)\n",
    "            try:\n",
    "                degree_subject_id.append(user_info[\"degree_subject_id\"].iloc[0])\n",
    "            except:\n",
    "                degree_subject_id.append(None)\n",
    "            try:\n",
    "                university_id.append(user_info[\"university_id\"].iloc[0])\n",
    "            except:\n",
    "                university_id.append(None)\n",
    "            try:\n",
    "                university_name.append(user_info[\"university_name\"].iloc[0])\n",
    "            except:\n",
    "                university_name.append(None)\n",
    "            try:\n",
    "                university_type.append(user_info[\"university_type\"].iloc[0])\n",
    "            except:\n",
    "                university_type.append(None)\n",
    "            try:\n",
    "                degree_subject_name.append(user_info[\"degree_subject_name\"].iloc[0])\n",
    "            except:\n",
    "                degree_subject_name.append(None)\n",
    "    d[\"user_id\"]=user_id\n",
    "    d[\"job_id\"]=job_id\n",
    "    d[\"employer_id\"]=employer_id\n",
    "    d[\"job_opening_date\"]=job_opening_date\n",
    "    d[\"job_closing_date\"]=job_closing_date\n",
    "    d[\"job_description\"]=job_description\n",
    "    d[\"job_type\"]=job_type\n",
    "    d[\"job_title\"]=job_title\n",
    "    d[\"employer_title\"]=employer_title\n",
    "    d[\"employer_description\"]=employer_description\n",
    "    d[\"employer_sector_id\"]=employer_sector_id\n",
    "    d[\"employer_sector_title\"]=employer_sector_title\n",
    "    d[\"jobsector_id\"]=jobsector_id\n",
    "    d[\"job_sector_title\"]=job_sector_title\n",
    "    d[\"gender\"]=gender\n",
    "    d[\"course_includes_industrial_placement\"]=course_includes_industrial_placement\n",
    "    d[\"graduation_year\"]=graduation_year\n",
    "    d[\"right_to_work_uk\"]=right_to_work_uk\n",
    "    d[\"degree_subject_id\"]=degree_subject_id\n",
    "    d[\"university_id\"]=university_id\n",
    "    d[\"university_name\"]=university_name\n",
    "    d[\"university_type\"]=university_type\n",
    "    d[\"degree_subject_name\"]=degree_subject_name\n",
    "    df=pd.DataFrame(d)\n",
    "    return df"
   ]
  },
  {
   "cell_type": "code",
   "execution_count": 80,
   "metadata": {},
   "outputs": [
    {
     "name": "stdout",
     "output_type": "stream",
     "text": [
      "progress : 0.0\n",
      "progress : 0.04804920238324044\n",
      "progress : 0.09609840476648088\n",
      "progress : 0.1441476071497213\n",
      "progress : 0.19219680953296175\n",
      "progress : 0.24024601191620218\n",
      "progress : 0.2882952142994426\n",
      "progress : 0.33634441668268306\n",
      "progress : 0.3843936190659235\n",
      "progress : 0.43244282144916396\n",
      "progress : 0.48049202383240436\n",
      "progress : 0.5285412262156448\n",
      "progress : 0.5765904285988852\n",
      "progress : 0.6246396309821257\n",
      "progress : 0.6726888333653661\n",
      "progress : 0.7207380357486066\n",
      "progress : 0.768787238131847\n",
      "progress : 0.8168364405150874\n",
      "progress : 0.8648856428983279\n",
      "progress : 0.9129348452815683\n",
      "progress : 0.9609840476648087\n"
     ]
    }
   ],
   "source": [
    "training_set=make_dataset(job_df, user_df, train_user_id, train_user_applications)"
   ]
  },
  {
   "cell_type": "code",
   "execution_count": 81,
   "metadata": {},
   "outputs": [
    {
     "data": {
      "text/plain": [
       "(125136, 23)"
      ]
     },
     "execution_count": 81,
     "metadata": {},
     "output_type": "execute_result"
    }
   ],
   "source": [
    "training_set.shape"
   ]
  },
  {
   "cell_type": "code",
   "execution_count": 84,
   "metadata": {},
   "outputs": [
    {
     "data": {
      "text/plain": [
       "Index(['user_id', 'job_id', 'employer_id', 'job_opening_date',\n",
       "       'job_closing_date', 'job_description', 'job_type', 'job_title',\n",
       "       'employer_title', 'employer_description', 'employer_sector_id',\n",
       "       'employer_sector_title', 'jobsector_id', 'job_sector_title', 'gender',\n",
       "       'course_includes_industrial_placement', 'graduation_year',\n",
       "       'right_to_work_uk', 'degree_subject_id', 'university_id',\n",
       "       'university_name', 'university_type', 'degree_subject_name'],\n",
       "      dtype='object')"
      ]
     },
     "execution_count": 84,
     "metadata": {},
     "output_type": "execute_result"
    }
   ],
   "source": [
    "training_set.columns"
   ]
  },
  {
   "cell_type": "code",
   "execution_count": 83,
   "metadata": {},
   "outputs": [
    {
     "data": {
      "text/html": [
       "<div>\n",
       "<style scoped>\n",
       "    .dataframe tbody tr th:only-of-type {\n",
       "        vertical-align: middle;\n",
       "    }\n",
       "\n",
       "    .dataframe tbody tr th {\n",
       "        vertical-align: top;\n",
       "    }\n",
       "\n",
       "    .dataframe thead th {\n",
       "        text-align: right;\n",
       "    }\n",
       "</style>\n",
       "<table border=\"1\" class=\"dataframe\">\n",
       "  <thead>\n",
       "    <tr style=\"text-align: right;\">\n",
       "      <th></th>\n",
       "      <th>user_id</th>\n",
       "      <th>job_id</th>\n",
       "      <th>employer_id</th>\n",
       "      <th>job_opening_date</th>\n",
       "      <th>job_closing_date</th>\n",
       "      <th>job_description</th>\n",
       "      <th>job_type</th>\n",
       "      <th>job_title</th>\n",
       "      <th>employer_title</th>\n",
       "      <th>employer_description</th>\n",
       "      <th>...</th>\n",
       "      <th>job_sector_title</th>\n",
       "      <th>gender</th>\n",
       "      <th>course_includes_industrial_placement</th>\n",
       "      <th>graduation_year</th>\n",
       "      <th>right_to_work_uk</th>\n",
       "      <th>degree_subject_id</th>\n",
       "      <th>university_id</th>\n",
       "      <th>university_name</th>\n",
       "      <th>university_type</th>\n",
       "      <th>degree_subject_name</th>\n",
       "    </tr>\n",
       "  </thead>\n",
       "  <tbody>\n",
       "    <tr>\n",
       "      <th>0</th>\n",
       "      <td>98304</td>\n",
       "      <td>3163.0</td>\n",
       "      <td>208.0</td>\n",
       "      <td>2017-10-01</td>\n",
       "      <td>2018-11-19</td>\n",
       "      <td>&lt;h2 style=\"margin-left: 0px !important;\"&gt;Overv...</td>\n",
       "      <td>1.0</td>\n",
       "      <td>UK Sales Graduate Job 2019</td>\n",
       "      <td>P&amp;G</td>\n",
       "      <td>&lt;p&gt;Nearly five billion times a day, P&amp;amp;G br...</td>\n",
       "      <td>...</td>\n",
       "      <td>Sales &amp; Commercial</td>\n",
       "      <td>Female</td>\n",
       "      <td>false</td>\n",
       "      <td>2019.0</td>\n",
       "      <td>true</td>\n",
       "      <td>835.0</td>\n",
       "      <td>196.0</td>\n",
       "      <td>Durham University</td>\n",
       "      <td>2.0</td>\n",
       "      <td>History and Politics</td>\n",
       "    </tr>\n",
       "    <tr>\n",
       "      <th>1</th>\n",
       "      <td>98304</td>\n",
       "      <td>4533.0</td>\n",
       "      <td>208.0</td>\n",
       "      <td>2018-08-22</td>\n",
       "      <td>2019-01-31</td>\n",
       "      <td>&lt;h2&gt;Overview&lt;/h2&gt;\\r\\n\\r\\n&lt;p&gt;Want to work with ...</td>\n",
       "      <td>3.0</td>\n",
       "      <td>P&amp;G Ireland Marketing Summer Internship 2019</td>\n",
       "      <td>P&amp;G</td>\n",
       "      <td>&lt;p&gt;Nearly five billion times a day, P&amp;amp;G br...</td>\n",
       "      <td>...</td>\n",
       "      <td>Consumer, FMCG &amp; Retail</td>\n",
       "      <td>Female</td>\n",
       "      <td>false</td>\n",
       "      <td>2019.0</td>\n",
       "      <td>true</td>\n",
       "      <td>835.0</td>\n",
       "      <td>196.0</td>\n",
       "      <td>Durham University</td>\n",
       "      <td>2.0</td>\n",
       "      <td>History and Politics</td>\n",
       "    </tr>\n",
       "    <tr>\n",
       "      <th>2</th>\n",
       "      <td>98304</td>\n",
       "      <td>2539.0</td>\n",
       "      <td>208.0</td>\n",
       "      <td>2018-08-08</td>\n",
       "      <td>2019-01-31</td>\n",
       "      <td>&lt;div&gt;\\r\\n&lt;div&gt;\\r\\n&lt;div&gt;\\r\\n&lt;p&gt;Want to work wit...</td>\n",
       "      <td>3.0</td>\n",
       "      <td>P&amp;G UK Sales Summer Internship</td>\n",
       "      <td>P&amp;G</td>\n",
       "      <td>&lt;p&gt;Nearly five billion times a day, P&amp;amp;G br...</td>\n",
       "      <td>...</td>\n",
       "      <td>Sales &amp; Commercial</td>\n",
       "      <td>Female</td>\n",
       "      <td>false</td>\n",
       "      <td>2019.0</td>\n",
       "      <td>true</td>\n",
       "      <td>835.0</td>\n",
       "      <td>196.0</td>\n",
       "      <td>Durham University</td>\n",
       "      <td>2.0</td>\n",
       "      <td>History and Politics</td>\n",
       "    </tr>\n",
       "    <tr>\n",
       "      <th>3</th>\n",
       "      <td>65537</td>\n",
       "      <td>2417.0</td>\n",
       "      <td>443.0</td>\n",
       "      <td>None</td>\n",
       "      <td>2018-09-30</td>\n",
       "      <td>&lt;h2&gt;Structure:&lt;/h2&gt;\\r\\n\\r\\n&lt;p&gt;Our one-week pla...</td>\n",
       "      <td>2.0</td>\n",
       "      <td>Winter Vacation Scheme</td>\n",
       "      <td>Kennedys</td>\n",
       "      <td>&lt;p&gt;Kennedys is a global law firm with expertis...</td>\n",
       "      <td>...</td>\n",
       "      <td>Commercial Law</td>\n",
       "      <td>Male</td>\n",
       "      <td>false</td>\n",
       "      <td>2018.0</td>\n",
       "      <td>true</td>\n",
       "      <td>825.0</td>\n",
       "      <td>422.0</td>\n",
       "      <td>University of Warwick</td>\n",
       "      <td>2.0</td>\n",
       "      <td>History</td>\n",
       "    </tr>\n",
       "    <tr>\n",
       "      <th>4</th>\n",
       "      <td>65540</td>\n",
       "      <td>2769.0</td>\n",
       "      <td>451.0</td>\n",
       "      <td>2017-09-08</td>\n",
       "      <td>2017-11-16</td>\n",
       "      <td>&lt;h2&gt;About Man Group&lt;/h2&gt;\\r\\n\\r\\n&lt;p&gt;Man Group i...</td>\n",
       "      <td>1.0</td>\n",
       "      <td>Investment Management Analyst Programme</td>\n",
       "      <td>Man Group</td>\n",
       "      <td>&lt;p&gt;Man Group is a global active investment man...</td>\n",
       "      <td>...</td>\n",
       "      <td>Financial Services</td>\n",
       "      <td>Male</td>\n",
       "      <td>false</td>\n",
       "      <td>2018.0</td>\n",
       "      <td>true</td>\n",
       "      <td>462.0</td>\n",
       "      <td>327.0</td>\n",
       "      <td>University College London (UCL)</td>\n",
       "      <td>2.0</td>\n",
       "      <td>Economics</td>\n",
       "    </tr>\n",
       "  </tbody>\n",
       "</table>\n",
       "<p>5 rows × 23 columns</p>\n",
       "</div>"
      ],
      "text/plain": [
       "   user_id  job_id  employer_id job_opening_date job_closing_date  \\\n",
       "0    98304  3163.0        208.0       2017-10-01       2018-11-19   \n",
       "1    98304  4533.0        208.0       2018-08-22       2019-01-31   \n",
       "2    98304  2539.0        208.0       2018-08-08       2019-01-31   \n",
       "3    65537  2417.0        443.0             None       2018-09-30   \n",
       "4    65540  2769.0        451.0       2017-09-08       2017-11-16   \n",
       "\n",
       "                                     job_description  job_type  \\\n",
       "0  <h2 style=\"margin-left: 0px !important;\">Overv...       1.0   \n",
       "1  <h2>Overview</h2>\\r\\n\\r\\n<p>Want to work with ...       3.0   \n",
       "2  <div>\\r\\n<div>\\r\\n<div>\\r\\n<p>Want to work wit...       3.0   \n",
       "3  <h2>Structure:</h2>\\r\\n\\r\\n<p>Our one-week pla...       2.0   \n",
       "4  <h2>About Man Group</h2>\\r\\n\\r\\n<p>Man Group i...       1.0   \n",
       "\n",
       "                                      job_title employer_title  \\\n",
       "0                    UK Sales Graduate Job 2019            P&G   \n",
       "1  P&G Ireland Marketing Summer Internship 2019            P&G   \n",
       "2                P&G UK Sales Summer Internship            P&G   \n",
       "3                        Winter Vacation Scheme       Kennedys   \n",
       "4       Investment Management Analyst Programme      Man Group   \n",
       "\n",
       "                                employer_description          ...           \\\n",
       "0  <p>Nearly five billion times a day, P&amp;G br...          ...            \n",
       "1  <p>Nearly five billion times a day, P&amp;G br...          ...            \n",
       "2  <p>Nearly five billion times a day, P&amp;G br...          ...            \n",
       "3  <p>Kennedys is a global law firm with expertis...          ...            \n",
       "4  <p>Man Group is a global active investment man...          ...            \n",
       "\n",
       "          job_sector_title  gender  course_includes_industrial_placement  \\\n",
       "0       Sales & Commercial  Female                                 false   \n",
       "1  Consumer, FMCG & Retail  Female                                 false   \n",
       "2       Sales & Commercial  Female                                 false   \n",
       "3           Commercial Law    Male                                 false   \n",
       "4       Financial Services    Male                                 false   \n",
       "\n",
       "  graduation_year right_to_work_uk degree_subject_id  university_id  \\\n",
       "0          2019.0             true             835.0          196.0   \n",
       "1          2019.0             true             835.0          196.0   \n",
       "2          2019.0             true             835.0          196.0   \n",
       "3          2018.0             true             825.0          422.0   \n",
       "4          2018.0             true             462.0          327.0   \n",
       "\n",
       "                   university_name  university_type   degree_subject_name  \n",
       "0                Durham University              2.0  History and Politics  \n",
       "1                Durham University              2.0  History and Politics  \n",
       "2                Durham University              2.0  History and Politics  \n",
       "3            University of Warwick              2.0               History  \n",
       "4  University College London (UCL)              2.0             Economics  \n",
       "\n",
       "[5 rows x 23 columns]"
      ]
     },
     "execution_count": 83,
     "metadata": {},
     "output_type": "execute_result"
    }
   ],
   "source": [
    "test=training_set[training_set]"
   ]
  },
  {
   "cell_type": "code",
   "execution_count": null,
   "metadata": {},
   "outputs": [],
   "source": []
  }
 ],
 "metadata": {
  "kernelspec": {
   "display_name": "Python 3",
   "language": "python",
   "name": "python3"
  },
  "language_info": {
   "codemirror_mode": {
    "name": "ipython",
    "version": 3
   },
   "file_extension": ".py",
   "mimetype": "text/x-python",
   "name": "python",
   "nbconvert_exporter": "python",
   "pygments_lexer": "ipython3",
   "version": "3.6.5"
  }
 },
 "nbformat": 4,
 "nbformat_minor": 2
}
