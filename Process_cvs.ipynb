{
 "cells": [
  {
   "cell_type": "code",
   "execution_count": 30,
   "metadata": {},
   "outputs": [],
   "source": [
    "import pandas as pd\n",
    "import numpy as np\n",
    "import PyPDF2\n",
    "import os\n",
    "import re"
   ]
  },
  {
   "cell_type": "code",
   "execution_count": 29,
   "metadata": {},
   "outputs": [],
   "source": [
    "import tika\n",
    "from tika import parser"
   ]
  },
  {
   "cell_type": "code",
   "execution_count": 60,
   "metadata": {},
   "outputs": [],
   "source": [
    "from tabula import read_pdf"
   ]
  },
  {
   "cell_type": "markdown",
   "metadata": {},
   "source": [
    "# Get all the PDF filenames"
   ]
  },
  {
   "cell_type": "code",
   "execution_count": 2,
   "metadata": {},
   "outputs": [],
   "source": [
    "pdf_files = []"
   ]
  },
  {
   "cell_type": "code",
   "execution_count": 3,
   "metadata": {},
   "outputs": [],
   "source": [
    "for filename in os.listdir('Cvs/'):\n",
    "    if filename.endswith('.pdf'):\n",
    "         pdf_files.append('Cvs/'+filename)"
   ]
  },
  {
   "cell_type": "markdown",
   "metadata": {},
   "source": [
    "# Number of pdf files collected"
   ]
  },
  {
   "cell_type": "code",
   "execution_count": 4,
   "metadata": {},
   "outputs": [
    {
     "data": {
      "text/plain": [
       "456"
      ]
     },
     "execution_count": 4,
     "metadata": {},
     "output_type": "execute_result"
    }
   ],
   "source": [
    "len(pdf_files)"
   ]
  },
  {
   "cell_type": "code",
   "execution_count": 9,
   "metadata": {},
   "outputs": [
    {
     "ename": "ModuleNotFoundError",
     "evalue": "No module named 'cStringIO'",
     "output_type": "error",
     "traceback": [
      "\u001b[1;31m---------------------------------------------------------------------------\u001b[0m",
      "\u001b[1;31mModuleNotFoundError\u001b[0m                       Traceback (most recent call last)",
      "\u001b[1;32m<ipython-input-9-42483ca7919a>\u001b[0m in \u001b[0;36m<module>\u001b[1;34m\u001b[0m\n\u001b[1;32m----> 1\u001b[1;33m \u001b[1;32mfrom\u001b[0m \u001b[0mcStringIO\u001b[0m \u001b[1;32mimport\u001b[0m \u001b[0mStringIO\u001b[0m\u001b[1;33m\u001b[0m\u001b[0m\n\u001b[0m\u001b[0;32m      2\u001b[0m \u001b[1;32mimport\u001b[0m \u001b[0msubprocess\u001b[0m\u001b[1;33m\u001b[0m\u001b[0m\n\u001b[0;32m      3\u001b[0m \u001b[1;33m\u001b[0m\u001b[0m\n\u001b[0;32m      4\u001b[0m \u001b[0minput_path\u001b[0m \u001b[1;33m=\u001b[0m \u001b[1;34m'c:/test_in.pdf'\u001b[0m\u001b[1;33m\u001b[0m\u001b[0m\n\u001b[0;32m      5\u001b[0m \u001b[1;33m\u001b[0m\u001b[0m\n",
      "\u001b[1;31mModuleNotFoundError\u001b[0m: No module named 'cStringIO'"
     ]
    }
   ],
   "source": [
    "from cStringIO import StringIO\n",
    "import subprocess\n",
    "\n",
    "input_path = 'c:/test_in.pdf'\n",
    "\n",
    "def decompress_pdf(temp_buffer):\n",
    "    temp_buffer.seek(0)  # Make sure we're at the start of the file.\n",
    "\n",
    "    process = subprocess.Popen(['pdftk.exe',\n",
    "                                '-',  # Read from stdin.\n",
    "                                'output',\n",
    "                                '-',  # Write to stdout.\n",
    "                                'uncompress'],\n",
    "                                stdin=temp_buffer,\n",
    "                                stdout=subprocess.PIPE,\n",
    "                                stderr=subprocess.PIPE)\n",
    "    stdout, stderr = process.communicate()\n",
    "\n",
    "    return StringIO(stdout)"
   ]
  },
  {
   "cell_type": "code",
   "execution_count": 5,
   "metadata": {},
   "outputs": [],
   "source": [
    "from PyPDF2 import utils\n",
    "def extract_text_from_pdf():\n",
    "    res = {}\n",
    "    for pdf in pdf_files:\n",
    "        pdfFileObj = open(pdf, 'rb')\n",
    "        try:\n",
    "            pdfReader = PyPDF2.PdfFileReader(pdfFileObj)\n",
    "        except utils.PdfReadError:\n",
    "            print(pdf, \" not processed\")\n",
    "            # pdfReader = PyPDF2.PdfFileReader(decompress_pdf(input_file))\n",
    "        if not pdfReader.isEncrypted:\n",
    "            num_pages = pdfReader.numPages\n",
    "            pages = []\n",
    "            for page_nb in range(num_pages):\n",
    "                pages.append(pdfReader.getPage(page_nb).extractText())\n",
    "            res[pdf] = ' '.join(pages)\n",
    "    return res"
   ]
  },
  {
   "cell_type": "code",
   "execution_count": 17,
   "metadata": {},
   "outputs": [
    {
     "name": "stderr",
     "output_type": "stream",
     "text": [
      "PdfReadWarning: Xref table not zero-indexed. ID numbers for objects will be corrected. [pdf.py:1736]\n"
     ]
    },
    {
     "name": "stdout",
     "output_type": "stream",
     "text": [
      "Cvs/Hu_Xuan_20190320090349.pdf  not processed\n"
     ]
    },
    {
     "name": "stderr",
     "output_type": "stream",
     "text": [
      "UserWarning: startxref on same line as offset [pdf.py:1709]\n",
      "PdfReadWarning: Superfluous whitespace found in object header b'1' b'0' [pdf.py:1666]\n",
      "PdfReadWarning: Superfluous whitespace found in object header b'2' b'0' [pdf.py:1666]\n",
      "PdfReadWarning: Superfluous whitespace found in object header b'3' b'0' [pdf.py:1666]\n",
      "PdfReadWarning: Superfluous whitespace found in object header b'44' b'0' [pdf.py:1666]\n"
     ]
    },
    {
     "name": "stdout",
     "output_type": "stream",
     "text": [
      "Cvs/Wong_Terence_20190320085947.pdf  not processed\n"
     ]
    }
   ],
   "source": [
    "pdf_contents = extract_text_from_pdf()"
   ]
  },
  {
   "cell_type": "code",
   "execution_count": 75,
   "metadata": {},
   "outputs": [],
   "source": [
    "def clean_pdf():\n",
    "    res = {}\n",
    "    for name, content in pdf_contents.items():\n",
    "        x = content.split('\\n')\n",
    "        x = [i for i in x if len(i)>1]\n",
    "        x = [i.rstrip() for i in x if bool(re.search('[a-zA-Z]+', i))]\n",
    "        n = len(x)\n",
    "        for i, text in enumerate(x):\n",
    "            if i > 0:\n",
    "                if len(text) > 1:\n",
    "                    if text[0].isupper() or text[1].isupper():\n",
    "                        x[i] = '. ' + text\n",
    "            if i < n - 1:\n",
    "                next_text = x[i+1]\n",
    "                first_word = next_text.split(' ')[0]\n",
    "                if first_word.isdigit() or len(first_word)>1:\n",
    "                    x[i+1] = ' ' + next_text\n",
    "        pdf = ''.join(x)\n",
    "        sentences = pdf.split('.')\n",
    "        res[name] = sentences\n",
    "    return res   "
   ]
  },
  {
   "cell_type": "code",
   "execution_count": 76,
   "metadata": {},
   "outputs": [],
   "source": [
    "cleaned_pdf = clean_pdf()"
   ]
  },
  {
   "cell_type": "code",
   "execution_count": 77,
   "metadata": {},
   "outputs": [
    {
     "data": {
      "text/plain": [
       "['Sachin Abeysundera 14 The Fairway, Oadby, Leicester LE2 2HJ   Mobile: 07528733306       Email:sachin97@live',\n",
       " 'co',\n",
       " 'uk',\n",
       " '  Personal Profile',\n",
       " ' I have studied Physiology at the University of Manchester, where I have recently graduated with a 2:1, and I am looking to secure a job, preferably in a position which can exploit my analytical and leadership skills, as well as improving and developing th ese skills',\n",
       " ' University has greatly enhanced my communication and written skills, highlighted by my dissertation mark of 68%',\n",
       " ' Furthermore, university has encouraged me to be much more independent, and has improved my time management skills, due to the number of deadlines I have had to meet during the last three years, which will stand me in good stead in the working environment',\n",
       " '',\n",
       " '  Education',\n",
       " '  University of Manchester',\n",
       " '  Leicester Grammar School levels: Biology (A*), Chemistry (A), Maths (A)',\n",
       " '  As Level',\n",
       " '  Religious Studies (A)',\n",
       " '  GCSEs: 10 GCSEs including Biology (A*), Chemistry (A*), Physics (A*), Maths (A*), English Language, (A), English Literature (A)',\n",
       " '',\n",
       " '  Work Experience',\n",
       " '  K4 Law solicitors (June',\n",
       " '  September 2016)',\n",
       " '  Communication: Speak ing to clients over the telephone to convey information on relevant matters has greatly enhanced my communication skills',\n",
       " ' The role also required me to call mortgage companies and estate agents',\n",
       " '',\n",
       " '  Confidence: Improving my ability to assist people of differ ent backgrounds with an array of different problems',\n",
       " '  Written Skills: Writing letters and faxes to clients and other solicitors, which has further developed my attention to detail when completing these tasks',\n",
       " '',\n",
       " '  Administrative skills: Various roles includ ing filing, faxing, photocopying and scanning, attending to post, banking cheques and sending letters',\n",
       " '',\n",
       " '  Teamwork: Assisting others, working together where needed to complete tasks efficiently',\n",
       " '',\n",
       " '  Francis Stone Estate Agents (December 2016',\n",
       " '  January 2017)',\n",
       " '  Communication: Meeting with clients, and speaking to them over the telephone to communicate necessary information, and resolve and answer their questions',\n",
       " '  Confidence: Calling potential landlords',\n",
       " ' This task has been especially helpful in improving my pat ience and helping me become more confident and friendly over the telephone',\n",
       " '',\n",
       " '  IT skills: Improving my proficiency with Microsoft Word, as a key role was to make posters for the numerous properties that we were trying to sell',\n",
       " ' Furthermore, a crucial job was the management of the website, which has greatly improved my IT abilities',\n",
       " '',\n",
       " '  Westleigh Partnerships (July',\n",
       " '  August 2017)',\n",
       " '  Insight and experience: I had the opportunity to work within this company for three weeks, observing and assisting the distinct roles in the various departments, including business development, procurement and surveying',\n",
       " ' I gained invaluable insight into how so many departments all communicate and work together to make a company run so efficiently',\n",
       " '',\n",
       " '  Skills and Other Experiences',\n",
       " '  Form Baccalaureate: Completing the Baccalaureate was an absorbing achievement which has greatly enhanced my time management skills, and has helped me to think more independently',\n",
       " '  Critical Thinking AS level: Developing my skills in analysis and evaluatio n, problem solving and creative thinking',\n",
       " '',\n",
       " '  Teamwork, Discipline and Leadership: Captaining various cricket teams throughout school and at local league level has taught me to motivate and encourage team mates to bring out their best, to work hard at a com petitive level, to lead by example, and work together as part of a team Interests',\n",
       " '  Travelling: Broadening my experiences, learning about different cultures in dif ferent parts of',\n",
       " '  Europe, Asia, America and Canada',\n",
       " '  Sports: I enjoy taking part in different sports including football and golf, but my main focus is cricket, where I primarily play for my university team ad local team in the summer',\n",
       " '  Music: I play the fl ute and the piano to Grades 8 and 5 respectively',\n",
       " '',\n",
       " '  References']"
      ]
     },
     "execution_count": 77,
     "metadata": {},
     "output_type": "execute_result"
    }
   ],
   "source": [
    "cleaned_pdf[pdf_files[1]]"
   ]
  },
  {
   "cell_type": "code",
   "execution_count": null,
   "metadata": {},
   "outputs": [],
   "source": []
  },
  {
   "cell_type": "code",
   "execution_count": 74,
   "metadata": {},
   "outputs": [
    {
     "data": {
      "text/plain": [
       "'Sachin Abeysundera\\n \\n14 The Fairway, Oadby, Leicester LE2 2HJ   Mobile: 07528733306       Email:sachin97@live.co.uk\\n \\n \\nPersonal Profile\\n \\n \\nI have studied Physiology at the University of Manchester, where I have recently graduated with a \\n2:1, and I am looking to secure a job, preferably in a position which can exploit my analytical and \\nleadership skills, as well as improving and developing th\\nese skills. University has greatly enhanced \\nmy communication and written skills, highlighted by my dissertation mark of 68%. Furthermore, \\nuniversity has encouraged me to be much more independent, and has improved my time \\nmanagement skills, due to the numbe\\nr of deadlines I have had to meet during the last three years, \\nwhich will stand me in good stead in the working environment. \\n \\n \\nEducation \\n \\nUniversity of Manchester\\n \\n(2015\\n-\\n2018) \\n-\\n \\n2:1\\n \\n \\nLeicester Grammar School\\n \\n(2007\\n-\\n2015) \\nA\\n-\\nlevels\\n: Biology (A*), Chemistry (A)\\n, Maths (A) \\nAs Level\\n: \\nReligious Studies (A)\\n \\n \\nGCSEs\\n: 10 GCSEs including Biology (A*), Chemistry (A*), Physics (A*), Maths (A*), English Language, \\n(A), English Literature (A). \\n \\n \\nWork Experience \\n \\nK4 Law solicitors\\n \\n(June\\n-\\nSeptember 2016) \\n \\n\\nCommunication\\n: Speak\\ning to clients over the telephone to convey information on relevant matters \\nhas greatly enhanced my communication skills. The role also required me to call mortgage \\ncompanies and estate agents. \\n \\n\\n \\nConfidence\\n: Improving my ability to assist people of differ\\nent backgrounds with an array of \\ndifferent problems \\n \\n\\nWritten Skills\\n: Writing letters and faxes to clients and other solicitors, which has further developed \\nmy attention to detail when completing these tasks.\\n \\n \\n\\nAdministrative skills\\n: Various roles includ\\ning filing, faxing, photocopying and scanning, attending \\nto post, banking cheques and sending letters. \\n \\n\\nTeamwork\\n: Assisting others, working together where needed to complete tasks efficiently.\\n \\n \\n \\nFrancis Stone Estate Agents\\n \\n(December 2016\\n-\\nJanuary 2017) \\n \\n\\n \\nCommunication\\n: Meeting with clients, and speaking to them over the telephone to communicate \\nnecessary information, and resolve and answer their questions \\n \\n \\nConfidence\\n: Calling potential landlords. This task has been especially helpful in improving my \\npat\\nience and helping me become more confident and friendly over the telephone. \\n \\n\\nIT skills\\n: Improving my proficiency with Microsoft Word, as a key role was to make posters for the \\nnumerous properties that we were trying to sell. Furthermore, a crucial job wa\\ns the management of \\nthe website, which has greatly improved my IT abilities. \\n \\nWestleigh Partnerships\\n \\n(July\\n-\\nAugust 2017)\\n \\n \\n\\nInsight and experience\\n: I had the opportunity to work within this company for three weeks, \\nobserving and assisting the distinct roles\\n \\nin the various departments, including business \\ndevelopment, procurement and surveying. I gained invaluable insight into how so many \\ndepartments all communicate and work together to make a company run so efficiently. \\n \\n \\nSkills and Other Experiences\\n \\n \\n\\n \\nForm Baccalaureate\\n: Completing the Baccalaureate was an absorbing achievement which \\nhas greatly enhanced my time management skills, and has helped me to think more independently \\n \\n\\nCritical Thinking AS level\\n: Developing my skills in analysis and evaluatio\\nn, problem solving and \\ncreative thinking.\\n \\n \\n\\nTeamwork, Discipline and Leadership\\n: Captaining various cricket teams throughout school and at \\nlocal league level has taught me to motivate and encourage team mates to bring out their best, to \\nwork hard at a com\\npetitive level, to lead by example, and work together as part of a team Interests\\n \\n \\n\\n\\n \\n \\n\\n \\nTravelling\\n: Broadening my experiences, learning about different cultures in dif\\nferent parts of \\nEurope, Asia, America and Canada \\n \\n\\nSports\\n: I enjoy taking part in different sports including football and golf, but my main focus is \\ncricket, where I primarily play for my university team ad local team in the summer \\n \\n\\nMusic\\n: I play the fl\\nute and the piano to Grades 8 and 5 respectively. \\n \\n \\nReferences \\n \\n\\n \\n'"
      ]
     },
     "execution_count": 74,
     "metadata": {},
     "output_type": "execute_result"
    }
   ],
   "source": [
    "pdf_contents[pdf_files[1]]"
   ]
  },
  {
   "cell_type": "code",
   "execution_count": null,
   "metadata": {},
   "outputs": [],
   "source": []
  }
 ],
 "metadata": {
  "kernelspec": {
   "display_name": "Python 3",
   "language": "python",
   "name": "python3"
  },
  "language_info": {
   "codemirror_mode": {
    "name": "ipython",
    "version": 3
   },
   "file_extension": ".py",
   "mimetype": "text/x-python",
   "name": "python",
   "nbconvert_exporter": "python",
   "pygments_lexer": "ipython3",
   "version": "3.6.6"
  }
 },
 "nbformat": 4,
 "nbformat_minor": 2
}
