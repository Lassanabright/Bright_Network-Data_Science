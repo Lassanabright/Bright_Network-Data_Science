{
 "cells": [
  {
   "cell_type": "code",
   "execution_count": 1,
   "metadata": {},
   "outputs": [],
   "source": [
    "import pandas as pd\n",
    "import numpy as np\n",
    "import requests\n",
    "import shutil"
   ]
  },
  {
   "cell_type": "code",
   "execution_count": 2,
   "metadata": {},
   "outputs": [],
   "source": [
    "from selenium import webdriver"
   ]
  },
  {
   "cell_type": "code",
   "execution_count": 3,
   "metadata": {},
   "outputs": [],
   "source": [
    "import time"
   ]
  },
  {
   "cell_type": "markdown",
   "metadata": {},
   "source": [
    "# API key"
   ]
  },
  {
   "cell_type": "code",
   "execution_count": 4,
   "metadata": {},
   "outputs": [],
   "source": [
    "api_key = 'qaOLZ5vRULYn5DkzqhRkx9Y3kspjIUOb'"
   ]
  },
  {
   "cell_type": "markdown",
   "metadata": {},
   "source": [
    "# Authentification"
   ]
  },
  {
   "cell_type": "code",
   "execution_count": 5,
   "metadata": {},
   "outputs": [],
   "source": [
    "my_email = 'lassana.diabira@brightnetwork.co.uk'\n",
    "password = 'Bright!Network!123'"
   ]
  },
  {
   "cell_type": "markdown",
   "metadata": {},
   "source": [
    "# Get applications"
   ]
  },
  {
   "cell_type": "code",
   "execution_count": 6,
   "metadata": {},
   "outputs": [],
   "source": [
    "def get_applications():\n",
    "    page = 1\n",
    "    r = requests.get('https://api.resumatorapi.com/v1/applicants/page/1' + '?apikey=' + api_key)\n",
    "    applications = []\n",
    "    while len(r.json()) > 0:\n",
    "        applications += r.json()\n",
    "        page += 1\n",
    "        applicants_url = 'https://api.resumatorapi.com/v1/applicants/page/' + str(page) + '?apikey=' + api_key\n",
    "        r = requests.get(applicants_url)\n",
    "        if page % 50 == 0:\n",
    "            print(\"page \", page)\n",
    "    return applications"
   ]
  },
  {
   "cell_type": "code",
   "execution_count": 7,
   "metadata": {},
   "outputs": [
    {
     "name": "stdout",
     "output_type": "stream",
     "text": [
      "page  50\n",
      "page  100\n"
     ]
    }
   ],
   "source": [
    "applications = get_applications()"
   ]
  },
  {
   "cell_type": "code",
   "execution_count": 8,
   "metadata": {},
   "outputs": [
    {
     "data": {
      "text/plain": [
       "13702"
      ]
     },
     "execution_count": 8,
     "metadata": {},
     "output_type": "execute_result"
    }
   ],
   "source": [
    "len(applications)"
   ]
  },
  {
   "cell_type": "code",
   "execution_count": 9,
   "metadata": {},
   "outputs": [
    {
     "data": {
      "text/plain": [
       "{'id': 'prospect_20190328044230_OUYEZ2ENVOQRXIJG',\n",
       " 'first_name': 'Amal',\n",
       " 'last_name': 'Mohamed',\n",
       " 'prospect_phone': '07340127574',\n",
       " 'apply_date': '2019-03-28',\n",
       " 'job_id': 'job_20190308122816_YDVYYANPF6VOPS9R',\n",
       " 'job_title': 'Graduate Analytics Consultant'}"
      ]
     },
     "execution_count": 9,
     "metadata": {},
     "output_type": "execute_result"
    }
   ],
   "source": [
    "applications[0]"
   ]
  },
  {
   "cell_type": "markdown",
   "metadata": {},
   "source": [
    "# Get jobs"
   ]
  },
  {
   "cell_type": "code",
   "execution_count": 10,
   "metadata": {},
   "outputs": [],
   "source": [
    "def get_jobs():\n",
    "    page = 1\n",
    "    r = requests.get('https://api.resumatorapi.com/v1/jobs/page/1' + '?apikey=' + api_key)\n",
    "    jobs = []\n",
    "    while len(r.json()) > 0:\n",
    "        jobs += r.json()\n",
    "        page += 1\n",
    "        jobs_url = 'https://api.resumatorapi.com/v1/jobs/page/' + str(page) + '?apikey=' + api_key\n",
    "        r = requests.get(jobs_url)\n",
    "        if page % 50 == 0:\n",
    "            print(\"page \", page)\n",
    "    return jobs"
   ]
  },
  {
   "cell_type": "code",
   "execution_count": 11,
   "metadata": {},
   "outputs": [],
   "source": [
    "jobs = get_jobs()"
   ]
  },
  {
   "cell_type": "code",
   "execution_count": 13,
   "metadata": {},
   "outputs": [
    {
     "data": {
      "text/plain": [
       "58"
      ]
     },
     "execution_count": 13,
     "metadata": {},
     "output_type": "execute_result"
    }
   ],
   "source": [
    "len(jobs)"
   ]
  },
  {
   "cell_type": "code",
   "execution_count": 12,
   "metadata": {},
   "outputs": [
    {
     "data": {
      "text/plain": [
       "{'id': 'job_20190321152827_ZPPVZFBG6CKX4CXU',\n",
       " 'team_id': '',\n",
       " 'title': 'Winmark Network Executive',\n",
       " 'country_id': 'United Kingdom',\n",
       " 'city': 'London',\n",
       " 'state': 'London',\n",
       " 'zip': '',\n",
       " 'department': '',\n",
       " 'description': '<p><strong>Overview</strong></p>\\n\\n<p>Winmark gives business leaders the knowledge and connections to achieve greater impact via its C-Suite Networks, Research, and Academies.</p>\\n\\n<p>Networks: Winmark runs networks for all the major functions covered by the C-Suite. Our professional member networks enable C-Suite executives to learn from their peers and engage in the discussions that are transforming their business environment.</p>\\n\\n<p>Research: embedded in the knowledge of our C-Suite networks and informed by the most up-to-date business conversations, our incisive research provides leaders with the intelligence and perspective they need to achieve greater impact.</p>\\n\\n<p>Academies: drawing from the perspective of the world’s leading organisations and the latest business trends from the Winmark Networks, our executive education academies develop and empower executives across industries and functions. Our programmes combine management methods with hands-on, real-life experience and keep leaders up to date with cutting-edge thinking in business.</p>\\n\\n<p>&nbsp;</p>\\n\\n<p><strong>The Role</strong></p>\\n\\n<p>This is an entry-level role to Winmark enabling you to join us as one of our Executives supporting the Networks team. From this Executive role you can then progress up to Manager, Head and ultimately Director level if you have the right skills, aptitude and ambition. Our Executives are responsible for supporting all aspects of network membership across Winmark: online and offline network membership administration and management, management of all network events for the C-Suite executives, external network communications, and they are the first point of contact for all the C-Suite network members.</p>\\n\\n<p>&nbsp;</p>\\n\\n<p><strong>Candidate Profile</strong></p>\\n\\n<p>The right candidate for this role will be one who wants to work with top-level business people and C-Suite executives, and perhaps join their ranks one day. They must be willing to start in this Executive level role, with the potential to promote up through the business in order to take on responsibility for managing accounts and content, and then ultimately selling the memberships to the C-Suite directly. This role will require you to be highly organised, have huge attention to detail, and be able to manage a lot of administration - and ultimately be comfortable sitting in a room and liaising with some very senior business leaders.</p>\\n\\n<ul>\\n<li>Event management; planning all the network meetings and events.</li>\\n<li>Keeping the network programme of events and all supporting systems and platforms up-to-date.</li>\\n<li>Sending invites / reminders and tracking meeting attendance.</li>\\n<li>Liaising with hosts, speakers and chairs of the network events.</li>\\n<li>Preparing all meeting materials.&nbsp;&nbsp;</li>\\n<li>Greeting and interacting with the C-Suite network members as well as technical partners and prospects attending the meetings.&nbsp;</li>\\n<li>Managing the closedown of the meetings.</li>\\n<li>Always looking for ways in which to improve the way in which the networks run from an operational perspective, in order to increase efficiency and the overall quality of the meetings and service to the network members.</li>\\n<li>Helping your network Manager and Director to create and deliver the most impactful programme of events and services for the C-Suite executive members in terms of industry and business content.&nbsp;&nbsp;</li>\\n</ul>\\n\\n<p>&nbsp;</p>\\n\\n<p><strong>Benefits</strong></p>\\n\\n<ul>\\n<li>Competitive salary</li>\\n<li>22 days holiday and 1&nbsp;additional for every year of employment with a 5 days booster every 3 years.&nbsp;</li>\\n<li>Access to a vast range of in-house development courses (our masterclasses, also attended by our C-Suite executives).</li>\\n<li>We support employees to complete MBAs.</li>\\n</ul>\\n\\n<p>&nbsp;</p>\\n\\n<p>Bright Networ Privacy Policy:&nbsp;https://bit.ly/2UBoXmI</p>\\n',\n",
       " 'minimum_salary': '0',\n",
       " 'maximum_salary': '0',\n",
       " 'notes': '',\n",
       " 'original_open_date': '2019-03-21',\n",
       " 'type': 'Full Time',\n",
       " 'status': 'Open',\n",
       " 'send_to_job_boards': 'Yes',\n",
       " 'hiring_lead': 'usr_20180905163228_FWRPCKQHFZHD9HZN',\n",
       " 'board_code': 'Ynvmr0Zbw0',\n",
       " 'internal_code': '',\n",
       " 'questionnaire': 'questionnaire_20190321153043_SESN81Z9T78DTCXV'}"
      ]
     },
     "execution_count": 12,
     "metadata": {},
     "output_type": "execute_result"
    }
   ],
   "source": [
    "jobs[1]"
   ]
  },
  {
   "cell_type": "markdown",
   "metadata": {},
   "source": [
    "# Get CVs"
   ]
  },
  {
   "cell_type": "code",
   "execution_count": 14,
   "metadata": {},
   "outputs": [],
   "source": [
    "def get_cvs():\n",
    "    applicants_ids = []\n",
    "    for i in range(len(applications)):\n",
    "        applicants_ids.append(applications[i]['id'])\n",
    "    users_url = ['https://api.resumatorapi.com/v1/applicants/' + i + '?apikey=' + api_key for i in applicants_ids]\n",
    "    users = []\n",
    "    driver = webdriver.Chrome(executable_path='C:\\\\Users\\\\Lassana\\\\chromedriver.exe')\n",
    "    driver.get('https://app.jazz.co/app/v2/login')\n",
    "    time.sleep(5)\n",
    "    email = driver.find_element_by_name('email')\n",
    "    time.sleep(1)\n",
    "    email.send_keys(my_email)\n",
    "    time.sleep(1)\n",
    "    pwd = driver.find_element_by_name('password')\n",
    "    time.sleep(1)\n",
    "    pwd.send_keys(password)\n",
    "    time.sleep(1)\n",
    "    driver.find_element_by_name(\"login\").click()\n",
    "    n = len(users_url)\n",
    "    for i, url in enumerate(users_url):\n",
    "        time.sleep(1)\n",
    "        r = requests.get(url)\n",
    "        user_data = r.json()\n",
    "        print(user_data)\n",
    "        users.append(user_data)\n",
    "        resume_link = user_data['resume_link']\n",
    "        cv_url = 'https://app.jazz.co/files/download/resume?url=' + resume_link + '?apikey=' + api_key\n",
    "        driver.get(cv_url)\n",
    "        if i % 50 == 0:\n",
    "            print(\"processed \",i+1, \"out of \", n)\n",
    "    driver.close()\n",
    "    return users"
   ]
  },
  {
   "cell_type": "code",
   "execution_count": 15,
   "metadata": {},
   "outputs": [
    {
     "ename": "KeyboardInterrupt",
     "evalue": "",
     "output_type": "error",
     "traceback": [
      "\u001b[1;31m---------------------------------------------------------------------------\u001b[0m",
      "\u001b[1;31mKeyboardInterrupt\u001b[0m                         Traceback (most recent call last)",
      "\u001b[1;32m<ipython-input-15-daae61f3d217>\u001b[0m in \u001b[0;36m<module>\u001b[1;34m\u001b[0m\n\u001b[1;32m----> 1\u001b[1;33m \u001b[0musers\u001b[0m \u001b[1;33m=\u001b[0m \u001b[0mget_cvs\u001b[0m\u001b[1;33m(\u001b[0m\u001b[1;33m)\u001b[0m\u001b[1;33m\u001b[0m\u001b[0m\n\u001b[0m",
      "\u001b[1;32m<ipython-input-14-8690c7fc0166>\u001b[0m in \u001b[0;36mget_cvs\u001b[1;34m()\u001b[0m\n\u001b[0;32m     15\u001b[0m     \u001b[0mtime\u001b[0m\u001b[1;33m.\u001b[0m\u001b[0msleep\u001b[0m\u001b[1;33m(\u001b[0m\u001b[1;36m1\u001b[0m\u001b[1;33m)\u001b[0m\u001b[1;33m\u001b[0m\u001b[0m\n\u001b[0;32m     16\u001b[0m     \u001b[0mpwd\u001b[0m\u001b[1;33m.\u001b[0m\u001b[0msend_keys\u001b[0m\u001b[1;33m(\u001b[0m\u001b[0mpassword\u001b[0m\u001b[1;33m)\u001b[0m\u001b[1;33m\u001b[0m\u001b[0m\n\u001b[1;32m---> 17\u001b[1;33m     \u001b[0mtime\u001b[0m\u001b[1;33m.\u001b[0m\u001b[0msleep\u001b[0m\u001b[1;33m(\u001b[0m\u001b[1;36m1\u001b[0m\u001b[1;33m)\u001b[0m\u001b[1;33m\u001b[0m\u001b[0m\n\u001b[0m\u001b[0;32m     18\u001b[0m     \u001b[0mdriver\u001b[0m\u001b[1;33m.\u001b[0m\u001b[0mfind_element_by_name\u001b[0m\u001b[1;33m(\u001b[0m\u001b[1;34m\"login\"\u001b[0m\u001b[1;33m)\u001b[0m\u001b[1;33m.\u001b[0m\u001b[0mclick\u001b[0m\u001b[1;33m(\u001b[0m\u001b[1;33m)\u001b[0m\u001b[1;33m\u001b[0m\u001b[0m\n\u001b[0;32m     19\u001b[0m     \u001b[0mn\u001b[0m \u001b[1;33m=\u001b[0m \u001b[0mlen\u001b[0m\u001b[1;33m(\u001b[0m\u001b[0musers_url\u001b[0m\u001b[1;33m)\u001b[0m\u001b[1;33m\u001b[0m\u001b[0m\n",
      "\u001b[1;31mKeyboardInterrupt\u001b[0m: "
     ]
    }
   ],
   "source": [
    "users = get_cvs()"
   ]
  },
  {
   "cell_type": "code",
   "execution_count": 36,
   "metadata": {},
   "outputs": [
    {
     "data": {
      "text/plain": [
       "'prospect_20190327130816_268GBIRWXKGJSMA4'"
      ]
     },
     "execution_count": 36,
     "metadata": {},
     "output_type": "execute_result"
    }
   ],
   "source": [
    "applications[0]['id']"
   ]
  },
  {
   "cell_type": "code",
   "execution_count": 39,
   "metadata": {},
   "outputs": [
    {
     "name": "stdout",
     "output_type": "stream",
     "text": [
      "prospect_20190327130816_268GBIRWXKGJSMA4\n",
      "prospect_20190327024951_HOPAJIJBDB4SOR5N\n"
     ]
    }
   ],
   "source": [
    "for i in range(2):\n",
    "    print(applications[i]['id'])"
   ]
  },
  {
   "cell_type": "code",
   "execution_count": null,
   "metadata": {},
   "outputs": [],
   "source": []
  }
 ],
 "metadata": {
  "kernelspec": {
   "display_name": "Python 3",
   "language": "python",
   "name": "python3"
  },
  "language_info": {
   "codemirror_mode": {
    "name": "ipython",
    "version": 3
   },
   "file_extension": ".py",
   "mimetype": "text/x-python",
   "name": "python",
   "nbconvert_exporter": "python",
   "pygments_lexer": "ipython3",
   "version": "3.6.6"
  }
 },
 "nbformat": 4,
 "nbformat_minor": 2
}
