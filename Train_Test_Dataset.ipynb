{
 "cells": [
  {
   "cell_type": "code",
   "execution_count": 1,
   "metadata": {},
   "outputs": [
    {
     "name": "stderr",
     "output_type": "stream",
     "text": [
      "C:\\Users\\Lassana Diabira\\Anaconda3\\lib\\site-packages\\gensim\\utils.py:1197: UserWarning: detected Windows; aliasing chunkize to chunkize_serial\n",
      "  warnings.warn(\"detected Windows; aliasing chunkize to chunkize_serial\")\n"
     ]
    }
   ],
   "source": [
    "import pandas as pd\n",
    "import numpy as np\n",
    "import matplotlib.pyplot as plt\n",
    "import re\n",
    "from gensim.models import Word2Vec\n",
    "import datetime\n",
    "from dateutil.relativedelta import relativedelta\n",
    "from collections import Counter"
   ]
  },
  {
   "cell_type": "code",
   "execution_count": 2,
   "metadata": {},
   "outputs": [
    {
     "name": "stderr",
     "output_type": "stream",
     "text": [
      "C:\\Users\\Lassana Diabira\\Anaconda3\\lib\\site-packages\\IPython\\core\\interactiveshell.py:2785: DtypeWarning: Columns (2,3,6,7,8,9,12,13,14,15,17,19,21,23) have mixed types. Specify dtype option on import or set low_memory=False.\n",
      "  interactivity=interactivity, compiler=compiler, result=result)\n"
     ]
    }
   ],
   "source": [
    "df=pd.read_csv(\"data.csv\")"
   ]
  },
  {
   "cell_type": "code",
   "execution_count": 3,
   "metadata": {},
   "outputs": [],
   "source": [
    "df['job_created_date'] =  pd.to_datetime(df['job_created_date'])\n",
    "df['job_opening_date'] =  pd.to_datetime(df['job_opening_date'])\n",
    "df['job_closing_date'] =  pd.to_datetime(df['job_closing_date'])"
   ]
  },
  {
   "cell_type": "code",
   "execution_count": 4,
   "metadata": {},
   "outputs": [],
   "source": [
    "df=df[df.user_id.notnull()]"
   ]
  },
  {
   "cell_type": "code",
   "execution_count": 5,
   "metadata": {},
   "outputs": [],
   "source": [
    "def get_all_users_id(df):\n",
    "    users_id=df.user_id.values\n",
    "    users_id=list(set(users_id))\n",
    "    return users_id"
   ]
  },
  {
   "cell_type": "code",
   "execution_count": 6,
   "metadata": {},
   "outputs": [],
   "source": [
    "all_users=get_all_users_id(df)"
   ]
  },
  {
   "cell_type": "code",
   "execution_count": 7,
   "metadata": {},
   "outputs": [
    {
     "data": {
      "text/plain": [
       "165822"
      ]
     },
     "execution_count": 7,
     "metadata": {},
     "output_type": "execute_result"
    }
   ],
   "source": [
    "len(all_users)"
   ]
  },
  {
   "cell_type": "code",
   "execution_count": 8,
   "metadata": {},
   "outputs": [],
   "source": [
    "df=df[df.job_id.notnull()]"
   ]
  },
  {
   "cell_type": "code",
   "execution_count": 9,
   "metadata": {},
   "outputs": [
    {
     "data": {
      "text/plain": [
       "(836373, 31)"
      ]
     },
     "execution_count": 9,
     "metadata": {},
     "output_type": "execute_result"
    }
   ],
   "source": [
    "df.shape"
   ]
  },
  {
   "cell_type": "code",
   "execution_count": 10,
   "metadata": {},
   "outputs": [
    {
     "data": {
      "text/html": [
       "<div>\n",
       "<style scoped>\n",
       "    .dataframe tbody tr th:only-of-type {\n",
       "        vertical-align: middle;\n",
       "    }\n",
       "\n",
       "    .dataframe tbody tr th {\n",
       "        vertical-align: top;\n",
       "    }\n",
       "\n",
       "    .dataframe thead th {\n",
       "        text-align: right;\n",
       "    }\n",
       "</style>\n",
       "<table border=\"1\" class=\"dataframe\">\n",
       "  <thead>\n",
       "    <tr style=\"text-align: right;\">\n",
       "      <th></th>\n",
       "      <th>Unnamed: 0</th>\n",
       "      <th>user_id</th>\n",
       "      <th>job_created_date</th>\n",
       "      <th>job_application_status</th>\n",
       "      <th>job_id</th>\n",
       "      <th>employer_id</th>\n",
       "      <th>job_opening_date</th>\n",
       "      <th>job_closing_date</th>\n",
       "      <th>job_short_description</th>\n",
       "      <th>job_description</th>\n",
       "      <th>...</th>\n",
       "      <th>course_includes_industrial_placement</th>\n",
       "      <th>graduation_year</th>\n",
       "      <th>right_to_work_uk</th>\n",
       "      <th>degree_subject_id</th>\n",
       "      <th>university_id</th>\n",
       "      <th>university_name</th>\n",
       "      <th>university_type</th>\n",
       "      <th>degree_subject_name</th>\n",
       "      <th>degree_subjectgroup_id</th>\n",
       "      <th>degree_subjectgroup_title</th>\n",
       "    </tr>\n",
       "  </thead>\n",
       "  <tbody>\n",
       "    <tr>\n",
       "      <th>836372</th>\n",
       "      <td>671110</td>\n",
       "      <td>154122.0</td>\n",
       "      <td>2018-08-31 12:13:24</td>\n",
       "      <td>Initiated</td>\n",
       "      <td>2459.0</td>\n",
       "      <td>131.0</td>\n",
       "      <td>2018-08-17</td>\n",
       "      <td>2018-10-21</td>\n",
       "      <td>Greenhill &amp; Co. is a leading independent inves...</td>\n",
       "      <td>&lt;h2&gt;The role&lt;/h2&gt;\\r\\r\\n\\r\\r\\n&lt;p&gt;Genuine analys...</td>\n",
       "      <td>...</td>\n",
       "      <td>False</td>\n",
       "      <td>2019.0</td>\n",
       "      <td>True</td>\n",
       "      <td>751.0</td>\n",
       "      <td>345.0</td>\n",
       "      <td>University of Cambridge</td>\n",
       "      <td>2.0</td>\n",
       "      <td>Geography</td>\n",
       "      <td>4.0</td>\n",
       "      <td>Geography</td>\n",
       "    </tr>\n",
       "  </tbody>\n",
       "</table>\n",
       "<p>1 rows × 31 columns</p>\n",
       "</div>"
      ],
      "text/plain": [
       "        Unnamed: 0   user_id    job_created_date job_application_status  \\\n",
       "836372      671110  154122.0 2018-08-31 12:13:24              Initiated   \n",
       "\n",
       "        job_id  employer_id job_opening_date job_closing_date  \\\n",
       "836372  2459.0        131.0       2018-08-17       2018-10-21   \n",
       "\n",
       "                                    job_short_description  \\\n",
       "836372  Greenhill & Co. is a leading independent inves...   \n",
       "\n",
       "                                          job_description  \\\n",
       "836372  <h2>The role</h2>\\r\\r\\n\\r\\r\\n<p>Genuine analys...   \n",
       "\n",
       "                  ...             course_includes_industrial_placement  \\\n",
       "836372            ...                                            False   \n",
       "\n",
       "        graduation_year right_to_work_uk degree_subject_id university_id  \\\n",
       "836372           2019.0             True             751.0         345.0   \n",
       "\n",
       "                university_name  university_type degree_subject_name  \\\n",
       "836372  University of Cambridge              2.0           Geography   \n",
       "\n",
       "        degree_subjectgroup_id degree_subjectgroup_title  \n",
       "836372                     4.0                 Geography  \n",
       "\n",
       "[1 rows x 31 columns]"
      ]
     },
     "execution_count": 10,
     "metadata": {},
     "output_type": "execute_result"
    }
   ],
   "source": [
    "df.tail(1)"
   ]
  },
  {
   "cell_type": "code",
   "execution_count": 11,
   "metadata": {},
   "outputs": [
    {
     "data": {
      "text/html": [
       "<div>\n",
       "<style scoped>\n",
       "    .dataframe tbody tr th:only-of-type {\n",
       "        vertical-align: middle;\n",
       "    }\n",
       "\n",
       "    .dataframe tbody tr th {\n",
       "        vertical-align: top;\n",
       "    }\n",
       "\n",
       "    .dataframe thead th {\n",
       "        text-align: right;\n",
       "    }\n",
       "</style>\n",
       "<table border=\"1\" class=\"dataframe\">\n",
       "  <thead>\n",
       "    <tr style=\"text-align: right;\">\n",
       "      <th></th>\n",
       "      <th>Unnamed: 0</th>\n",
       "      <th>user_id</th>\n",
       "      <th>job_created_date</th>\n",
       "      <th>job_application_status</th>\n",
       "      <th>job_id</th>\n",
       "      <th>employer_id</th>\n",
       "      <th>job_opening_date</th>\n",
       "      <th>job_closing_date</th>\n",
       "      <th>job_short_description</th>\n",
       "      <th>job_description</th>\n",
       "      <th>...</th>\n",
       "      <th>course_includes_industrial_placement</th>\n",
       "      <th>graduation_year</th>\n",
       "      <th>right_to_work_uk</th>\n",
       "      <th>degree_subject_id</th>\n",
       "      <th>university_id</th>\n",
       "      <th>university_name</th>\n",
       "      <th>university_type</th>\n",
       "      <th>degree_subject_name</th>\n",
       "      <th>degree_subjectgroup_id</th>\n",
       "      <th>degree_subjectgroup_title</th>\n",
       "    </tr>\n",
       "  </thead>\n",
       "  <tbody>\n",
       "    <tr>\n",
       "      <th>0</th>\n",
       "      <td>0</td>\n",
       "      <td>75898.0</td>\n",
       "      <td>2017-09-01 01:00:02</td>\n",
       "      <td>Initiated</td>\n",
       "      <td>214.0</td>\n",
       "      <td>25.0</td>\n",
       "      <td>2017-03-27</td>\n",
       "      <td>2017-08-31</td>\n",
       "      <td>Think of our Summer Vacation Scheme in 2018 as...</td>\n",
       "      <td>&lt;p&gt;Apply now to fast track your application to...</td>\n",
       "      <td>...</td>\n",
       "      <td>False</td>\n",
       "      <td>2019.0</td>\n",
       "      <td>True</td>\n",
       "      <td>1371.0</td>\n",
       "      <td>381.0</td>\n",
       "      <td>University of Manchester</td>\n",
       "      <td>2.0</td>\n",
       "      <td>Spanish and Business</td>\n",
       "      <td>26.0</td>\n",
       "      <td>Modern Languages</td>\n",
       "    </tr>\n",
       "  </tbody>\n",
       "</table>\n",
       "<p>1 rows × 31 columns</p>\n",
       "</div>"
      ],
      "text/plain": [
       "   Unnamed: 0  user_id    job_created_date job_application_status  job_id  \\\n",
       "0           0  75898.0 2017-09-01 01:00:02              Initiated   214.0   \n",
       "\n",
       "   employer_id job_opening_date job_closing_date  \\\n",
       "0         25.0       2017-03-27       2017-08-31   \n",
       "\n",
       "                               job_short_description  \\\n",
       "0  Think of our Summer Vacation Scheme in 2018 as...   \n",
       "\n",
       "                                     job_description  \\\n",
       "0  <p>Apply now to fast track your application to...   \n",
       "\n",
       "             ...             course_includes_industrial_placement  \\\n",
       "0            ...                                            False   \n",
       "\n",
       "   graduation_year right_to_work_uk degree_subject_id university_id  \\\n",
       "0           2019.0             True            1371.0         381.0   \n",
       "\n",
       "            university_name  university_type   degree_subject_name  \\\n",
       "0  University of Manchester              2.0  Spanish and Business   \n",
       "\n",
       "   degree_subjectgroup_id degree_subjectgroup_title  \n",
       "0                    26.0          Modern Languages  \n",
       "\n",
       "[1 rows x 31 columns]"
      ]
     },
     "execution_count": 11,
     "metadata": {},
     "output_type": "execute_result"
    }
   ],
   "source": [
    "df.head(1)"
   ]
  },
  {
   "cell_type": "code",
   "execution_count": 12,
   "metadata": {},
   "outputs": [],
   "source": [
    "def get_users_id(df):\n",
    "    users_id=df.user_id.values\n",
    "    users_id=list(set(users_id))\n",
    "    return users_id"
   ]
  },
  {
   "cell_type": "code",
   "execution_count": 13,
   "metadata": {},
   "outputs": [],
   "source": [
    "users_id=get_users_id(df)"
   ]
  },
  {
   "cell_type": "code",
   "execution_count": 14,
   "metadata": {},
   "outputs": [
    {
     "data": {
      "text/plain": [
       "20812"
      ]
     },
     "execution_count": 14,
     "metadata": {},
     "output_type": "execute_result"
    }
   ],
   "source": [
    "len(users_id)"
   ]
  },
  {
   "cell_type": "code",
   "execution_count": 15,
   "metadata": {},
   "outputs": [],
   "source": [
    "def get_jobs_id(df):\n",
    "    jobs_id=df.job_id.values\n",
    "    jobs_id=list(set(jobs_id))\n",
    "    return jobs_id"
   ]
  },
  {
   "cell_type": "code",
   "execution_count": 16,
   "metadata": {},
   "outputs": [],
   "source": [
    "jobs_id=get_jobs_id(df)"
   ]
  },
  {
   "cell_type": "code",
   "execution_count": 17,
   "metadata": {},
   "outputs": [
    {
     "data": {
      "text/plain": [
       "2988"
      ]
     },
     "execution_count": 17,
     "metadata": {},
     "output_type": "execute_result"
    }
   ],
   "source": [
    "len(jobs_id)"
   ]
  },
  {
   "cell_type": "code",
   "execution_count": 18,
   "metadata": {},
   "outputs": [],
   "source": [
    "def get_jobs_per_user(users_id, df):\n",
    "    n=len(users_id)\n",
    "    print(\"n :\",n)\n",
    "    print(\"users collected\")\n",
    "    jobs_per_user={}\n",
    "    for i,user in enumerate(users_id):\n",
    "        if i%1000==0:\n",
    "            print(\"progress :\", i/n)\n",
    "        x=df[df[\"user_id\"]==user]\n",
    "        x=x[x.job_id.notnull()]\n",
    "        if x.shape[0]>0:\n",
    "            job_applications=x[\"job_id\"].values\n",
    "            job_applications=list(set(job_applications))\n",
    "            jobs_per_user[str(int(user))]=job_applications\n",
    "    print(\"Jobs per user collected\")\n",
    "    return jobs_per_user"
   ]
  },
  {
   "cell_type": "code",
   "execution_count": 19,
   "metadata": {},
   "outputs": [
    {
     "name": "stdout",
     "output_type": "stream",
     "text": [
      "n : 20812\n",
      "users collected\n",
      "progress : 0.0\n",
      "progress : 0.04804920238324044\n",
      "progress : 0.09609840476648088\n",
      "progress : 0.1441476071497213\n",
      "progress : 0.19219680953296175\n",
      "progress : 0.24024601191620218\n",
      "progress : 0.2882952142994426\n",
      "progress : 0.33634441668268306\n",
      "progress : 0.3843936190659235\n",
      "progress : 0.43244282144916396\n",
      "progress : 0.48049202383240436\n",
      "progress : 0.5285412262156448\n",
      "progress : 0.5765904285988852\n",
      "progress : 0.6246396309821257\n",
      "progress : 0.6726888333653661\n",
      "progress : 0.7207380357486066\n",
      "progress : 0.768787238131847\n",
      "progress : 0.8168364405150874\n",
      "progress : 0.8648856428983279\n",
      "progress : 0.9129348452815683\n",
      "progress : 0.9609840476648087\n",
      "Jobs per user collected\n"
     ]
    }
   ],
   "source": [
    "jobs_per_user=get_jobs_per_user(users_id, df)"
   ]
  },
  {
   "cell_type": "code",
   "execution_count": 20,
   "metadata": {},
   "outputs": [],
   "source": [
    "def get_jobs_to_recommend(all_users,df,jobs_per_user):\n",
    "    n=len(all_users)\n",
    "    recommendations_per_user={}\n",
    "    now = datetime.datetime.now()\n",
    "    #d=df[df['job_created_date']>=now-relativedelta(years=1)]\n",
    "    c=df[df['job_closing_date'].isnull()]\n",
    "    d=df[df['job_closing_date']>=now]\n",
    "    d=d[d.job_id.notnull()]\n",
    "    jobs_to_apply_to=list(d[\"job_id\"].values)+list(c[\"job_id\"].values)\n",
    "    jobs_to_apply_to=list(set(jobs_to_apply_to))\n",
    "    print(\"number of jobs to apply to :\",len(jobs_to_apply_to))\n",
    "    print(\"recommendations started\")\n",
    "    for i,user in enumerate(all_users):\n",
    "        if i%10000==0:\n",
    "            print(\"progress :\", i/n)\n",
    "        try:\n",
    "            job_applications=jobs_per_user[str(int(user))]\n",
    "            recommendations=list(set(jobs_to_apply_to) - set(job_applications))\n",
    "            recommendations_per_user[str(int(user))]=recommendations\n",
    "        except:\n",
    "            recommendations_per_user[str(int(user))]=jobs_to_apply_to\n",
    "    return recommendations_per_user"
   ]
  },
  {
   "cell_type": "code",
   "execution_count": 21,
   "metadata": {},
   "outputs": [
    {
     "name": "stdout",
     "output_type": "stream",
     "text": [
      "number of jobs to apply to : 294\n",
      "recommendations started\n",
      "progress : 0.0\n",
      "progress : 0.060305628927404084\n",
      "progress : 0.12061125785480817\n",
      "progress : 0.18091688678221224\n",
      "progress : 0.24122251570961634\n",
      "progress : 0.30152814463702043\n",
      "progress : 0.3618337735644245\n",
      "progress : 0.4221394024918286\n",
      "progress : 0.4824450314192327\n",
      "progress : 0.5427506603466368\n",
      "progress : 0.6030562892740409\n",
      "progress : 0.663361918201445\n",
      "progress : 0.723667547128849\n",
      "progress : 0.783973176056253\n",
      "progress : 0.8442788049836571\n",
      "progress : 0.9045844339110612\n",
      "progress : 0.9648900628384653\n"
     ]
    }
   ],
   "source": [
    "recommendations_per_user=get_jobs_to_recommend(all_users, df, jobs_per_user)"
   ]
  },
  {
   "cell_type": "markdown",
   "metadata": {},
   "source": [
    "# create train and test dataset"
   ]
  },
  {
   "cell_type": "code",
   "execution_count": 22,
   "metadata": {},
   "outputs": [],
   "source": [
    "a=list(jobs_per_user.keys())\n",
    "train_user_id=[int(i) for i in a]\n",
    "train_user_applications=list(jobs_per_user.values())"
   ]
  },
  {
   "cell_type": "code",
   "execution_count": 23,
   "metadata": {},
   "outputs": [],
   "source": [
    "a=list(recommendations_per_user.keys())\n",
    "test_user_id=[int(i) for i in a]\n",
    "test_user_applications=list(recommendations_per_user.values())"
   ]
  },
  {
   "cell_type": "code",
   "execution_count": 24,
   "metadata": {},
   "outputs": [],
   "source": [
    "class users:\n",
    "    \n",
    "    def __init__(self, filename, filtre):\n",
    "        data=pd.read_json(filename)\n",
    "        d=data[filtre].values\n",
    "        self.user_id=self.get_ids(d)\n",
    "        self.length_of_course=self.get_length_of_course(d)\n",
    "        self.gender=self.get_gender(d)\n",
    "        self.ethnicity=self.get_ethnicity(d)\n",
    "        self.school_type=self.get_school_type(d)\n",
    "        self.course_includes_industrial_placement=self.get_course_includes_industrial_placement(d)\n",
    "        self.graduation_year=self.get_graduation_year(d)\n",
    "        self.right_to_work_uk=self.get_right_to_work_uk(d)\n",
    "        self.degree_subject_id=self.get_degree_subject_id(d)\n",
    "        self.university_id=self.get_university_id(d)\n",
    "        self.create_df()\n",
    "    \n",
    "    def get_ids(self, x):\n",
    "        res=[]\n",
    "        for i in range(len(x)):\n",
    "            res.append(int(x[i][\"user_id\"]))\n",
    "        return res\n",
    "    \n",
    "    def get_length_of_course(self, x):\n",
    "        res=[]\n",
    "        for i in range(len(x)):\n",
    "            try:\n",
    "                res.append(int(x[i][\"length_of_course\"]))\n",
    "            except TypeError:\n",
    "                res.append(None)\n",
    "        return res\n",
    "    \n",
    "    def get_gender(self, x):\n",
    "        res=[]\n",
    "        for i in range(len(x)):\n",
    "            res.append(x[i][\"gender\"])\n",
    "        return res\n",
    "    \n",
    "    def get_ethnicity(self, x):\n",
    "        res=[]\n",
    "        for i in range(len(x)):\n",
    "            res.append(x[i][\"ethnicity\"])\n",
    "        return res\n",
    "    \n",
    "    def get_school_type(self, x):\n",
    "        res=[]\n",
    "        for i in range(len(x)):\n",
    "            res.append(x[i][\"school_type\"])\n",
    "        return res\n",
    "    \n",
    "    def get_course_includes_industrial_placement(self, x):\n",
    "        res=[]\n",
    "        for i in range(len(x)):\n",
    "            res.append(x[i][\"course_includes_industrial_placement\"])\n",
    "        return res\n",
    "    \n",
    "    def get_graduation_year(self, x):\n",
    "        res=[]\n",
    "        for i in range(len(x)):\n",
    "            try:\n",
    "                res.append(int(x[i][\"graduation_year\"]))\n",
    "            except TypeError:\n",
    "                res.append(None)\n",
    "        return res\n",
    "    \n",
    "    def get_right_to_work_uk(self, x):\n",
    "        res=[]\n",
    "        for i in range(len(x)):\n",
    "            res.append(x[i][\"right_to_work_uk\"])\n",
    "        return res\n",
    "    \n",
    "    def get_degree_subject_id(self, x):\n",
    "        res=[]\n",
    "        for i in range(len(x)):\n",
    "            try:\n",
    "                res.append(int(x[i][\"degree_subject_id\"]))\n",
    "            except TypeError:\n",
    "                res.append(None)\n",
    "        return res\n",
    "    \n",
    "    def get_university_id(self, x):\n",
    "        res=[]\n",
    "        for i in range(len(x)):\n",
    "            try:\n",
    "                res.append(int(x[i][\"university_id\"]))\n",
    "            except TypeError:\n",
    "                res.append(None)\n",
    "        return res\n",
    "    \n",
    "    def create_df(self):\n",
    "        dd={}\n",
    "        dd[\"user_id\"]=self.user_id\n",
    "        dd[\"length_of_course\"]=self.length_of_course\n",
    "        dd[\"gender\"]=self.gender\n",
    "        dd[\"ethnicity\"]=self.ethnicity\n",
    "        dd[\"school_type\"]=self.school_type\n",
    "        dd[\"course_includes_industrial_placement\"]=self.course_includes_industrial_placement\n",
    "        dd[\"graduation_year\"]=self.graduation_year\n",
    "        dd[\"right_to_work_uk\"]=self.right_to_work_uk\n",
    "        dd[\"degree_subject_id\"]=self.degree_subject_id\n",
    "        dd[\"university_id\"]=self.university_id\n",
    "        self.df=pd.DataFrame(dd)"
   ]
  },
  {
   "cell_type": "code",
   "execution_count": 25,
   "metadata": {},
   "outputs": [],
   "source": [
    "user=users(\"users_profile.json\", \"users_profile\")\n",
    "user_df=user.df"
   ]
  },
  {
   "cell_type": "code",
   "execution_count": 26,
   "metadata": {},
   "outputs": [],
   "source": [
    "class career_preference:\n",
    "    \n",
    "    def __init__(self, filename, filtre):\n",
    "        data=pd.read_json(filename)\n",
    "        d=data[filtre].values\n",
    "        self.user_id=self.get_ids(d)\n",
    "        self.jobsector_id=self.get_jobsector_id(d)\n",
    "        self.create_df()\n",
    "    \n",
    "    def get_ids(self, x):\n",
    "        res=[]\n",
    "        for i in range(len(x)):\n",
    "            res.append(int(x[i][\"profile_id\"]))\n",
    "        return res\n",
    "    \n",
    "    def get_jobsector_id(self, x):\n",
    "        res=[]\n",
    "        for i in range(len(x)):\n",
    "            try:\n",
    "                res.append(int(x[i][\"jobsector_id\"]))\n",
    "            except TypeError:\n",
    "                res.append(None)\n",
    "        return res\n",
    "    \n",
    "    def create_df(self):\n",
    "        dd={}\n",
    "        dd[\"user_id\"]=self.user_id\n",
    "        dd[\"user_jobsectorid_preference\"]=self.jobsector_id\n",
    "        self.df=pd.DataFrame(dd)"
   ]
  },
  {
   "cell_type": "code",
   "execution_count": 27,
   "metadata": {},
   "outputs": [],
   "source": [
    "pref=career_preference(\"profile_sector_interests.json\",\"profile_sector_interests\")\n",
    "career_preferences_df=pref.df"
   ]
  },
  {
   "cell_type": "code",
   "execution_count": 29,
   "metadata": {},
   "outputs": [],
   "source": [
    "def fix_career_preference(df):\n",
    "    users=list(set(list(df[\"user_id\"].values)))\n",
    "    interests=[]\n",
    "    for user in users:\n",
    "        x=list(df[df[\"user_id\"]==user][\"user_jobsectorid_preference\"].values)\n",
    "        interests.append(x)\n",
    "    d={}\n",
    "    d[\"user_id\"]=users\n",
    "    d[\"user_preference\"]=interests\n",
    "    res=pd.DataFrame(d)\n",
    "    return res"
   ]
  },
  {
   "cell_type": "code",
   "execution_count": 30,
   "metadata": {},
   "outputs": [],
   "source": [
    "career_preferences_df_clean=fix_career_preference(career_preferences_df)"
   ]
  },
  {
   "cell_type": "code",
   "execution_count": 31,
   "metadata": {},
   "outputs": [
    {
     "data": {
      "text/html": [
       "<div>\n",
       "<style scoped>\n",
       "    .dataframe tbody tr th:only-of-type {\n",
       "        vertical-align: middle;\n",
       "    }\n",
       "\n",
       "    .dataframe tbody tr th {\n",
       "        vertical-align: top;\n",
       "    }\n",
       "\n",
       "    .dataframe thead th {\n",
       "        text-align: right;\n",
       "    }\n",
       "</style>\n",
       "<table border=\"1\" class=\"dataframe\">\n",
       "  <thead>\n",
       "    <tr style=\"text-align: right;\">\n",
       "      <th></th>\n",
       "      <th>user_id</th>\n",
       "      <th>user_preference</th>\n",
       "    </tr>\n",
       "  </thead>\n",
       "  <tbody>\n",
       "    <tr>\n",
       "      <th>0</th>\n",
       "      <td>182361</td>\n",
       "      <td>[104, 109, 89, 91, 93, 94]</td>\n",
       "    </tr>\n",
       "    <tr>\n",
       "      <th>1</th>\n",
       "      <td>131074</td>\n",
       "      <td>[96, 101, 110, 112, 91, 92, 94]</td>\n",
       "    </tr>\n",
       "    <tr>\n",
       "      <th>2</th>\n",
       "      <td>131075</td>\n",
       "      <td>[97, 100, 104, 107, 111, 89, 91, 92, 93]</td>\n",
       "    </tr>\n",
       "    <tr>\n",
       "      <th>3</th>\n",
       "      <td>131084</td>\n",
       "      <td>[98, 99, 100, 101, 102, 103, 104, 106, 107, 10...</td>\n",
       "    </tr>\n",
       "    <tr>\n",
       "      <th>4</th>\n",
       "      <td>131085</td>\n",
       "      <td>[96, 91, 110]</td>\n",
       "    </tr>\n",
       "  </tbody>\n",
       "</table>\n",
       "</div>"
      ],
      "text/plain": [
       "   user_id                                    user_preference\n",
       "0   182361                         [104, 109, 89, 91, 93, 94]\n",
       "1   131074                    [96, 101, 110, 112, 91, 92, 94]\n",
       "2   131075           [97, 100, 104, 107, 111, 89, 91, 92, 93]\n",
       "3   131084  [98, 99, 100, 101, 102, 103, 104, 106, 107, 10...\n",
       "4   131085                                      [96, 91, 110]"
      ]
     },
     "execution_count": 31,
     "metadata": {},
     "output_type": "execute_result"
    }
   ],
   "source": [
    "career_preferences_df_clean.head()"
   ]
  },
  {
   "cell_type": "code",
   "execution_count": 32,
   "metadata": {},
   "outputs": [],
   "source": [
    "class jobs:\n",
    "    \n",
    "    def __init__(self, filename, filtre):\n",
    "        data=pd.read_json(filename)\n",
    "        d=data[filtre].values\n",
    "        self.job_id=self.get_ids(d)\n",
    "        self.opening_date=self.get_opening_date(d)\n",
    "        self.closing_date=self.get_closing_date(d)\n",
    "        self.short_description=self.get_short_description(d)\n",
    "        self.description=self.get_description(d)\n",
    "        self.job_type=self.get_job_type(d)\n",
    "        self.employer_id=self.get_employer_id(d)\n",
    "        self.search_rank=self.get_search_rank(d)\n",
    "        self.title=self.get_title(d)\n",
    "        self.create_df()\n",
    "    \n",
    "    def get_ids(self, x):\n",
    "        res=[]\n",
    "        for i in range(len(x)):\n",
    "            res.append(int(x[i][\"id\"]))\n",
    "        return res\n",
    "    \n",
    "    def get_opening_date(self, x):\n",
    "        res=[]\n",
    "        for i in range(len(x)):\n",
    "            res.append(x[i][\"opening_date\"])\n",
    "        return res\n",
    "    \n",
    "    def get_closing_date(self, x):\n",
    "        res=[]\n",
    "        for i in range(len(x)):\n",
    "            res.append(x[i][\"closing_date\"])\n",
    "        return res\n",
    "    \n",
    "    def get_short_description(self, x):\n",
    "        res=[]\n",
    "        for i in range(len(x)):\n",
    "            res.append(x[i][\"description_short\"])\n",
    "        return res\n",
    "    \n",
    "    def get_description(self, x):\n",
    "        res=[]\n",
    "        for i in range(len(x)):\n",
    "            res.append(x[i][\"description\"])\n",
    "        return res\n",
    "    \n",
    "    def get_job_type(self, x):\n",
    "        res=[]\n",
    "        for i in range(len(x)):\n",
    "            res.append(int(x[i][\"job_type\"]))\n",
    "        return res\n",
    "    \n",
    "    def get_employer_id(self, x):\n",
    "        res=[]\n",
    "        for i in range(len(x)):\n",
    "            res.append(int(x[i][\"employer_id\"]))\n",
    "        return res\n",
    "    \n",
    "    def get_search_rank(self, x):\n",
    "        res=[]\n",
    "        for i in range(len(x)):\n",
    "            res.append(int(x[i][\"search_rank\"]))\n",
    "        return res\n",
    "    \n",
    "    def get_title(self, x):\n",
    "        res=[]\n",
    "        for i in range(len(x)):\n",
    "            res.append(x[i][\"title\"])\n",
    "        return res\n",
    "    \n",
    "    def create_df(self):\n",
    "        dd={}\n",
    "        dd[\"job_id\"]=self.job_id\n",
    "        dd[\"job_opening_date\"]=self.opening_date\n",
    "        dd[\"job_closing_date\"]=self.closing_date\n",
    "        dd[\"job_short_description\"]=self.short_description\n",
    "        dd[\"job_description\"]=self.description\n",
    "        dd[\"job_type\"]=self.job_type\n",
    "        dd[\"employer_id\"]=self.employer_id\n",
    "        dd[\"search_rank\"]=self.search_rank\n",
    "        dd[\"job_title\"]=self.title\n",
    "        self.df=pd.DataFrame(dd)"
   ]
  },
  {
   "cell_type": "code",
   "execution_count": 33,
   "metadata": {},
   "outputs": [],
   "source": [
    "job=jobs(\"job.json\", \"job\")\n",
    "job_df=job.df"
   ]
  },
  {
   "cell_type": "code",
   "execution_count": 34,
   "metadata": {},
   "outputs": [],
   "source": [
    "class employers_job_sectors:\n",
    "    \n",
    "    def __init__(self, filename, filtre):\n",
    "        data=pd.read_json(filename)\n",
    "        d=data[filtre].values\n",
    "        self.employer_id=self.get_employer_id(d)\n",
    "        self.jobsector_id=self.get_jobsector_id(d)\n",
    "        self.create_df()\n",
    "    \n",
    "    def get_employer_id(self, x):\n",
    "        res=[]\n",
    "        for i in range(len(x)):\n",
    "            res.append(int(x[i][\"employer_id\"]))\n",
    "        return res\n",
    "    \n",
    "    def get_jobsector_id(self, x):\n",
    "        res=[]\n",
    "        for i in range(len(x)):\n",
    "            try:\n",
    "                res.append(int(x[i][\"jobsector_id\"]))\n",
    "            except TypeError:\n",
    "                res.append(None)\n",
    "        return res\n",
    "    \n",
    "    def create_df(self):\n",
    "        dd={}\n",
    "        dd[\"employer_id\"]=self.employer_id\n",
    "        dd[\"employer_sector_id\"]=self.jobsector_id\n",
    "        self.df=pd.DataFrame(dd)"
   ]
  },
  {
   "cell_type": "code",
   "execution_count": 35,
   "metadata": {},
   "outputs": [],
   "source": [
    "employer_job_sector=employers_job_sectors(\"employers_sectors.json\", \"employers_sectors\")\n",
    "employer_job_sector_df=employer_job_sector.df"
   ]
  },
  {
   "cell_type": "code",
   "execution_count": 36,
   "metadata": {},
   "outputs": [],
   "source": [
    "class jobsectors:\n",
    "    \n",
    "    def __init__(self, filename, filtre):\n",
    "        data=pd.read_json(filename)\n",
    "        d=data[filtre].values\n",
    "        self.title=self.get_title(d)\n",
    "        self.jobsector_id=self.get_jobsector_id(d)\n",
    "        self.create_df()\n",
    "    \n",
    "    def get_title(self, x):\n",
    "        res=[]\n",
    "        for i in range(len(x)):\n",
    "            res.append(x[i][\"title\"])\n",
    "        return res\n",
    "    \n",
    "    def get_jobsector_id(self, x):\n",
    "        res=[]\n",
    "        for i in range(len(x)):\n",
    "            try:\n",
    "                res.append(int(x[i][\"id\"]))\n",
    "            except TypeError:\n",
    "                res.append(None)\n",
    "        return res\n",
    "    \n",
    "    def create_df(self):\n",
    "        dd={}\n",
    "        dd[\"jobsector_title\"]=self.title\n",
    "        dd[\"jobsector_id\"]=self.jobsector_id\n",
    "        self.df=pd.DataFrame(dd)"
   ]
  },
  {
   "cell_type": "code",
   "execution_count": 37,
   "metadata": {},
   "outputs": [],
   "source": [
    "jobsector=jobsectors(\"jobsectors.json\", \"job_sectors\")\n",
    "jobsector_df=jobsector.df"
   ]
  },
  {
   "cell_type": "code",
   "execution_count": 65,
   "metadata": {},
   "outputs": [],
   "source": [
    "def get_career_preference(df_sector, df_career):\n",
    "    users=list(df_career[\"user_id\"].values)\n",
    "    user_pref=list(df_career[\"user_preference\"].values)\n",
    "    user_interests=[]\n",
    "    for i in range(len(users)):\n",
    "        preferences=user_pref[i]\n",
    "        a=\"\"\n",
    "        for sector in preferences:\n",
    "            try:\n",
    "                sector_title=df_sector[df_sector[\"jobsector_id\"]==sector][\"jobsector_title\"].values[0]\n",
    "                a+=sector_title+\" \"\n",
    "            except:\n",
    "                pass\n",
    "        if len(a)<2:\n",
    "            a=\"unknown\"\n",
    "        user_interests.append(a)\n",
    "    d={}\n",
    "    d[\"user_id\"]=users\n",
    "    d[\"user_preference\"]=user_interests\n",
    "    res=pd.DataFrame(d)\n",
    "    return res"
   ]
  },
  {
   "cell_type": "code",
   "execution_count": 66,
   "metadata": {},
   "outputs": [],
   "source": [
    "career_preferences_df=get_career_preference(jobsector_df, career_preferences_df_clean)"
   ]
  },
  {
   "cell_type": "code",
   "execution_count": 69,
   "metadata": {},
   "outputs": [
    {
     "data": {
      "text/plain": [
       "'Investment Banking Pharmaceuticals Insurance & Risk Management Investment & Asset Management Financial Services Consulting '"
      ]
     },
     "execution_count": 69,
     "metadata": {},
     "output_type": "execute_result"
    }
   ],
   "source": [
    "career_preferences_df.iloc[0][\"user_preference\"]"
   ]
  },
  {
   "cell_type": "code",
   "execution_count": 70,
   "metadata": {},
   "outputs": [],
   "source": [
    "class job_sectors:\n",
    "    \n",
    "    def __init__(self, filename, filtre):\n",
    "        data=pd.read_json(filename)\n",
    "        d=data[filtre].values\n",
    "        self.job_id=self.get_job_id(d)\n",
    "        self.jobsector_id=self.get_jobsector_id(d)\n",
    "        self.create_df()\n",
    "    \n",
    "    def get_job_id(self, x):\n",
    "        res=[]\n",
    "        for i in range(len(x)):\n",
    "            try:\n",
    "                res.append(int(x[i][\"job_id\"]))\n",
    "            except TypeError:\n",
    "                res.append(None)\n",
    "        return res\n",
    "    \n",
    "    def get_jobsector_id(self, x):\n",
    "        res=[]\n",
    "        for i in range(len(x)):\n",
    "            try:\n",
    "                res.append(int(x[i][\"jobsector_id\"]))\n",
    "            except TypeError:\n",
    "                res.append(None)\n",
    "        return res\n",
    "    \n",
    "    def create_df(self):\n",
    "        dd={}\n",
    "        dd[\"job_id\"]=self.job_id\n",
    "        dd[\"jobsector_id\"]=self.jobsector_id\n",
    "        self.df=pd.DataFrame(dd)"
   ]
  },
  {
   "cell_type": "code",
   "execution_count": 71,
   "metadata": {},
   "outputs": [],
   "source": [
    "job_sector=job_sectors(\"job_sectors.json\", \"job_sectors\")\n",
    "job_sector_df=job_sector.df"
   ]
  },
  {
   "cell_type": "code",
   "execution_count": 72,
   "metadata": {},
   "outputs": [],
   "source": [
    "class employers:\n",
    "    \n",
    "    def __init__(self, filename, filtre):\n",
    "        data=pd.read_json(filename)\n",
    "        d=data[filtre].values\n",
    "        self.employer_id=self.get_ids(d)\n",
    "        self.title=self.get_title(d)\n",
    "        self.description_short=self.get_description_short(d)\n",
    "        self.description=self.get_description(d)\n",
    "        self.create_df()\n",
    "    \n",
    "    def get_ids(self, x):\n",
    "        res=[]\n",
    "        for i in range(len(x)):\n",
    "            res.append(int(x[i][\"id\"]))\n",
    "        return res\n",
    "    \n",
    "    def get_title(self, x):\n",
    "        res=[]\n",
    "        for i in range(len(x)):\n",
    "            res.append(x[i][\"title\"])\n",
    "        return res\n",
    "    \n",
    "    def get_description_short(self, x):\n",
    "        res=[]\n",
    "        for i in range(len(x)):\n",
    "            res.append(x[i][\"description_short\"])\n",
    "        return res\n",
    "    \n",
    "    \n",
    "    def get_description(self, x):\n",
    "        res=[]\n",
    "        for i in range(len(x)):\n",
    "            res.append(x[i][\"description\"])\n",
    "        return res\n",
    "    \n",
    "    \n",
    "    def create_df(self):\n",
    "        dd={}\n",
    "        dd[\"employer_id\"]=self.employer_id\n",
    "        dd[\"employer_title\"]=self.title\n",
    "        dd[\"employer_description_short\"]=self.description_short\n",
    "        dd[\"employer_description\"]=self.description\n",
    "        self.df=pd.DataFrame(dd)"
   ]
  },
  {
   "cell_type": "code",
   "execution_count": 73,
   "metadata": {},
   "outputs": [],
   "source": [
    "employer=employers(\"employer.json\", \"employer\")\n",
    "employer_df=employer.df"
   ]
  },
  {
   "cell_type": "code",
   "execution_count": 74,
   "metadata": {},
   "outputs": [],
   "source": [
    "class university:\n",
    "    \n",
    "    def __init__(self, filename, filtre):\n",
    "        data=pd.read_json(filename)\n",
    "        d=data[filtre].values\n",
    "        self.university_id=self.get_ids(d)\n",
    "        self.university_name=self.get_university_name(d)\n",
    "        self.university_type=self.get_university_type(d)\n",
    "        self.create_df()\n",
    "    \n",
    "    def get_ids(self, x):\n",
    "        res=[]\n",
    "        for i in range(len(x)):\n",
    "            res.append(int(x[i][\"id\"]))\n",
    "        return res\n",
    "    \n",
    "    def get_university_name(self, x):\n",
    "        res=[]\n",
    "        for i in range(len(x)):\n",
    "            res.append(x[i][\"name\"])\n",
    "        return res\n",
    "    \n",
    "    def get_university_type(self, x):\n",
    "        res=[]\n",
    "        for i in range(len(x)):\n",
    "            res.append(int(x[i][\"university_type\"]))\n",
    "        return res\n",
    "    \n",
    "    def create_df(self):\n",
    "        dd={}\n",
    "        dd[\"university_id\"]=self.university_id\n",
    "        dd[\"university_name\"]=self.university_name\n",
    "        dd[\"university_type\"]=self.university_type\n",
    "        self.df=pd.DataFrame(dd)"
   ]
  },
  {
   "cell_type": "code",
   "execution_count": 75,
   "metadata": {},
   "outputs": [],
   "source": [
    "uni=university(\"university.json\", \"university\")\n",
    "uni_df=uni.df"
   ]
  },
  {
   "cell_type": "code",
   "execution_count": 76,
   "metadata": {},
   "outputs": [],
   "source": [
    "class subject:\n",
    "    \n",
    "    def __init__(self, filename, filtre):\n",
    "        data=pd.read_json(filename)\n",
    "        d=data[filtre].values\n",
    "        self.subject_id=self.get_ids(d)\n",
    "        self.subject_name=self.get_subject_name(d)\n",
    "        self.create_df()\n",
    "    \n",
    "    def get_ids(self, x):\n",
    "        res=[]\n",
    "        for i in range(len(x)):\n",
    "            res.append(int(x[i][\"id\"]))\n",
    "        return res\n",
    "    \n",
    "    def get_subject_name(self, x):\n",
    "        res=[]\n",
    "        for i in range(len(x)):\n",
    "            res.append(x[i][\"name\"])\n",
    "        return res\n",
    "    \n",
    "    \n",
    "    def create_df(self):\n",
    "        dd={}\n",
    "        dd[\"degree_subject_id\"]=self.subject_id\n",
    "        dd[\"degree_subject_name\"]=self.subject_name\n",
    "        self.df=pd.DataFrame(dd)"
   ]
  },
  {
   "cell_type": "code",
   "execution_count": 77,
   "metadata": {},
   "outputs": [],
   "source": [
    "sub=subject(\"subject.json\", \"subject\")\n",
    "subject_df=sub.df"
   ]
  },
  {
   "cell_type": "code",
   "execution_count": 78,
   "metadata": {},
   "outputs": [],
   "source": [
    "class subject_groups:\n",
    "    \n",
    "    def __init__(self, filename, filtre):\n",
    "        data=pd.read_json(filename)\n",
    "        d=data[filtre].values\n",
    "        self.subject_id=self.get_ids(d)\n",
    "        self.subjectgroup_id=self.get_subjectgroup_id(d)\n",
    "        self.create_df()\n",
    "    \n",
    "    def get_ids(self, x):\n",
    "        res=[]\n",
    "        for i in range(len(x)):\n",
    "            res.append(int(x[i][\"subject_id\"]))\n",
    "        return res\n",
    "    \n",
    "    def get_subjectgroup_id(self, x):\n",
    "        res=[]\n",
    "        for i in range(len(x)):\n",
    "            res.append(int(x[i][\"subjectgroup_id\"]))\n",
    "        return res\n",
    "    \n",
    "    \n",
    "    def create_df(self):\n",
    "        dd={}\n",
    "        dd[\"degree_subject_id\"]=self.subject_id\n",
    "        dd[\"degree_subjectgroup_id\"]=self.subjectgroup_id\n",
    "        self.df=pd.DataFrame(dd)"
   ]
  },
  {
   "cell_type": "code",
   "execution_count": 79,
   "metadata": {},
   "outputs": [],
   "source": [
    "subgroup=subject_groups(\"subject_groups.json\", \"subject_groups\")\n",
    "subjectgroup_df=subgroup.df"
   ]
  },
  {
   "cell_type": "code",
   "execution_count": 80,
   "metadata": {},
   "outputs": [],
   "source": [
    "class subjectgroup:\n",
    "    \n",
    "    def __init__(self, filename, filtre):\n",
    "        data=pd.read_json(filename)\n",
    "        d=data[filtre].values\n",
    "        self.subjectgroup_id=self.get_ids(d)\n",
    "        self.subjectgroup_title=self.get_subject_name(d)\n",
    "        self.create_df()\n",
    "    \n",
    "    def get_ids(self, x):\n",
    "        res=[]\n",
    "        for i in range(len(x)):\n",
    "            res.append(int(x[i][\"id\"]))\n",
    "        return res\n",
    "    \n",
    "    def get_subject_name(self, x):\n",
    "        res=[]\n",
    "        for i in range(len(x)):\n",
    "            res.append(x[i][\"title\"])\n",
    "        return res\n",
    "    \n",
    "    \n",
    "    def create_df(self):\n",
    "        dd={}\n",
    "        dd[\"degree_subjectgroup_id\"]=self.subjectgroup_id\n",
    "        dd[\"degree_subjectgroup_title\"]=self.subjectgroup_title\n",
    "        self.df=pd.DataFrame(dd)"
   ]
  },
  {
   "cell_type": "code",
   "execution_count": 81,
   "metadata": {},
   "outputs": [],
   "source": [
    "subgrouptitle=subjectgroup(\"subjectgroup.json\", \"subjectgroup\")\n",
    "subjectgrouptitle_df=subgrouptitle.df"
   ]
  },
  {
   "cell_type": "code",
   "execution_count": 82,
   "metadata": {},
   "outputs": [],
   "source": [
    "job_df=pd.merge(job_df, employer_df, on='employer_id', how='outer')"
   ]
  },
  {
   "cell_type": "code",
   "execution_count": 83,
   "metadata": {},
   "outputs": [],
   "source": [
    "job_df=pd.merge(job_df, employer_job_sector_df, on='employer_id', how='outer')"
   ]
  },
  {
   "cell_type": "code",
   "execution_count": 84,
   "metadata": {},
   "outputs": [],
   "source": [
    "job_df=pd.merge(job_df, jobsector_df, left_on = 'employer_sector_id', right_on = 'jobsector_id', how='outer')"
   ]
  },
  {
   "cell_type": "code",
   "execution_count": 85,
   "metadata": {},
   "outputs": [],
   "source": [
    "job_df=job_df.rename(index=str, columns={\"jobsector_title\": \"employer_sector_title\"})"
   ]
  },
  {
   "cell_type": "code",
   "execution_count": 86,
   "metadata": {},
   "outputs": [],
   "source": [
    "job_df.drop(\"jobsector_id\", axis=1, inplace=True)"
   ]
  },
  {
   "cell_type": "code",
   "execution_count": 87,
   "metadata": {},
   "outputs": [],
   "source": [
    "job_df=pd.merge(job_df, job_sector_df, on='job_id', how='outer')"
   ]
  },
  {
   "cell_type": "code",
   "execution_count": 88,
   "metadata": {},
   "outputs": [],
   "source": [
    "job_df=pd.merge(job_df, jobsector_df, on = 'jobsector_id', how='outer')"
   ]
  },
  {
   "cell_type": "code",
   "execution_count": 89,
   "metadata": {},
   "outputs": [],
   "source": [
    "job_df=job_df.rename(index=str, columns={\"jobsector_title\": \"job_sector_title\"})"
   ]
  },
  {
   "cell_type": "code",
   "execution_count": 90,
   "metadata": {},
   "outputs": [],
   "source": [
    "user_df=pd.merge(user_df, uni_df, on='university_id', how='outer')"
   ]
  },
  {
   "cell_type": "code",
   "execution_count": 91,
   "metadata": {},
   "outputs": [],
   "source": [
    "user_df=pd.merge(user_df, subject_df, on='degree_subject_id', how='outer')"
   ]
  },
  {
   "cell_type": "code",
   "execution_count": 92,
   "metadata": {},
   "outputs": [],
   "source": [
    "user_df=pd.merge(user_df, subjectgroup_df, on='degree_subject_id', how='outer')"
   ]
  },
  {
   "cell_type": "code",
   "execution_count": 93,
   "metadata": {},
   "outputs": [],
   "source": [
    "#user_df=pd.merge(user_df, subjectgrouptitle_df, on='degree_subjectgroup_id', how='outer')"
   ]
  },
  {
   "cell_type": "code",
   "execution_count": 94,
   "metadata": {},
   "outputs": [],
   "source": [
    "user_df.drop(\"degree_subjectgroup_id\", axis=1, inplace=True)"
   ]
  },
  {
   "cell_type": "code",
   "execution_count": 95,
   "metadata": {},
   "outputs": [],
   "source": [
    "user_df=pd.merge(user_df, career_preferences_df, on='user_id', how='outer')"
   ]
  },
  {
   "cell_type": "code",
   "execution_count": 96,
   "metadata": {},
   "outputs": [],
   "source": [
    "user_df=user_df.drop_duplicates(subset=user_df.columns)"
   ]
  },
  {
   "cell_type": "code",
   "execution_count": 97,
   "metadata": {},
   "outputs": [
    {
     "data": {
      "text/html": [
       "<div>\n",
       "<style scoped>\n",
       "    .dataframe tbody tr th:only-of-type {\n",
       "        vertical-align: middle;\n",
       "    }\n",
       "\n",
       "    .dataframe tbody tr th {\n",
       "        vertical-align: top;\n",
       "    }\n",
       "\n",
       "    .dataframe thead th {\n",
       "        text-align: right;\n",
       "    }\n",
       "</style>\n",
       "<table border=\"1\" class=\"dataframe\">\n",
       "  <thead>\n",
       "    <tr style=\"text-align: right;\">\n",
       "      <th></th>\n",
       "      <th>user_id</th>\n",
       "      <th>length_of_course</th>\n",
       "      <th>gender</th>\n",
       "      <th>ethnicity</th>\n",
       "      <th>school_type</th>\n",
       "      <th>course_includes_industrial_placement</th>\n",
       "      <th>graduation_year</th>\n",
       "      <th>right_to_work_uk</th>\n",
       "      <th>degree_subject_id</th>\n",
       "      <th>university_id</th>\n",
       "      <th>university_name</th>\n",
       "      <th>university_type</th>\n",
       "      <th>degree_subject_name</th>\n",
       "      <th>user_preference</th>\n",
       "    </tr>\n",
       "  </thead>\n",
       "  <tbody>\n",
       "    <tr>\n",
       "      <th>0</th>\n",
       "      <td>146656.0</td>\n",
       "      <td>NaN</td>\n",
       "      <td>Female</td>\n",
       "      <td>Mixed/Multiple Ethnic Background</td>\n",
       "      <td>None</td>\n",
       "      <td>false</td>\n",
       "      <td>2019.0</td>\n",
       "      <td>true</td>\n",
       "      <td>195.0</td>\n",
       "      <td>333.0</td>\n",
       "      <td>University of Birmingham</td>\n",
       "      <td>2.0</td>\n",
       "      <td>Business and Management</td>\n",
       "      <td>Investment Banking Investment &amp; Asset Management</td>\n",
       "    </tr>\n",
       "    <tr>\n",
       "      <th>1</th>\n",
       "      <td>192546.0</td>\n",
       "      <td>4.0</td>\n",
       "      <td>Female</td>\n",
       "      <td>White/White British</td>\n",
       "      <td>Grammar</td>\n",
       "      <td>true</td>\n",
       "      <td>2021.0</td>\n",
       "      <td>true</td>\n",
       "      <td>195.0</td>\n",
       "      <td>333.0</td>\n",
       "      <td>University of Birmingham</td>\n",
       "      <td>2.0</td>\n",
       "      <td>Business and Management</td>\n",
       "      <td>Energy &amp; Infrastructure Entrepreneurship &amp; Sta...</td>\n",
       "    </tr>\n",
       "    <tr>\n",
       "      <th>2</th>\n",
       "      <td>114311.0</td>\n",
       "      <td>NaN</td>\n",
       "      <td>Male</td>\n",
       "      <td>White/White British</td>\n",
       "      <td>None</td>\n",
       "      <td>false</td>\n",
       "      <td>2019.0</td>\n",
       "      <td>true</td>\n",
       "      <td>195.0</td>\n",
       "      <td>333.0</td>\n",
       "      <td>University of Birmingham</td>\n",
       "      <td>2.0</td>\n",
       "      <td>Business and Management</td>\n",
       "      <td>Commercial Law Consumer, FMCG &amp; Retail Educati...</td>\n",
       "    </tr>\n",
       "    <tr>\n",
       "      <th>3</th>\n",
       "      <td>114702.0</td>\n",
       "      <td>4.0</td>\n",
       "      <td>F</td>\n",
       "      <td>White/White British</td>\n",
       "      <td>None</td>\n",
       "      <td>false</td>\n",
       "      <td>2020.0</td>\n",
       "      <td>true</td>\n",
       "      <td>195.0</td>\n",
       "      <td>333.0</td>\n",
       "      <td>University of Birmingham</td>\n",
       "      <td>2.0</td>\n",
       "      <td>Business and Management</td>\n",
       "      <td>Commercial Law Consumer, FMCG &amp; Retail Educati...</td>\n",
       "    </tr>\n",
       "    <tr>\n",
       "      <th>4</th>\n",
       "      <td>184764.0</td>\n",
       "      <td>4.0</td>\n",
       "      <td>Female</td>\n",
       "      <td>White/White British</td>\n",
       "      <td>State</td>\n",
       "      <td>true</td>\n",
       "      <td>2020.0</td>\n",
       "      <td>true</td>\n",
       "      <td>195.0</td>\n",
       "      <td>333.0</td>\n",
       "      <td>University of Birmingham</td>\n",
       "      <td>2.0</td>\n",
       "      <td>Business and Management</td>\n",
       "      <td>Technology: Consulting &amp; Project Management Me...</td>\n",
       "    </tr>\n",
       "  </tbody>\n",
       "</table>\n",
       "</div>"
      ],
      "text/plain": [
       "    user_id  length_of_course  gender                         ethnicity  \\\n",
       "0  146656.0               NaN  Female  Mixed/Multiple Ethnic Background   \n",
       "1  192546.0               4.0  Female               White/White British   \n",
       "2  114311.0               NaN    Male               White/White British   \n",
       "3  114702.0               4.0       F               White/White British   \n",
       "4  184764.0               4.0  Female               White/White British   \n",
       "\n",
       "  school_type course_includes_industrial_placement  graduation_year  \\\n",
       "0        None                                false           2019.0   \n",
       "1     Grammar                                 true           2021.0   \n",
       "2        None                                false           2019.0   \n",
       "3        None                                false           2020.0   \n",
       "4       State                                 true           2020.0   \n",
       "\n",
       "  right_to_work_uk  degree_subject_id  university_id  \\\n",
       "0             true              195.0          333.0   \n",
       "1             true              195.0          333.0   \n",
       "2             true              195.0          333.0   \n",
       "3             true              195.0          333.0   \n",
       "4             true              195.0          333.0   \n",
       "\n",
       "            university_name  university_type      degree_subject_name  \\\n",
       "0  University of Birmingham              2.0  Business and Management   \n",
       "1  University of Birmingham              2.0  Business and Management   \n",
       "2  University of Birmingham              2.0  Business and Management   \n",
       "3  University of Birmingham              2.0  Business and Management   \n",
       "4  University of Birmingham              2.0  Business and Management   \n",
       "\n",
       "                                     user_preference  \n",
       "0  Investment Banking Investment & Asset Management   \n",
       "1  Energy & Infrastructure Entrepreneurship & Sta...  \n",
       "2  Commercial Law Consumer, FMCG & Retail Educati...  \n",
       "3  Commercial Law Consumer, FMCG & Retail Educati...  \n",
       "4  Technology: Consulting & Project Management Me...  "
      ]
     },
     "execution_count": 97,
     "metadata": {},
     "output_type": "execute_result"
    }
   ],
   "source": [
    "user_df.head()"
   ]
  },
  {
   "cell_type": "code",
   "execution_count": 98,
   "metadata": {},
   "outputs": [],
   "source": [
    "#job_df=job_df[job_df[\"employer_sector_title\"]!=job_df[\"job_sector_title\"]]"
   ]
  },
  {
   "cell_type": "code",
   "execution_count": 99,
   "metadata": {},
   "outputs": [
    {
     "data": {
      "text/plain": [
       "7871    2017-10-01\n",
       "8827    2017-10-01\n",
       "Name: job_opening_date, dtype: object"
      ]
     },
     "execution_count": 99,
     "metadata": {},
     "output_type": "execute_result"
    }
   ],
   "source": [
    "job_df[job_df[\"job_id\"]==3163.0][\"job_opening_date\"]"
   ]
  },
  {
   "cell_type": "code",
   "execution_count": 100,
   "metadata": {},
   "outputs": [
    {
     "data": {
      "text/plain": [
       "Index(['job_id', 'job_opening_date', 'job_closing_date',\n",
       "       'job_short_description', 'job_description', 'job_type', 'employer_id',\n",
       "       'search_rank', 'job_title', 'employer_title',\n",
       "       'employer_description_short', 'employer_description',\n",
       "       'employer_sector_id', 'employer_sector_title', 'jobsector_id',\n",
       "       'job_sector_title'],\n",
       "      dtype='object')"
      ]
     },
     "execution_count": 100,
     "metadata": {},
     "output_type": "execute_result"
    }
   ],
   "source": [
    "job_df.columns"
   ]
  },
  {
   "cell_type": "code",
   "execution_count": 101,
   "metadata": {},
   "outputs": [
    {
     "data": {
      "text/plain": [
       "(165940, 14)"
      ]
     },
     "execution_count": 101,
     "metadata": {},
     "output_type": "execute_result"
    }
   ],
   "source": [
    "user_df.shape"
   ]
  },
  {
   "cell_type": "code",
   "execution_count": 102,
   "metadata": {},
   "outputs": [
    {
     "data": {
      "text/plain": [
       "(14348, 16)"
      ]
     },
     "execution_count": 102,
     "metadata": {},
     "output_type": "execute_result"
    }
   ],
   "source": [
    "job_df.shape"
   ]
  },
  {
   "cell_type": "code",
   "execution_count": 103,
   "metadata": {},
   "outputs": [],
   "source": [
    "def make_dataset(job_df, user_df, ids, applications):\n",
    "    n=len(ids)\n",
    "    d={}\n",
    "    user_id=[]\n",
    "    job_id=[]\n",
    "    employer_id=[]\n",
    "    job_opening_date=[]\n",
    "    job_closing_date=[]\n",
    "    job_description=[]\n",
    "    job_type=[]\n",
    "    job_title=[]\n",
    "    employer_title=[]\n",
    "    employer_description=[]\n",
    "    employer_sector_id=[]\n",
    "    employer_sector_title=[]\n",
    "    jobsector_id=[]\n",
    "    job_sector_title=[]\n",
    "    gender=[]\n",
    "    course_includes_industrial_placement=[]\n",
    "    graduation_year=[]\n",
    "    right_to_work_uk=[]\n",
    "    degree_subject_id=[]\n",
    "    university_id=[]\n",
    "    university_name=[]\n",
    "    university_type=[]\n",
    "    degree_subject_name=[]\n",
    "    career_preference=[]\n",
    "    ethnicity=[]\n",
    "    school_type=[]\n",
    "    for i in range(n):\n",
    "        if i%1000==0:\n",
    "            print(\"progress :\",i/n)\n",
    "        user_applications=applications[i]\n",
    "        nb_applications=len(user_applications)\n",
    "        for j in range(nb_applications):\n",
    "            user_id.append(ids[i])\n",
    "            job_id.append(user_applications[j])\n",
    "            user_info=user_df[user_df[\"user_id\"]==ids[i]]\n",
    "            job_infos=job_df[job_df[\"job_id\"]==user_applications[j]]\n",
    "            employer_id.append(job_infos[\"employer_id\"].iloc[0])\n",
    "            job_opening_date.append(job_infos[\"job_opening_date\"].iloc[0])\n",
    "            job_closing_date.append(job_infos[\"job_closing_date\"].iloc[0])\n",
    "            job_description.append(job_infos[\"job_description\"].iloc[0])\n",
    "            job_type.append(job_infos[\"job_type\"].iloc[0])\n",
    "            job_title.append(job_infos[\"job_title\"].iloc[0])\n",
    "            employer_title.append(job_infos[\"employer_title\"].iloc[0])\n",
    "            employer_description.append(job_infos[\"employer_description\"].iloc[0])\n",
    "            employer_sector_id.append(job_infos[\"employer_sector_id\"].iloc[0])\n",
    "            employer_sector_title.append(job_infos[\"employer_sector_title\"].iloc[0])\n",
    "            jobsector_id.append(job_infos[\"jobsector_id\"].iloc[0])\n",
    "            job_sector_title.append(job_infos[\"job_sector_title\"].iloc[0])\n",
    "            try:\n",
    "                gender.append(user_info[\"gender\"].iloc[0])\n",
    "            except:\n",
    "                gender.append(None)\n",
    "            try:\n",
    "                ethnicity.append(user_info[\"ethnicity\"].iloc[0])\n",
    "            except:\n",
    "                ethnicity.append(None)\n",
    "            try:\n",
    "                school_type.append(user_info[\"school_type\"].iloc[0])\n",
    "            except:\n",
    "                school_type.append(None)\n",
    "            try:\n",
    "                course_includes_industrial_placement.append(user_info[\"course_includes_industrial_placement\"].iloc[0])\n",
    "            except:\n",
    "                course_includes_industrial_placement.append(None)\n",
    "            try:\n",
    "                graduation_year.append(user_info[\"graduation_year\"].iloc[0])\n",
    "            except:\n",
    "                graduation_year.append(None)\n",
    "            try:\n",
    "                right_to_work_uk.append(user_info[\"right_to_work_uk\"].iloc[0])\n",
    "            except:\n",
    "                right_to_work_uk.append(None)\n",
    "            try:\n",
    "                degree_subject_id.append(user_info[\"degree_subject_id\"].iloc[0])\n",
    "            except:\n",
    "                degree_subject_id.append(None)\n",
    "            try:\n",
    "                university_id.append(user_info[\"university_id\"].iloc[0])\n",
    "            except:\n",
    "                university_id.append(None)\n",
    "            try:\n",
    "                university_name.append(user_info[\"university_name\"].iloc[0])\n",
    "            except:\n",
    "                university_name.append(None)\n",
    "            try:\n",
    "                university_type.append(user_info[\"university_type\"].iloc[0])\n",
    "            except:\n",
    "                university_type.append(None)\n",
    "            try:\n",
    "                degree_subject_name.append(user_info[\"degree_subject_name\"].iloc[0])\n",
    "            except:\n",
    "                degree_subject_name.append(None)\n",
    "            try:\n",
    "                career_preference.append(user_info[\"user_preference\"].iloc[0])\n",
    "            except:\n",
    "                career_preference.append(None)\n",
    "    d[\"user_id\"]=user_id\n",
    "    d[\"job_id\"]=job_id\n",
    "    d[\"employer_id\"]=employer_id\n",
    "    d[\"job_opening_date\"]=job_opening_date\n",
    "    d[\"job_closing_date\"]=job_closing_date\n",
    "    d[\"job_description\"]=job_description\n",
    "    d[\"job_type\"]=job_type\n",
    "    d[\"job_title\"]=job_title\n",
    "    d[\"employer_title\"]=employer_title\n",
    "    d[\"employer_description\"]=employer_description\n",
    "    d[\"employer_sector_id\"]=employer_sector_id\n",
    "    d[\"employer_sector_title\"]=employer_sector_title\n",
    "    d[\"jobsector_id\"]=jobsector_id\n",
    "    d[\"job_sector_title\"]=job_sector_title\n",
    "    d[\"gender\"]=gender\n",
    "    d[\"ethnicity\"]=ethnicity\n",
    "    d[\"school_type\"]=school_type\n",
    "    d[\"course_includes_industrial_placement\"]=course_includes_industrial_placement\n",
    "    d[\"graduation_year\"]=graduation_year\n",
    "    d[\"right_to_work_uk\"]=right_to_work_uk\n",
    "    d[\"degree_subject_id\"]=degree_subject_id\n",
    "    d[\"university_id\"]=university_id\n",
    "    d[\"university_name\"]=university_name\n",
    "    d[\"university_type\"]=university_type\n",
    "    d[\"degree_subject_name\"]=degree_subject_name\n",
    "    d[\"user_preference\"]=career_preference\n",
    "    df=pd.DataFrame(d)\n",
    "    return df"
   ]
  },
  {
   "cell_type": "code",
   "execution_count": 104,
   "metadata": {},
   "outputs": [
    {
     "name": "stdout",
     "output_type": "stream",
     "text": [
      "progress : 0.0\n",
      "progress : 0.04804920238324044\n",
      "progress : 0.09609840476648088\n",
      "progress : 0.1441476071497213\n",
      "progress : 0.19219680953296175\n",
      "progress : 0.24024601191620218\n",
      "progress : 0.2882952142994426\n",
      "progress : 0.33634441668268306\n",
      "progress : 0.3843936190659235\n",
      "progress : 0.43244282144916396\n",
      "progress : 0.48049202383240436\n",
      "progress : 0.5285412262156448\n",
      "progress : 0.5765904285988852\n",
      "progress : 0.6246396309821257\n",
      "progress : 0.6726888333653661\n",
      "progress : 0.7207380357486066\n",
      "progress : 0.768787238131847\n",
      "progress : 0.8168364405150874\n",
      "progress : 0.8648856428983279\n",
      "progress : 0.9129348452815683\n",
      "progress : 0.9609840476648087\n"
     ]
    }
   ],
   "source": [
    "training_set=make_dataset(job_df, user_df, train_user_id, train_user_applications)"
   ]
  },
  {
   "cell_type": "code",
   "execution_count": 105,
   "metadata": {},
   "outputs": [
    {
     "data": {
      "text/plain": [
       "(125136, 26)"
      ]
     },
     "execution_count": 105,
     "metadata": {},
     "output_type": "execute_result"
    }
   ],
   "source": [
    "training_set.shape"
   ]
  },
  {
   "cell_type": "code",
   "execution_count": 106,
   "metadata": {},
   "outputs": [
    {
     "data": {
      "text/plain": [
       "Index(['user_id', 'job_id', 'employer_id', 'job_opening_date',\n",
       "       'job_closing_date', 'job_description', 'job_type', 'job_title',\n",
       "       'employer_title', 'employer_description', 'employer_sector_id',\n",
       "       'employer_sector_title', 'jobsector_id', 'job_sector_title', 'gender',\n",
       "       'ethnicity', 'school_type', 'course_includes_industrial_placement',\n",
       "       'graduation_year', 'right_to_work_uk', 'degree_subject_id',\n",
       "       'university_id', 'university_name', 'university_type',\n",
       "       'degree_subject_name', 'user_preference'],\n",
       "      dtype='object')"
      ]
     },
     "execution_count": 106,
     "metadata": {},
     "output_type": "execute_result"
    }
   ],
   "source": [
    "training_set.columns"
   ]
  },
  {
   "cell_type": "code",
   "execution_count": 107,
   "metadata": {},
   "outputs": [
    {
     "name": "stdout",
     "output_type": "stream",
     "text": [
      "progress : 0.0\n"
     ]
    }
   ],
   "source": [
    "test_set=make_dataset(job_df, user_df, test_user_id[1000:1010], test_user_applications[1000:1050])"
   ]
  },
  {
   "cell_type": "code",
   "execution_count": 108,
   "metadata": {},
   "outputs": [],
   "source": [
    "test=test_set[test_set[\"user_preference\"].notnull()][['job_title',\n",
    "       'employer_title', \n",
    "       'employer_sector_title', 'job_sector_title', 'gender',\n",
    "       'graduation_year','university_name','degree_subject_name',\"user_preference\"]]"
   ]
  },
  {
   "cell_type": "code",
   "execution_count": 109,
   "metadata": {},
   "outputs": [
    {
     "data": {
      "text/html": [
       "<div>\n",
       "<style scoped>\n",
       "    .dataframe tbody tr th:only-of-type {\n",
       "        vertical-align: middle;\n",
       "    }\n",
       "\n",
       "    .dataframe tbody tr th {\n",
       "        vertical-align: top;\n",
       "    }\n",
       "\n",
       "    .dataframe thead th {\n",
       "        text-align: right;\n",
       "    }\n",
       "</style>\n",
       "<table border=\"1\" class=\"dataframe\">\n",
       "  <thead>\n",
       "    <tr style=\"text-align: right;\">\n",
       "      <th></th>\n",
       "      <th>job_title</th>\n",
       "      <th>employer_title</th>\n",
       "      <th>employer_sector_title</th>\n",
       "      <th>job_sector_title</th>\n",
       "      <th>gender</th>\n",
       "      <th>graduation_year</th>\n",
       "      <th>university_name</th>\n",
       "      <th>degree_subject_name</th>\n",
       "      <th>user_preference</th>\n",
       "    </tr>\n",
       "  </thead>\n",
       "  <tbody>\n",
       "  </tbody>\n",
       "</table>\n",
       "</div>"
      ],
      "text/plain": [
       "Empty DataFrame\n",
       "Columns: [job_title, employer_title, employer_sector_title, job_sector_title, gender, graduation_year, university_name, degree_subject_name, user_preference]\n",
       "Index: []"
      ]
     },
     "execution_count": 109,
     "metadata": {},
     "output_type": "execute_result"
    }
   ],
   "source": [
    "test.head()"
   ]
  },
  {
   "cell_type": "code",
   "execution_count": 110,
   "metadata": {},
   "outputs": [],
   "source": [
    "training_set.to_csv(\"Training_set.csv\")\n",
    "test_set.to_csv(\"Test_set.csv\")"
   ]
  },
  {
   "cell_type": "code",
   "execution_count": null,
   "metadata": {},
   "outputs": [],
   "source": []
  },
  {
   "cell_type": "code",
   "execution_count": null,
   "metadata": {},
   "outputs": [],
   "source": []
  }
 ],
 "metadata": {
  "kernelspec": {
   "display_name": "Python 3",
   "language": "python",
   "name": "python3"
  },
  "language_info": {
   "codemirror_mode": {
    "name": "ipython",
    "version": 3
   },
   "file_extension": ".py",
   "mimetype": "text/x-python",
   "name": "python",
   "nbconvert_exporter": "python",
   "pygments_lexer": "ipython3",
   "version": "3.6.5"
  }
 },
 "nbformat": 4,
 "nbformat_minor": 2
}
